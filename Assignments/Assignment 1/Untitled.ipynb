{
 "cells": [
  {
   "cell_type": "code",
   "execution_count": null,
   "metadata": {},
   "outputs": [],
   "source": [
    "int gy[3][3][3],gx[3][3][3],gz[3][3][3];\n",
    "int hx[3]={1,2,1},hy[3]={1,2,1},hz[3]={1,2,1};\n",
    "int hpx[3]={1,0,-1},hpy[3]={1,0,-1},hpz[3]={1,0,-1};\n",
    "int sumx,sumy,sumz;\n",
    "int m,n,k;\n",
    "\n",
    "for(m=0;m<=2;m++) //build the kernel\n",
    " for(n=0;n<=2;n++)\n",
    "   for(k=0;k<=2;k++){\n",
    "\tgx[m][n][k]=hpx[m]*hy[n]*hz[k];\n",
    "\tgy[m][n][k]=hx[m]*hpy[n]*hz[k];\n",
    "\tgz[m][n][k]=hx[m]*hy[n]*hpz[k];"
   ]
  },
  {
   "cell_type": "code",
   "execution_count": 2,
   "metadata": {},
   "outputs": [
    {
     "name": "stdout",
     "output_type": "stream",
     "text": [
      "[[[1, 2, 1], [2, 4, 2], [1, 2, 1]], [[0, 0, 0], [0, 0, 0], [0, 0, 0]], [[-1, -2, -1], [-2, -4, -2], [-1, -2, -1]]]\n"
     ]
    }
   ],
   "source": [
    "import numpy as np\n",
    "\n",
    "mask_x = [[[-1,0,1], [-2,0,2], []], \n",
    "          [[], [], []],\n",
    "          [[], [], []]]\n",
    "mask_y = [[[], [], []], \n",
    "          [[], [], []],\n",
    "          [[], [], []]]\n",
    "mask_z = [[[1,2,1], [2,4,2], [1,2,1]], \n",
    "          [[0,0,0], [0,0,0], [0,0,0]],\n",
    "          [[-1,-2,-1], [-2,-4,-2], [-1,-2,-1]]]"
   ]
  },
  {
   "cell_type": "code",
   "execution_count": 8,
   "metadata": {},
   "outputs": [
    {
     "name": "stdout",
     "output_type": "stream",
     "text": [
      "[[[0. 0. 0.]\n",
      "  [0. 0. 0.]\n",
      "  [0. 0. 0.]]\n",
      "\n",
      " [[0. 0. 0.]\n",
      "  [0. 0. 0.]\n",
      "  [0. 0. 0.]]\n",
      "\n",
      " [[0. 0. 0.]\n",
      "  [0. 0. 0.]\n",
      "  [0. 0. 0.]]]\n",
      "[[[ 1.  2.  1.]\n",
      "  [ 2.  4.  2.]\n",
      "  [ 1.  2.  1.]]\n",
      "\n",
      " [[ 0.  0.  0.]\n",
      "  [ 0.  0.  0.]\n",
      "  [ 0.  0.  0.]]\n",
      "\n",
      " [[-1. -2. -1.]\n",
      "  [-2. -4. -2.]\n",
      "  [-1. -2. -1.]]]\n",
      "[[[ 1.  2.  1.]\n",
      "  [ 0.  0.  0.]\n",
      "  [-1. -2. -1.]]\n",
      "\n",
      " [[ 2.  4.  2.]\n",
      "  [ 0.  0.  0.]\n",
      "  [-2. -4. -2.]]\n",
      "\n",
      " [[ 1.  2.  1.]\n",
      "  [ 0.  0.  0.]\n",
      "  [-1. -2. -1.]]]\n",
      "[[[ 1.  0. -1.]\n",
      "  [ 2.  0. -2.]\n",
      "  [ 1.  0. -1.]]\n",
      "\n",
      " [[ 2.  0. -2.]\n",
      "  [ 4.  0. -4.]\n",
      "  [ 2.  0. -2.]]\n",
      "\n",
      " [[ 1.  0. -1.]\n",
      "  [ 2.  0. -2.]\n",
      "  [ 1.  0. -1.]]]\n"
     ]
    }
   ],
   "source": [
    "h = [1, 2, 1]\n",
    "h_p = [1, 0, -1]\n",
    "\n",
    "mask_x = np.zeros((3, 3, 3))\n",
    "mask_y = np.zeros((3, 3, 3))\n",
    "mask_z = np.zeros((3, 3, 3))\n",
    "print(mask_x)\n",
    "\n",
    "for i in range(3):\n",
    "    for j in range(3):\n",
    "        for k in range (3):\n",
    "            mask_x[i][j][k] = h_p[i] * h[j] * h[k]\n",
    "            mask_y[i][j][k] = h[i] * h_p[j] * h[k]\n",
    "            mask_z[i][j][k] = h[i] * h[j] * h_p[k]\n",
    "            \n",
    "print(mask_x)   \n",
    "print(mask_y)\n",
    "print(mask_z)"
   ]
  },
  {
   "cell_type": "code",
   "execution_count": null,
   "metadata": {},
   "outputs": [],
   "source": [
    "int kx[3][3][3] = {{{-1,-2,-1},{0,0,0},{1,2,1}},\n",
    "  {{-2,-4,-2},{0,0,0},{2,4,2}},\n",
    "  {{-1,-2,-1},{0,0,0},{1,2,1}}}; \n",
    "int ky[3][3][3] = {{{-1,-2,-1},{-2,-4,-2},{-1,-2,-1}},\n",
    "      {{0,0,0},{0,0,0},{0,0,0}},\n",
    "      {{1,2,1},{2,4,2},{1,2,1}}}; \n",
    "int kz[3][3][3] = {{{-1,0,1},{-2,0,2},{-1,0,1}},\n",
    "      {{-2,0,2},{-4,0,4},{-2,0,2}},\n",
    "      {{-1,0,1},{-1,0,1},{-1,0,1}}};"
   ]
  }
 ],
 "metadata": {
  "kernelspec": {
   "display_name": "Python 3",
   "language": "python",
   "name": "python3"
  },
  "language_info": {
   "codemirror_mode": {
    "name": "ipython",
    "version": 3
   },
   "file_extension": ".py",
   "mimetype": "text/x-python",
   "name": "python",
   "nbconvert_exporter": "python",
   "pygments_lexer": "ipython3",
   "version": "3.8.3"
  }
 },
 "nbformat": 4,
 "nbformat_minor": 4
}
