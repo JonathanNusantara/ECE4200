{
 "cells": [
  {
   "cell_type": "markdown",
   "metadata": {},
   "source": [
    "# Assignment 9 Coding: Recommendation System Basics \n",
    "\n",
    "In this assignment, we will use [Surprise: A Python scikit for recommender systems](http://surpriselib.com/) to predict users' ratings on items based on existing ratings, which is an essential part in modern recommendation systems. Use the following code to install surprise or refer to the website:\n",
    "```python \n",
    "    pip install cython numpy\n",
    "    pip install scikit-surprise\n",
    "```\n",
    "\n",
    "or \n",
    "\n",
    "```python \n",
    "    pip3 install cython numpy\n",
    "    pip3 install scikit-surprise\n",
    "```\n",
    "\n",
    "or\n",
    "\n",
    "```python \n",
    "    conda install -c conda-forge scikit-surprise\n",
    "```"
   ]
  },
  {
   "cell_type": "markdown",
   "metadata": {},
   "source": [
    "## Movielens 100k Dataset\n",
    "The following code loads the [Movielens Dataset (see the link for more details)](https://grouplens.org/datasets/movielens/), which has 100k ratings of 1682 movies by 943 users. Here we print the ratings given by user 1, which consists of a few tuples in the format (movie_id, rating)."
   ]
  },
  {
   "cell_type": "code",
   "execution_count": 73,
   "metadata": {
    "scrolled": true
   },
   "outputs": [
    {
     "name": "stdout",
     "output_type": "stream",
     "text": [
      "Number of Users: 943\n",
      "Number of Items: 1682\n",
      "Ratings from User 1: [(0, 3.0), (528, 4.0), (377, 4.0), (522, 3.0), (431, 5.0), (834, 5.0), (380, 4.0), (329, 4.0), (550, 5.0), (83, 4.0), (632, 2.0), (86, 4.0), (289, 5.0), (363, 3.0), (438, 5.0), (389, 5.0), (649, 4.0), (947, 4.0), (423, 3.0), (291, 3.0), (10, 2.0), (1006, 4.0), (179, 3.0), (751, 3.0), (487, 3.0), (665, 3.0), (92, 4.0), (512, 5.0), (1045, 3.0), (672, 4.0), (656, 4.0), (221, 5.0), (432, 2.0), (365, 3.0), (321, 2.0), (466, 4.0), (302, 4.0), (491, 3.0), (521, 1.0)]\n"
     ]
    }
   ],
   "source": [
    "from surprise import SVD\n",
    "from surprise import Dataset\n",
    "from surprise import accuracy\n",
    "from surprise.model_selection import train_test_split\n",
    "import matplotlib.pyplot as plt\n",
    "import numpy as np\n",
    "data = Dataset.load_builtin('ml-100k')\n",
    "dataset = data.build_full_trainset()\n",
    "ratings = dataset.ur\n",
    "print(\"Number of Users:\", len(ratings.keys()))\n",
    "print(\"Number of Items:\", len(dataset.ir.keys()))\n",
    "print(\"Ratings from User 1:\", ratings[0])"
   ]
  },
  {
   "cell_type": "markdown",
   "metadata": {},
   "source": [
    "## 1. Prediction using Nearest Neighbour-based Collaborative Filtering\n",
    "\n",
    "Refer to the section *Train-test split and the fit() method* in [this page](https://surprise.readthedocs.io/en/stable/getting_started.html). Using test_size in $[0.1, 0.2, 0.3, 0.4, 0.5, 0.6, 0.7, 0.8, 0.9]$ and using KNNBasic as the algorithm, plot the rmse of the predictions you get and explain."
   ]
  },
  {
   "cell_type": "code",
   "execution_count": 81,
   "metadata": {},
   "outputs": [
    {
     "name": "stdout",
     "output_type": "stream",
     "text": [
      "Computing the msd similarity matrix...\n",
      "Done computing similarity matrix.\n",
      "RMSE: 0.9602\n",
      "Computing the msd similarity matrix...\n",
      "Done computing similarity matrix.\n",
      "RMSE: 0.9760\n",
      "Computing the msd similarity matrix...\n",
      "Done computing similarity matrix.\n",
      "RMSE: 0.9755\n",
      "Computing the msd similarity matrix...\n",
      "Done computing similarity matrix.\n",
      "RMSE: 0.9940\n",
      "Computing the msd similarity matrix...\n",
      "Done computing similarity matrix.\n",
      "RMSE: 1.0019\n",
      "Computing the msd similarity matrix...\n",
      "Done computing similarity matrix.\n",
      "RMSE: 1.0176\n",
      "Computing the msd similarity matrix...\n",
      "Done computing similarity matrix.\n",
      "RMSE: 1.0297\n",
      "Computing the msd similarity matrix...\n",
      "Done computing similarity matrix.\n",
      "RMSE: 1.0646\n",
      "Computing the msd similarity matrix...\n",
      "Done computing similarity matrix.\n",
      "RMSE: 1.1636\n"
     ]
    },
    {
     "data": {
      "text/plain": [
       "[<matplotlib.lines.Line2D at 0x1193d5a30>]"
      ]
     },
     "execution_count": 81,
     "metadata": {},
     "output_type": "execute_result"
    },
    {
     "data": {
      "image/png": "[encoded data removed]",
      "text/plain": [
       "<Figure size 432x288 with 1 Axes>"
      ]
     },
     "metadata": {
      "needs_background": "light"
     },
     "output_type": "display_data"
    }
   ],
   "source": [
    "from surprise import KNNBasic\n",
    "test_size_list = [0.1, 0.2, 0.3, 0.4, 0.5, 0.6, 0.7, 0.8, 0.9]\n",
    "rmse_list = np.zeros(len(test_size_list))\n",
    "algo = KNNBasic()\n",
    "#========= Your code goes here ======\n",
    "\n",
    "for i in range(len(test_size_list)):\n",
    "    trainset, testset = train_test_split(data, test_size=test_size_list[i])\n",
    "    \n",
    "    algo.fit(trainset)\n",
    "    predictions = algo.test(testset)\n",
    "\n",
    "    rmse_list[i] = accuracy.rmse(predictions)\n",
    "\n",
    "#==================================\n",
    "plt.plot(test_size_list, rmse_list)"
   ]
  },
  {
   "cell_type": "markdown",
   "metadata": {},
   "source": [
    "#### The plot above shows the relationship between the test set portion of the dataset with the root mean squared error of the prediction when using Nearest Neighbor-based Collaborative Filtering. We can see a trend that when the test set portion of the entire dataset is increased (which means train set portion is decreased), the root mean squared will decrease. We can see a gradual increase in RMSE from 0.96 to 1.03 when we increase the test size from 0.1 to 0.7 (decrease train size from 0.9 to 0.3). Additionally, in the plot above we see that the RMSE increase at an even faster rate from test size of 0.7 to 0.9, which brings the RMSE to 1.16. This trend of increasing RMSE with increasing test size portion of total dataset is expected because with decreasing train data set, the model has not gained enough information and is not generalized enough. As a result, the error will increase. "
   ]
  },
  {
   "cell_type": "markdown",
   "metadata": {},
   "source": [
    "## 2. Prediction using SVD-based Collaborative Filtering\n",
    "\n",
    "Refer to the section *Train-test split and the fit() method* in [this page](https://surprise.readthedocs.io/en/stable/getting_started.html). Using test_size in $[0.1, 0.2, 0.3, 0.4, 0.5, 0.6, 0.7, 0.8, 0.9]$ and using knn-basic as the algorithm, plot the rmse of the predictions you get and explain."
   ]
  },
  {
   "cell_type": "code",
   "execution_count": 75,
   "metadata": {},
   "outputs": [
    {
     "name": "stdout",
     "output_type": "stream",
     "text": [
      "RMSE: 0.9255\n",
      "RMSE: 0.9338\n",
      "RMSE: 0.9408\n",
      "RMSE: 0.9471\n",
      "RMSE: 0.9547\n",
      "RMSE: 0.9672\n",
      "RMSE: 0.9729\n",
      "RMSE: 0.9836\n",
      "RMSE: 1.0084\n"
     ]
    },
    {
     "data": {
      "text/plain": [
       "[<matplotlib.lines.Line2D at 0x11b8865e0>]"
      ]
     },
     "execution_count": 75,
     "metadata": {},
     "output_type": "execute_result"
    },
    {
     "data": {
      "image/png": "[encoded data removed]",
      "text/plain": [
       "<Figure size 432x288 with 1 Axes>"
      ]
     },
     "metadata": {
      "needs_background": "light"
     },
     "output_type": "display_data"
    }
   ],
   "source": [
    "from surprise import SVD\n",
    "test_size_list = [0.1, 0.2, 0.3, 0.4, 0.5, 0.6, 0.7, 0.8, 0.9]\n",
    "rmse_list = np.zeros(len(test_size_list))\n",
    "algo = SVD()\n",
    "#========= Your code goes here ======\n",
    "\n",
    "for i in range(len(test_size_list)):\n",
    "    trainset, testset = train_test_split(data, test_size=test_size_list[i])\n",
    "    \n",
    "    algo.fit(trainset)\n",
    "    predictions = algo.test(testset)\n",
    "\n",
    "    rmse_list[i] = accuracy.rmse(predictions)\n",
    "\n",
    "#==================================\n",
    "plt.plot(test_size_list, rmse_list)"
   ]
  },
  {
   "cell_type": "markdown",
   "metadata": {},
   "source": [
    "#### The plot above shows the relationship between the test set percentage of the dataset with the root mean squared error of the prediction when using SVD-based Collaborative Filtering. We can see the trend of increasing RMSE as the test size portion is increased. When test size is 0.1 of the total dataset, the RMSE is 0.9255. The RMSE gradually increase as the test size portion is inreased to 0.8, and it has an RMSE of 0.9836 at test size 0.8. Then, there is a bigger jump when the test size is increased to 0.9 of the dataset, bringing the RMSE of 1.01. Again, this trend is expected as with less training data, the model has not gain enough information and is not generalized enough, leading to higher RMSE. \n",
    "\n",
    "#### Another thing that we noticed is that at each point of test size portion, the RMSE of SVD-based CF tends to be lower than KNN-based CF. For example, at test size of 0.9 of the dataset, the RMSE in KNN-based is 1.16 while SVD-based is 1.01. This shows that SVD-based CF may have a better performance."
   ]
  },
  {
   "cell_type": "code",
   "execution_count": null,
   "metadata": {},
   "outputs": [],
   "source": []
  },
  {
   "cell_type": "markdown",
   "metadata": {},
   "source": [
    "## Math problem Q1 formula"
   ]
  },
  {
   "cell_type": "code",
   "execution_count": 2,
   "metadata": {},
   "outputs": [],
   "source": [
    "import numpy as np"
   ]
  },
  {
   "cell_type": "code",
   "execution_count": 62,
   "metadata": {},
   "outputs": [
    {
     "name": "stdout",
     "output_type": "stream",
     "text": [
      "3.5 3.25\n",
      "[-0.5 -1.5  0.5  1.5] [ 0.75  1.75 -0.25 -2.25]\n",
      "-6.5 6.614378277661477\n",
      "-0.9827076298239906\n"
     ]
    }
   ],
   "source": [
    "a = np.array([3,2,4,5])\n",
    "b = np.array([4,5,3,1])\n",
    "\n",
    "mean_a = np.mean(a)\n",
    "mean_b = np.mean(b)\n",
    "\n",
    "print(mean_a, mean_b)\n",
    "\n",
    "a = a - mean_a\n",
    "b = b - mean_b\n",
    "\n",
    "print(a,b)\n",
    "\n",
    "c = np.dot(a,b)\n",
    "d = np.linalg.norm(a) * np.linalg.norm(b)\n",
    "print(c,d)\n",
    "\n",
    "similarity = c / d\n",
    "print(similarity)"
   ]
  },
  {
   "cell_type": "code",
   "execution_count": null,
   "metadata": {},
   "outputs": [],
   "source": []
  }
 ],
 "metadata": {
  "kernelspec": {
   "display_name": "Python 3",
   "language": "python",
   "name": "python3"
  },
  "language_info": {
   "codemirror_mode": {
    "name": "ipython",
    "version": 3
   },
   "file_extension": ".py",
   "mimetype": "text/x-python",
   "name": "python",
   "nbconvert_exporter": "python",
   "pygments_lexer": "ipython3",
   "version": "3.8.3"
  }
 },
 "nbformat": 4,
 "nbformat_minor": 4
}
