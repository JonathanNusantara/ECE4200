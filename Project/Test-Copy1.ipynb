{
 "cells": [
  {
   "cell_type": "code",
   "execution_count": 1,
   "metadata": {},
   "outputs": [],
   "source": [
    "import numpy as np\n",
    "import matplotlib.pyplot as plt\n",
    "import pandas as pd\n",
    "from sklearn.utils import shuffle\n",
    "import time\n",
    "\n",
    "from sklearn.neighbors import KNeighborsClassifier\n",
    "from sklearn.neural_network import MLPClassifier\n",
    "from sklearn.svm import SVC\n",
    "from sklearn.ensemble import BaggingClassifier\n",
    "from sklearn.tree import DecisionTreeClassifier\n",
    "from sklearn.ensemble import AdaBoostClassifier\n",
    "from sklearn.ensemble import GradientBoostingClassifier\n",
    "from sklearn.ensemble import ExtraTreesClassifier\n",
    "from sklearn.experimental import enable_hist_gradient_boosting  # noqa\n",
    "from sklearn.ensemble import HistGradientBoostingClassifier\n",
    "from sklearn.linear_model import LogisticRegression\n",
    "from sklearn.naive_bayes import MultinomialNB\n",
    "from sklearn.naive_bayes import GaussianNB\n",
    "\n",
    "from sklearn.decomposition import PCA\n",
    "\n",
    "from sklearn.model_selection import train_test_split\n",
    "\n",
    "from sklearn.metrics import accuracy_score\n",
    "\n",
    "from xgboost import XGBClassifier"
   ]
  },
  {
   "cell_type": "code",
   "execution_count": 2,
   "metadata": {},
   "outputs": [
    {
     "data": {
      "text/html": [
       "<div>\n",
       "<style scoped>\n",
       "    .dataframe tbody tr th:only-of-type {\n",
       "        vertical-align: middle;\n",
       "    }\n",
       "\n",
       "    .dataframe tbody tr th {\n",
       "        vertical-align: top;\n",
       "    }\n",
       "\n",
       "    .dataframe thead th {\n",
       "        text-align: right;\n",
       "    }\n",
       "</style>\n",
       "<table border=\"1\" class=\"dataframe\">\n",
       "  <thead>\n",
       "    <tr style=\"text-align: right;\">\n",
       "      <th></th>\n",
       "      <th>m_label</th>\n",
       "      <th>strength</th>\n",
       "      <th>italic</th>\n",
       "      <th>m_top</th>\n",
       "      <th>m_left</th>\n",
       "      <th>originalH</th>\n",
       "      <th>originalW</th>\n",
       "      <th>r0c0</th>\n",
       "      <th>r0c1</th>\n",
       "      <th>r0c2</th>\n",
       "      <th>...</th>\n",
       "      <th>r19c10</th>\n",
       "      <th>r19c11</th>\n",
       "      <th>r19c12</th>\n",
       "      <th>r19c13</th>\n",
       "      <th>r19c14</th>\n",
       "      <th>r19c15</th>\n",
       "      <th>r19c16</th>\n",
       "      <th>r19c17</th>\n",
       "      <th>r19c18</th>\n",
       "      <th>r19c19</th>\n",
       "    </tr>\n",
       "  </thead>\n",
       "  <tbody>\n",
       "    <tr>\n",
       "      <th>0</th>\n",
       "      <td>8710</td>\n",
       "      <td>0.4</td>\n",
       "      <td>1</td>\n",
       "      <td>35</td>\n",
       "      <td>21</td>\n",
       "      <td>46</td>\n",
       "      <td>39</td>\n",
       "      <td>1</td>\n",
       "      <td>1</td>\n",
       "      <td>1</td>\n",
       "      <td>...</td>\n",
       "      <td>255</td>\n",
       "      <td>255</td>\n",
       "      <td>255</td>\n",
       "      <td>255</td>\n",
       "      <td>255</td>\n",
       "      <td>255</td>\n",
       "      <td>255</td>\n",
       "      <td>255</td>\n",
       "      <td>255</td>\n",
       "      <td>182</td>\n",
       "    </tr>\n",
       "    <tr>\n",
       "      <th>1</th>\n",
       "      <td>99</td>\n",
       "      <td>0.4</td>\n",
       "      <td>0</td>\n",
       "      <td>48</td>\n",
       "      <td>23</td>\n",
       "      <td>33</td>\n",
       "      <td>25</td>\n",
       "      <td>1</td>\n",
       "      <td>1</td>\n",
       "      <td>1</td>\n",
       "      <td>...</td>\n",
       "      <td>255</td>\n",
       "      <td>255</td>\n",
       "      <td>225</td>\n",
       "      <td>101</td>\n",
       "      <td>41</td>\n",
       "      <td>1</td>\n",
       "      <td>1</td>\n",
       "      <td>1</td>\n",
       "      <td>1</td>\n",
       "      <td>1</td>\n",
       "    </tr>\n",
       "    <tr>\n",
       "      <th>2</th>\n",
       "      <td>835</td>\n",
       "      <td>0.4</td>\n",
       "      <td>0</td>\n",
       "      <td>33</td>\n",
       "      <td>16</td>\n",
       "      <td>13</td>\n",
       "      <td>8</td>\n",
       "      <td>1</td>\n",
       "      <td>1</td>\n",
       "      <td>128</td>\n",
       "      <td>...</td>\n",
       "      <td>1</td>\n",
       "      <td>1</td>\n",
       "      <td>1</td>\n",
       "      <td>1</td>\n",
       "      <td>1</td>\n",
       "      <td>1</td>\n",
       "      <td>1</td>\n",
       "      <td>1</td>\n",
       "      <td>1</td>\n",
       "      <td>1</td>\n",
       "    </tr>\n",
       "    <tr>\n",
       "      <th>3</th>\n",
       "      <td>48</td>\n",
       "      <td>0.4</td>\n",
       "      <td>0</td>\n",
       "      <td>0</td>\n",
       "      <td>0</td>\n",
       "      <td>18</td>\n",
       "      <td>11</td>\n",
       "      <td>27</td>\n",
       "      <td>31</td>\n",
       "      <td>49</td>\n",
       "      <td>...</td>\n",
       "      <td>249</td>\n",
       "      <td>247</td>\n",
       "      <td>244</td>\n",
       "      <td>236</td>\n",
       "      <td>212</td>\n",
       "      <td>184</td>\n",
       "      <td>127</td>\n",
       "      <td>94</td>\n",
       "      <td>41</td>\n",
       "      <td>29</td>\n",
       "    </tr>\n",
       "    <tr>\n",
       "      <th>4</th>\n",
       "      <td>3653</td>\n",
       "      <td>0.4</td>\n",
       "      <td>0</td>\n",
       "      <td>46</td>\n",
       "      <td>21</td>\n",
       "      <td>50</td>\n",
       "      <td>23</td>\n",
       "      <td>1</td>\n",
       "      <td>1</td>\n",
       "      <td>1</td>\n",
       "      <td>...</td>\n",
       "      <td>1</td>\n",
       "      <td>1</td>\n",
       "      <td>1</td>\n",
       "      <td>1</td>\n",
       "      <td>56</td>\n",
       "      <td>255</td>\n",
       "      <td>255</td>\n",
       "      <td>255</td>\n",
       "      <td>255</td>\n",
       "      <td>255</td>\n",
       "    </tr>\n",
       "    <tr>\n",
       "      <th>5</th>\n",
       "      <td>697</td>\n",
       "      <td>0.4</td>\n",
       "      <td>0</td>\n",
       "      <td>37</td>\n",
       "      <td>25</td>\n",
       "      <td>16</td>\n",
       "      <td>7</td>\n",
       "      <td>255</td>\n",
       "      <td>255</td>\n",
       "      <td>255</td>\n",
       "      <td>...</td>\n",
       "      <td>255</td>\n",
       "      <td>255</td>\n",
       "      <td>255</td>\n",
       "      <td>255</td>\n",
       "      <td>73</td>\n",
       "      <td>1</td>\n",
       "      <td>1</td>\n",
       "      <td>1</td>\n",
       "      <td>1</td>\n",
       "      <td>1</td>\n",
       "    </tr>\n",
       "    <tr>\n",
       "      <th>6</th>\n",
       "      <td>52</td>\n",
       "      <td>0.4</td>\n",
       "      <td>0</td>\n",
       "      <td>0</td>\n",
       "      <td>0</td>\n",
       "      <td>13</td>\n",
       "      <td>11</td>\n",
       "      <td>40</td>\n",
       "      <td>40</td>\n",
       "      <td>40</td>\n",
       "      <td>...</td>\n",
       "      <td>222</td>\n",
       "      <td>218</td>\n",
       "      <td>222</td>\n",
       "      <td>233</td>\n",
       "      <td>240</td>\n",
       "      <td>249</td>\n",
       "      <td>240</td>\n",
       "      <td>236</td>\n",
       "      <td>157</td>\n",
       "      <td>139</td>\n",
       "    </tr>\n",
       "    <tr>\n",
       "      <th>7</th>\n",
       "      <td>195</td>\n",
       "      <td>0.4</td>\n",
       "      <td>1</td>\n",
       "      <td>34</td>\n",
       "      <td>21</td>\n",
       "      <td>60</td>\n",
       "      <td>58</td>\n",
       "      <td>1</td>\n",
       "      <td>1</td>\n",
       "      <td>1</td>\n",
       "      <td>...</td>\n",
       "      <td>1</td>\n",
       "      <td>1</td>\n",
       "      <td>150</td>\n",
       "      <td>255</td>\n",
       "      <td>255</td>\n",
       "      <td>255</td>\n",
       "      <td>255</td>\n",
       "      <td>238</td>\n",
       "      <td>1</td>\n",
       "      <td>1</td>\n",
       "    </tr>\n",
       "    <tr>\n",
       "      <th>8</th>\n",
       "      <td>7534</td>\n",
       "      <td>0.4</td>\n",
       "      <td>0</td>\n",
       "      <td>37</td>\n",
       "      <td>19</td>\n",
       "      <td>47</td>\n",
       "      <td>26</td>\n",
       "      <td>1</td>\n",
       "      <td>1</td>\n",
       "      <td>1</td>\n",
       "      <td>...</td>\n",
       "      <td>255</td>\n",
       "      <td>255</td>\n",
       "      <td>229</td>\n",
       "      <td>184</td>\n",
       "      <td>1</td>\n",
       "      <td>1</td>\n",
       "      <td>1</td>\n",
       "      <td>1</td>\n",
       "      <td>1</td>\n",
       "      <td>1</td>\n",
       "    </tr>\n",
       "    <tr>\n",
       "      <th>9</th>\n",
       "      <td>653</td>\n",
       "      <td>0.7</td>\n",
       "      <td>1</td>\n",
       "      <td>53</td>\n",
       "      <td>20</td>\n",
       "      <td>31</td>\n",
       "      <td>43</td>\n",
       "      <td>1</td>\n",
       "      <td>1</td>\n",
       "      <td>1</td>\n",
       "      <td>...</td>\n",
       "      <td>255</td>\n",
       "      <td>161</td>\n",
       "      <td>1</td>\n",
       "      <td>1</td>\n",
       "      <td>1</td>\n",
       "      <td>1</td>\n",
       "      <td>1</td>\n",
       "      <td>202</td>\n",
       "      <td>255</td>\n",
       "      <td>255</td>\n",
       "    </tr>\n",
       "  </tbody>\n",
       "</table>\n",
       "<p>10 rows × 407 columns</p>\n",
       "</div>"
      ],
      "text/plain": [
       "   m_label  strength  italic  m_top  m_left  originalH  originalW  r0c0  r0c1  \\\n",
       "0     8710       0.4       1     35      21         46         39     1     1   \n",
       "1       99       0.4       0     48      23         33         25     1     1   \n",
       "2      835       0.4       0     33      16         13          8     1     1   \n",
       "3       48       0.4       0      0       0         18         11    27    31   \n",
       "4     3653       0.4       0     46      21         50         23     1     1   \n",
       "5      697       0.4       0     37      25         16          7   255   255   \n",
       "6       52       0.4       0      0       0         13         11    40    40   \n",
       "7      195       0.4       1     34      21         60         58     1     1   \n",
       "8     7534       0.4       0     37      19         47         26     1     1   \n",
       "9      653       0.7       1     53      20         31         43     1     1   \n",
       "\n",
       "   r0c2  ...  r19c10  r19c11  r19c12  r19c13  r19c14  r19c15  r19c16  r19c17  \\\n",
       "0     1  ...     255     255     255     255     255     255     255     255   \n",
       "1     1  ...     255     255     225     101      41       1       1       1   \n",
       "2   128  ...       1       1       1       1       1       1       1       1   \n",
       "3    49  ...     249     247     244     236     212     184     127      94   \n",
       "4     1  ...       1       1       1       1      56     255     255     255   \n",
       "5   255  ...     255     255     255     255      73       1       1       1   \n",
       "6    40  ...     222     218     222     233     240     249     240     236   \n",
       "7     1  ...       1       1     150     255     255     255     255     238   \n",
       "8     1  ...     255     255     229     184       1       1       1       1   \n",
       "9     1  ...     255     161       1       1       1       1       1     202   \n",
       "\n",
       "   r19c18  r19c19  \n",
       "0     255     182  \n",
       "1       1       1  \n",
       "2       1       1  \n",
       "3      41      29  \n",
       "4     255     255  \n",
       "5       1       1  \n",
       "6     157     139  \n",
       "7       1       1  \n",
       "8       1       1  \n",
       "9     255     255  \n",
       "\n",
       "[10 rows x 407 columns]"
      ]
     },
     "execution_count": 2,
     "metadata": {},
     "output_type": "execute_result"
    }
   ],
   "source": [
    "X = pd.read_csv('train_data.csv')\n",
    "X.head(10)"
   ]
  },
  {
   "cell_type": "code",
   "execution_count": 3,
   "metadata": {},
   "outputs": [
    {
     "data": {
      "text/html": [
       "<div>\n",
       "<style scoped>\n",
       "    .dataframe tbody tr th:only-of-type {\n",
       "        vertical-align: middle;\n",
       "    }\n",
       "\n",
       "    .dataframe tbody tr th {\n",
       "        vertical-align: top;\n",
       "    }\n",
       "\n",
       "    .dataframe thead th {\n",
       "        text-align: right;\n",
       "    }\n",
       "</style>\n",
       "<table border=\"1\" class=\"dataframe\">\n",
       "  <thead>\n",
       "    <tr style=\"text-align: right;\">\n",
       "      <th></th>\n",
       "      <th>Font</th>\n",
       "    </tr>\n",
       "  </thead>\n",
       "  <tbody>\n",
       "    <tr>\n",
       "      <th>0</th>\n",
       "      <td>ARIAL</td>\n",
       "    </tr>\n",
       "    <tr>\n",
       "      <th>1</th>\n",
       "      <td>TIMES</td>\n",
       "    </tr>\n",
       "    <tr>\n",
       "      <th>2</th>\n",
       "      <td>TIMES</td>\n",
       "    </tr>\n",
       "    <tr>\n",
       "      <th>3</th>\n",
       "      <td>ARIAL</td>\n",
       "    </tr>\n",
       "    <tr>\n",
       "      <th>4</th>\n",
       "      <td>SERIF</td>\n",
       "    </tr>\n",
       "    <tr>\n",
       "      <th>5</th>\n",
       "      <td>CAMBRIA</td>\n",
       "    </tr>\n",
       "    <tr>\n",
       "      <th>6</th>\n",
       "      <td>ARIAL</td>\n",
       "    </tr>\n",
       "    <tr>\n",
       "      <th>7</th>\n",
       "      <td>ARIAL</td>\n",
       "    </tr>\n",
       "    <tr>\n",
       "      <th>8</th>\n",
       "      <td>CAMBRIA</td>\n",
       "    </tr>\n",
       "    <tr>\n",
       "      <th>9</th>\n",
       "      <td>CALIBRI</td>\n",
       "    </tr>\n",
       "  </tbody>\n",
       "</table>\n",
       "</div>"
      ],
      "text/plain": [
       "      Font\n",
       "0    ARIAL\n",
       "1    TIMES\n",
       "2    TIMES\n",
       "3    ARIAL\n",
       "4    SERIF\n",
       "5  CAMBRIA\n",
       "6    ARIAL\n",
       "7    ARIAL\n",
       "8  CAMBRIA\n",
       "9  CALIBRI"
      ]
     },
     "execution_count": 3,
     "metadata": {},
     "output_type": "execute_result"
    }
   ],
   "source": [
    "y = pd.read_csv('train_labels.csv')\n",
    "y.head(10)"
   ]
  },
  {
   "cell_type": "code",
   "execution_count": 4,
   "metadata": {},
   "outputs": [
    {
     "name": "stdout",
     "output_type": "stream",
     "text": [
      "[[8.710e+03 4.000e-01 1.000e+00 ... 2.550e+02 2.550e+02 1.820e+02]\n",
      " [9.900e+01 4.000e-01 0.000e+00 ... 1.000e+00 1.000e+00 1.000e+00]\n",
      " [8.350e+02 4.000e-01 0.000e+00 ... 1.000e+00 1.000e+00 1.000e+00]\n",
      " ...\n",
      " [7.761e+03 7.000e-01 0.000e+00 ... 1.000e+00 1.000e+00 1.000e+00]\n",
      " [3.617e+03 7.000e-01 0.000e+00 ... 1.250e+02 1.250e+02 1.250e+02]\n",
      " [1.784e+03 4.000e-01 0.000e+00 ... 2.390e+02 2.550e+02 1.750e+02]]\n",
      "[['ARIAL']\n",
      " ['TIMES']\n",
      " ['TIMES']\n",
      " ...\n",
      " ['SERIF']\n",
      " ['TAHOMA']\n",
      " ['TAHOMA']]\n",
      "(65000, 407)\n",
      "(65000, 1)\n"
     ]
    }
   ],
   "source": [
    "X = np.array(X)\n",
    "y = np.array(y)\n",
    "\n",
    "print(X)\n",
    "print(y)\n",
    "print(X.shape)\n",
    "print(y.shape)"
   ]
  },
  {
   "cell_type": "code",
   "execution_count": 5,
   "metadata": {},
   "outputs": [
    {
     "name": "stdout",
     "output_type": "stream",
     "text": [
      "(45500, 407)\n",
      "(45500,)\n",
      "(19500, 407)\n",
      "(19500,)\n"
     ]
    }
   ],
   "source": [
    "X_train, X_test, y_train, y_test = train_test_split(X, y, test_size=0.3, random_state=42)\n",
    "y_train, y_test = y_train.ravel(), y_test.ravel()\n",
    "\n",
    "print(X_train.shape)\n",
    "print(y_train.shape)\n",
    "print(X_test.shape)\n",
    "print(y_test.shape)"
   ]
  },
  {
   "cell_type": "markdown",
   "metadata": {},
   "source": [
    "# Pre-processing"
   ]
  },
  {
   "cell_type": "code",
   "execution_count": 6,
   "metadata": {},
   "outputs": [
    {
     "name": "stdout",
     "output_type": "stream",
     "text": [
      "(407,)\n",
      "(407,)\n"
     ]
    }
   ],
   "source": [
    "mean = np.zeros((1, X_train.shape[1]))\n",
    "std = np.ones((1, X_train.shape[1]))\n",
    "\n",
    "\n",
    "# ====== Your code here ========\n",
    "\n",
    "# Compute the mean and standard deviation\n",
    "mean = np.mean(X_train, axis=0)\n",
    "std = np.std(X_train, axis=0)\n",
    "\n",
    "# ====== Your code here ========\n",
    "\n",
    "def transform(X, mean, std):\n",
    "    # X: n x d matrix\n",
    "    # mean and std: 1 x d matrix\n",
    "    # X_out: n x d matrix\n",
    "    X_out = np.zeros(X.shape)\n",
    "    # ====== Your code here ========\n",
    "   \n",
    "    X_out = (X - mean) / std\n",
    "   \n",
    "    # ====== Your code here ========\n",
    "    return X_out \n",
    "\n",
    "X_train_scaled = transform(X_train, mean, std)\n",
    "X_test_scaled = transform(X_test, mean, std)\n",
    "\n",
    "print(mean.shape)\n",
    "print(std.shape)"
   ]
  },
  {
   "cell_type": "code",
   "execution_count": 7,
   "metadata": {},
   "outputs": [
    {
     "data": {
      "image/png": "[encoded data removed]",
      "text/plain": [
       "<Figure size 432x288 with 1 Axes>"
      ]
     },
     "metadata": {
      "needs_background": "light"
     },
     "output_type": "display_data"
    },
    {
     "name": "stdout",
     "output_type": "stream",
     "text": [
      "[0.2064169563774239, 0.3500169133707367, 0.42536664015100767, 0.5111807352381456, 0.677941439408873, 0.7669682675983625, 0.8189712082220232, 0.853512869818885, 0.9339854929451443, 1.0]\n"
     ]
    }
   ],
   "source": [
    "num_comp = [2,5,7,10,20,30,40,50,100,407]\n",
    "#========Your code here ======\n",
    "from sklearn.decomposition import PCA\n",
    "\n",
    "total_variance_explained = []\n",
    "\n",
    "for i in num_comp:\n",
    "    pca = PCA(n_components=i)\n",
    "    pca.fit(X_train_scaled, y_train)\n",
    "    total_variance_explained.append(sum(pca.explained_variance_ratio_))\n",
    "#     if i == 500:\n",
    "#         singular_values = pca.singular_values_\n",
    "#==============================\n",
    "plt.figure(1)\n",
    "plt.plot(num_comp,total_variance_explained,label='total variance')\n",
    "plt.legend()\n",
    "plt.show()\n",
    "print(total_variance_explained)"
   ]
  },
  {
   "cell_type": "markdown",
   "metadata": {},
   "source": [
    "# Classifier experiments"
   ]
  },
  {
   "cell_type": "code",
   "execution_count": 7,
   "metadata": {},
   "outputs": [
    {
     "data": {
      "text/plain": [
       "PCA(n_components=200)"
      ]
     },
     "execution_count": 7,
     "metadata": {},
     "output_type": "execute_result"
    }
   ],
   "source": [
    "pca100 = PCA(n_components=100)\n",
    "pca100.fit(X_train_scaled, y_train)\n",
    "\n",
    "pca200 = PCA(n_components=200)\n",
    "pca200.fit(X_train_scaled, y_train)"
   ]
  },
  {
   "cell_type": "markdown",
   "metadata": {},
   "source": [
    "### KNN with PCA"
   ]
  },
  {
   "cell_type": "code",
   "execution_count": 10,
   "metadata": {},
   "outputs": [],
   "source": [
    "KNN1 = KNeighborsClassifier(n_neighbors=1)\n",
    "KNN3 = KNeighborsClassifier(n_neighbors=3)\n",
    "KNN5 = KNeighborsClassifier(n_neighbors=5)"
   ]
  },
  {
   "cell_type": "markdown",
   "metadata": {},
   "source": [
    "#### 1 Nearest Neighbor"
   ]
  },
  {
   "cell_type": "code",
   "execution_count": 71,
   "metadata": {},
   "outputs": [
    {
     "name": "stdout",
     "output_type": "stream",
     "text": [
      "Training time 2.966 seconds\n",
      "Test time 155.021 seconds\n",
      "0.6357948717948718\n"
     ]
    }
   ],
   "source": [
    "start_time = time.time()\n",
    "KNN1.fit(X_train,y_train)\n",
    "train_time = time.time() - start_time\n",
    "print(\"Training time %.3f seconds\" % train_time)\n",
    "\n",
    "start_time = time.time()\n",
    "y_pred_knn1 = KNN1.predict(X_test)\n",
    "test_time = time.time() - start_time\n",
    "print(\"Test time %.3f seconds\" % test_time)\n",
    "print(accuracy_score(y_pred_knn1, y_test))"
   ]
  },
  {
   "cell_type": "code",
   "execution_count": 50,
   "metadata": {},
   "outputs": [
    {
     "name": "stdout",
     "output_type": "stream",
     "text": [
      "Training time 3.704 seconds\n",
      "Test time 435.459 seconds\n",
      "0.6831282051282052\n"
     ]
    }
   ],
   "source": [
    "start_time = time.time()\n",
    "KNN1.fit(X_train_scaled,y_train)\n",
    "train_time = time.time() - start_time\n",
    "print(\"Training time %.3f seconds\" % train_time)\n",
    "\n",
    "start_time = time.time()\n",
    "y_pred_knn1 = KNN1.predict(X_test_scaled)\n",
    "test_time = time.time() - start_time\n",
    "print(\"Test time %.3f seconds\" % test_time)\n",
    "print(accuracy_score(y_pred_knn1, y_test))"
   ]
  },
  {
   "cell_type": "code",
   "execution_count": 36,
   "metadata": {},
   "outputs": [
    {
     "name": "stdout",
     "output_type": "stream",
     "text": [
      "Training time 0.624 seconds\n",
      "Test time 43.287 seconds\n",
      "0.6757948717948717\n"
     ]
    }
   ],
   "source": [
    "start_time = time.time()\n",
    "KNN1.fit(pca100.transform(X_train_scaled),y_train)\n",
    "train_time = time.time() - start_time\n",
    "print(\"Training time %.3f seconds\" % train_time)\n",
    "\n",
    "start_time = time.time()\n",
    "y_pred_knn1_pca100 = KNN1.predict(pca100.transform(X_test_scaled))\n",
    "test_time = time.time() - start_time\n",
    "print(\"Test time %.3f seconds\" % test_time)\n",
    "print(accuracy_score(y_pred_knn1_pca100, y_test))"
   ]
  },
  {
   "cell_type": "code",
   "execution_count": 52,
   "metadata": {},
   "outputs": [
    {
     "name": "stdout",
     "output_type": "stream",
     "text": [
      "Training time 1.093 seconds\n",
      "Test time 82.222 seconds\n",
      "0.6795384615384615\n"
     ]
    }
   ],
   "source": [
    "start_time = time.time()\n",
    "KNN1.fit(pca200.transform(X_train_scaled),y_train)\n",
    "train_time = time.time() - start_time\n",
    "print(\"Training time %.3f seconds\" % train_time)\n",
    "\n",
    "start_time = time.time()\n",
    "y_pred_knn1_pca200 = KNN1.predict(pca200.transform(X_test_scaled))\n",
    "test_time = time.time() - start_time\n",
    "print(\"Test time %.3f seconds\" % test_time)\n",
    "print(accuracy_score(y_pred_knn1_pca200, y_test))"
   ]
  },
  {
   "cell_type": "markdown",
   "metadata": {},
   "source": [
    "#### 3 Nearest Neighbor"
   ]
  },
  {
   "cell_type": "code",
   "execution_count": 37,
   "metadata": {},
   "outputs": [
    {
     "name": "stdout",
     "output_type": "stream",
     "text": [
      "Training time 0.617 seconds\n",
      "Test time 83.479 seconds\n",
      "0.6203076923076923\n"
     ]
    }
   ],
   "source": [
    "start_time = time.time()\n",
    "KNN3.fit(pca100.transform(X_train_scaled),y_train)\n",
    "train_time = time.time() - start_time\n",
    "print(\"Training time %.3f seconds\" % train_time)\n",
    "\n",
    "start_time = time.time()\n",
    "y_pred_knn3_pca100 = KNN3.predict(pca100.transform(X_test_scaled))\n",
    "test_time = time.time() - start_time\n",
    "print(\"Test time %.3f seconds\" % test_time)\n",
    "print(accuracy_score(y_pred_knn3_pca100, y_test))"
   ]
  },
  {
   "cell_type": "code",
   "execution_count": 54,
   "metadata": {},
   "outputs": [
    {
     "name": "stdout",
     "output_type": "stream",
     "text": [
      "Training time 1.112 seconds\n",
      "Test time 148.963 seconds\n"
     ]
    }
   ],
   "source": [
    "start_time = time.time()\n",
    "KNN3.fit(pca200.transform(X_train_scaled),y_train.ravel())\n",
    "train_time = time.time() - start_time\n",
    "print(\"Training time %.3f seconds\" % train_time)\n",
    "\n",
    "start_time = time.time()\n",
    "y_pred_knn3_pca200 = KNN3.predict(pca200.transform(X_test_scaled))\n",
    "test_time = time.time() - start_time\n",
    "print(\"Test time %.3f seconds\" % test_time)"
   ]
  },
  {
   "cell_type": "markdown",
   "metadata": {},
   "source": [
    "#### 5 Nearest Neighbor"
   ]
  },
  {
   "cell_type": "code",
   "execution_count": 26,
   "metadata": {},
   "outputs": [
    {
     "name": "stdout",
     "output_type": "stream",
     "text": [
      "Training time 1.037 seconds\n",
      "Test time 187.082 seconds\n"
     ]
    }
   ],
   "source": [
    "start_time = time.time()\n",
    "KNN5.fit(pca100.transform(X_train_scaled),y_train.ravel())\n",
    "train_time = time.time() - start_time\n",
    "print(\"Training time %.3f seconds\" % train_time)\n",
    "\n",
    "start_time = time.time()\n",
    "y_pred_knn5_pca100 = KNN5.predict(pca100.transform(X_test_scaled))\n",
    "test_time = time.time() - start_time\n",
    "print(\"Test time %.3f seconds\" % test_time)"
   ]
  },
  {
   "cell_type": "markdown",
   "metadata": {},
   "source": [
    "### KNN without PCA"
   ]
  },
  {
   "cell_type": "code",
   "execution_count": null,
   "metadata": {},
   "outputs": [],
   "source": [
    "start_time = time.time()\n",
    "KNN1 = KNeighborsClassifier(n_neighbors=3)\n",
    "\n",
    "KNN1.fit(X_train_scaled,y_train\n",
    "train_time = time.time() - start_time\n",
    "print(\"Training time %.3f seconds\" % train_time)\n",
    "\n",
    "start_time = time.time()\n",
    "y_pred_knn1 = KNN1.predict(X_test_scaled)\n",
    "test_time = time.time() - start_time\n",
    "print(\"Test time %.3f seconds\" % test_time)"
   ]
  },
  {
   "cell_type": "markdown",
   "metadata": {},
   "source": [
    "### Logistic Regression"
   ]
  },
  {
   "cell_type": "code",
   "execution_count": 23,
   "metadata": {},
   "outputs": [
    {
     "name": "stdout",
     "output_type": "stream",
     "text": [
      "Training time 13.700 seconds\n",
      "Test time 0.011 seconds\n",
      "0.48312820512820515\n"
     ]
    }
   ],
   "source": [
    "start_time = time.time()\n",
    "clf_lr = LogisticRegression(max_iter=10000)\n",
    "clf_lr.fit(X_train_scaled,y_train)\n",
    "train_time = time.time() - start_time\n",
    "print(\"Training time %.3f seconds\" % train_time)\n",
    "\n",
    "start_time = time.time()\n",
    "y_pred_lr = clf_lr.predict(X_test_scaled)\n",
    "test_time = time.time() - start_time\n",
    "print(\"Test time %.3f seconds\" % test_time)\n",
    "print(accuracy_score(y_pred_lr, y_test))"
   ]
  },
  {
   "cell_type": "markdown",
   "metadata": {},
   "source": [
    "### Naive Bayes"
   ]
  },
  {
   "cell_type": "code",
   "execution_count": 14,
   "metadata": {},
   "outputs": [
    {
     "name": "stdout",
     "output_type": "stream",
     "text": [
      "Training time 0.866 seconds\n",
      "Test time 0.442 seconds\n",
      "0.13584615384615384\n"
     ]
    }
   ],
   "source": [
    "start_time = time.time()\n",
    "gnb = GaussianNB()\n",
    "gnb.fit(X_train, y_train.ravel())\n",
    "train_time = time.time() - start_time\n",
    "print(\"Training time %.3f seconds\" % train_time)\n",
    "\n",
    "start_time = time.time()\n",
    "y_pred_gnb = gnb.predict(X_test_scaled)\n",
    "test_time = time.time() - start_time\n",
    "print(\"Test time %.3f seconds\" % test_time)\n",
    "print(accuracy_score(y_pred_gnb, y_test))"
   ]
  },
  {
   "cell_type": "code",
   "execution_count": 15,
   "metadata": {},
   "outputs": [
    {
     "name": "stdout",
     "output_type": "stream",
     "text": [
      "Training time 0.177 seconds\n",
      "Test time 0.011 seconds\n",
      "0.28112820512820513\n"
     ]
    }
   ],
   "source": [
    "start_time = time.time()\n",
    "gnb = MultinomialNB()\n",
    "gnb.fit(X_train, y_train.ravel())\n",
    "train_time = time.time() - start_time\n",
    "print(\"Training time %.3f seconds\" % train_time)\n",
    "\n",
    "start_time = time.time()\n",
    "y_pred_gnb = gnb.predict(X_test_scaled)\n",
    "test_time = time.time() - start_time\n",
    "print(\"Test time %.3f seconds\" % test_time)\n",
    "print(accuracy_score(y_pred_gnb, y_test))"
   ]
  },
  {
   "cell_type": "markdown",
   "metadata": {},
   "source": [
    "### Multi-layer Perceptron"
   ]
  },
  {
   "cell_type": "code",
   "execution_count": 61,
   "metadata": {},
   "outputs": [
    {
     "name": "stdout",
     "output_type": "stream",
     "text": [
      "Training time 37.924 seconds\n",
      "Test time 0.041 seconds\n",
      "0.6761025641025641\n"
     ]
    }
   ],
   "source": [
    "# Multi-layer perceptron with 1 hidden layer\n",
    "\n",
    "start_time = time.time()\n",
    "MLP1 = MLPClassifier(hidden_layer_sizes=(100,), max_iter=300, alpha=1e-4, solver='sgd', verbose=False, tol=1e-4, random_state=1, learning_rate_init=.1)\n",
    "\n",
    "MLP1.fit(X_train_scaled,y_train)\n",
    "train_time = time.time() - start_time\n",
    "print(\"Training time %.3f seconds\" % train_time)\n",
    "\n",
    "start_time = time.time()\n",
    "y_pred_mlp1 = MLP1.predict(X_test_scaled)\n",
    "test_time = time.time() - start_time\n",
    "print(\"Test time %.3f seconds\" % test_time)\n",
    "print(accuracy_score(y_pred_mlp1, y_test))"
   ]
  },
  {
   "cell_type": "code",
   "execution_count": 62,
   "metadata": {},
   "outputs": [
    {
     "name": "stdout",
     "output_type": "stream",
     "text": [
      "Training time 189.624 seconds\n",
      "Test time 0.513 seconds\n",
      "0.7192820512820512\n"
     ]
    }
   ],
   "source": [
    "# Multi-layer perceptron with 2 hidden layers\n",
    "\n",
    "start_time = time.time()\n",
    "MLP1 = MLPClassifier(hidden_layer_sizes=(1000,1000), max_iter=300, alpha=1e-4, solver='sgd', verbose=False, tol=1e-4, random_state=1, learning_rate_init=.1)\n",
    "\n",
    "MLP1.fit(X_train_scaled,y_train)\n",
    "train_time = time.time() - start_time\n",
    "print(\"Training time %.3f seconds\" % train_time)\n",
    "\n",
    "start_time = time.time()\n",
    "y_pred_mlp1 = MLP1.predict(X_test_scaled)\n",
    "test_time = time.time() - start_time\n",
    "print(\"Test time %.3f seconds\" % test_time)\n",
    "print(accuracy_score(y_pred_mlp1, y_test))"
   ]
  },
  {
   "cell_type": "code",
   "execution_count": 70,
   "metadata": {},
   "outputs": [
    {
     "name": "stdout",
     "output_type": "stream",
     "text": [
      "Training time 641.613 seconds\n",
      "Test time 1.121 seconds\n",
      "0.7532820512820513\n"
     ]
    }
   ],
   "source": [
    "# Multi-layer perceptron with 2 hidden layers\n",
    "\n",
    "start_time = time.time()\n",
    "MLP1 = MLPClassifier(hidden_layer_sizes=(1000,1000), max_iter=300, alpha=1e-4, solver='sgd', verbose=False, tol=1e-4, random_state=1, learning_rate_init=.1)\n",
    "\n",
    "MLP1.fit(X_train_scaled,y_train)\n",
    "train_time = time.time() - start_time\n",
    "print(\"Training time %.3f seconds\" % train_time)\n",
    "\n",
    "start_time = time.time()\n",
    "y_pred_mlp1 = MLP1.predict(X_test_scaled)\n",
    "test_time = time.time() - start_time\n",
    "print(\"Test time %.3f seconds\" % test_time)\n",
    "print(accuracy_score(y_pred_mlp1, y_test))"
   ]
  },
  {
   "cell_type": "code",
   "execution_count": 12,
   "metadata": {},
   "outputs": [
    {
     "name": "stdout",
     "output_type": "stream",
     "text": [
      "Training time 989.404 seconds\n",
      "Test time 1.215 seconds\n",
      "0.7811794871794872\n"
     ]
    }
   ],
   "source": [
    "# Multi-layer perceptron with 3 hidden layers\n",
    "\n",
    "start_time = time.time()\n",
    "MLP1 = MLPClassifier(hidden_layer_sizes=(1000,1000, 1000), max_iter=500, alpha=1e-5, solver='sgd', verbose=False, tol=1e-5, random_state=1, learning_rate_init=.1)\n",
    "\n",
    "MLP1.fit(X_train_scaled,y_train)\n",
    "train_time = time.time() - start_time\n",
    "print(\"Training time %.3f seconds\" % train_time)\n",
    "\n",
    "start_time = time.time()\n",
    "y_pred_mlp1 = MLP1.predict(X_test_scaled)\n",
    "test_time = time.time() - start_time\n",
    "print(\"Test time %.3f seconds\" % test_time)\n",
    "print(accuracy_score(y_pred_mlp1, y_test))"
   ]
  },
  {
   "cell_type": "markdown",
   "metadata": {},
   "source": [
    "### Support Vector Machine with PCA"
   ]
  },
  {
   "cell_type": "code",
   "execution_count": 73,
   "metadata": {},
   "outputs": [
    {
     "name": "stdout",
     "output_type": "stream",
     "text": [
      "Training time 366.966 seconds\n",
      "Test time 63.952 seconds\n",
      "0.7\n"
     ]
    }
   ],
   "source": [
    "start_time = time.time()\n",
    "clf_svc1 = SVC(C=1, kernel='poly')\n",
    "clf_svc1.fit(pca100.transform(X_train_scaled), y_train.ravel())\n",
    "train_time = time.time() - start_time\n",
    "print(\"Training time %.3f seconds\" % train_time)\n",
    "\n",
    "start_time = time.time()\n",
    "y_pred_svc_poly1_pca100 = clf_svc1.predict(pca100.transform(X_test_scaled))\n",
    "test_time = time.time() - start_time\n",
    "print(\"Test time %.3f seconds\" % test_time)\n",
    "print(accuracy_score(y_pred_svc_poly1_pca100, y_test))"
   ]
  },
  {
   "cell_type": "code",
   "execution_count": 74,
   "metadata": {},
   "outputs": [
    {
     "name": "stdout",
     "output_type": "stream",
     "text": [
      "Training time 360.731 seconds\n",
      "Test time 70.015 seconds\n",
      "0.47825641025641025\n"
     ]
    }
   ],
   "source": [
    " start_time = time.time()\n",
    "clf_svc1 = SVC(C=0.1, kernel='poly',)\n",
    "clf_svc1.fit(pca100.transform(X_train_scaled), y_train.ravel())\n",
    "train_time = time.time() - start_time\n",
    "print(\"Training time %.3f seconds\" % train_time)\n",
    "\n",
    "start_time = time.time()\n",
    "y_pred_svc_poly01_pca100 = clf_svc1.predict(pca100.transform(X_test_scaled))\n",
    "test_time = time.time() - start_time\n",
    "print(\"Test time %.3f seconds\" % test_time)\n",
    "print(accuracy_score(y_pred_svc_poly01_pca100, y_test))"
   ]
  },
  {
   "cell_type": "code",
   "execution_count": 75,
   "metadata": {},
   "outputs": [
    {
     "name": "stdout",
     "output_type": "stream",
     "text": [
      "Training time 705.322 seconds\n",
      "Test time 55.595 seconds\n",
      "0.7686153846153846\n"
     ]
    }
   ],
   "source": [
    "start_time = time.time()\n",
    "clf_svc1 = SVC(C=10, kernel='poly',)\n",
    "clf_svc1.fit(pca100.transform(X_train_scaled), y_train.ravel())\n",
    "train_time = time.time() - start_time\n",
    "print(\"Training time %.3f seconds\" % train_time)\n",
    "\n",
    "start_time = time.time()\n",
    "y_pred_svc_poly10_pca100 = clf_svc1.predict(pca100.transform(X_test_scaled))\n",
    "test_time = time.time() - start_time\n",
    "print(\"Test time %.3f seconds\" % test_time)\n",
    "print(accuracy_score(y_pred_svc_poly10_pca100, y_test))"
   ]
  },
  {
   "cell_type": "code",
   "execution_count": 76,
   "metadata": {},
   "outputs": [
    {
     "name": "stdout",
     "output_type": "stream",
     "text": [
      "Training time 6593.769 seconds\n",
      "Test time 62.516 seconds\n",
      "0.4636923076923077\n"
     ]
    }
   ],
   "source": [
    "start_time = time.time()\n",
    "clf_svc1 = SVC(C=1, kernel='linear')\n",
    "clf_svc1.fit(pca100.transform(X_train_scaled), y_train.ravel())\n",
    "train_time = time.time() - start_time\n",
    "print(\"Training time %.3f seconds\" % train_time)\n",
    "\n",
    "start_time = time.time()\n",
    "y_pred_svc_linear1_pca100 = clf_svc1.predict(pca100.transform(X_test_scaled))\n",
    "test_time = time.time() - start_time\n",
    "print(\"Test time %.3f seconds\" % test_time)\n",
    "print(accuracy_score(y_pred_svc_linear1_pca100, y_test))"
   ]
  },
  {
   "cell_type": "code",
   "execution_count": null,
   "metadata": {},
   "outputs": [],
   "source": [
    "start_time = time.time()\n",
    "clf_svc1 = SVC(C=10, kernel='linear')\n",
    "clf_svc1.fit(pca100.transform(X_train_scaled), y_train.ravel())\n",
    "train_time = time.time() - start_time\n",
    "print(\"Training time %.3f seconds\" % train_time)\n",
    "\n",
    "start_time = time.time()\n",
    "y_pred_svc_linear10_pca100 = clf_svc1.predict(pca100.transform(X_test_scaled))\n",
    "test_time = time.time() - start_time\n",
    "print(\"Test time %.3f seconds\" % test_time)\n",
    "print(accuracy_score(y_pred_svc_linear10_pca100, y_test))"
   ]
  },
  {
   "cell_type": "code",
   "execution_count": null,
   "metadata": {},
   "outputs": [],
   "source": [
    "start_time = time.time()\n",
    "clf_svc1 = SVC(C=0.1, kernel='linear')\n",
    "clf_svc1.fit(pca100.transform(X_train_scaled), y_train.ravel())\n",
    "train_time = time.time() - start_time\n",
    "print(\"Training time %.3f seconds\" % train_time)\n",
    "\n",
    "start_time = time.time()\n",
    "y_pred_svc_linear01_pca100 = clf_svc1.predict(pca100.transform(X_test_scaled))\n",
    "test_time = time.time() - start_time\n",
    "print(\"Test time %.3f seconds\" % test_time)\n",
    "print(accuracy_score(y_pred_svc_linear01_pca100, y_test))"
   ]
  },
  {
   "cell_type": "code",
   "execution_count": null,
   "metadata": {},
   "outputs": [],
   "source": [
    "start_time = time.time()\n",
    "clf_svc1 = SVC(C=1, kernel='poly')\n",
    "clf_svc1.fit(pca200.transform(X_train_scaled), y_train.ravel())\n",
    "train_time = time.time() - start_time\n",
    "print(\"Training time %.3f seconds\" % train_time)\n",
    "\n",
    "start_time = time.time()\n",
    "y_pred_svc_poly1_pca200 = clf_svc1.predict(pca200.transform(X_test_scaled))\n",
    "test_time = time.time() - start_time\n",
    "print(\"Test time %.3f seconds\" % test_time)"
   ]
  },
  {
   "cell_type": "code",
   "execution_count": 11,
   "metadata": {},
   "outputs": [
    {
     "name": "stdout",
     "output_type": "stream",
     "text": [
      "Training time 394.791 seconds\n",
      "Test time 94.758 seconds\n",
      "0.6996410256410256\n"
     ]
    }
   ],
   "source": [
    "start_time = time.time()\n",
    "clf_svc1 = SVC(C=1, kernel='rbf')\n",
    "clf_svc1.fit(pca100.transform(X_train_scaled), y_train.ravel())\n",
    "train_time = time.time() - start_time\n",
    "print(\"Training time %.3f seconds\" % train_time)\n",
    "\n",
    "start_time = time.time()\n",
    "y_pred_svc_rbf1_pca100 = clf_svc1.predict(pca100.transform(X_test_scaled))\n",
    "test_time = time.time() - start_time\n",
    "print(\"Test time %.3f seconds\" % test_time)\n",
    "print(accuracy_score(y_pred_svc_rbf1_pca100, y_test))"
   ]
  },
  {
   "cell_type": "code",
   "execution_count": 16,
   "metadata": {},
   "outputs": [
    {
     "name": "stdout",
     "output_type": "stream",
     "text": [
      "Training time 627.119 seconds\n",
      "Test time 70.175 seconds\n"
     ]
    },
    {
     "ename": "NameError",
     "evalue": "name 'y_pred_svc_rbf1_pca100' is not defined",
     "output_type": "error",
     "traceback": [
      "\u001b[0;31m---------------------------------------------------------------------------\u001b[0m",
      "\u001b[0;31mNameError\u001b[0m                                 Traceback (most recent call last)",
      "\u001b[0;32m<ipython-input-16-48895f034250>\u001b[0m in \u001b[0;36m<module>\u001b[0;34m\u001b[0m\n\u001b[1;32m      9\u001b[0m \u001b[0mtest_time\u001b[0m \u001b[0;34m=\u001b[0m \u001b[0mtime\u001b[0m\u001b[0;34m.\u001b[0m\u001b[0mtime\u001b[0m\u001b[0;34m(\u001b[0m\u001b[0;34m)\u001b[0m \u001b[0;34m-\u001b[0m \u001b[0mstart_time\u001b[0m\u001b[0;34m\u001b[0m\u001b[0;34m\u001b[0m\u001b[0m\n\u001b[1;32m     10\u001b[0m \u001b[0mprint\u001b[0m\u001b[0;34m(\u001b[0m\u001b[0;34m\"Test time %.3f seconds\"\u001b[0m \u001b[0;34m%\u001b[0m \u001b[0mtest_time\u001b[0m\u001b[0;34m)\u001b[0m\u001b[0;34m\u001b[0m\u001b[0;34m\u001b[0m\u001b[0m\n\u001b[0;32m---> 11\u001b[0;31m \u001b[0mprint\u001b[0m\u001b[0;34m(\u001b[0m\u001b[0maccuracy_score\u001b[0m\u001b[0;34m(\u001b[0m\u001b[0my_pred_svc_rbf1_pca100\u001b[0m\u001b[0;34m,\u001b[0m \u001b[0my_test\u001b[0m\u001b[0;34m)\u001b[0m\u001b[0;34m)\u001b[0m\u001b[0;34m\u001b[0m\u001b[0;34m\u001b[0m\u001b[0m\n\u001b[0m",
      "\u001b[0;31mNameError\u001b[0m: name 'y_pred_svc_rbf1_pca100' is not defined"
     ]
    }
   ],
   "source": [
    "start_time = time.time()\n",
    "clf_svc1 = SVC(C=10, kernel='rbf')\n",
    "clf_svc1.fit(pca100.transform(X_train_scaled), y_train.ravel())\n",
    "train_time = time.time() - start_time\n",
    "print(\"Training time %.3f seconds\" % train_time)\n",
    "\n",
    "start_time = time.time()\n",
    "y_pred_svc_rbf10_pca100 = clf_svc1.predict(pca100.transform(X_test_scaled))\n",
    "test_time = time.time() - start_time\n",
    "print(\"Test time %.3f seconds\" % test_time)\n",
    "print(accuracy_score(y_pred_svc_rbf1_pca100, y_test))"
   ]
  },
  {
   "cell_type": "code",
   "execution_count": null,
   "metadata": {},
   "outputs": [],
   "source": [
    "start_time = time.time()\n",
    "clf_svc1 = SVC(C=10, kernel='rbf')\n",
    "clf_svc1.fit(pca200.transform(X_train_scaled), y_train.ravel())\n",
    "train_time = time.time() - start_time\n",
    "print(\"Training time %.3f seconds\" % train_time)\n",
    "\n",
    "start_time = time.time()\n",
    "y_pred_svc_rbf10_pca200 = clf_svc1.predict(pca200.transform(X_test_scaled))\n",
    "test_time = time.time() - start_time\n",
    "print(\"Test time %.3f seconds\" % test_time)\n",
    "print(accuracy_score(y_pred_svc_rbf1_pca200, y_test))"
   ]
  },
  {
   "cell_type": "code",
   "execution_count": null,
   "metadata": {},
   "outputs": [],
   "source": [
    "start_time = time.time()\n",
    "clf_svc1 = SVC(C=0.1, kernel='rbf')\n",
    "clf_svc1.fit(pca100.transform(X_train_scaled), y_train.ravel())\n",
    "train_time = time.time() - start_time\n",
    "print(\"Training time %.3f seconds\" % train_time)\n",
    "\n",
    "start_time = time.time()\n",
    "y_pred_svc_rbf01_pca100 = clf_svc1.predict(pca100.transform(X_test_scaled))\n",
    "test_time = time.time() - start_time\n",
    "print(\"Test time %.3f seconds\" % test_time)\n",
    "print(accuracy_score(y_pred_svc_rbf01_pca100, y_test))"
   ]
  },
  {
   "cell_type": "markdown",
   "metadata": {},
   "source": [
    "### Support Vector Machine without PCA"
   ]
  },
  {
   "cell_type": "code",
   "execution_count": null,
   "metadata": {},
   "outputs": [],
   "source": [
    "start_time = time.time()\n",
    "clf_svc1 = SVC(C=1, kernel='poly')\n",
    "clf_svc1.fit(X_train, y_train.ravel())\n",
    "train_time = time.time() - start_time\n",
    "print(\"Training time %.3f seconds\" % train_time)\n",
    "\n",
    "start_time = time.time()\n",
    "y_pred_svc_poly1 = clf_svc1.predict(X_test)\n",
    "test_time = time.time() - start_time\n",
    "print(\"Test time %.3f seconds\" % test_time)\n",
    "print(accuracy_score(y_pred_svc_poly1, y_test))"
   ]
  },
  {
   "cell_type": "code",
   "execution_count": null,
   "metadata": {},
   "outputs": [],
   "source": [
    "start_time = time.time()\n",
    "clf_svc1 = SVC(C=10, kernel='poly')\n",
    "clf_svc1.fit(X_train, y_train.ravel())\n",
    "train_time = time.time() - start_time\n",
    "print(\"Training time %.3f seconds\" % train_time)\n",
    "\n",
    "start_time = time.time()\n",
    "y_pred_svc_poly10 = clf_svc1.predict(X_test)\n",
    "test_time = time.time() - start_time\n",
    "print(\"Test time %.3f seconds\" % test_time)\n",
    "print(accuracy_score(y_pred_svc_poly10, y_test))"
   ]
  },
  {
   "cell_type": "code",
   "execution_count": null,
   "metadata": {},
   "outputs": [],
   "source": [
    "start_time = time.time()\n",
    "clf_svc1 = SVC(C=0.1, kernel='poly')\n",
    "clf_svc1.fit(X_train, y_train.ravel())\n",
    "train_time = time.time() - start_time\n",
    "print(\"Training time %.3f seconds\" % train_time)\n",
    "\n",
    "start_time = time.time()\n",
    "y_pred_svc_poly01 = clf_svc1.predict(X_test)\n",
    "test_time = time.time() - start_time\n",
    "print(\"Test time %.3f seconds\" % test_time)\n",
    "print(accuracy_score(y_pred_svc_poly01, y_test))"
   ]
  },
  {
   "cell_type": "code",
   "execution_count": null,
   "metadata": {},
   "outputs": [],
   "source": [
    "start_time = time.time()\n",
    "clf_svc1 = SVC(C=1, kernel='poly')\n",
    "clf_svc1.fit(X_train_scaled, y_train.ravel())\n",
    "train_time = time.time() - start_time\n",
    "print(\"Training time %.3f seconds\" % train_time)\n",
    "\n",
    "start_time = time.time()\n",
    "y_pred_svc_poly1 = clf_svc1.predict(X_test_scaled)\n",
    "test_time = time.time() - start_time\n",
    "print(\"Test time %.3f seconds\" % test_time)\n",
    "print(accuracy_score(y_pred_svc_poly1, y_test))"
   ]
  },
  {
   "cell_type": "code",
   "execution_count": null,
   "metadata": {},
   "outputs": [],
   "source": [
    "from sklearn.svm import SVC\n",
    "from sklearn.metrics import accuracy_score\n",
    "# ====== Your code here ========\n",
    "clf_svc = SVC(C=1, kernel='poly')\n",
    "clf_svc.fit(X_train, y_train.ravel())\n",
    "y_pred_svc = clf_svc.predict(X_test)\n",
    "# ====== Your code here ========"
   ]
  },
  {
   "cell_type": "code",
   "execution_count": null,
   "metadata": {},
   "outputs": [],
   "source": [
    "from sklearn.svm import SVC\n",
    "from sklearn.metrics import accuracy_score\n",
    "# ====== Your code here ========\n",
    "clf_svc_scaled = SVC(C=1, kernel='poly')\n",
    "clf_svc_scaled.fit(X_train_scaled, y_train.ravel())\n",
    "y_pred_svc_scaled = clf_svc.predict(X_test_scaled)\n",
    "# ====== Your code here ========"
   ]
  },
  {
   "cell_type": "code",
   "execution_count": null,
   "metadata": {},
   "outputs": [],
   "source": [
    "from sklearn.svm import SVC\n",
    "from sklearn.metrics import accuracy_score\n",
    "# ====== Your code here ========\n",
    "clf_svc_scaled = SVC(C=1, kernel='poly')\n",
    "clf_svc_scaled.fit(X_train_scaled, y_train.ravel())\n",
    "y_pred_svc_scaled = clf_svc_scaled.predict(X_test_scaled)\n",
    "# ====== Your code here ========"
   ]
  },
  {
   "cell_type": "markdown",
   "metadata": {},
   "source": [
    "### Decision Tree Classifier"
   ]
  },
  {
   "cell_type": "code",
   "execution_count": 68,
   "metadata": {},
   "outputs": [
    {
     "data": {
      "text/plain": [
       "<matplotlib.legend.Legend at 0x118725dc0>"
      ]
     },
     "execution_count": 68,
     "metadata": {},
     "output_type": "execute_result"
    },
    {
     "data": {
      "image/png": "[encoded data removed]",
      "text/plain": [
       "<Figure size 432x288 with 1 Axes>"
      ]
     },
     "metadata": {
      "needs_background": "light"
     },
     "output_type": "display_data"
    }
   ],
   "source": [
    "accuracy = []\n",
    "indices = [50, 100, 1000, 10000, 100000, 1000000, 10000000]\n",
    "for i in indices:\n",
    "    print(\"max_depth %f\" % i)\n",
    "    start_time = time.time()\n",
    "    clf_tree = DecisionTreeClassifier(max_depth=i)\n",
    "    clf_tree.fit(X_train, y_train)\n",
    "    train_time = time.time() - start_time\n",
    "    print(\"Training time %.3f seconds\" % train_time)\n",
    "\n",
    "    start_time = time.time()\n",
    "    y_pred_tree = clf_tree.predict(X_test)\n",
    "    test_time = time.time() - start_time\n",
    "    print(\"Test time %.3f seconds\" % test_time)\n",
    "    accuracy.append(accuracy_score(y_pred_tree, y_test))\n",
    "plt.semilogx(indices, accuracy, label = \"training\")\n",
    "plt.legend()    "
   ]
  },
  {
   "cell_type": "code",
   "execution_count": 69,
   "metadata": {},
   "outputs": [
    {
     "name": "stdout",
     "output_type": "stream",
     "text": [
      "max_depth 50.000000\n",
      "Training time 9.682 seconds\n",
      "Test time 0.033 seconds\n",
      "max_depth 100.000000\n",
      "Training time 9.641 seconds\n",
      "Test time 0.034 seconds\n",
      "max_depth 1000.000000\n",
      "Training time 9.681 seconds\n",
      "Test time 0.021 seconds\n",
      "max_depth 10000.000000\n",
      "Training time 9.777 seconds\n",
      "Test time 0.032 seconds\n",
      "max_depth 100000.000000\n",
      "Training time 9.897 seconds\n",
      "Test time 0.021 seconds\n",
      "max_depth 1000000.000000\n",
      "Training time 9.826 seconds\n",
      "Test time 0.055 seconds\n",
      "max_depth 10000000.000000\n",
      "Training time 10.289 seconds\n",
      "Test time 0.038 seconds\n"
     ]
    },
    {
     "data": {
      "text/plain": [
       "<matplotlib.legend.Legend at 0x1186e41c0>"
      ]
     },
     "execution_count": 69,
     "metadata": {},
     "output_type": "execute_result"
    },
    {
     "data": {
      "image/png": "[encoded data removed]",
      "text/plain": [
       "<Figure size 432x288 with 1 Axes>"
      ]
     },
     "metadata": {
      "needs_background": "light"
     },
     "output_type": "display_data"
    }
   ],
   "source": [
    "accuracy = []\n",
    "indices = [50, 100, 1000, 10000, 100000, 1000000, 10000000]\n",
    "for i in indices:\n",
    "    print(\"max_depth %f\" % i)\n",
    "    start_time = time.time()\n",
    "    clf_tree = DecisionTreeClassifier(max_depth=i)\n",
    "    clf_tree.fit(X_train, y_train)\n",
    "    train_time = time.time() - start_time\n",
    "    print(\"Training time %.3f seconds\" % train_time)\n",
    "\n",
    "    start_time = time.time()\n",
    "    y_pred_tree = clf_tree.predict(X_test)\n",
    "    test_time = time.time() - start_time\n",
    "    print(\"Test time %.3f seconds\" % test_time)\n",
    "    accuracy.append(accuracy_score(y_pred_tree, y_test))\n",
    "plt.semilogx(indices, accuracy, label = \"training\")\n",
    "plt.legend()    "
   ]
  },
  {
   "cell_type": "code",
   "execution_count": 72,
   "metadata": {},
   "outputs": [
    {
     "name": "stdout",
     "output_type": "stream",
     "text": [
      "max_depth 10.000000\n",
      "Training time 7.098 seconds\n",
      "Test time 0.039 seconds\n",
      "max_depth 20.000000\n",
      "Training time 9.521 seconds\n",
      "Test time 0.021 seconds\n",
      "max_depth 30.000000\n",
      "Training time 9.579 seconds\n",
      "Test time 0.021 seconds\n",
      "max_depth 40.000000\n",
      "Training time 9.597 seconds\n",
      "Test time 0.034 seconds\n",
      "max_depth 50.000000\n",
      "Training time 9.595 seconds\n",
      "Test time 0.034 seconds\n",
      "max_depth 100.000000\n",
      "Training time 9.640 seconds\n",
      "Test time 0.035 seconds\n",
      "max_depth 1000.000000\n",
      "Training time 9.604 seconds\n",
      "Test time 0.035 seconds\n",
      "max_depth 10000.000000\n",
      "Training time 9.588 seconds\n",
      "Test time 0.033 seconds\n",
      "max_depth 100000.000000\n",
      "Training time 9.616 seconds\n",
      "Test time 0.034 seconds\n",
      "max_depth 1000000.000000\n",
      "Training time 9.576 seconds\n",
      "Test time 0.034 seconds\n",
      "max_depth 10000000.000000\n",
      "Training time 9.603 seconds\n",
      "Test time 0.033 seconds\n"
     ]
    },
    {
     "data": {
      "text/plain": [
       "<matplotlib.legend.Legend at 0x122f0c7f0>"
      ]
     },
     "execution_count": 72,
     "metadata": {},
     "output_type": "execute_result"
    },
    {
     "data": {
      "image/png": "[encoded data removed]",
      "text/plain": [
       "<Figure size 432x288 with 1 Axes>"
      ]
     },
     "metadata": {
      "needs_background": "light"
     },
     "output_type": "display_data"
    }
   ],
   "source": [
    "accuracy = []\n",
    "indices = [10, 20, 30, 40, 50, 100, 1000, 10000, 100000, 1000000, 10000000]\n",
    "for i in indices:\n",
    "    print(\"max_depth %f\" % i)\n",
    "    start_time = time.time()\n",
    "    clf_tree = DecisionTreeClassifier(max_depth=i)\n",
    "    clf_tree.fit(X_train, y_train)\n",
    "    train_time = time.time() - start_time\n",
    "    print(\"Training time %.3f seconds\" % train_time)\n",
    "\n",
    "    start_time = time.time()\n",
    "    y_pred_tree = clf_tree.predict(X_test)\n",
    "    test_time = time.time() - start_time\n",
    "    print(\"Test time %.3f seconds\" % test_time)\n",
    "    accuracy.append(accuracy_score(y_pred_tree, y_test))\n",
    "plt.semilogx(indices, accuracy, label = \"training\")\n",
    "plt.legend()    "
   ]
  },
  {
   "cell_type": "markdown",
   "metadata": {},
   "source": [
    "### Random Forest"
   ]
  },
  {
   "cell_type": "code",
   "execution_count": 46,
   "metadata": {},
   "outputs": [
    {
     "name": "stdout",
     "output_type": "stream",
     "text": [
      "Training time 393.402 seconds\n",
      "Test time 6.264 seconds\n",
      "0.8845641025641026\n"
     ]
    }
   ],
   "source": [
    "start_time = time.time()\n",
    "clf_bag64 = BaggingClassifier(base_estimator=DecisionTreeClassifier(), n_estimators=64)\n",
    "clf_bag64.fit(X_train, y_train)\n",
    "train_time = time.time() - start_time\n",
    "print(\"Training time %.3f seconds\" % train_time)\n",
    "\n",
    "start_time = time.time()\n",
    "y_pred_bag64 = clf_bag64.predict(X_test)\n",
    "test_time = time.time() - start_time\n",
    "print(\"Test time %.3f seconds\" % test_time)\n",
    "print(accuracy_score(y_pred_bag64, y_test))"
   ]
  },
  {
   "cell_type": "code",
   "execution_count": 55,
   "metadata": {},
   "outputs": [
    {
     "name": "stdout",
     "output_type": "stream",
     "text": [
      "Training time 392.818 seconds\n",
      "Test time 6.488 seconds\n",
      "0.8844615384615384\n"
     ]
    }
   ],
   "source": [
    "start_time = time.time()\n",
    "clf_bag64_scaled = BaggingClassifier(base_estimator=DecisionTreeClassifier(), n_estimators=64)\n",
    "clf_bag64_scaled.fit(X_train_scaled, y_train)\n",
    "train_time = time.time() - start_time\n",
    "print(\"Training time %.3f seconds\" % train_time)\n",
    "\n",
    "start_time = time.time()\n",
    "y_pred_bag64_scaled = clf_bag64_scaled.predict(X_test_scaled)\n",
    "test_time = time.time() - start_time\n",
    "print(\"Test time %.3f seconds\" % test_time)\n",
    "print(accuracy_score(y_pred_bag64_scaled, y_test))"
   ]
  },
  {
   "cell_type": "code",
   "execution_count": 49,
   "metadata": {},
   "outputs": [
    {
     "name": "stdout",
     "output_type": "stream",
     "text": [
      "Training time 395.128 seconds\n",
      "Test time 6.295 seconds\n",
      "0.8845128205128205\n",
      "Training time 409.868 seconds\n",
      "Test time 6.940 seconds\n",
      "0.8837948717948718\n",
      "Training time 411.162 seconds\n",
      "Test time 8.032 seconds\n",
      "0.8848205128205128\n",
      "Training time 405.554 seconds\n",
      "Test time 6.208 seconds\n",
      "0.8863076923076924\n"
     ]
    }
   ],
   "source": [
    "for i in [100, 1000, 3000, 5000]:\n",
    "    start_time = time.time()\n",
    "    clf_bag64 = BaggingClassifier(base_estimator=DecisionTreeClassifier(max_depth=i), n_estimators=64)\n",
    "    clf_bag64.fit(X_train, y_train)\n",
    "    train_time = time.time() - start_time\n",
    "    print(\"Training time %.3f seconds\" % train_time)\n",
    "\n",
    "    start_time = time.time()\n",
    "    y_pred_bag64 = clf_bag64.predict(X_test)\n",
    "    test_time = time.time() - start_time\n",
    "    print(\"Test time %.3f seconds\" % test_time)\n",
    "    print(accuracy_score(y_pred_bag64, y_test))"
   ]
  },
  {
   "cell_type": "code",
   "execution_count": 48,
   "metadata": {},
   "outputs": [
    {
     "name": "stdout",
     "output_type": "stream",
     "text": [
      "Training time 336.077 seconds\n",
      "Test time 1.756 seconds\n",
      "0.6048205128205129\n"
     ]
    }
   ],
   "source": [
    "start_time = time.time()\n",
    "clf_bag64 = BaggingClassifier(base_estimator=DecisionTreeClassifier(), n_estimators=64)\n",
    "clf_bag64.fit(pca100.transform(X_train_scaled), y_train)\n",
    "train_time = time.time() - start_time\n",
    "print(\"Training time %.3f seconds\" % train_time)\n",
    "\n",
    "start_time = time.time()\n",
    "y_pred_bag64_pca100 = clf_bag64.predict(pca100.transform(X_test_scaled))\n",
    "test_time = time.time() - start_time\n",
    "print(\"Test time %.3f seconds\" % test_time)\n",
    "print(accuracy_score(y_pred_bag64_pca100, y_test))"
   ]
  },
  {
   "cell_type": "code",
   "execution_count": 10,
   "metadata": {},
   "outputs": [
    {
     "name": "stdout",
     "output_type": "stream",
     "text": [
      "Training time 1167.044 seconds\n",
      "Test time 28.838 seconds\n"
     ]
    }
   ],
   "source": [
    "start_time = time.time()\n",
    "clf_bag128 = BaggingClassifier(base_estimator=DecisionTreeClassifier(), n_estimators=128)\n",
    "clf_bag128.fit(X_train, y_train.ravel())\n",
    "train_time = time.time() - start_time\n",
    "print(\"Training time %.3f seconds\" % train_time)\n",
    "\n",
    "start_time = time.time()\n",
    "y_pred_bag128 = clf_bag128.predict(X_test)\n",
    "test_time = time.time() - start_time\n",
    "print(\"Test time %.3f seconds\" % test_time)\n",
    "print(accuracy_score(y_pred_bag128, y_test))"
   ]
  },
  {
   "cell_type": "code",
   "execution_count": 28,
   "metadata": {},
   "outputs": [
    {
     "name": "stdout",
     "output_type": "stream",
     "text": [
      "Training time 2305.316 seconds\n",
      "Test time 16.778 seconds\n"
     ]
    }
   ],
   "source": [
    "start_time = time.time()\n",
    "clf_bag256 = BaggingClassifier(base_estimator=DecisionTreeClassifier(), n_estimators=256)\n",
    "clf_bag256.fit(X_train, y_train.ravel())\n",
    "train_time = time.time() - start_time\n",
    "print(\"Training time %.3f seconds\" % train_time)\n",
    "\n",
    "start_time = time.time()\n",
    "y_pred_bag256 = clf_bag256.predict(X_test)\n",
    "test_time = time.time() - start_time\n",
    "print(\"Test time %.3f seconds\" % test_time)\n",
    "print(accuracy_score(y_pred_bag256, y_test))"
   ]
  },
  {
   "cell_type": "markdown",
   "metadata": {},
   "source": [
    "### Extra Trees"
   ]
  },
  {
   "cell_type": "code",
   "execution_count": 7,
   "metadata": {},
   "outputs": [
    {
     "name": "stdout",
     "output_type": "stream",
     "text": [
      "Training time 18.108 seconds\n",
      "Test time 0.654 seconds\n",
      "0.7614871794871795\n",
      "Training time 35.586 seconds\n",
      "Test time 1.515 seconds\n",
      "0.7695384615384615\n",
      "Training time 69.805 seconds\n",
      "Test time 2.103 seconds\n",
      "0.7738461538461539\n",
      "Training time 137.200 seconds\n",
      "Test time 6.324 seconds\n",
      "0.7749230769230769\n"
     ]
    }
   ],
   "source": [
    "for i in [64, 128, 256, 512]:    \n",
    "    start_time = time.time()\n",
    "    clf_et128 = ExtraTreesClassifier(n_estimators=i, random_state=42)\n",
    "    clf_et128.fit(X_train, y_train.ravel())\n",
    "    train_time = time.time() - start_time\n",
    "    print(\"Training time %.3f seconds\" % train_time)\n",
    "\n",
    "    start_time = time.time()\n",
    "    y_pred_et128 = clf_et128.predict(X_test)\n",
    "    test_time = time.time() - start_time\n",
    "    print(\"Test time %.3f seconds\" % test_time)\n",
    "    print(accuracy_score(y_pred_et128, y_test))"
   ]
  },
  {
   "cell_type": "markdown",
   "metadata": {},
   "source": [
    "### AdaBoost"
   ]
  },
  {
   "cell_type": "code",
   "execution_count": 22,
   "metadata": {},
   "outputs": [
    {
     "name": "stdout",
     "output_type": "stream",
     "text": [
      "Training time 2096.456 seconds\n",
      "Test time 6.920 seconds\n"
     ]
    }
   ],
   "source": [
    "start_time = time.time()\n",
    "clf_ada128 = AdaBoostClassifier(base_estimator=DecisionTreeClassifier(), n_estimators=128)\n",
    "clf_ada128.fit(X_train, y_train.ravel())\n",
    "train_time = time.time() - start_time\n",
    "print(\"Training time %.3f seconds\" % train_time)\n",
    "\n",
    "start_time = time.time()base\n",
    "y_pred_ada128 = clf_ada128.predict(X_test)\n",
    "test_time = time.time() - start_time\n",
    "print(\"Test time %.3f seconds\" % test_time)\n",
    "print(accuracy_score(y_pred_ada128, y_test))"
   ]
  },
  {
   "cell_type": "code",
   "execution_count": 9,
   "metadata": {},
   "outputs": [
    {
     "name": "stdout",
     "output_type": "stream",
     "text": [
      "Training time 1453.031 seconds\n",
      "Test time 4.326 seconds\n",
      "0.8153333333333334\n"
     ]
    }
   ],
   "source": [
    "start_time = time.time()\n",
    "clf_ada128 = AdaBoostClassifier(base_estimator=DecisionTreeClassifier(), n_estimators=128)\n",
    "clf_ada128.fit(X_train_scaled, y_train.ravel())\n",
    "train_time = time.time() - start_time\n",
    "print(\"Training time %.3f seconds\" % train_time)\n",
    "\n",
    "start_time = time.time()\n",
    "y_pred_ada128 = clf_ada128.predict(X_test_scaled)\n",
    "test_time = time.time() - start_time\n",
    "print(\"Test time %.3f seconds\" % test_time)\n",
    "print(accuracy_score(y_pred_ada128, y_test))"
   ]
  },
  {
   "cell_type": "markdown",
   "metadata": {},
   "source": [
    "### Gradient Boosting"
   ]
  },
  {
   "cell_type": "code",
   "execution_count": null,
   "metadata": {},
   "outputs": [],
   "source": [
    "start_time = time.time()\n",
    "clf_gbc128 = GradientBoostingClassifier(n_estimators=128)\n",
    "clf_gbc128.fit(X_train, y_train.ravel())\n",
    "train_time = time.time() - start_time\n",
    "print(\"Training time %.3f seconds\" % train_time)\n",
    "\n",
    "start_time = time.time()\n",
    "y_pred_gbc128 = clf_gbc128.predict(X_test)\n",
    "test_time = time.time() - start_time\n",
    "print(\"Test time %.3f seconds\" % test_time)\n",
    "print(accuracy_score(y_pred_gbc128, y_test))"
   ]
  },
  {
   "cell_type": "code",
   "execution_count": 10,
   "metadata": {},
   "outputs": [
    {
     "name": "stdout",
     "output_type": "stream",
     "text": [
      "Training time 1661.174 seconds\n",
      "Test time 0.782 seconds\n",
      "0.7637435897435897\n"
     ]
    }
   ],
   "source": [
    "start_time = time.time()\n",
    "clf_gbc128 = GradientBoostingClassifier(n_estimators=128)\n",
    "clf_gbc128.fit(X_train_scaled, y_train.ravel())\n",
    "train_time = time.time() - start_time\n",
    "print(\"Training time %.3f seconds\" % train_time)\n",
    "\n",
    "start_time = time.time()\n",
    "y_pred_gbc128 = clf_gbc128.predict(X_test_scaled)\n",
    "test_time = time.time() - start_time\n",
    "print(\"Test time %.3f seconds\" % test_time)\n",
    "print(accuracy_score(y_pred_gbc128, y_test))"
   ]
  },
  {
   "cell_type": "markdown",
   "metadata": {},
   "source": [
    "### Hist-Gradient Boosting"
   ]
  },
  {
   "cell_type": "code",
   "execution_count": null,
   "metadata": {},
   "outputs": [],
   "source": [
    "start_time = time.time()\n",
    "clf_hgb = HistGradientBoostingClassifier()\n",
    "clf_hgb.fit(X_train, y_train.ravel())\n",
    "train_time = time.time() - start_time\n",
    "print(\"Training time %.3f seconds\" % train_time)\n",
    "\n",
    "start_time = time.time()\n",
    "y_pred_hgb = clf_hgb.predict(X_test)\n",
    "test_time = time.time() - start_time\n",
    "print(\"Test time %.3f seconds\" % test_time)\n",
    "print(accuracy_score(y_pred_hgb, y_test))"
   ]
  },
  {
   "cell_type": "code",
   "execution_count": 11,
   "metadata": {},
   "outputs": [
    {
     "name": "stdout",
     "output_type": "stream",
     "text": [
      "Training time 75.479 seconds\n",
      "Test time 0.295 seconds\n",
      "0.884\n"
     ]
    }
   ],
   "source": [
    "start_time = time.time()\n",
    "clf_hgb = HistGradientBoostingClassifier()\n",
    "clf_hgb.fit(X_train_scaled, y_train.ravel())\n",
    "train_time = time.time() - start_time\n",
    "print(\"Training time %.3f seconds\" % train_time)\n",
    "\n",
    "start_time = time.time()\n",
    "y_pred_hgb = clf_hgb.predict(X_test_scaled)\n",
    "test_time = time.time() - start_time\n",
    "print(\"Test time %.3f seconds\" % test_time)\n",
    "print(accuracy_score(y_pred_hgb, y_test))"
   ]
  },
  {
   "cell_type": "markdown",
   "metadata": {},
   "source": [
    "### XgBoost"
   ]
  },
  {
   "cell_type": "markdown",
   "metadata": {},
   "source": [
    "#### softprob vs softmax vs booster=dart: no difference"
   ]
  },
  {
   "cell_type": "code",
   "execution_count": 9,
   "metadata": {},
   "outputs": [
    {
     "name": "stdout",
     "output_type": "stream",
     "text": [
      "Training time 224.640 seconds\n",
      "Test time 0.714 seconds\n",
      "0.9015897435897436\n"
     ]
    }
   ],
   "source": [
    "start_time = time.time()\n",
    "clf_xgb = XGBClassifier(objective=\"multi:softprob\", random_state=42)\n",
    "clf_xgb.fit(X_train_scaled, y_train.ravel())\n",
    "train_time = time.time() - start_time\n",
    "print(\"Training time %.3f seconds\" % train_time)\n",
    "\n",
    "start_time = time.time()\n",
    "y_pred_xgb = clf_xgb.predict(X_test_scaled)\n",
    "test_time = time.time() - start_time\n",
    "print(\"Test time %.3f seconds\" % test_time)\n",
    "print(accuracy_score(y_pred_xgb, y_test))"
   ]
  },
  {
   "cell_type": "code",
   "execution_count": 17,
   "metadata": {},
   "outputs": [
    {
     "name": "stdout",
     "output_type": "stream",
     "text": [
      "Training time 179.980 seconds\n",
      "Test time 0.781 seconds\n",
      "0.9015897435897436\n"
     ]
    }
   ],
   "source": [
    "start_time = time.time()\n",
    "clf_xgb = XGBClassifier(objective=\"multi:softmax\", random_state=42)\n",
    "clf_xgb.fit(X_train_scaled, y_train.ravel())\n",
    "train_time = time.time() - start_time\n",
    "print(\"Training time %.3f seconds\" % train_time)\n",
    "\n",
    "start_time = time.time()\n",
    "y_pred_xgb = clf_xgb.predict(X_test_scaled)\n",
    "test_time = time.time() - start_time\n",
    "print(\"Test time %.3f seconds\" % test_time)\n",
    "print(accuracy_score(y_pred_xgb, y_test))"
   ]
  },
  {
   "cell_type": "code",
   "execution_count": 18,
   "metadata": {},
   "outputs": [
    {
     "name": "stdout",
     "output_type": "stream",
     "text": [
      "Training time 190.935 seconds\n",
      "Test time 0.421 seconds\n",
      "0.9015897435897436\n"
     ]
    }
   ],
   "source": [
    "start_time = time.time()\n",
    "clf_xgb = XGBClassifier(booster=\"dart\", objective=\"multi:softprob\", random_state=42)\n",
    "clf_xgb.fit(X_train_scaled, y_train.ravel())\n",
    "train_time = time.time() - start_time\n",
    "print(\"Training time %.3f seconds\" % train_time)\n",
    "\n",
    "start_time = time.time()\n",
    "y_pred_xgb = clf_xgb.predict(X_test_scaled)\n",
    "test_time = time.time() - start_time\n",
    "print(\"Test time %.3f seconds\" % test_time)\n",
    "print(accuracy_score(y_pred_xgb, y_test))"
   ]
  },
  {
   "cell_type": "markdown",
   "metadata": {},
   "source": [
    "#### Tweaking max depth: BEST IS 10"
   ]
  },
  {
   "cell_type": "code",
   "execution_count": 22,
   "metadata": {},
   "outputs": [
    {
     "name": "stdout",
     "output_type": "stream",
     "text": [
      "Training time 302.435 seconds\n",
      "Test time 0.528 seconds\n",
      "0.9166666666666666\n",
      "Training time 406.403 seconds\n",
      "Test time 0.539 seconds\n",
      "0.9106666666666666\n",
      "Training time 443.501 seconds\n",
      "Test time 0.925 seconds\n",
      "0.9114871794871795\n"
     ]
    }
   ],
   "source": [
    "for i in [10, 20, 30]:\n",
    "    start_time = time.time()\n",
    "    clf_xgb = XGBClassifier(max_depth=i, objective=\"multi:softprob\", random_state=42)\n",
    "    clf_xgb.fit(X_train_scaled, y_train.ravel())\n",
    "    train_time = time.time() - start_time\n",
    "    print(\"Training time %.3f seconds\" % train_time)\n",
    "\n",
    "    start_time = time.time()\n",
    "    y_pred_xgb = clf_xgb.predict(X_test_scaled)\n",
    "    test_time = time.time() - start_time\n",
    "    print(\"Test time %.3f seconds\" % test_time)\n",
    "    print(accuracy_score(y_pred_xgb, y_test))"
   ]
  },
  {
   "cell_type": "code",
   "execution_count": null,
   "metadata": {},
   "outputs": [
    {
     "name": "stdout",
     "output_type": "stream",
     "text": [
      "0\n",
      "Training time 9.089 seconds\n",
      "Test time 0.230 seconds\n",
      "0.2772307692307692\n",
      "2\n",
      "Training time 62.922 seconds\n",
      "Test time 0.272 seconds\n",
      "0.7124102564102565\n",
      "4\n",
      "Training time 120.944 seconds\n",
      "Test time 0.393 seconds\n",
      "0.8463076923076923\n",
      "6\n",
      "Training time 183.841 seconds\n",
      "Test time 0.627 seconds\n",
      "0.9015897435897436\n",
      "8\n",
      "Training time 252.944 seconds\n",
      "Test time 0.507 seconds\n",
      "0.914\n",
      "10\n",
      "Training time 339.122 seconds\n",
      "Test time 0.945 seconds\n",
      "0.9166666666666666\n",
      "12\n",
      "Training time 377.577 seconds\n",
      "Test time 0.634 seconds\n",
      "0.9144615384615384\n",
      "14\n",
      "Training time 389.568 seconds\n",
      "Test time 0.563 seconds\n",
      "0.9124102564102564\n",
      "16\n"
     ]
    }
   ],
   "source": [
    "for i in range(0,20,2):\n",
    "    print(i)\n",
    "    start_time = time.time()\n",
    "    clf_xgb = XGBClassifier(max_depth=i, objective=\"multi:softprob\", random_state=42)\n",
    "    clf_xgb.fit(X_train_scaled, y_train.ravel())\n",
    "    train_time = time.time() - start_time\n",
    "    print(\"Training time %.3f seconds\" % train_time)\n",
    "\n",
    "    start_time = time.time()\n",
    "    y_pred_xgb = clf_xgb.predict(X_test_scaled)\n",
    "    test_time = time.time() - start_time\n",
    "    print(\"Test time %.3f seconds\" % test_time)\n",
    "    print(accuracy_score(y_pred_xgb, y_test))"
   ]
  },
  {
   "cell_type": "markdown",
   "metadata": {},
   "source": [
    "#### Tweaking eta"
   ]
  },
  {
   "cell_type": "code",
   "execution_count": 19,
   "metadata": {},
   "outputs": [
    {
     "name": "stdout",
     "output_type": "stream",
     "text": [
      "Training time 175.416 seconds\n",
      "Test time 0.414 seconds\n",
      "0.8541025641025641\n"
     ]
    }
   ],
   "source": [
    "start_time = time.time()\n",
    "clf_xgb = XGBClassifier(eta=0.1, objective=\"multi:softprob\", random_state=42)\n",
    "clf_xgb.fit(X_train_scaled, y_train.ravel())\n",
    "train_time = time.time() - start_time\n",
    "print(\"Training time %.3f seconds\" % train_time)\n",
    "\n",
    "start_time = time.time()\n",
    "y_pred_xgb = clf_xgb.predict(X_test_scaled)\n",
    "test_time = time.time() - start_time\n",
    "print(\"Test time %.3f seconds\" % test_time)\n",
    "print(accuracy_score(y_pred_xgb, y_test))"
   ]
  },
  {
   "cell_type": "code",
   "execution_count": 10,
   "metadata": {},
   "outputs": [
    {
     "name": "stdout",
     "output_type": "stream",
     "text": [
      "Training time 186.497 seconds\n",
      "Test time 0.728 seconds\n",
      "0.8882564102564102\n",
      "Training time 181.293 seconds\n",
      "Test time 0.517 seconds\n",
      "0.9015897435897436\n",
      "Training time 191.717 seconds\n",
      "Test time 0.442 seconds\n",
      "0.9063076923076923\n"
     ]
    }
   ],
   "source": [
    "for i in [0.2, 0.3, 0.4]:    \n",
    "    start_time = time.time()\n",
    "    clf_xgb = XGBClassifier(eta=i, objective=\"multi:softprob\", random_state=42)\n",
    "    clf_xgb.fit(X_train_scaled, y_train.ravel())\n",
    "    train_time = time.time() - start_time\n",
    "    print(\"Training time %.3f seconds\" % train_time)\n",
    "\n",
    "    start_time = time.time()\n",
    "    y_pred_xgb = clf_xgb.predict(X_test_scaled)\n",
    "    test_time = time.time() - start_time\n",
    "    print(\"Test time %.3f seconds\" % test_time)\n",
    "    print(accuracy_score(y_pred_xgb, y_test))"
   ]
  },
  {
   "cell_type": "code",
   "execution_count": 11,
   "metadata": {},
   "outputs": [
    {
     "name": "stdout",
     "output_type": "stream",
     "text": [
      "Training time 187.500 seconds\n",
      "Test time 0.439 seconds\n",
      "0.9068205128205128\n",
      "Training time 197.042 seconds\n",
      "Test time 0.463 seconds\n",
      "0.9063589743589744\n",
      "Training time 206.363 seconds\n",
      "Test time 0.720 seconds\n",
      "0.905025641025641\n"
     ]
    }
   ],
   "source": [
    "for i in [0.5, 0.7, 1]:    \n",
    "    start_time = time.time()\n",
    "    clf_xgb = XGBClassifier(eta=i, objective=\"multi:softprob\", random_state=42)\n",
    "    clf_xgb.fit(X_train_scaled, y_train.ravel())\n",
    "    train_time = time.time() - start_time\n",
    "    print(\"Training time %.3f seconds\" % train_time)\n",
    "\n",
    "    start_time = time.time()\n",
    "    y_pred_xgb = clf_xgb.predict(X_test_scaled)\n",
    "    test_time = time.time() - start_time\n",
    "    print(\"Test time %.3f seconds\" % test_time)\n",
    "    print(accuracy_score(y_pred_xgb, y_test))"
   ]
  },
  {
   "cell_type": "code",
   "execution_count": 13,
   "metadata": {},
   "outputs": [
    {
     "name": "stdout",
     "output_type": "stream",
     "text": [
      "0.55\n",
      "Training time 383.644 seconds\n",
      "Test time 1.126 seconds\n",
      "0.9063589743589744\n",
      "0.6\n",
      "Training time 304.237 seconds\n",
      "Test time 0.507 seconds\n",
      "0.9108717948717949\n",
      "0.65\n",
      "Training time 193.745 seconds\n",
      "Test time 0.519 seconds\n",
      "0.9114358974358975\n"
     ]
    }
   ],
   "source": [
    "for i in [0.55, 0.6, 0.65]:\n",
    "    print(i)\n",
    "    start_time = time.time()\n",
    "    clf_xgb = XGBClassifier(eta=i, objective=\"multi:softprob\", random_state=42)\n",
    "    clf_xgb.fit(X_train_scaled, y_train.ravel())\n",
    "    train_time = time.time() - start_time\n",
    "    print(\"Training time %.3f seconds\" % train_time)\n",
    "\n",
    "    start_time = time.time()\n",
    "    y_pred_xgb = clf_xgb.predict(X_test_scaled)\n",
    "    test_time = time.time() - start_time\n",
    "    print(\"Test time %.3f seconds\" % test_time)\n",
    "    print(accuracy_score(y_pred_xgb, y_test))"
   ]
  },
  {
   "cell_type": "code",
   "execution_count": 17,
   "metadata": {},
   "outputs": [
    {
     "name": "stdout",
     "output_type": "stream",
     "text": [
      "0.7\n",
      "Training time 187.440 seconds\n",
      "Test time 0.444 seconds\n",
      "0.9063589743589744\n"
     ]
    }
   ],
   "source": [
    "for i in [0.7]:\n",
    "    print(i)\n",
    "    start_time = time.time()\n",
    "    clf_xgb = XGBClassifier(eta=i, objective=\"multi:softprob\", random_state=42)\n",
    "    clf_xgb.fit(X_train_scaled, y_train.ravel())\n",
    "    train_time = time.time() - start_time\n",
    "    print(\"Training time %.3f seconds\" % train_time)\n",
    "\n",
    "    start_time = time.time()\n",
    "    y_pred_xgb = clf_xgb.predict(X_test_scaled)\n",
    "    test_time = time.time() - start_time\n",
    "    print(\"Test time %.3f seconds\" % test_time)\n",
    "    print(accuracy_score(y_pred_xgb, y_test))"
   ]
  },
  {
   "cell_type": "markdown",
   "metadata": {},
   "source": [
    "#### Tweaking gamma"
   ]
  },
  {
   "cell_type": "code",
   "execution_count": 14,
   "metadata": {},
   "outputs": [
    {
     "name": "stdout",
     "output_type": "stream",
     "text": [
      "Training time 311.273 seconds\n",
      "Test time 1.018 seconds\n",
      "0.900051282051282\n",
      "Training time 364.592 seconds\n",
      "Test time 0.691 seconds\n",
      "0.8997435897435897\n",
      "Training time 357.922 seconds\n",
      "Test time 0.740 seconds\n",
      "0.9004102564102564\n"
     ]
    }
   ],
   "source": [
    "for i in [0.1, 0.2, 0.3]:   \n",
    "    start_time = time.time()\n",
    "    clf_xgb = XGBClassifier(gamma=i, objective=\"multi:softprob\", random_state=42)\n",
    "    clf_xgb.fit(X_train_scaled, y_train.ravel())\n",
    "    train_time = time.time() - start_time\n",
    "    print(\"Training time %.3f seconds\" % train_time)\n",
    "\n",
    "    start_time = time.time()\n",
    "    y_pred_xgb = clf_xgb.predict(X_test_scaled)\n",
    "    test_time = time.time() - start_time\n",
    "    print(\"Test time %.3f seconds\" % test_time)\n",
    "    print(accuracy_score(y_pred_xgb, y_test))"
   ]
  },
  {
   "cell_type": "code",
   "execution_count": 12,
   "metadata": {},
   "outputs": [
    {
     "name": "stdout",
     "output_type": "stream",
     "text": [
      "Training time 199.486 seconds\n",
      "Test time 0.748 seconds\n",
      "0.8995384615384615\n",
      "Training time 349.792 seconds\n",
      "Test time 1.004 seconds\n",
      "0.8975384615384615\n"
     ]
    }
   ],
   "source": [
    "for i in [0.5, 1]:   \n",
    "    start_time = time.time()\n",
    "    clf_xgb = XGBClassifier(gamma=i, objective=\"multi:softprob\", random_state=42)\n",
    "    clf_xgb.fit(X_train_scaled, y_train.ravel())\n",
    "    train_time = time.time() - start_time\n",
    "    print(\"Training time %.3f seconds\" % train_time)\n",
    "\n",
    "    start_time = time.time()\n",
    "    y_pred_xgb = clf_xgb.predict(X_test_scaled)\n",
    "    test_time = time.time() - start_time\n",
    "    print(\"Test time %.3f seconds\" % test_time)\n",
    "    print(accuracy_score(y_pred_xgb, y_test))"
   ]
  },
  {
   "cell_type": "code",
   "execution_count": 20,
   "metadata": {},
   "outputs": [
    {
     "name": "stdout",
     "output_type": "stream",
     "text": [
      "Training time 175.099 seconds\n",
      "Test time 0.413 seconds\n",
      "0.876\n"
     ]
    }
   ],
   "source": [
    "start_time = time.time()\n",
    "clf_xgb = XGBClassifier(gamma=5, objective=\"multi:softprob\", random_state=42)\n",
    "clf_xgb.fit(X_train_scaled, y_train.ravel())\n",
    "train_time = time.time() - start_time\n",
    "print(\"Training time %.3f seconds\" % train_time)\n",
    "\n",
    "start_time = time.time()\n",
    "y_pred_xgb = clf_xgb.predict(X_test_scaled)\n",
    "test_time = time.time() - start_time\n",
    "print(\"Test time %.3f seconds\" % test_time)\n",
    "print(accuracy_score(y_pred_xgb, y_test))"
   ]
  },
  {
   "cell_type": "code",
   "execution_count": 21,
   "metadata": {},
   "outputs": [
    {
     "name": "stdout",
     "output_type": "stream",
     "text": [
      "Training time 174.871 seconds\n",
      "Test time 0.342 seconds\n",
      "0.8423076923076923\n"
     ]
    }
   ],
   "source": [
    "start_time = time.time()\n",
    "clf_xgb = XGBClassifier(gamma=10, objective=\"multi:softprob\", random_state=42)\n",
    "clf_xgb.fit(X_train_scaled, y_train.ravel())\n",
    "train_time = time.time() - start_time\n",
    "print(\"Training time %.3f seconds\" % train_time)\n",
    "\n",
    "start_time = time.time()\n",
    "y_pred_xgb = clf_xgb.predict(X_test_scaled)\n",
    "test_time = time.time() - start_time\n",
    "print(\"Test time %.3f seconds\" % test_time)\n",
    "print(accuracy_score(y_pred_xgb, y_test))"
   ]
  },
  {
   "cell_type": "markdown",
   "metadata": {},
   "source": [
    "#### Tweaking lambda"
   ]
  },
  {
   "cell_type": "code",
   "execution_count": 15,
   "metadata": {},
   "outputs": [
    {
     "name": "stdout",
     "output_type": "stream",
     "text": [
      "Training time 328.231 seconds\n",
      "Test time 0.633 seconds\n",
      "0.9005128205128206\n",
      "Training time 374.796 seconds\n",
      "Test time 0.688 seconds\n",
      "0.9009230769230769\n"
     ]
    }
   ],
   "source": [
    "for i in [0.9, 1.1]:    \n",
    "    start_time = time.time()\n",
    "    clf_xgb = XGBClassifier(reg_lambda=i, objective=\"multi:softprob\", random_state=42)\n",
    "    clf_xgb.fit(X_train_scaled, y_train.ravel())\n",
    "    train_time = time.time() - start_time\n",
    "    print(\"Training time %.3f seconds\" % train_time)\n",
    "\n",
    "    start_time = time.time()\n",
    "    y_pred_xgb = clf_xgb.predict(X_test_scaled)\n",
    "    test_time = time.time() - start_time\n",
    "    print(\"Test time %.3f seconds\" % test_time)\n",
    "    print(accuracy_score(y_pred_xgb, y_test))"
   ]
  },
  {
   "cell_type": "code",
   "execution_count": 9,
   "metadata": {},
   "outputs": [
    {
     "name": "stdout",
     "output_type": "stream",
     "text": [
      "Training time 374.646 seconds\n",
      "Test time 1.267 seconds\n",
      "0.9010769230769231\n",
      "Training time 360.347 seconds\n",
      "Test time 0.899 seconds\n",
      "0.8981538461538462\n",
      "Training time 302.363 seconds\n",
      "Test time 0.810 seconds\n",
      "0.9012307692307693\n",
      "Training time 311.062 seconds\n",
      "Test time 0.715 seconds\n",
      "0.9014871794871795\n"
     ]
    }
   ],
   "source": [
    "for i in [0.95, 0.98, 1.02, 1.05]:    \n",
    "    start_time = time.time()\n",
    "    clf_xgb = XGBClassifier(reg_lambda=i, objective=\"multi:softprob\", random_state=42)\n",
    "    clf_xgb.fit(X_train_scaled, y_train.ravel())\n",
    "    train_time = time.time() - start_time\n",
    "    print(\"Training time %.3f seconds\" % train_time)\n",
    "\n",
    "    start_time = time.time()\n",
    "    y_pred_xgb = clf_xgb.predict(X_test_scaled)\n",
    "    test_time = time.time() - start_time\n",
    "    print(\"Test time %.3f seconds\" % test_time)\n",
    "    print(accuracy_score(y_pred_xgb, y_test))"
   ]
  },
  {
   "cell_type": "markdown",
   "metadata": {},
   "source": [
    "#### Tweaking alpha"
   ]
  },
  {
   "cell_type": "code",
   "execution_count": 16,
   "metadata": {},
   "outputs": [
    {
     "name": "stdout",
     "output_type": "stream",
     "text": [
      "Training time 231.749 seconds\n",
      "Test time 0.496 seconds\n",
      "0.8996410256410257\n",
      "Training time 196.597 seconds\n",
      "Test time 0.459 seconds\n",
      "0.8991794871794871\n",
      "Training time 205.284 seconds\n",
      "Test time 0.427 seconds\n",
      "0.900974358974359\n"
     ]
    }
   ],
   "source": [
    "for i in [0.1, 0.5, 1]:    \n",
    "    start_time = time.time()\n",
    "    clf_xgb = XGBClassifier(reg_alpha=i, objective=\"multi:softprob\", random_state=42)\n",
    "    clf_xgb.fit(X_train_scaled, y_train.ravel())\n",
    "    train_time = time.time() - start_time\n",
    "    print(\"Training time %.3f seconds\" % train_time)\n",
    "\n",
    "    start_time = time.time()\n",
    "    y_pred_xgb = clf_xgb.predict(X_test_scaled)\n",
    "    test_time = time.time() - start_time\n",
    "    print(\"Test time %.3f seconds\" % test_time)\n",
    "    print(accuracy_score(y_pred_xgb, y_test))"
   ]
  },
  {
   "cell_type": "code",
   "execution_count": 10,
   "metadata": {},
   "outputs": [
    {
     "name": "stdout",
     "output_type": "stream",
     "text": [
      "0.01\n",
      "Training time 351.148 seconds\n",
      "Test time 0.990 seconds\n",
      "0.9001025641025641\n",
      "0.05\n",
      "Training time 355.846 seconds\n",
      "Test time 0.857 seconds\n",
      "0.899948717948718\n",
      "1.5\n",
      "Training time 282.497 seconds\n",
      "Test time 0.797 seconds\n",
      "0.8964615384615384\n",
      "2\n",
      "Training time 328.550 seconds\n",
      "Test time 0.646 seconds\n",
      "0.8981025641025641\n",
      "3\n",
      "Training time 357.091 seconds\n",
      "Test time 0.717 seconds\n",
      "0.8946153846153846\n",
      "5\n",
      "Training time 330.759 seconds\n",
      "Test time 0.718 seconds\n",
      "0.8916923076923077\n",
      "7\n",
      "Training time 283.688 seconds\n",
      "Test time 0.743 seconds\n",
      "0.8885128205128205\n"
     ]
    }
   ],
   "source": [
    "for i in [0.01, 0.05, 1.5, 2, 3, 5, 7]:    \n",
    "    print(i)\n",
    "    start_time = time.time()\n",
    "    clf_xgb = XGBClassifier(reg_alpha=i, objective=\"multi:softprob\", random_state=42)\n",
    "    clf_xgb.fit(X_train_scaled, y_train.ravel())\n",
    "    train_time = time.time() - start_time\n",
    "    print(\"Training time %.3f seconds\" % train_time)\n",
    "\n",
    "    start_time = time.time()\n",
    "    y_pred_xgb = clf_xgb.predict(X_test_scaled)\n",
    "    test_time = time.time() - start_time\n",
    "    print(\"Test time %.3f seconds\" % test_time)\n",
    "    print(accuracy_score(y_pred_xgb, y_test))"
   ]
  },
  {
   "cell_type": "markdown",
   "metadata": {},
   "source": [
    "#### With max depth=10"
   ]
  },
  {
   "cell_type": "code",
   "execution_count": 18,
   "metadata": {},
   "outputs": [
    {
     "name": "stdout",
     "output_type": "stream",
     "text": [
      "0.5\n",
      "Training time 296.283 seconds\n",
      "Test time 0.569 seconds\n",
      "0.9161025641025641\n",
      "0.6\n",
      "Training time 291.453 seconds\n",
      "Test time 0.525 seconds\n",
      "0.9141538461538462\n",
      "0.7\n",
      "Training time 286.158 seconds\n",
      "Test time 0.537 seconds\n",
      "0.9113846153846153\n"
     ]
    }
   ],
   "source": [
    "for i in [0.5, 0.6, 0.7]:\n",
    "    print(i)\n",
    "    start_time = time.time()\n",
    "    clf_xgb = XGBClassifier(max_depth=10, eta=i, objective=\"multi:softprob\", random_state=42)\n",
    "    clf_xgb.fit(X_train_scaled, y_train.ravel())\n",
    "    train_time = time.time() - start_time\n",
    "    print(\"Training time %.3f seconds\" % train_time)\n",
    "\n",
    "    start_time = time.time()\n",
    "    y_pred_xgb = clf_xgb.predict(X_test_scaled)\n",
    "    test_time = time.time() - start_time\n",
    "    print(\"Test time %.3f seconds\" % test_time)\n",
    "    print(accuracy_score(y_pred_xgb, y_test))"
   ]
  },
  {
   "cell_type": "code",
   "execution_count": 19,
   "metadata": {},
   "outputs": [
    {
     "name": "stdout",
     "output_type": "stream",
     "text": [
      "0.4\n",
      "Training time 294.988 seconds\n",
      "Test time 0.570 seconds\n",
      "0.9166153846153846\n",
      "0.3\n",
      "Training time 305.023 seconds\n",
      "Test time 0.520 seconds\n",
      "0.9166666666666666\n",
      "0.2\n",
      "Training time 348.655 seconds\n",
      "Test time 1.147 seconds\n",
      "0.9157948717948718\n"
     ]
    }
   ],
   "source": [
    "for i in [0.4, 0.3, 0.2]:\n",
    "    print(i)\n",
    "    start_time = time.time()\n",
    "    clf_xgb = XGBClassifier(max_depth=10, eta=i, objective=\"multi:softprob\", random_state=42)\n",
    "    clf_xgb.fit(X_train_scaled, y_train.ravel())\n",
    "    train_time = time.time() - start_time\n",
    "    print(\"Training time %.3f seconds\" % train_time)\n",
    "\n",
    "    start_time = time.time()\n",
    "    y_pred_xgb = clf_xgb.predict(X_test_scaled)\n",
    "    test_time = time.time() - start_time\n",
    "    print(\"Test time %.3f seconds\" % test_time)\n",
    "    print(accuracy_score(y_pred_xgb, y_test))"
   ]
  },
  {
   "cell_type": "code",
   "execution_count": 8,
   "metadata": {},
   "outputs": [
    {
     "name": "stdout",
     "output_type": "stream",
     "text": [
      "0.35\n",
      "Training time 604.028 seconds\n",
      "Test time 1.254 seconds\n",
      "0.9160512820512821\n",
      "0.25\n",
      "Training time 637.266 seconds\n",
      "Test time 1.084 seconds\n",
      "0.9161538461538462\n"
     ]
    }
   ],
   "source": [
    "for i in [0.35, 0.25]:\n",
    "    print(i)\n",
    "    start_time = time.time()\n",
    "    clf_xgb = XGBClassifier(max_depth=10, eta=i, objective=\"multi:softprob\", random_state=42)\n",
    "    clf_xgb.fit(X_train_scaled, y_train.ravel())\n",
    "    train_time = time.time() - start_time\n",
    "    print(\"Training time %.3f seconds\" % train_time)\n",
    "\n",
    "    start_time = time.time()\n",
    "    y_pred_xgb = clf_xgb.predict(X_test_scaled)\n",
    "    test_time = time.time() - start_time\n",
    "    print(\"Test time %.3f seconds\" % test_time)\n",
    "    print(accuracy_score(y_pred_xgb, y_test))"
   ]
  },
  {
   "cell_type": "markdown",
   "metadata": {},
   "source": [
    "### From the start, test n_estimators"
   ]
  },
  {
   "cell_type": "code",
   "execution_count": 12,
   "metadata": {},
   "outputs": [
    {
     "name": "stdout",
     "output_type": "stream",
     "text": [
      "Training time 195.420 seconds\n",
      "Test time 1.098 seconds\n",
      "0.7913846153846154\n"
     ]
    }
   ],
   "source": [
    "start_time = time.time()\n",
    "clf_xgb = XGBClassifier(max_depth=3, n_estimators=100, objective=\"multi:softprob\", random_state=42)\n",
    "clf_xgb.fit(X_train_scaled, y_train.ravel())\n",
    "train_time = time.time() - start_time\n",
    "print(\"Training time %.3f seconds\" % train_time)\n",
    "\n",
    "start_time = time.time()\n",
    "y_pred_xgb = clf_xgb.predict(X_test_scaled)\n",
    "test_time = time.time() - start_time\n",
    "print(\"Test time %.3f seconds\" % test_time)\n",
    "print(accuracy_score(y_pred_xgb, y_test))"
   ]
  },
  {
   "cell_type": "code",
   "execution_count": 7,
   "metadata": {
    "collapsed": true,
    "jupyter": {
     "outputs_hidden": true
    }
   },
   "outputs": [
    {
     "name": "stdout",
     "output_type": "stream",
     "text": [
      "[0]\tvalidation_0-merror:0.09723\tvalidation_0-mlogloss:1.58503\tvalidation_1-merror:0.22082\tvalidation_1-mlogloss:1.61459\n",
      "Multiple eval metrics have been passed: 'validation_1-mlogloss' will be used for early stopping.\n",
      "\n",
      "Will train until validation_1-mlogloss hasn't improved in 15 rounds.\n",
      "[1]\tvalidation_0-merror:0.07415\tvalidation_0-mlogloss:1.42127\tvalidation_1-merror:0.19528\tvalidation_1-mlogloss:1.47463\n",
      "[2]\tvalidation_0-merror:0.06084\tvalidation_0-mlogloss:1.28429\tvalidation_1-merror:0.17867\tvalidation_1-mlogloss:1.35867\n",
      "[3]\tvalidation_0-merror:0.05514\tvalidation_0-mlogloss:1.16775\tvalidation_1-merror:0.17067\tvalidation_1-mlogloss:1.25968\n",
      "[4]\tvalidation_0-merror:0.05075\tvalidation_0-mlogloss:1.06828\tvalidation_1-merror:0.16600\tvalidation_1-mlogloss:1.17590\n",
      "[5]\tvalidation_0-merror:0.04576\tvalidation_0-mlogloss:0.97950\tvalidation_1-merror:0.15862\tvalidation_1-mlogloss:1.10100\n",
      "[6]\tvalidation_0-merror:0.04283\tvalidation_0-mlogloss:0.90165\tvalidation_1-merror:0.15431\tvalidation_1-mlogloss:1.03555\n",
      "[7]\tvalidation_0-merror:0.03868\tvalidation_0-mlogloss:0.83210\tvalidation_1-merror:0.15226\tvalidation_1-mlogloss:0.97758\n",
      "[8]\tvalidation_0-merror:0.03591\tvalidation_0-mlogloss:0.77031\tvalidation_1-merror:0.14831\tvalidation_1-mlogloss:0.92557\n",
      "[9]\tvalidation_0-merror:0.03334\tvalidation_0-mlogloss:0.71485\tvalidation_1-merror:0.14569\tvalidation_1-mlogloss:0.87943\n",
      "[10]\tvalidation_0-merror:0.03130\tvalidation_0-mlogloss:0.66477\tvalidation_1-merror:0.14241\tvalidation_1-mlogloss:0.83743\n",
      "[11]\tvalidation_0-merror:0.02945\tvalidation_0-mlogloss:0.61924\tvalidation_1-merror:0.13913\tvalidation_1-mlogloss:0.79900\n",
      "[12]\tvalidation_0-merror:0.02787\tvalidation_0-mlogloss:0.57754\tvalidation_1-merror:0.13749\tvalidation_1-mlogloss:0.76388\n",
      "[13]\tvalidation_0-merror:0.02589\tvalidation_0-mlogloss:0.53876\tvalidation_1-merror:0.13544\tvalidation_1-mlogloss:0.73106\n",
      "[14]\tvalidation_0-merror:0.02459\tvalidation_0-mlogloss:0.50392\tvalidation_1-merror:0.13369\tvalidation_1-mlogloss:0.70138\n",
      "[15]\tvalidation_0-merror:0.02358\tvalidation_0-mlogloss:0.47183\tvalidation_1-merror:0.13174\tvalidation_1-mlogloss:0.67415\n",
      "[16]\tvalidation_0-merror:0.02240\tvalidation_0-mlogloss:0.44263\tvalidation_1-merror:0.13010\tvalidation_1-mlogloss:0.64910\n",
      "[17]\tvalidation_0-merror:0.02066\tvalidation_0-mlogloss:0.41524\tvalidation_1-merror:0.12836\tvalidation_1-mlogloss:0.62497\n",
      "[18]\tvalidation_0-merror:0.01941\tvalidation_0-mlogloss:0.39039\tvalidation_1-merror:0.12759\tvalidation_1-mlogloss:0.60360\n",
      "[19]\tvalidation_0-merror:0.01846\tvalidation_0-mlogloss:0.36756\tvalidation_1-merror:0.12569\tvalidation_1-mlogloss:0.58427\n",
      "[20]\tvalidation_0-merror:0.01719\tvalidation_0-mlogloss:0.34589\tvalidation_1-merror:0.12344\tvalidation_1-mlogloss:0.56546\n",
      "[21]\tvalidation_0-merror:0.01657\tvalidation_0-mlogloss:0.32617\tvalidation_1-merror:0.12251\tvalidation_1-mlogloss:0.54873\n",
      "[22]\tvalidation_0-merror:0.01571\tvalidation_0-mlogloss:0.30679\tvalidation_1-merror:0.12128\tvalidation_1-mlogloss:0.53122\n",
      "[23]\tvalidation_0-merror:0.01475\tvalidation_0-mlogloss:0.28902\tvalidation_1-merror:0.11908\tvalidation_1-mlogloss:0.51528\n",
      "[24]\tvalidation_0-merror:0.01400\tvalidation_0-mlogloss:0.27235\tvalidation_1-merror:0.11892\tvalidation_1-mlogloss:0.50076\n",
      "[25]\tvalidation_0-merror:0.01292\tvalidation_0-mlogloss:0.25702\tvalidation_1-merror:0.11733\tvalidation_1-mlogloss:0.48697\n",
      "[26]\tvalidation_0-merror:0.01207\tvalidation_0-mlogloss:0.24274\tvalidation_1-merror:0.11621\tvalidation_1-mlogloss:0.47444\n",
      "[27]\tvalidation_0-merror:0.01171\tvalidation_0-mlogloss:0.23052\tvalidation_1-merror:0.11533\tvalidation_1-mlogloss:0.46359\n",
      "[28]\tvalidation_0-merror:0.01092\tvalidation_0-mlogloss:0.21838\tvalidation_1-merror:0.11456\tvalidation_1-mlogloss:0.45238\n",
      "[29]\tvalidation_0-merror:0.01061\tvalidation_0-mlogloss:0.20754\tvalidation_1-merror:0.11431\tvalidation_1-mlogloss:0.44307\n",
      "[30]\tvalidation_0-merror:0.01011\tvalidation_0-mlogloss:0.19712\tvalidation_1-merror:0.11303\tvalidation_1-mlogloss:0.43334\n",
      "[31]\tvalidation_0-merror:0.00960\tvalidation_0-mlogloss:0.18767\tvalidation_1-merror:0.11256\tvalidation_1-mlogloss:0.42470\n",
      "[32]\tvalidation_0-merror:0.00916\tvalidation_0-mlogloss:0.17934\tvalidation_1-merror:0.11246\tvalidation_1-mlogloss:0.41737\n",
      "[33]\tvalidation_0-merror:0.00866\tvalidation_0-mlogloss:0.17051\tvalidation_1-merror:0.11185\tvalidation_1-mlogloss:0.40943\n",
      "[34]\tvalidation_0-merror:0.00833\tvalidation_0-mlogloss:0.16232\tvalidation_1-merror:0.11149\tvalidation_1-mlogloss:0.40203\n",
      "[35]\tvalidation_0-merror:0.00802\tvalidation_0-mlogloss:0.15507\tvalidation_1-merror:0.11144\tvalidation_1-mlogloss:0.39514\n",
      "[36]\tvalidation_0-merror:0.00767\tvalidation_0-mlogloss:0.14863\tvalidation_1-merror:0.11097\tvalidation_1-mlogloss:0.38900\n",
      "[37]\tvalidation_0-merror:0.00743\tvalidation_0-mlogloss:0.14227\tvalidation_1-merror:0.11026\tvalidation_1-mlogloss:0.38256\n",
      "[38]\tvalidation_0-merror:0.00732\tvalidation_0-mlogloss:0.13640\tvalidation_1-merror:0.10995\tvalidation_1-mlogloss:0.37706\n",
      "[39]\tvalidation_0-merror:0.00710\tvalidation_0-mlogloss:0.13109\tvalidation_1-merror:0.10923\tvalidation_1-mlogloss:0.37219\n",
      "[40]\tvalidation_0-merror:0.00686\tvalidation_0-mlogloss:0.12595\tvalidation_1-merror:0.10908\tvalidation_1-mlogloss:0.36751\n",
      "[41]\tvalidation_0-merror:0.00662\tvalidation_0-mlogloss:0.12111\tvalidation_1-merror:0.10841\tvalidation_1-mlogloss:0.36250\n",
      "[42]\tvalidation_0-merror:0.00651\tvalidation_0-mlogloss:0.11660\tvalidation_1-merror:0.10815\tvalidation_1-mlogloss:0.35814\n",
      "[43]\tvalidation_0-merror:0.00626\tvalidation_0-mlogloss:0.11237\tvalidation_1-merror:0.10733\tvalidation_1-mlogloss:0.35401\n",
      "[44]\tvalidation_0-merror:0.00609\tvalidation_0-mlogloss:0.10852\tvalidation_1-merror:0.10708\tvalidation_1-mlogloss:0.35021\n",
      "[45]\tvalidation_0-merror:0.00593\tvalidation_0-mlogloss:0.10466\tvalidation_1-merror:0.10682\tvalidation_1-mlogloss:0.34653\n",
      "[46]\tvalidation_0-merror:0.00582\tvalidation_0-mlogloss:0.10098\tvalidation_1-merror:0.10574\tvalidation_1-mlogloss:0.34281\n",
      "[47]\tvalidation_0-merror:0.00567\tvalidation_0-mlogloss:0.09756\tvalidation_1-merror:0.10549\tvalidation_1-mlogloss:0.33894\n",
      "[48]\tvalidation_0-merror:0.00554\tvalidation_0-mlogloss:0.09430\tvalidation_1-merror:0.10492\tvalidation_1-mlogloss:0.33586\n",
      "[49]\tvalidation_0-merror:0.00541\tvalidation_0-mlogloss:0.09157\tvalidation_1-merror:0.10426\tvalidation_1-mlogloss:0.33297\n",
      "[50]\tvalidation_0-merror:0.00525\tvalidation_0-mlogloss:0.08853\tvalidation_1-merror:0.10369\tvalidation_1-mlogloss:0.32975\n",
      "[51]\tvalidation_0-merror:0.00525\tvalidation_0-mlogloss:0.08575\tvalidation_1-merror:0.10323\tvalidation_1-mlogloss:0.32725\n",
      "[52]\tvalidation_0-merror:0.00510\tvalidation_0-mlogloss:0.08328\tvalidation_1-merror:0.10313\tvalidation_1-mlogloss:0.32472\n",
      "[53]\tvalidation_0-merror:0.00503\tvalidation_0-mlogloss:0.08074\tvalidation_1-merror:0.10313\tvalidation_1-mlogloss:0.32209\n",
      "[54]\tvalidation_0-merror:0.00483\tvalidation_0-mlogloss:0.07811\tvalidation_1-merror:0.10292\tvalidation_1-mlogloss:0.31938\n",
      "[55]\tvalidation_0-merror:0.00473\tvalidation_0-mlogloss:0.07598\tvalidation_1-merror:0.10241\tvalidation_1-mlogloss:0.31739\n",
      "[56]\tvalidation_0-merror:0.00464\tvalidation_0-mlogloss:0.07386\tvalidation_1-merror:0.10226\tvalidation_1-mlogloss:0.31509\n",
      "[57]\tvalidation_0-merror:0.00459\tvalidation_0-mlogloss:0.07191\tvalidation_1-merror:0.10236\tvalidation_1-mlogloss:0.31335\n",
      "[58]\tvalidation_0-merror:0.00453\tvalidation_0-mlogloss:0.06970\tvalidation_1-merror:0.10256\tvalidation_1-mlogloss:0.31100\n",
      "[59]\tvalidation_0-merror:0.00444\tvalidation_0-mlogloss:0.06772\tvalidation_1-merror:0.10190\tvalidation_1-mlogloss:0.30902\n",
      "[60]\tvalidation_0-merror:0.00440\tvalidation_0-mlogloss:0.06593\tvalidation_1-merror:0.10179\tvalidation_1-mlogloss:0.30710\n",
      "[61]\tvalidation_0-merror:0.00429\tvalidation_0-mlogloss:0.06439\tvalidation_1-merror:0.10139\tvalidation_1-mlogloss:0.30528\n",
      "[62]\tvalidation_0-merror:0.00429\tvalidation_0-mlogloss:0.06242\tvalidation_1-merror:0.10144\tvalidation_1-mlogloss:0.30337\n",
      "[63]\tvalidation_0-merror:0.00422\tvalidation_0-mlogloss:0.06087\tvalidation_1-merror:0.10108\tvalidation_1-mlogloss:0.30141\n",
      "[64]\tvalidation_0-merror:0.00418\tvalidation_0-mlogloss:0.05946\tvalidation_1-merror:0.10092\tvalidation_1-mlogloss:0.30013\n",
      "[65]\tvalidation_0-merror:0.00413\tvalidation_0-mlogloss:0.05798\tvalidation_1-merror:0.10010\tvalidation_1-mlogloss:0.29839\n",
      "[66]\tvalidation_0-merror:0.00409\tvalidation_0-mlogloss:0.05641\tvalidation_1-merror:0.09990\tvalidation_1-mlogloss:0.29661\n",
      "[67]\tvalidation_0-merror:0.00404\tvalidation_0-mlogloss:0.05497\tvalidation_1-merror:0.09923\tvalidation_1-mlogloss:0.29502\n",
      "[68]\tvalidation_0-merror:0.00404\tvalidation_0-mlogloss:0.05375\tvalidation_1-merror:0.09913\tvalidation_1-mlogloss:0.29365\n",
      "[69]\tvalidation_0-merror:0.00396\tvalidation_0-mlogloss:0.05254\tvalidation_1-merror:0.09887\tvalidation_1-mlogloss:0.29234\n",
      "[70]\tvalidation_0-merror:0.00389\tvalidation_0-mlogloss:0.05133\tvalidation_1-merror:0.09841\tvalidation_1-mlogloss:0.29112\n",
      "[71]\tvalidation_0-merror:0.00387\tvalidation_0-mlogloss:0.05005\tvalidation_1-merror:0.09774\tvalidation_1-mlogloss:0.28973\n",
      "[72]\tvalidation_0-merror:0.00382\tvalidation_0-mlogloss:0.04894\tvalidation_1-merror:0.09759\tvalidation_1-mlogloss:0.28835\n",
      "[73]\tvalidation_0-merror:0.00380\tvalidation_0-mlogloss:0.04779\tvalidation_1-merror:0.09733\tvalidation_1-mlogloss:0.28728\n",
      "[74]\tvalidation_0-merror:0.00380\tvalidation_0-mlogloss:0.04675\tvalidation_1-merror:0.09759\tvalidation_1-mlogloss:0.28620\n",
      "[75]\tvalidation_0-merror:0.00378\tvalidation_0-mlogloss:0.04570\tvalidation_1-merror:0.09759\tvalidation_1-mlogloss:0.28521\n",
      "[76]\tvalidation_0-merror:0.00374\tvalidation_0-mlogloss:0.04471\tvalidation_1-merror:0.09703\tvalidation_1-mlogloss:0.28419\n",
      "[77]\tvalidation_0-merror:0.00371\tvalidation_0-mlogloss:0.04373\tvalidation_1-merror:0.09631\tvalidation_1-mlogloss:0.28317\n",
      "[78]\tvalidation_0-merror:0.00369\tvalidation_0-mlogloss:0.04277\tvalidation_1-merror:0.09662\tvalidation_1-mlogloss:0.28206\n",
      "[79]\tvalidation_0-merror:0.00365\tvalidation_0-mlogloss:0.04198\tvalidation_1-merror:0.09595\tvalidation_1-mlogloss:0.28135\n",
      "[80]\tvalidation_0-merror:0.00365\tvalidation_0-mlogloss:0.04108\tvalidation_1-merror:0.09574\tvalidation_1-mlogloss:0.28025\n",
      "[81]\tvalidation_0-merror:0.00363\tvalidation_0-mlogloss:0.04021\tvalidation_1-merror:0.09580\tvalidation_1-mlogloss:0.27937\n",
      "[82]\tvalidation_0-merror:0.00363\tvalidation_0-mlogloss:0.03942\tvalidation_1-merror:0.09569\tvalidation_1-mlogloss:0.27847\n",
      "[83]\tvalidation_0-merror:0.00363\tvalidation_0-mlogloss:0.03855\tvalidation_1-merror:0.09544\tvalidation_1-mlogloss:0.27760\n",
      "[84]\tvalidation_0-merror:0.00363\tvalidation_0-mlogloss:0.03790\tvalidation_1-merror:0.09508\tvalidation_1-mlogloss:0.27682\n",
      "[85]\tvalidation_0-merror:0.00363\tvalidation_0-mlogloss:0.03709\tvalidation_1-merror:0.09492\tvalidation_1-mlogloss:0.27585\n",
      "[86]\tvalidation_0-merror:0.00363\tvalidation_0-mlogloss:0.03636\tvalidation_1-merror:0.09497\tvalidation_1-mlogloss:0.27488\n",
      "[87]\tvalidation_0-merror:0.00363\tvalidation_0-mlogloss:0.03570\tvalidation_1-merror:0.09426\tvalidation_1-mlogloss:0.27411\n",
      "[88]\tvalidation_0-merror:0.00363\tvalidation_0-mlogloss:0.03509\tvalidation_1-merror:0.09446\tvalidation_1-mlogloss:0.27341\n",
      "[89]\tvalidation_0-merror:0.00358\tvalidation_0-mlogloss:0.03445\tvalidation_1-merror:0.09441\tvalidation_1-mlogloss:0.27279\n",
      "[90]\tvalidation_0-merror:0.00358\tvalidation_0-mlogloss:0.03388\tvalidation_1-merror:0.09431\tvalidation_1-mlogloss:0.27210\n",
      "[91]\tvalidation_0-merror:0.00354\tvalidation_0-mlogloss:0.03324\tvalidation_1-merror:0.09420\tvalidation_1-mlogloss:0.27144\n",
      "[92]\tvalidation_0-merror:0.00354\tvalidation_0-mlogloss:0.03275\tvalidation_1-merror:0.09410\tvalidation_1-mlogloss:0.27097\n",
      "[93]\tvalidation_0-merror:0.00352\tvalidation_0-mlogloss:0.03222\tvalidation_1-merror:0.09410\tvalidation_1-mlogloss:0.27038\n",
      "[94]\tvalidation_0-merror:0.00352\tvalidation_0-mlogloss:0.03165\tvalidation_1-merror:0.09349\tvalidation_1-mlogloss:0.26972\n",
      "[95]\tvalidation_0-merror:0.00352\tvalidation_0-mlogloss:0.03117\tvalidation_1-merror:0.09303\tvalidation_1-mlogloss:0.26913\n",
      "[96]\tvalidation_0-merror:0.00352\tvalidation_0-mlogloss:0.03068\tvalidation_1-merror:0.09292\tvalidation_1-mlogloss:0.26854\n",
      "[97]\tvalidation_0-merror:0.00352\tvalidation_0-mlogloss:0.03019\tvalidation_1-merror:0.09272\tvalidation_1-mlogloss:0.26798\n",
      "[98]\tvalidation_0-merror:0.00352\tvalidation_0-mlogloss:0.02972\tvalidation_1-merror:0.09236\tvalidation_1-mlogloss:0.26737\n",
      "[99]\tvalidation_0-merror:0.00352\tvalidation_0-mlogloss:0.02921\tvalidation_1-merror:0.09246\tvalidation_1-mlogloss:0.26681\n",
      "[100]\tvalidation_0-merror:0.00352\tvalidation_0-mlogloss:0.02882\tvalidation_1-merror:0.09236\tvalidation_1-mlogloss:0.26643\n",
      "[101]\tvalidation_0-merror:0.00352\tvalidation_0-mlogloss:0.02842\tvalidation_1-merror:0.09231\tvalidation_1-mlogloss:0.26593\n",
      "[102]\tvalidation_0-merror:0.00352\tvalidation_0-mlogloss:0.02796\tvalidation_1-merror:0.09210\tvalidation_1-mlogloss:0.26550\n",
      "[103]\tvalidation_0-merror:0.00352\tvalidation_0-mlogloss:0.02759\tvalidation_1-merror:0.09190\tvalidation_1-mlogloss:0.26510\n",
      "[104]\tvalidation_0-merror:0.00349\tvalidation_0-mlogloss:0.02714\tvalidation_1-merror:0.09164\tvalidation_1-mlogloss:0.26468\n",
      "[105]\tvalidation_0-merror:0.00349\tvalidation_0-mlogloss:0.02677\tvalidation_1-merror:0.09133\tvalidation_1-mlogloss:0.26416\n",
      "[106]\tvalidation_0-merror:0.00347\tvalidation_0-mlogloss:0.02638\tvalidation_1-merror:0.09144\tvalidation_1-mlogloss:0.26365\n",
      "[107]\tvalidation_0-merror:0.00347\tvalidation_0-mlogloss:0.02600\tvalidation_1-merror:0.09113\tvalidation_1-mlogloss:0.26315\n",
      "[108]\tvalidation_0-merror:0.00347\tvalidation_0-mlogloss:0.02570\tvalidation_1-merror:0.09108\tvalidation_1-mlogloss:0.26273\n",
      "[109]\tvalidation_0-merror:0.00347\tvalidation_0-mlogloss:0.02533\tvalidation_1-merror:0.09097\tvalidation_1-mlogloss:0.26229\n",
      "[110]\tvalidation_0-merror:0.00347\tvalidation_0-mlogloss:0.02498\tvalidation_1-merror:0.09092\tvalidation_1-mlogloss:0.26197\n",
      "[111]\tvalidation_0-merror:0.00347\tvalidation_0-mlogloss:0.02467\tvalidation_1-merror:0.09087\tvalidation_1-mlogloss:0.26166\n",
      "[112]\tvalidation_0-merror:0.00347\tvalidation_0-mlogloss:0.02438\tvalidation_1-merror:0.09097\tvalidation_1-mlogloss:0.26125\n",
      "[113]\tvalidation_0-merror:0.00347\tvalidation_0-mlogloss:0.02405\tvalidation_1-merror:0.09103\tvalidation_1-mlogloss:0.26099\n",
      "[114]\tvalidation_0-merror:0.00347\tvalidation_0-mlogloss:0.02375\tvalidation_1-merror:0.09082\tvalidation_1-mlogloss:0.26055\n",
      "[115]\tvalidation_0-merror:0.00347\tvalidation_0-mlogloss:0.02348\tvalidation_1-merror:0.09041\tvalidation_1-mlogloss:0.26026\n",
      "[116]\tvalidation_0-merror:0.00347\tvalidation_0-mlogloss:0.02319\tvalidation_1-merror:0.09036\tvalidation_1-mlogloss:0.25994\n",
      "[117]\tvalidation_0-merror:0.00347\tvalidation_0-mlogloss:0.02293\tvalidation_1-merror:0.09020\tvalidation_1-mlogloss:0.25965\n",
      "[118]\tvalidation_0-merror:0.00347\tvalidation_0-mlogloss:0.02268\tvalidation_1-merror:0.09036\tvalidation_1-mlogloss:0.25934\n",
      "[119]\tvalidation_0-merror:0.00347\tvalidation_0-mlogloss:0.02240\tvalidation_1-merror:0.09051\tvalidation_1-mlogloss:0.25894\n",
      "[120]\tvalidation_0-merror:0.00347\tvalidation_0-mlogloss:0.02210\tvalidation_1-merror:0.09041\tvalidation_1-mlogloss:0.25878\n",
      "[121]\tvalidation_0-merror:0.00347\tvalidation_0-mlogloss:0.02189\tvalidation_1-merror:0.09031\tvalidation_1-mlogloss:0.25842\n",
      "[122]\tvalidation_0-merror:0.00347\tvalidation_0-mlogloss:0.02166\tvalidation_1-merror:0.08985\tvalidation_1-mlogloss:0.25823\n",
      "[123]\tvalidation_0-merror:0.00347\tvalidation_0-mlogloss:0.02140\tvalidation_1-merror:0.09000\tvalidation_1-mlogloss:0.25793\n",
      "[124]\tvalidation_0-merror:0.00347\tvalidation_0-mlogloss:0.02115\tvalidation_1-merror:0.08974\tvalidation_1-mlogloss:0.25751\n",
      "[125]\tvalidation_0-merror:0.00347\tvalidation_0-mlogloss:0.02095\tvalidation_1-merror:0.08969\tvalidation_1-mlogloss:0.25738\n",
      "[126]\tvalidation_0-merror:0.00347\tvalidation_0-mlogloss:0.02076\tvalidation_1-merror:0.08944\tvalidation_1-mlogloss:0.25708\n",
      "[127]\tvalidation_0-merror:0.00347\tvalidation_0-mlogloss:0.02054\tvalidation_1-merror:0.08928\tvalidation_1-mlogloss:0.25683\n",
      "[128]\tvalidation_0-merror:0.00347\tvalidation_0-mlogloss:0.02035\tvalidation_1-merror:0.08892\tvalidation_1-mlogloss:0.25651\n",
      "[129]\tvalidation_0-merror:0.00347\tvalidation_0-mlogloss:0.02012\tvalidation_1-merror:0.08861\tvalidation_1-mlogloss:0.25632\n",
      "[130]\tvalidation_0-merror:0.00347\tvalidation_0-mlogloss:0.01994\tvalidation_1-merror:0.08831\tvalidation_1-mlogloss:0.25609\n",
      "[131]\tvalidation_0-merror:0.00347\tvalidation_0-mlogloss:0.01976\tvalidation_1-merror:0.08826\tvalidation_1-mlogloss:0.25579\n",
      "[132]\tvalidation_0-merror:0.00347\tvalidation_0-mlogloss:0.01954\tvalidation_1-merror:0.08815\tvalidation_1-mlogloss:0.25551\n",
      "[133]\tvalidation_0-merror:0.00347\tvalidation_0-mlogloss:0.01937\tvalidation_1-merror:0.08831\tvalidation_1-mlogloss:0.25531\n",
      "[134]\tvalidation_0-merror:0.00347\tvalidation_0-mlogloss:0.01921\tvalidation_1-merror:0.08795\tvalidation_1-mlogloss:0.25498\n",
      "[135]\tvalidation_0-merror:0.00347\tvalidation_0-mlogloss:0.01905\tvalidation_1-merror:0.08800\tvalidation_1-mlogloss:0.25468\n",
      "[136]\tvalidation_0-merror:0.00347\tvalidation_0-mlogloss:0.01885\tvalidation_1-merror:0.08800\tvalidation_1-mlogloss:0.25448\n",
      "[137]\tvalidation_0-merror:0.00347\tvalidation_0-mlogloss:0.01869\tvalidation_1-merror:0.08774\tvalidation_1-mlogloss:0.25423\n",
      "[138]\tvalidation_0-merror:0.00345\tvalidation_0-mlogloss:0.01851\tvalidation_1-merror:0.08759\tvalidation_1-mlogloss:0.25403\n",
      "[139]\tvalidation_0-merror:0.00345\tvalidation_0-mlogloss:0.01837\tvalidation_1-merror:0.08754\tvalidation_1-mlogloss:0.25383\n",
      "[140]\tvalidation_0-merror:0.00345\tvalidation_0-mlogloss:0.01821\tvalidation_1-merror:0.08754\tvalidation_1-mlogloss:0.25370\n",
      "[141]\tvalidation_0-merror:0.00345\tvalidation_0-mlogloss:0.01803\tvalidation_1-merror:0.08769\tvalidation_1-mlogloss:0.25346\n",
      "[142]\tvalidation_0-merror:0.00345\tvalidation_0-mlogloss:0.01791\tvalidation_1-merror:0.08744\tvalidation_1-mlogloss:0.25320\n",
      "[143]\tvalidation_0-merror:0.00345\tvalidation_0-mlogloss:0.01776\tvalidation_1-merror:0.08733\tvalidation_1-mlogloss:0.25303\n",
      "[144]\tvalidation_0-merror:0.00345\tvalidation_0-mlogloss:0.01762\tvalidation_1-merror:0.08749\tvalidation_1-mlogloss:0.25283\n",
      "[145]\tvalidation_0-merror:0.00345\tvalidation_0-mlogloss:0.01745\tvalidation_1-merror:0.08733\tvalidation_1-mlogloss:0.25266\n",
      "[146]\tvalidation_0-merror:0.00345\tvalidation_0-mlogloss:0.01733\tvalidation_1-merror:0.08728\tvalidation_1-mlogloss:0.25248\n",
      "[147]\tvalidation_0-merror:0.00345\tvalidation_0-mlogloss:0.01721\tvalidation_1-merror:0.08723\tvalidation_1-mlogloss:0.25225\n",
      "[148]\tvalidation_0-merror:0.00345\tvalidation_0-mlogloss:0.01706\tvalidation_1-merror:0.08744\tvalidation_1-mlogloss:0.25218\n",
      "[149]\tvalidation_0-merror:0.00345\tvalidation_0-mlogloss:0.01692\tvalidation_1-merror:0.08739\tvalidation_1-mlogloss:0.25206\n",
      "[150]\tvalidation_0-merror:0.00345\tvalidation_0-mlogloss:0.01679\tvalidation_1-merror:0.08713\tvalidation_1-mlogloss:0.25200\n",
      "[151]\tvalidation_0-merror:0.00345\tvalidation_0-mlogloss:0.01665\tvalidation_1-merror:0.08672\tvalidation_1-mlogloss:0.25183\n",
      "[152]\tvalidation_0-merror:0.00345\tvalidation_0-mlogloss:0.01655\tvalidation_1-merror:0.08682\tvalidation_1-mlogloss:0.25163\n",
      "[153]\tvalidation_0-merror:0.00345\tvalidation_0-mlogloss:0.01642\tvalidation_1-merror:0.08692\tvalidation_1-mlogloss:0.25153\n",
      "[154]\tvalidation_0-merror:0.00345\tvalidation_0-mlogloss:0.01631\tvalidation_1-merror:0.08677\tvalidation_1-mlogloss:0.25146\n",
      "[155]\tvalidation_0-merror:0.00345\tvalidation_0-mlogloss:0.01619\tvalidation_1-merror:0.08672\tvalidation_1-mlogloss:0.25124\n",
      "[156]\tvalidation_0-merror:0.00345\tvalidation_0-mlogloss:0.01606\tvalidation_1-merror:0.08697\tvalidation_1-mlogloss:0.25117\n",
      "[157]\tvalidation_0-merror:0.00345\tvalidation_0-mlogloss:0.01595\tvalidation_1-merror:0.08703\tvalidation_1-mlogloss:0.25102\n",
      "[158]\tvalidation_0-merror:0.00345\tvalidation_0-mlogloss:0.01587\tvalidation_1-merror:0.08692\tvalidation_1-mlogloss:0.25088\n",
      "[159]\tvalidation_0-merror:0.00345\tvalidation_0-mlogloss:0.01576\tvalidation_1-merror:0.08687\tvalidation_1-mlogloss:0.25078\n",
      "[160]\tvalidation_0-merror:0.00345\tvalidation_0-mlogloss:0.01564\tvalidation_1-merror:0.08667\tvalidation_1-mlogloss:0.25068\n",
      "[161]\tvalidation_0-merror:0.00345\tvalidation_0-mlogloss:0.01554\tvalidation_1-merror:0.08687\tvalidation_1-mlogloss:0.25053\n",
      "[162]\tvalidation_0-merror:0.00345\tvalidation_0-mlogloss:0.01542\tvalidation_1-merror:0.08667\tvalidation_1-mlogloss:0.25052\n",
      "[163]\tvalidation_0-merror:0.00345\tvalidation_0-mlogloss:0.01531\tvalidation_1-merror:0.08661\tvalidation_1-mlogloss:0.25048\n",
      "[164]\tvalidation_0-merror:0.00345\tvalidation_0-mlogloss:0.01520\tvalidation_1-merror:0.08651\tvalidation_1-mlogloss:0.25044\n",
      "[165]\tvalidation_0-merror:0.00345\tvalidation_0-mlogloss:0.01508\tvalidation_1-merror:0.08656\tvalidation_1-mlogloss:0.25033\n",
      "[166]\tvalidation_0-merror:0.00345\tvalidation_0-mlogloss:0.01499\tvalidation_1-merror:0.08651\tvalidation_1-mlogloss:0.25027\n",
      "[167]\tvalidation_0-merror:0.00345\tvalidation_0-mlogloss:0.01488\tvalidation_1-merror:0.08610\tvalidation_1-mlogloss:0.25012\n",
      "[168]\tvalidation_0-merror:0.00345\tvalidation_0-mlogloss:0.01478\tvalidation_1-merror:0.08621\tvalidation_1-mlogloss:0.25010\n",
      "[169]\tvalidation_0-merror:0.00345\tvalidation_0-mlogloss:0.01469\tvalidation_1-merror:0.08626\tvalidation_1-mlogloss:0.25002\n",
      "[170]\tvalidation_0-merror:0.00345\tvalidation_0-mlogloss:0.01460\tvalidation_1-merror:0.08605\tvalidation_1-mlogloss:0.25001\n",
      "[171]\tvalidation_0-merror:0.00345\tvalidation_0-mlogloss:0.01450\tvalidation_1-merror:0.08579\tvalidation_1-mlogloss:0.24990\n",
      "[172]\tvalidation_0-merror:0.00345\tvalidation_0-mlogloss:0.01442\tvalidation_1-merror:0.08621\tvalidation_1-mlogloss:0.24984\n",
      "[173]\tvalidation_0-merror:0.00345\tvalidation_0-mlogloss:0.01433\tvalidation_1-merror:0.08564\tvalidation_1-mlogloss:0.24974\n",
      "[174]\tvalidation_0-merror:0.00345\tvalidation_0-mlogloss:0.01425\tvalidation_1-merror:0.08600\tvalidation_1-mlogloss:0.24972\n",
      "[175]\tvalidation_0-merror:0.00345\tvalidation_0-mlogloss:0.01418\tvalidation_1-merror:0.08595\tvalidation_1-mlogloss:0.24962\n",
      "[176]\tvalidation_0-merror:0.00345\tvalidation_0-mlogloss:0.01408\tvalidation_1-merror:0.08574\tvalidation_1-mlogloss:0.24961\n",
      "[177]\tvalidation_0-merror:0.00345\tvalidation_0-mlogloss:0.01402\tvalidation_1-merror:0.08595\tvalidation_1-mlogloss:0.24952\n",
      "[178]\tvalidation_0-merror:0.00345\tvalidation_0-mlogloss:0.01393\tvalidation_1-merror:0.08595\tvalidation_1-mlogloss:0.24948\n",
      "[179]\tvalidation_0-merror:0.00345\tvalidation_0-mlogloss:0.01386\tvalidation_1-merror:0.08590\tvalidation_1-mlogloss:0.24934\n",
      "[180]\tvalidation_0-merror:0.00345\tvalidation_0-mlogloss:0.01378\tvalidation_1-merror:0.08600\tvalidation_1-mlogloss:0.24927\n",
      "[181]\tvalidation_0-merror:0.00345\tvalidation_0-mlogloss:0.01370\tvalidation_1-merror:0.08585\tvalidation_1-mlogloss:0.24923\n",
      "[182]\tvalidation_0-merror:0.00345\tvalidation_0-mlogloss:0.01363\tvalidation_1-merror:0.08595\tvalidation_1-mlogloss:0.24913\n",
      "[183]\tvalidation_0-merror:0.00345\tvalidation_0-mlogloss:0.01356\tvalidation_1-merror:0.08590\tvalidation_1-mlogloss:0.24899\n",
      "[184]\tvalidation_0-merror:0.00345\tvalidation_0-mlogloss:0.01348\tvalidation_1-merror:0.08590\tvalidation_1-mlogloss:0.24901\n",
      "[185]\tvalidation_0-merror:0.00345\tvalidation_0-mlogloss:0.01341\tvalidation_1-merror:0.08579\tvalidation_1-mlogloss:0.24894\n",
      "[186]\tvalidation_0-merror:0.00345\tvalidation_0-mlogloss:0.01334\tvalidation_1-merror:0.08579\tvalidation_1-mlogloss:0.24887\n",
      "[187]\tvalidation_0-merror:0.00345\tvalidation_0-mlogloss:0.01327\tvalidation_1-merror:0.08528\tvalidation_1-mlogloss:0.24875\n",
      "[188]\tvalidation_0-merror:0.00345\tvalidation_0-mlogloss:0.01320\tvalidation_1-merror:0.08539\tvalidation_1-mlogloss:0.24867\n",
      "[189]\tvalidation_0-merror:0.00345\tvalidation_0-mlogloss:0.01314\tvalidation_1-merror:0.08559\tvalidation_1-mlogloss:0.24869\n",
      "[190]\tvalidation_0-merror:0.00345\tvalidation_0-mlogloss:0.01306\tvalidation_1-merror:0.08549\tvalidation_1-mlogloss:0.24868\n",
      "[191]\tvalidation_0-merror:0.00345\tvalidation_0-mlogloss:0.01301\tvalidation_1-merror:0.08539\tvalidation_1-mlogloss:0.24858\n",
      "[192]\tvalidation_0-merror:0.00345\tvalidation_0-mlogloss:0.01294\tvalidation_1-merror:0.08549\tvalidation_1-mlogloss:0.24857\n",
      "[193]\tvalidation_0-merror:0.00345\tvalidation_0-mlogloss:0.01287\tvalidation_1-merror:0.08528\tvalidation_1-mlogloss:0.24846\n",
      "[194]\tvalidation_0-merror:0.00345\tvalidation_0-mlogloss:0.01282\tvalidation_1-merror:0.08513\tvalidation_1-mlogloss:0.24838\n",
      "[195]\tvalidation_0-merror:0.00345\tvalidation_0-mlogloss:0.01274\tvalidation_1-merror:0.08503\tvalidation_1-mlogloss:0.24841\n",
      "[196]\tvalidation_0-merror:0.00345\tvalidation_0-mlogloss:0.01269\tvalidation_1-merror:0.08503\tvalidation_1-mlogloss:0.24839\n",
      "[197]\tvalidation_0-merror:0.00345\tvalidation_0-mlogloss:0.01263\tvalidation_1-merror:0.08472\tvalidation_1-mlogloss:0.24836\n",
      "[198]\tvalidation_0-merror:0.00345\tvalidation_0-mlogloss:0.01258\tvalidation_1-merror:0.08482\tvalidation_1-mlogloss:0.24831\n",
      "[199]\tvalidation_0-merror:0.00345\tvalidation_0-mlogloss:0.01252\tvalidation_1-merror:0.08477\tvalidation_1-mlogloss:0.24833\n",
      "[200]\tvalidation_0-merror:0.00345\tvalidation_0-mlogloss:0.01246\tvalidation_1-merror:0.08477\tvalidation_1-mlogloss:0.24830\n",
      "[201]\tvalidation_0-merror:0.00345\tvalidation_0-mlogloss:0.01240\tvalidation_1-merror:0.08482\tvalidation_1-mlogloss:0.24828\n",
      "[202]\tvalidation_0-merror:0.00345\tvalidation_0-mlogloss:0.01234\tvalidation_1-merror:0.08487\tvalidation_1-mlogloss:0.24824\n",
      "[203]\tvalidation_0-merror:0.00345\tvalidation_0-mlogloss:0.01227\tvalidation_1-merror:0.08472\tvalidation_1-mlogloss:0.24822\n",
      "[204]\tvalidation_0-merror:0.00345\tvalidation_0-mlogloss:0.01221\tvalidation_1-merror:0.08472\tvalidation_1-mlogloss:0.24816\n",
      "[205]\tvalidation_0-merror:0.00345\tvalidation_0-mlogloss:0.01216\tvalidation_1-merror:0.08467\tvalidation_1-mlogloss:0.24812\n",
      "[206]\tvalidation_0-merror:0.00345\tvalidation_0-mlogloss:0.01211\tvalidation_1-merror:0.08472\tvalidation_1-mlogloss:0.24810\n",
      "[207]\tvalidation_0-merror:0.00345\tvalidation_0-mlogloss:0.01205\tvalidation_1-merror:0.08461\tvalidation_1-mlogloss:0.24807\n",
      "[208]\tvalidation_0-merror:0.00345\tvalidation_0-mlogloss:0.01200\tvalidation_1-merror:0.08441\tvalidation_1-mlogloss:0.24799\n",
      "[209]\tvalidation_0-merror:0.00345\tvalidation_0-mlogloss:0.01195\tvalidation_1-merror:0.08446\tvalidation_1-mlogloss:0.24795\n",
      "[210]\tvalidation_0-merror:0.00345\tvalidation_0-mlogloss:0.01191\tvalidation_1-merror:0.08441\tvalidation_1-mlogloss:0.24795\n",
      "[211]\tvalidation_0-merror:0.00345\tvalidation_0-mlogloss:0.01186\tvalidation_1-merror:0.08446\tvalidation_1-mlogloss:0.24783\n",
      "[212]\tvalidation_0-merror:0.00345\tvalidation_0-mlogloss:0.01181\tvalidation_1-merror:0.08456\tvalidation_1-mlogloss:0.24785\n",
      "[213]\tvalidation_0-merror:0.00345\tvalidation_0-mlogloss:0.01177\tvalidation_1-merror:0.08451\tvalidation_1-mlogloss:0.24773\n",
      "[214]\tvalidation_0-merror:0.00345\tvalidation_0-mlogloss:0.01172\tvalidation_1-merror:0.08421\tvalidation_1-mlogloss:0.24777\n",
      "[215]\tvalidation_0-merror:0.00345\tvalidation_0-mlogloss:0.01167\tvalidation_1-merror:0.08421\tvalidation_1-mlogloss:0.24776\n",
      "[216]\tvalidation_0-merror:0.00345\tvalidation_0-mlogloss:0.01162\tvalidation_1-merror:0.08426\tvalidation_1-mlogloss:0.24776\n",
      "[217]\tvalidation_0-merror:0.00345\tvalidation_0-mlogloss:0.01158\tvalidation_1-merror:0.08405\tvalidation_1-mlogloss:0.24770\n",
      "[218]\tvalidation_0-merror:0.00345\tvalidation_0-mlogloss:0.01152\tvalidation_1-merror:0.08400\tvalidation_1-mlogloss:0.24781\n",
      "[219]\tvalidation_0-merror:0.00345\tvalidation_0-mlogloss:0.01149\tvalidation_1-merror:0.08415\tvalidation_1-mlogloss:0.24786\n",
      "[220]\tvalidation_0-merror:0.00345\tvalidation_0-mlogloss:0.01144\tvalidation_1-merror:0.08415\tvalidation_1-mlogloss:0.24788\n",
      "[221]\tvalidation_0-merror:0.00345\tvalidation_0-mlogloss:0.01140\tvalidation_1-merror:0.08415\tvalidation_1-mlogloss:0.24785\n",
      "[222]\tvalidation_0-merror:0.00345\tvalidation_0-mlogloss:0.01136\tvalidation_1-merror:0.08405\tvalidation_1-mlogloss:0.24785\n",
      "[223]\tvalidation_0-merror:0.00345\tvalidation_0-mlogloss:0.01132\tvalidation_1-merror:0.08385\tvalidation_1-mlogloss:0.24780\n",
      "[224]\tvalidation_0-merror:0.00345\tvalidation_0-mlogloss:0.01128\tvalidation_1-merror:0.08364\tvalidation_1-mlogloss:0.24776\n",
      "[225]\tvalidation_0-merror:0.00345\tvalidation_0-mlogloss:0.01124\tvalidation_1-merror:0.08400\tvalidation_1-mlogloss:0.24771\n",
      "[226]\tvalidation_0-merror:0.00345\tvalidation_0-mlogloss:0.01120\tvalidation_1-merror:0.08364\tvalidation_1-mlogloss:0.24773\n",
      "[227]\tvalidation_0-merror:0.00345\tvalidation_0-mlogloss:0.01116\tvalidation_1-merror:0.08364\tvalidation_1-mlogloss:0.24766\n",
      "[228]\tvalidation_0-merror:0.00345\tvalidation_0-mlogloss:0.01112\tvalidation_1-merror:0.08354\tvalidation_1-mlogloss:0.24760\n",
      "[229]\tvalidation_0-merror:0.00345\tvalidation_0-mlogloss:0.01108\tvalidation_1-merror:0.08369\tvalidation_1-mlogloss:0.24763\n",
      "[230]\tvalidation_0-merror:0.00345\tvalidation_0-mlogloss:0.01104\tvalidation_1-merror:0.08359\tvalidation_1-mlogloss:0.24762\n",
      "[231]\tvalidation_0-merror:0.00345\tvalidation_0-mlogloss:0.01100\tvalidation_1-merror:0.08369\tvalidation_1-mlogloss:0.24762\n",
      "[232]\tvalidation_0-merror:0.00345\tvalidation_0-mlogloss:0.01096\tvalidation_1-merror:0.08379\tvalidation_1-mlogloss:0.24755\n",
      "[233]\tvalidation_0-merror:0.00345\tvalidation_0-mlogloss:0.01093\tvalidation_1-merror:0.08359\tvalidation_1-mlogloss:0.24757\n",
      "[234]\tvalidation_0-merror:0.00345\tvalidation_0-mlogloss:0.01089\tvalidation_1-merror:0.08374\tvalidation_1-mlogloss:0.24759\n",
      "[235]\tvalidation_0-merror:0.00345\tvalidation_0-mlogloss:0.01086\tvalidation_1-merror:0.08364\tvalidation_1-mlogloss:0.24755\n",
      "[236]\tvalidation_0-merror:0.00345\tvalidation_0-mlogloss:0.01082\tvalidation_1-merror:0.08364\tvalidation_1-mlogloss:0.24756\n",
      "[237]\tvalidation_0-merror:0.00345\tvalidation_0-mlogloss:0.01079\tvalidation_1-merror:0.08359\tvalidation_1-mlogloss:0.24751\n",
      "[238]\tvalidation_0-merror:0.00345\tvalidation_0-mlogloss:0.01075\tvalidation_1-merror:0.08349\tvalidation_1-mlogloss:0.24748\n",
      "[239]\tvalidation_0-merror:0.00345\tvalidation_0-mlogloss:0.01072\tvalidation_1-merror:0.08344\tvalidation_1-mlogloss:0.24739\n",
      "[240]\tvalidation_0-merror:0.00345\tvalidation_0-mlogloss:0.01068\tvalidation_1-merror:0.08359\tvalidation_1-mlogloss:0.24732\n",
      "[241]\tvalidation_0-merror:0.00345\tvalidation_0-mlogloss:0.01065\tvalidation_1-merror:0.08349\tvalidation_1-mlogloss:0.24733\n",
      "[242]\tvalidation_0-merror:0.00345\tvalidation_0-mlogloss:0.01062\tvalidation_1-merror:0.08318\tvalidation_1-mlogloss:0.24738\n",
      "[243]\tvalidation_0-merror:0.00345\tvalidation_0-mlogloss:0.01058\tvalidation_1-merror:0.08339\tvalidation_1-mlogloss:0.24742\n",
      "[244]\tvalidation_0-merror:0.00345\tvalidation_0-mlogloss:0.01055\tvalidation_1-merror:0.08333\tvalidation_1-mlogloss:0.24743\n",
      "[245]\tvalidation_0-merror:0.00345\tvalidation_0-mlogloss:0.01052\tvalidation_1-merror:0.08339\tvalidation_1-mlogloss:0.24749\n",
      "[246]\tvalidation_0-merror:0.00345\tvalidation_0-mlogloss:0.01049\tvalidation_1-merror:0.08344\tvalidation_1-mlogloss:0.24751\n",
      "[247]\tvalidation_0-merror:0.00345\tvalidation_0-mlogloss:0.01046\tvalidation_1-merror:0.08328\tvalidation_1-mlogloss:0.24753\n",
      "[248]\tvalidation_0-merror:0.00345\tvalidation_0-mlogloss:0.01043\tvalidation_1-merror:0.08328\tvalidation_1-mlogloss:0.24752\n",
      "[249]\tvalidation_0-merror:0.00345\tvalidation_0-mlogloss:0.01040\tvalidation_1-merror:0.08359\tvalidation_1-mlogloss:0.24751\n",
      "[250]\tvalidation_0-merror:0.00345\tvalidation_0-mlogloss:0.01037\tvalidation_1-merror:0.08359\tvalidation_1-mlogloss:0.24753\n",
      "[251]\tvalidation_0-merror:0.00345\tvalidation_0-mlogloss:0.01033\tvalidation_1-merror:0.08349\tvalidation_1-mlogloss:0.24754\n",
      "[252]\tvalidation_0-merror:0.00345\tvalidation_0-mlogloss:0.01031\tvalidation_1-merror:0.08344\tvalidation_1-mlogloss:0.24756\n",
      "[253]\tvalidation_0-merror:0.00345\tvalidation_0-mlogloss:0.01028\tvalidation_1-merror:0.08359\tvalidation_1-mlogloss:0.24755\n",
      "[254]\tvalidation_0-merror:0.00345\tvalidation_0-mlogloss:0.01025\tvalidation_1-merror:0.08344\tvalidation_1-mlogloss:0.24760\n",
      "[255]\tvalidation_0-merror:0.00345\tvalidation_0-mlogloss:0.01022\tvalidation_1-merror:0.08349\tvalidation_1-mlogloss:0.24762\n",
      "Stopping. Best iteration:\n",
      "[240]\tvalidation_0-merror:0.00345\tvalidation_0-mlogloss:0.01068\tvalidation_1-merror:0.08359\tvalidation_1-mlogloss:0.24732\n",
      "\n",
      "Training time 2743.731 seconds\n",
      "Test time 3.361 seconds\n",
      "0.9164102564102564\n"
     ]
    }
   ],
   "source": [
    "start_time = time.time()\n",
    "clf_xgb = XGBClassifier(max_depth=12,\n",
    "                        objective=\"multi:softprob\",\n",
    "                        n_estimators=3000,\n",
    "                        learning_rate = 0.1, random_state=42)\n",
    "eval_set = [(X_train_scaled, y_train), (X_test_scaled, y_test)]\n",
    "clf_xgb.fit(X_train_scaled, y_train.ravel(), early_stopping_rounds=15, eval_metric=[\"merror\", \"mlogloss\"], eval_set=eval_set, verbose=True)\n",
    "train_time = time.time() - start_time\n",
    "print(\"Training time %.3f seconds\" % train_time)\n",
    "\n",
    "start_time = time.time()\n",
    "y_pred_xgb = clf_xgb.predict(X_test_scaled)\n",
    "test_time = time.time() - start_time\n",
    "print(\"Test time %.3f seconds\" % test_time)\n",
    "print(accuracy_score(y_pred_xgb, y_test))\n",
    "# 240 0.91641"
   ]
  },
  {
   "cell_type": "code",
   "execution_count": 8,
   "metadata": {},
   "outputs": [
    {
     "data": {
      "image/png": "[encoded data removed]",
      "text/plain": [
       "<Figure size 432x288 with 1 Axes>"
      ]
     },
     "metadata": {
      "needs_background": "light"
     },
     "output_type": "display_data"
    },
    {
     "data": {
      "image/png": "[encoded data removed]",
      "text/plain": [
       "<Figure size 432x288 with 1 Axes>"
      ]
     },
     "metadata": {
      "needs_background": "light"
     },
     "output_type": "display_data"
    }
   ],
   "source": [
    "# retrieve performance metrics\n",
    "results = clf_xgb.evals_result()\n",
    "epochs = len(results['validation_0']['merror'])\n",
    "x_axis = range(0, epochs)\n",
    "# plot log loss\n",
    "fig, ax = plt.subplots()\n",
    "ax.plot(x_axis, results['validation_0']['mlogloss'], label='Train')\n",
    "ax.plot(x_axis, results['validation_1']['mlogloss'], label='Test')\n",
    "ax.legend()\n",
    "plt.ylabel('Log Loss')\n",
    "plt.title('XGBoost Log Loss')\n",
    "plt.show()\n",
    "# plot classification error\n",
    "fig, ax = plt.subplots()\n",
    "ax.plot(x_axis, results['validation_0']['merror'], label='Train')\n",
    "ax.plot(x_axis, results['validation_1']['merror'], label='Test')\n",
    "ax.legend()\n",
    "plt.ylabel('Classification Error')\n",
    "plt.title('XGBoost Classification Error')\n",
    "plt.show()"
   ]
  },
  {
   "cell_type": "code",
   "execution_count": 9,
   "metadata": {
    "collapsed": true,
    "jupyter": {
     "outputs_hidden": true
    }
   },
   "outputs": [
    {
     "name": "stdout",
     "output_type": "stream",
     "text": [
      "[0]\tvalidation_0-merror:0.09723\tvalidation_0-mlogloss:1.21578\tvalidation_1-merror:0.22082\tvalidation_1-mlogloss:1.30260\n",
      "Multiple eval metrics have been passed: 'validation_1-mlogloss' will be used for early stopping.\n",
      "\n",
      "Will train until validation_1-mlogloss hasn't improved in 15 rounds.\n",
      "[1]\tvalidation_0-merror:0.06070\tvalidation_0-mlogloss:0.91679\tvalidation_1-merror:0.17897\tvalidation_1-mlogloss:1.05072\n",
      "[2]\tvalidation_0-merror:0.04413\tvalidation_0-mlogloss:0.71913\tvalidation_1-merror:0.16467\tvalidation_1-mlogloss:0.88930\n",
      "[3]\tvalidation_0-merror:0.03461\tvalidation_0-mlogloss:0.57692\tvalidation_1-merror:0.15195\tvalidation_1-mlogloss:0.77067\n",
      "[4]\tvalidation_0-merror:0.02855\tvalidation_0-mlogloss:0.46942\tvalidation_1-merror:0.14446\tvalidation_1-mlogloss:0.68068\n",
      "[5]\tvalidation_0-merror:0.02363\tvalidation_0-mlogloss:0.38740\tvalidation_1-merror:0.13733\tvalidation_1-mlogloss:0.60971\n",
      "[6]\tvalidation_0-merror:0.01956\tvalidation_0-mlogloss:0.32082\tvalidation_1-merror:0.12995\tvalidation_1-mlogloss:0.55072\n",
      "[7]\tvalidation_0-merror:0.01582\tvalidation_0-mlogloss:0.26806\tvalidation_1-merror:0.12579\tvalidation_1-mlogloss:0.50517\n",
      "[8]\tvalidation_0-merror:0.01312\tvalidation_0-mlogloss:0.22750\tvalidation_1-merror:0.12097\tvalidation_1-mlogloss:0.46916\n",
      "[9]\tvalidation_0-merror:0.01125\tvalidation_0-mlogloss:0.19616\tvalidation_1-merror:0.11969\tvalidation_1-mlogloss:0.44252\n",
      "[10]\tvalidation_0-merror:0.00987\tvalidation_0-mlogloss:0.16894\tvalidation_1-merror:0.11713\tvalidation_1-mlogloss:0.41668\n",
      "[11]\tvalidation_0-merror:0.00859\tvalidation_0-mlogloss:0.14776\tvalidation_1-merror:0.11472\tvalidation_1-mlogloss:0.39711\n",
      "[12]\tvalidation_0-merror:0.00752\tvalidation_0-mlogloss:0.13049\tvalidation_1-merror:0.11272\tvalidation_1-mlogloss:0.38076\n",
      "[13]\tvalidation_0-merror:0.00673\tvalidation_0-mlogloss:0.11639\tvalidation_1-merror:0.11062\tvalidation_1-mlogloss:0.36730\n",
      "[14]\tvalidation_0-merror:0.00620\tvalidation_0-mlogloss:0.10436\tvalidation_1-merror:0.10903\tvalidation_1-mlogloss:0.35566\n",
      "[15]\tvalidation_0-merror:0.00578\tvalidation_0-mlogloss:0.09341\tvalidation_1-merror:0.10790\tvalidation_1-mlogloss:0.34516\n",
      "[16]\tvalidation_0-merror:0.00552\tvalidation_0-mlogloss:0.08468\tvalidation_1-merror:0.10682\tvalidation_1-mlogloss:0.33632\n",
      "[17]\tvalidation_0-merror:0.00534\tvalidation_0-mlogloss:0.07775\tvalidation_1-merror:0.10513\tvalidation_1-mlogloss:0.32906\n",
      "[18]\tvalidation_0-merror:0.00483\tvalidation_0-mlogloss:0.07179\tvalidation_1-merror:0.10421\tvalidation_1-mlogloss:0.32273\n",
      "[19]\tvalidation_0-merror:0.00462\tvalidation_0-mlogloss:0.06617\tvalidation_1-merror:0.10441\tvalidation_1-mlogloss:0.31691\n",
      "[20]\tvalidation_0-merror:0.00448\tvalidation_0-mlogloss:0.06076\tvalidation_1-merror:0.10359\tvalidation_1-mlogloss:0.31127\n",
      "[21]\tvalidation_0-merror:0.00431\tvalidation_0-mlogloss:0.05617\tvalidation_1-merror:0.10200\tvalidation_1-mlogloss:0.30603\n",
      "[22]\tvalidation_0-merror:0.00415\tvalidation_0-mlogloss:0.05217\tvalidation_1-merror:0.10046\tvalidation_1-mlogloss:0.30148\n",
      "[23]\tvalidation_0-merror:0.00400\tvalidation_0-mlogloss:0.04832\tvalidation_1-merror:0.09985\tvalidation_1-mlogloss:0.29729\n",
      "[24]\tvalidation_0-merror:0.00396\tvalidation_0-mlogloss:0.04519\tvalidation_1-merror:0.09969\tvalidation_1-mlogloss:0.29378\n",
      "[25]\tvalidation_0-merror:0.00382\tvalidation_0-mlogloss:0.04233\tvalidation_1-merror:0.09908\tvalidation_1-mlogloss:0.29140\n",
      "[26]\tvalidation_0-merror:0.00371\tvalidation_0-mlogloss:0.03945\tvalidation_1-merror:0.09841\tvalidation_1-mlogloss:0.28787\n",
      "[27]\tvalidation_0-merror:0.00365\tvalidation_0-mlogloss:0.03749\tvalidation_1-merror:0.09856\tvalidation_1-mlogloss:0.28582\n",
      "[28]\tvalidation_0-merror:0.00363\tvalidation_0-mlogloss:0.03544\tvalidation_1-merror:0.09831\tvalidation_1-mlogloss:0.28337\n",
      "[29]\tvalidation_0-merror:0.00360\tvalidation_0-mlogloss:0.03347\tvalidation_1-merror:0.09759\tvalidation_1-mlogloss:0.28146\n",
      "[30]\tvalidation_0-merror:0.00354\tvalidation_0-mlogloss:0.03185\tvalidation_1-merror:0.09728\tvalidation_1-mlogloss:0.27973\n",
      "[31]\tvalidation_0-merror:0.00352\tvalidation_0-mlogloss:0.03017\tvalidation_1-merror:0.09667\tvalidation_1-mlogloss:0.27763\n",
      "[32]\tvalidation_0-merror:0.00352\tvalidation_0-mlogloss:0.02875\tvalidation_1-merror:0.09554\tvalidation_1-mlogloss:0.27549\n",
      "[33]\tvalidation_0-merror:0.00352\tvalidation_0-mlogloss:0.02745\tvalidation_1-merror:0.09477\tvalidation_1-mlogloss:0.27339\n",
      "[34]\tvalidation_0-merror:0.00352\tvalidation_0-mlogloss:0.02612\tvalidation_1-merror:0.09528\tvalidation_1-mlogloss:0.27180\n",
      "[35]\tvalidation_0-merror:0.00352\tvalidation_0-mlogloss:0.02515\tvalidation_1-merror:0.09390\tvalidation_1-mlogloss:0.27029\n",
      "[36]\tvalidation_0-merror:0.00349\tvalidation_0-mlogloss:0.02411\tvalidation_1-merror:0.09354\tvalidation_1-mlogloss:0.26954\n",
      "[37]\tvalidation_0-merror:0.00347\tvalidation_0-mlogloss:0.02332\tvalidation_1-merror:0.09349\tvalidation_1-mlogloss:0.26813\n",
      "[38]\tvalidation_0-merror:0.00347\tvalidation_0-mlogloss:0.02248\tvalidation_1-merror:0.09313\tvalidation_1-mlogloss:0.26707\n",
      "[39]\tvalidation_0-merror:0.00347\tvalidation_0-mlogloss:0.02164\tvalidation_1-merror:0.09241\tvalidation_1-mlogloss:0.26631\n",
      "[40]\tvalidation_0-merror:0.00347\tvalidation_0-mlogloss:0.02096\tvalidation_1-merror:0.09292\tvalidation_1-mlogloss:0.26531\n",
      "[41]\tvalidation_0-merror:0.00347\tvalidation_0-mlogloss:0.02023\tvalidation_1-merror:0.09251\tvalidation_1-mlogloss:0.26470\n",
      "[42]\tvalidation_0-merror:0.00347\tvalidation_0-mlogloss:0.01968\tvalidation_1-merror:0.09210\tvalidation_1-mlogloss:0.26356\n",
      "[43]\tvalidation_0-merror:0.00347\tvalidation_0-mlogloss:0.01895\tvalidation_1-merror:0.09287\tvalidation_1-mlogloss:0.26278\n",
      "[44]\tvalidation_0-merror:0.00347\tvalidation_0-mlogloss:0.01842\tvalidation_1-merror:0.09241\tvalidation_1-mlogloss:0.26249\n",
      "[45]\tvalidation_0-merror:0.00347\tvalidation_0-mlogloss:0.01785\tvalidation_1-merror:0.09226\tvalidation_1-mlogloss:0.26176\n",
      "[46]\tvalidation_0-merror:0.00347\tvalidation_0-mlogloss:0.01740\tvalidation_1-merror:0.09215\tvalidation_1-mlogloss:0.26077\n",
      "[47]\tvalidation_0-merror:0.00347\tvalidation_0-mlogloss:0.01700\tvalidation_1-merror:0.09159\tvalidation_1-mlogloss:0.26046\n",
      "[48]\tvalidation_0-merror:0.00347\tvalidation_0-mlogloss:0.01655\tvalidation_1-merror:0.09123\tvalidation_1-mlogloss:0.25960\n",
      "[49]\tvalidation_0-merror:0.00347\tvalidation_0-mlogloss:0.01627\tvalidation_1-merror:0.09097\tvalidation_1-mlogloss:0.25897\n",
      "[50]\tvalidation_0-merror:0.00347\tvalidation_0-mlogloss:0.01584\tvalidation_1-merror:0.09108\tvalidation_1-mlogloss:0.25858\n",
      "[51]\tvalidation_0-merror:0.00347\tvalidation_0-mlogloss:0.01553\tvalidation_1-merror:0.09144\tvalidation_1-mlogloss:0.25791\n",
      "[52]\tvalidation_0-merror:0.00345\tvalidation_0-mlogloss:0.01518\tvalidation_1-merror:0.09082\tvalidation_1-mlogloss:0.25782\n",
      "[53]\tvalidation_0-merror:0.00345\tvalidation_0-mlogloss:0.01485\tvalidation_1-merror:0.09056\tvalidation_1-mlogloss:0.25717\n",
      "[54]\tvalidation_0-merror:0.00345\tvalidation_0-mlogloss:0.01454\tvalidation_1-merror:0.09026\tvalidation_1-mlogloss:0.25692\n",
      "[55]\tvalidation_0-merror:0.00345\tvalidation_0-mlogloss:0.01431\tvalidation_1-merror:0.09005\tvalidation_1-mlogloss:0.25677\n",
      "[56]\tvalidation_0-merror:0.00345\tvalidation_0-mlogloss:0.01402\tvalidation_1-merror:0.08995\tvalidation_1-mlogloss:0.25662\n",
      "[57]\tvalidation_0-merror:0.00345\tvalidation_0-mlogloss:0.01374\tvalidation_1-merror:0.09010\tvalidation_1-mlogloss:0.25676\n",
      "[58]\tvalidation_0-merror:0.00345\tvalidation_0-mlogloss:0.01356\tvalidation_1-merror:0.09010\tvalidation_1-mlogloss:0.25639\n",
      "[59]\tvalidation_0-merror:0.00345\tvalidation_0-mlogloss:0.01336\tvalidation_1-merror:0.08974\tvalidation_1-mlogloss:0.25608\n",
      "[60]\tvalidation_0-merror:0.00345\tvalidation_0-mlogloss:0.01312\tvalidation_1-merror:0.08964\tvalidation_1-mlogloss:0.25606\n",
      "[61]\tvalidation_0-merror:0.00345\tvalidation_0-mlogloss:0.01289\tvalidation_1-merror:0.08964\tvalidation_1-mlogloss:0.25589\n",
      "[62]\tvalidation_0-merror:0.00345\tvalidation_0-mlogloss:0.01269\tvalidation_1-merror:0.08954\tvalidation_1-mlogloss:0.25581\n",
      "[63]\tvalidation_0-merror:0.00345\tvalidation_0-mlogloss:0.01253\tvalidation_1-merror:0.08933\tvalidation_1-mlogloss:0.25562\n",
      "[64]\tvalidation_0-merror:0.00345\tvalidation_0-mlogloss:0.01237\tvalidation_1-merror:0.08908\tvalidation_1-mlogloss:0.25569\n",
      "[65]\tvalidation_0-merror:0.00345\tvalidation_0-mlogloss:0.01220\tvalidation_1-merror:0.08821\tvalidation_1-mlogloss:0.25555\n",
      "[66]\tvalidation_0-merror:0.00345\tvalidation_0-mlogloss:0.01205\tvalidation_1-merror:0.08892\tvalidation_1-mlogloss:0.25524\n",
      "[67]\tvalidation_0-merror:0.00345\tvalidation_0-mlogloss:0.01192\tvalidation_1-merror:0.08882\tvalidation_1-mlogloss:0.25519\n",
      "[68]\tvalidation_0-merror:0.00345\tvalidation_0-mlogloss:0.01177\tvalidation_1-merror:0.08887\tvalidation_1-mlogloss:0.25515\n",
      "[69]\tvalidation_0-merror:0.00345\tvalidation_0-mlogloss:0.01163\tvalidation_1-merror:0.08861\tvalidation_1-mlogloss:0.25489\n",
      "[70]\tvalidation_0-merror:0.00345\tvalidation_0-mlogloss:0.01148\tvalidation_1-merror:0.08856\tvalidation_1-mlogloss:0.25487\n",
      "[71]\tvalidation_0-merror:0.00345\tvalidation_0-mlogloss:0.01136\tvalidation_1-merror:0.08846\tvalidation_1-mlogloss:0.25462\n",
      "[72]\tvalidation_0-merror:0.00345\tvalidation_0-mlogloss:0.01122\tvalidation_1-merror:0.08795\tvalidation_1-mlogloss:0.25448\n",
      "[73]\tvalidation_0-merror:0.00345\tvalidation_0-mlogloss:0.01110\tvalidation_1-merror:0.08790\tvalidation_1-mlogloss:0.25444\n",
      "[74]\tvalidation_0-merror:0.00345\tvalidation_0-mlogloss:0.01097\tvalidation_1-merror:0.08810\tvalidation_1-mlogloss:0.25451\n",
      "[75]\tvalidation_0-merror:0.00345\tvalidation_0-mlogloss:0.01087\tvalidation_1-merror:0.08795\tvalidation_1-mlogloss:0.25435\n",
      "[76]\tvalidation_0-merror:0.00345\tvalidation_0-mlogloss:0.01077\tvalidation_1-merror:0.08749\tvalidation_1-mlogloss:0.25405\n",
      "[77]\tvalidation_0-merror:0.00345\tvalidation_0-mlogloss:0.01068\tvalidation_1-merror:0.08769\tvalidation_1-mlogloss:0.25396\n",
      "[78]\tvalidation_0-merror:0.00345\tvalidation_0-mlogloss:0.01057\tvalidation_1-merror:0.08728\tvalidation_1-mlogloss:0.25384\n",
      "[79]\tvalidation_0-merror:0.00345\tvalidation_0-mlogloss:0.01046\tvalidation_1-merror:0.08723\tvalidation_1-mlogloss:0.25394\n",
      "[80]\tvalidation_0-merror:0.00345\tvalidation_0-mlogloss:0.01036\tvalidation_1-merror:0.08728\tvalidation_1-mlogloss:0.25389\n",
      "[81]\tvalidation_0-merror:0.00345\tvalidation_0-mlogloss:0.01027\tvalidation_1-merror:0.08703\tvalidation_1-mlogloss:0.25398\n",
      "[82]\tvalidation_0-merror:0.00345\tvalidation_0-mlogloss:0.01019\tvalidation_1-merror:0.08667\tvalidation_1-mlogloss:0.25397\n",
      "[83]\tvalidation_0-merror:0.00345\tvalidation_0-mlogloss:0.01010\tvalidation_1-merror:0.08677\tvalidation_1-mlogloss:0.25388\n",
      "[84]\tvalidation_0-merror:0.00345\tvalidation_0-mlogloss:0.01003\tvalidation_1-merror:0.08672\tvalidation_1-mlogloss:0.25383\n",
      "[85]\tvalidation_0-merror:0.00345\tvalidation_0-mlogloss:0.00995\tvalidation_1-merror:0.08651\tvalidation_1-mlogloss:0.25396\n",
      "[86]\tvalidation_0-merror:0.00345\tvalidation_0-mlogloss:0.00987\tvalidation_1-merror:0.08677\tvalidation_1-mlogloss:0.25404\n",
      "[87]\tvalidation_0-merror:0.00345\tvalidation_0-mlogloss:0.00980\tvalidation_1-merror:0.08661\tvalidation_1-mlogloss:0.25386\n",
      "[88]\tvalidation_0-merror:0.00345\tvalidation_0-mlogloss:0.00972\tvalidation_1-merror:0.08636\tvalidation_1-mlogloss:0.25381\n",
      "[89]\tvalidation_0-merror:0.00345\tvalidation_0-mlogloss:0.00965\tvalidation_1-merror:0.08621\tvalidation_1-mlogloss:0.25393\n",
      "[90]\tvalidation_0-merror:0.00345\tvalidation_0-mlogloss:0.00958\tvalidation_1-merror:0.08615\tvalidation_1-mlogloss:0.25398\n",
      "[91]\tvalidation_0-merror:0.00345\tvalidation_0-mlogloss:0.00952\tvalidation_1-merror:0.08615\tvalidation_1-mlogloss:0.25430\n",
      "[92]\tvalidation_0-merror:0.00345\tvalidation_0-mlogloss:0.00945\tvalidation_1-merror:0.08595\tvalidation_1-mlogloss:0.25441\n",
      "[93]\tvalidation_0-merror:0.00345\tvalidation_0-mlogloss:0.00938\tvalidation_1-merror:0.08564\tvalidation_1-mlogloss:0.25469\n",
      "[94]\tvalidation_0-merror:0.00345\tvalidation_0-mlogloss:0.00933\tvalidation_1-merror:0.08564\tvalidation_1-mlogloss:0.25466\n",
      "[95]\tvalidation_0-merror:0.00345\tvalidation_0-mlogloss:0.00926\tvalidation_1-merror:0.08544\tvalidation_1-mlogloss:0.25465\n",
      "[96]\tvalidation_0-merror:0.00345\tvalidation_0-mlogloss:0.00921\tvalidation_1-merror:0.08549\tvalidation_1-mlogloss:0.25458\n",
      "[97]\tvalidation_0-merror:0.00345\tvalidation_0-mlogloss:0.00916\tvalidation_1-merror:0.08554\tvalidation_1-mlogloss:0.25473\n",
      "[98]\tvalidation_0-merror:0.00345\tvalidation_0-mlogloss:0.00910\tvalidation_1-merror:0.08569\tvalidation_1-mlogloss:0.25481\n",
      "[99]\tvalidation_0-merror:0.00345\tvalidation_0-mlogloss:0.00905\tvalidation_1-merror:0.08554\tvalidation_1-mlogloss:0.25487\n",
      "[100]\tvalidation_0-merror:0.00345\tvalidation_0-mlogloss:0.00899\tvalidation_1-merror:0.08569\tvalidation_1-mlogloss:0.25482\n",
      "[101]\tvalidation_0-merror:0.00345\tvalidation_0-mlogloss:0.00895\tvalidation_1-merror:0.08544\tvalidation_1-mlogloss:0.25485\n",
      "[102]\tvalidation_0-merror:0.00345\tvalidation_0-mlogloss:0.00889\tvalidation_1-merror:0.08539\tvalidation_1-mlogloss:0.25498\n",
      "[103]\tvalidation_0-merror:0.00345\tvalidation_0-mlogloss:0.00885\tvalidation_1-merror:0.08549\tvalidation_1-mlogloss:0.25513\n",
      "Stopping. Best iteration:\n",
      "[88]\tvalidation_0-merror:0.00345\tvalidation_0-mlogloss:0.00972\tvalidation_1-merror:0.08636\tvalidation_1-mlogloss:0.25381\n",
      "\n",
      "Training time 900.564 seconds\n",
      "Test time 1.196 seconds\n",
      "0.9136410256410257\n"
     ]
    }
   ],
   "source": [
    "start_time = time.time()\n",
    "clf_xgb = XGBClassifier(max_depth=12,\n",
    "                        objective=\"multi:softprob\",\n",
    "                        n_estimators=3000,\n",
    "                        learning_rate = 0.3, random_state=42)\n",
    "eval_set = [(X_train_scaled, y_train), (X_test_scaled, y_test)]\n",
    "clf_xgb.fit(X_train_scaled, y_train.ravel(), early_stopping_rounds=15, eval_metric=[\"merror\", \"mlogloss\"], eval_set=eval_set, verbose=True)\n",
    "train_time = time.time() - start_time\n",
    "print(\"Training time %.3f seconds\" % train_time)\n",
    "\n",
    "start_time = time.time()\n",
    "y_pred_xgb = clf_xgb.predict(X_test_scaled)\n",
    "test_time = time.time() - start_time\n",
    "print(\"Test time %.3f seconds\" % test_time)\n",
    "print(accuracy_score(y_pred_xgb, y_test))\n",
    "# 88 0.91364"
   ]
  },
  {
   "cell_type": "code",
   "execution_count": 10,
   "metadata": {},
   "outputs": [
    {
     "data": {
      "image/png": "[encoded data removed]",
      "text/plain": [
       "<Figure size 432x288 with 1 Axes>"
      ]
     },
     "metadata": {
      "needs_background": "light"
     },
     "output_type": "display_data"
    },
    {
     "data": {
      "image/png": "[encoded data removed]",
      "text/plain": [
       "<Figure size 432x288 with 1 Axes>"
      ]
     },
     "metadata": {
      "needs_background": "light"
     },
     "output_type": "display_data"
    }
   ],
   "source": [
    "# retrieve performance metrics\n",
    "results = clf_xgb.evals_result()\n",
    "epochs = len(results['validation_0']['merror'])\n",
    "x_axis = range(0, epochs)\n",
    "# plot log loss\n",
    "fig, ax = plt.subplots()\n",
    "ax.plot(x_axis, results['validation_0']['mlogloss'], label='Train')\n",
    "ax.plot(x_axis, results['validation_1']['mlogloss'], label='Test')\n",
    "ax.legend()\n",
    "plt.ylabel('Log Loss')\n",
    "plt.title('XGBoost Log Loss')\n",
    "plt.show()\n",
    "# plot classification error\n",
    "fig, ax = pvlt.subplots()\n",
    "ax.plot(x_axis, results['validation_0']['merror'], label='Train')\n",
    "ax.plot(x_axis, results['validation_1']['merror'], label='Test')\n",
    "ax.legend()\n",
    "plt.ylabel('Classification Error')\n",
    "plt.title('XGBoost Classification Error')\n",
    "plt.show()"
   ]
  },
  {
   "cell_type": "code",
   "execution_count": 8,
   "metadata": {},
   "outputs": [
    {
     "name": "stdout",
     "output_type": "stream",
     "text": [
      "Training time 5705.384 seconds\n",
      "Test time 4.492 seconds\n",
      "0.9168717948717948\n"
     ]
    }
   ],
   "source": [
    "start_time = time.time()\n",
    "clf_xgb = XGBClassifier(max_depth=12,\n",
    "                        objective=\"multi:softprob\",\n",
    "                        n_estimators=4000,\n",
    "                        learning_rate = 0.05, random_state=42)\n",
    "eval_set = [(X_train_scaled, y_train), (X_test_scaled, y_test)]\n",
    "clf_xgb.fit(X_train_scaled, y_train.ravel(), early_stopping_rounds=30, eval_metric=[\"merror\", \"mlogloss\"], eval_set=eval_set, verbose=False)\n",
    "train_time = time.time() - start_time\n",
    "print(\"Training time %.3f seconds\" % train_time)\n",
    "\n",
    "start_time = time.time()\n",
    "y_pred_xgb = clf_xgb.predict(X_test_scaled)\n",
    "test_time = time.time() - start_time\n",
    "print(\"Test time %.3f seconds\" % test_time)\n",
    "print(accuracy_score(y_pred_xgb, y_test))"
   ]
  },
  {
   "cell_type": "code",
   "execution_count": 9,
   "metadata": {},
   "outputs": [
    {
     "data": {
      "image/png": "[encoded data removed]",
      "text/plain": [
       "<Figure size 432x288 with 1 Axes>"
      ]
     },
     "metadata": {
      "needs_background": "light"
     },
     "output_type": "display_data"
    },
    {
     "data": {
      "image/png": "[encoded data removed]",
      "text/plain": [
       "<Figure size 432x288 with 1 Axes>"
      ]
     },
     "metadata": {
      "needs_background": "light"
     },
     "output_type": "display_data"
    }
   ],
   "source": [
    "# retrieve performance metrics\n",
    "results = clf_xgb.evals_result()\n",
    "epochs = len(results['validation_0']['merror'])\n",
    "x_axis = range(0, epochs)\n",
    "# plot log loss\n",
    "fig, ax = plt.subplots()\n",
    "ax.plot(x_axis, results['validation_0']['mlogloss'], label='Train')\n",
    "ax.plot(x_axis, results['validation_1']['mlogloss'], label='Test')\n",
    "ax.legend()\n",
    "plt.ylabel('Log Loss')\n",
    "plt.title('XGBoost Log Loss')\n",
    "plt.show()\n",
    "# plot classification error\n",
    "fig, ax = plt.subplots()\n",
    "ax.plot(x_axis, results['validation_0']['merror'], label='Train')\n",
    "ax.plot(x_axis, results['validation_1']['merror'], label='Test')\n",
    "ax.legend()\n",
    "plt.ylabel('Classification Error')\n",
    "plt.title('XGBoost Classification Error')\n",
    "plt.show()"
   ]
  },
  {
   "cell_type": "markdown",
   "metadata": {},
   "source": [
    "# Export"
   ]
  },
  {
   "cell_type": "code",
   "execution_count": 34,
   "metadata": {},
   "outputs": [],
   "source": [
    "from numpy import savetxt\n",
    "\n",
    "# abc = np.vstack(np.arange(y_pred.shape[0]))\n",
    "# output = np.hstack((abc, np.vstack(y_pred)))\n",
    "# y_pred_v = np.vstack(y_pred)\n",
    "# print(y_pred_v)\n",
    "\n",
    "\n",
    "#savetxt('./data.csv', output, delimiter=',')\n",
    "\n",
    "# df = pd.DataFrame(output)\n",
    "# df.to_csv('data.csv',index=False, header=['ID', 'Font'])\n",
    "\n",
    "sample_submission = pd.read_csv('./sample_submission.csv')\n",
    "\n",
    "out = pd.DataFrame({'ID': sample_submission.ID,'Font': clf_bag64_pca100})\n",
    "out.to_csv('data.csv', index=False)"
   ]
  },
  {
   "cell_type": "code",
   "execution_count": null,
   "metadata": {},
   "outputs": [],
   "source": []
  }
 ],
 "metadata": {
  "kernelspec": {
   "display_name": "Python 3",
   "language": "python",
   "name": "python3"
  },
  "language_info": {
   "codemirror_mode": {
    "name": "ipython",
    "version": 3
   },
   "file_extension": ".py",
   "mimetype": "text/x-python",
   "name": "python",
   "nbconvert_exporter": "python",
   "pygments_lexer": "ipython3",
   "version": "3.8.3"
  }
 },
 "nbformat": 4,
 "nbformat_minor": 4
}
