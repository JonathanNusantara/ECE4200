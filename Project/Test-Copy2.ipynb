{
 "cells": [
  {
   "cell_type": "code",
   "execution_count": 1,
   "metadata": {},
   "outputs": [],
   "source": [
    "import numpy as np\n",
    "import matplotlib.pyplot as plt\n",
    "import pandas as pd\n",
    "from sklearn.utils import shuffle\n",
    "import time\n",
    "\n",
    "from sklearn.neighbors import KNeighborsClassifier\n",
    "from sklearn.neural_network import MLPClassifier\n",
    "from sklearn.svm import SVC\n",
    "from sklearn.ensemble import BaggingClassifier\n",
    "from sklearn.tree import DecisionTreeClassifier\n",
    "from sklearn.ensemble import AdaBoostClassifier\n",
    "from sklearn.ensemble import GradientBoostingClassifier\n",
    "from sklearn.ensemble import ExtraTreesClassifier\n",
    "from sklearn.experimental import enable_hist_gradient_boosting  # noqa\n",
    "from sklearn.ensemble import HistGradientBoostingClassifier\n",
    "from sklearn.linear_model import LogisticRegression\n",
    "from sklearn.naive_bayes import MultinomialNB\n",
    "from sklearn.naive_bayes import GaussianNB\n",
    "\n",
    "from sklearn.decomposition import PCA\n",
    "\n",
    "from sklearn.model_selection import train_test_split\n",
    "\n",
    "from sklearn.metrics import accuracy_score\n",
    "\n",
    "from xgboost import XGBClassifier"
   ]
  },
  {
   "cell_type": "code",
   "execution_count": 2,
   "metadata": {},
   "outputs": [
    {
     "data": {
      "text/html": [
       "<div>\n",
       "<style scoped>\n",
       "    .dataframe tbody tr th:only-of-type {\n",
       "        vertical-align: middle;\n",
       "    }\n",
       "\n",
       "    .dataframe tbody tr th {\n",
       "        vertical-align: top;\n",
       "    }\n",
       "\n",
       "    .dataframe thead th {\n",
       "        text-align: right;\n",
       "    }\n",
       "</style>\n",
       "<table border=\"1\" class=\"dataframe\">\n",
       "  <thead>\n",
       "    <tr style=\"text-align: right;\">\n",
       "      <th></th>\n",
       "      <th>m_label</th>\n",
       "      <th>strength</th>\n",
       "      <th>italic</th>\n",
       "      <th>m_top</th>\n",
       "      <th>m_left</th>\n",
       "      <th>originalH</th>\n",
       "      <th>originalW</th>\n",
       "      <th>r0c0</th>\n",
       "      <th>r0c1</th>\n",
       "      <th>r0c2</th>\n",
       "      <th>...</th>\n",
       "      <th>r19c10</th>\n",
       "      <th>r19c11</th>\n",
       "      <th>r19c12</th>\n",
       "      <th>r19c13</th>\n",
       "      <th>r19c14</th>\n",
       "      <th>r19c15</th>\n",
       "      <th>r19c16</th>\n",
       "      <th>r19c17</th>\n",
       "      <th>r19c18</th>\n",
       "      <th>r19c19</th>\n",
       "    </tr>\n",
       "  </thead>\n",
       "  <tbody>\n",
       "    <tr>\n",
       "      <th>0</th>\n",
       "      <td>8710</td>\n",
       "      <td>0.4</td>\n",
       "      <td>1</td>\n",
       "      <td>35</td>\n",
       "      <td>21</td>\n",
       "      <td>46</td>\n",
       "      <td>39</td>\n",
       "      <td>1</td>\n",
       "      <td>1</td>\n",
       "      <td>1</td>\n",
       "      <td>...</td>\n",
       "      <td>255</td>\n",
       "      <td>255</td>\n",
       "      <td>255</td>\n",
       "      <td>255</td>\n",
       "      <td>255</td>\n",
       "      <td>255</td>\n",
       "      <td>255</td>\n",
       "      <td>255</td>\n",
       "      <td>255</td>\n",
       "      <td>182</td>\n",
       "    </tr>\n",
       "    <tr>\n",
       "      <th>1</th>\n",
       "      <td>99</td>\n",
       "      <td>0.4</td>\n",
       "      <td>0</td>\n",
       "      <td>48</td>\n",
       "      <td>23</td>\n",
       "      <td>33</td>\n",
       "      <td>25</td>\n",
       "      <td>1</td>\n",
       "      <td>1</td>\n",
       "      <td>1</td>\n",
       "      <td>...</td>\n",
       "      <td>255</td>\n",
       "      <td>255</td>\n",
       "      <td>225</td>\n",
       "      <td>101</td>\n",
       "      <td>41</td>\n",
       "      <td>1</td>\n",
       "      <td>1</td>\n",
       "      <td>1</td>\n",
       "      <td>1</td>\n",
       "      <td>1</td>\n",
       "    </tr>\n",
       "    <tr>\n",
       "      <th>2</th>\n",
       "      <td>835</td>\n",
       "      <td>0.4</td>\n",
       "      <td>0</td>\n",
       "      <td>33</td>\n",
       "      <td>16</td>\n",
       "      <td>13</td>\n",
       "      <td>8</td>\n",
       "      <td>1</td>\n",
       "      <td>1</td>\n",
       "      <td>128</td>\n",
       "      <td>...</td>\n",
       "      <td>1</td>\n",
       "      <td>1</td>\n",
       "      <td>1</td>\n",
       "      <td>1</td>\n",
       "      <td>1</td>\n",
       "      <td>1</td>\n",
       "      <td>1</td>\n",
       "      <td>1</td>\n",
       "      <td>1</td>\n",
       "      <td>1</td>\n",
       "    </tr>\n",
       "    <tr>\n",
       "      <th>3</th>\n",
       "      <td>48</td>\n",
       "      <td>0.4</td>\n",
       "      <td>0</td>\n",
       "      <td>0</td>\n",
       "      <td>0</td>\n",
       "      <td>18</td>\n",
       "      <td>11</td>\n",
       "      <td>27</td>\n",
       "      <td>31</td>\n",
       "      <td>49</td>\n",
       "      <td>...</td>\n",
       "      <td>249</td>\n",
       "      <td>247</td>\n",
       "      <td>244</td>\n",
       "      <td>236</td>\n",
       "      <td>212</td>\n",
       "      <td>184</td>\n",
       "      <td>127</td>\n",
       "      <td>94</td>\n",
       "      <td>41</td>\n",
       "      <td>29</td>\n",
       "    </tr>\n",
       "    <tr>\n",
       "      <th>4</th>\n",
       "      <td>3653</td>\n",
       "      <td>0.4</td>\n",
       "      <td>0</td>\n",
       "      <td>46</td>\n",
       "      <td>21</td>\n",
       "      <td>50</td>\n",
       "      <td>23</td>\n",
       "      <td>1</td>\n",
       "      <td>1</td>\n",
       "      <td>1</td>\n",
       "      <td>...</td>\n",
       "      <td>1</td>\n",
       "      <td>1</td>\n",
       "      <td>1</td>\n",
       "      <td>1</td>\n",
       "      <td>56</td>\n",
       "      <td>255</td>\n",
       "      <td>255</td>\n",
       "      <td>255</td>\n",
       "      <td>255</td>\n",
       "      <td>255</td>\n",
       "    </tr>\n",
       "    <tr>\n",
       "      <th>5</th>\n",
       "      <td>697</td>\n",
       "      <td>0.4</td>\n",
       "      <td>0</td>\n",
       "      <td>37</td>\n",
       "      <td>25</td>\n",
       "      <td>16</td>\n",
       "      <td>7</td>\n",
       "      <td>255</td>\n",
       "      <td>255</td>\n",
       "      <td>255</td>\n",
       "      <td>...</td>\n",
       "      <td>255</td>\n",
       "      <td>255</td>\n",
       "      <td>255</td>\n",
       "      <td>255</td>\n",
       "      <td>73</td>\n",
       "      <td>1</td>\n",
       "      <td>1</td>\n",
       "      <td>1</td>\n",
       "      <td>1</td>\n",
       "      <td>1</td>\n",
       "    </tr>\n",
       "    <tr>\n",
       "      <th>6</th>\n",
       "      <td>52</td>\n",
       "      <td>0.4</td>\n",
       "      <td>0</td>\n",
       "      <td>0</td>\n",
       "      <td>0</td>\n",
       "      <td>13</td>\n",
       "      <td>11</td>\n",
       "      <td>40</td>\n",
       "      <td>40</td>\n",
       "      <td>40</td>\n",
       "      <td>...</td>\n",
       "      <td>222</td>\n",
       "      <td>218</td>\n",
       "      <td>222</td>\n",
       "      <td>233</td>\n",
       "      <td>240</td>\n",
       "      <td>249</td>\n",
       "      <td>240</td>\n",
       "      <td>236</td>\n",
       "      <td>157</td>\n",
       "      <td>139</td>\n",
       "    </tr>\n",
       "    <tr>\n",
       "      <th>7</th>\n",
       "      <td>195</td>\n",
       "      <td>0.4</td>\n",
       "      <td>1</td>\n",
       "      <td>34</td>\n",
       "      <td>21</td>\n",
       "      <td>60</td>\n",
       "      <td>58</td>\n",
       "      <td>1</td>\n",
       "      <td>1</td>\n",
       "      <td>1</td>\n",
       "      <td>...</td>\n",
       "      <td>1</td>\n",
       "      <td>1</td>\n",
       "      <td>150</td>\n",
       "      <td>255</td>\n",
       "      <td>255</td>\n",
       "      <td>255</td>\n",
       "      <td>255</td>\n",
       "      <td>238</td>\n",
       "      <td>1</td>\n",
       "      <td>1</td>\n",
       "    </tr>\n",
       "    <tr>\n",
       "      <th>8</th>\n",
       "      <td>7534</td>\n",
       "      <td>0.4</td>\n",
       "      <td>0</td>\n",
       "      <td>37</td>\n",
       "      <td>19</td>\n",
       "      <td>47</td>\n",
       "      <td>26</td>\n",
       "      <td>1</td>\n",
       "      <td>1</td>\n",
       "      <td>1</td>\n",
       "      <td>...</td>\n",
       "      <td>255</td>\n",
       "      <td>255</td>\n",
       "      <td>229</td>\n",
       "      <td>184</td>\n",
       "      <td>1</td>\n",
       "      <td>1</td>\n",
       "      <td>1</td>\n",
       "      <td>1</td>\n",
       "      <td>1</td>\n",
       "      <td>1</td>\n",
       "    </tr>\n",
       "    <tr>\n",
       "      <th>9</th>\n",
       "      <td>653</td>\n",
       "      <td>0.7</td>\n",
       "      <td>1</td>\n",
       "      <td>53</td>\n",
       "      <td>20</td>\n",
       "      <td>31</td>\n",
       "      <td>43</td>\n",
       "      <td>1</td>\n",
       "      <td>1</td>\n",
       "      <td>1</td>\n",
       "      <td>...</td>\n",
       "      <td>255</td>\n",
       "      <td>161</td>\n",
       "      <td>1</td>\n",
       "      <td>1</td>\n",
       "      <td>1</td>\n",
       "      <td>1</td>\n",
       "      <td>1</td>\n",
       "      <td>202</td>\n",
       "      <td>255</td>\n",
       "      <td>255</td>\n",
       "    </tr>\n",
       "  </tbody>\n",
       "</table>\n",
       "<p>10 rows × 407 columns</p>\n",
       "</div>"
      ],
      "text/plain": [
       "   m_label  strength  italic  m_top  m_left  originalH  originalW  r0c0  r0c1  \\\n",
       "0     8710       0.4       1     35      21         46         39     1     1   \n",
       "1       99       0.4       0     48      23         33         25     1     1   \n",
       "2      835       0.4       0     33      16         13          8     1     1   \n",
       "3       48       0.4       0      0       0         18         11    27    31   \n",
       "4     3653       0.4       0     46      21         50         23     1     1   \n",
       "5      697       0.4       0     37      25         16          7   255   255   \n",
       "6       52       0.4       0      0       0         13         11    40    40   \n",
       "7      195       0.4       1     34      21         60         58     1     1   \n",
       "8     7534       0.4       0     37      19         47         26     1     1   \n",
       "9      653       0.7       1     53      20         31         43     1     1   \n",
       "\n",
       "   r0c2  ...  r19c10  r19c11  r19c12  r19c13  r19c14  r19c15  r19c16  r19c17  \\\n",
       "0     1  ...     255     255     255     255     255     255     255     255   \n",
       "1     1  ...     255     255     225     101      41       1       1       1   \n",
       "2   128  ...       1       1       1       1       1       1       1       1   \n",
       "3    49  ...     249     247     244     236     212     184     127      94   \n",
       "4     1  ...       1       1       1       1      56     255     255     255   \n",
       "5   255  ...     255     255     255     255      73       1       1       1   \n",
       "6    40  ...     222     218     222     233     240     249     240     236   \n",
       "7     1  ...       1       1     150     255     255     255     255     238   \n",
       "8     1  ...     255     255     229     184       1       1       1       1   \n",
       "9     1  ...     255     161       1       1       1       1       1     202   \n",
       "\n",
       "   r19c18  r19c19  \n",
       "0     255     182  \n",
       "1       1       1  \n",
       "2       1       1  \n",
       "3      41      29  \n",
       "4     255     255  \n",
       "5       1       1  \n",
       "6     157     139  \n",
       "7       1       1  \n",
       "8       1       1  \n",
       "9     255     255  \n",
       "\n",
       "[10 rows x 407 columns]"
      ]
     },
     "execution_count": 2,
     "metadata": {},
     "output_type": "execute_result"
    }
   ],
   "source": [
    "X = pd.read_csv('train_data.csv')\n",
    "X.head(10)"
   ]
  },
  {
   "cell_type": "code",
   "execution_count": 3,
   "metadata": {},
   "outputs": [
    {
     "data": {
      "text/html": [
       "<div>\n",
       "<style scoped>\n",
       "    .dataframe tbody tr th:only-of-type {\n",
       "        vertical-align: middle;\n",
       "    }\n",
       "\n",
       "    .dataframe tbody tr th {\n",
       "        vertical-align: top;\n",
       "    }\n",
       "\n",
       "    .dataframe thead th {\n",
       "        text-align: right;\n",
       "    }\n",
       "</style>\n",
       "<table border=\"1\" class=\"dataframe\">\n",
       "  <thead>\n",
       "    <tr style=\"text-align: right;\">\n",
       "      <th></th>\n",
       "      <th>Font</th>\n",
       "    </tr>\n",
       "  </thead>\n",
       "  <tbody>\n",
       "    <tr>\n",
       "      <th>0</th>\n",
       "      <td>ARIAL</td>\n",
       "    </tr>\n",
       "    <tr>\n",
       "      <th>1</th>\n",
       "      <td>TIMES</td>\n",
       "    </tr>\n",
       "    <tr>\n",
       "      <th>2</th>\n",
       "      <td>TIMES</td>\n",
       "    </tr>\n",
       "    <tr>\n",
       "      <th>3</th>\n",
       "      <td>ARIAL</td>\n",
       "    </tr>\n",
       "    <tr>\n",
       "      <th>4</th>\n",
       "      <td>SERIF</td>\n",
       "    </tr>\n",
       "    <tr>\n",
       "      <th>5</th>\n",
       "      <td>CAMBRIA</td>\n",
       "    </tr>\n",
       "    <tr>\n",
       "      <th>6</th>\n",
       "      <td>ARIAL</td>\n",
       "    </tr>\n",
       "    <tr>\n",
       "      <th>7</th>\n",
       "      <td>ARIAL</td>\n",
       "    </tr>\n",
       "    <tr>\n",
       "      <th>8</th>\n",
       "      <td>CAMBRIA</td>\n",
       "    </tr>\n",
       "    <tr>\n",
       "      <th>9</th>\n",
       "      <td>CALIBRI</td>\n",
       "    </tr>\n",
       "  </tbody>\n",
       "</table>\n",
       "</div>"
      ],
      "text/plain": [
       "      Font\n",
       "0    ARIAL\n",
       "1    TIMES\n",
       "2    TIMES\n",
       "3    ARIAL\n",
       "4    SERIF\n",
       "5  CAMBRIA\n",
       "6    ARIAL\n",
       "7    ARIAL\n",
       "8  CAMBRIA\n",
       "9  CALIBRI"
      ]
     },
     "execution_count": 3,
     "metadata": {},
     "output_type": "execute_result"
    }
   ],
   "source": [
    "y = pd.read_csv('train_labels.csv')\n",
    "y.head(10)"
   ]
  },
  {
   "cell_type": "code",
   "execution_count": 4,
   "metadata": {},
   "outputs": [
    {
     "name": "stdout",
     "output_type": "stream",
     "text": [
      "[[8.710e+03 4.000e-01 1.000e+00 ... 2.550e+02 2.550e+02 1.820e+02]\n",
      " [9.900e+01 4.000e-01 0.000e+00 ... 1.000e+00 1.000e+00 1.000e+00]\n",
      " [8.350e+02 4.000e-01 0.000e+00 ... 1.000e+00 1.000e+00 1.000e+00]\n",
      " ...\n",
      " [7.761e+03 7.000e-01 0.000e+00 ... 1.000e+00 1.000e+00 1.000e+00]\n",
      " [3.617e+03 7.000e-01 0.000e+00 ... 1.250e+02 1.250e+02 1.250e+02]\n",
      " [1.784e+03 4.000e-01 0.000e+00 ... 2.390e+02 2.550e+02 1.750e+02]]\n",
      "[['ARIAL']\n",
      " ['TIMES']\n",
      " ['TIMES']\n",
      " ...\n",
      " ['SERIF']\n",
      " ['TAHOMA']\n",
      " ['TAHOMA']]\n",
      "(65000, 407)\n",
      "(65000, 1)\n"
     ]
    }
   ],
   "source": [
    "X = np.array(X)\n",
    "y = np.array(y)\n",
    "\n",
    "print(X)\n",
    "print(y)\n",
    "print(X.shape)\n",
    "print(y.shape)"
   ]
  },
  {
   "cell_type": "code",
   "execution_count": 5,
   "metadata": {},
   "outputs": [
    {
     "name": "stdout",
     "output_type": "stream",
     "text": [
      "(45500, 407)\n",
      "(45500,)\n",
      "(19500, 407)\n",
      "(19500,)\n"
     ]
    }
   ],
   "source": [
    "X_train, X_test, y_train, y_test = train_test_split(X, y, test_size=0.3, random_state=42)\n",
    "y_train, y_test = y_train.ravel(), y_test.ravel()\n",
    "\n",
    "print(X_train.shape)\n",
    "print(y_train.shape)\n",
    "print(X_test.shape)\n",
    "print(y_test.shape)"
   ]
  },
  {
   "cell_type": "markdown",
   "metadata": {},
   "source": [
    "# Pre-processing"
   ]
  },
  {
   "cell_type": "code",
   "execution_count": 6,
   "metadata": {},
   "outputs": [
    {
     "name": "stdout",
     "output_type": "stream",
     "text": [
      "(407,)\n",
      "(407,)\n"
     ]
    }
   ],
   "source": [
    "mean = np.zeros((1, X_train.shape[1]))\n",
    "std = np.ones((1, X_train.shape[1]))\n",
    "\n",
    "\n",
    "# ====== Your code here ========\n",
    "\n",
    "# Compute the mean and standard deviation\n",
    "mean = np.mean(X_train, axis=0)\n",
    "std = np.std(X_train, axis=0)\n",
    "\n",
    "# ====== Your code here ========\n",
    "\n",
    "def transform(X, mean, std):\n",
    "    # X: n x d matrix\n",
    "    # mean and std: 1 x d matrix\n",
    "    # X_out: n x d matrix\n",
    "    X_out = np.zeros(X.shape)\n",
    "    # ====== Your code here ========\n",
    "   \n",
    "    X_out = (X - mean) / std\n",
    "   \n",
    "    # ====== Your code here ========\n",
    "    return X_out \n",
    "\n",
    "X_train_scaled = transform(X_train, mean, std)\n",
    "X_test_scaled = transform(X_test, mean, std)\n",
    "\n",
    "print(mean.shape)\n",
    "print(std.shape)"
   ]
  },
  {
   "cell_type": "code",
   "execution_count": 7,
   "metadata": {},
   "outputs": [
    {
     "data": {
      "image/png": "[encoded data removed]",
      "text/plain": [
       "<Figure size 432x288 with 1 Axes>"
      ]
     },
     "metadata": {
      "needs_background": "light"
     },
     "output_type": "display_data"
    },
    {
     "name": "stdout",
     "output_type": "stream",
     "text": [
      "[0.20641695641529853, 0.3500168818471348, 0.42536665032965654, 0.5111812580687665, 0.6779407394253001, 0.7669698488821309, 0.8189442684061116, 0.853527162190347, 0.9339924511360865, 1.0]\n"
     ]
    }
   ],
   "source": [
    "num_comp = [2,5,7,10,20,30,40,50,100,407]\n",
    "#========Your code here ======\n",
    "from sklearn.decomposition import PCA\n",
    "\n",
    "total_variance_explained = []\n",
    "\n",
    "for i in num_comp:\n",
    "    pca = PCA(n_components=i)\n",
    "    pca.fit(X_train_scaled, y_train)\n",
    "    total_variance_explained.append(sum(pca.explained_variance_ratio_))\n",
    "#     if i == 500:\n",
    "#         singular_values = pca.singular_values_\n",
    "#==============================\n",
    "plt.figure(1)\n",
    "plt.plot(num_comp,total_variance_explained,label='total variance')\n",
    "plt.legend()\n",
    "plt.show()\n",
    "print(total_variance_explained)"
   ]
  },
  {
   "cell_type": "markdown",
   "metadata": {},
   "source": [
    "# Classifier experiments"
   ]
  },
  {
   "cell_type": "code",
   "execution_count": 7,
   "metadata": {},
   "outputs": [
    {
     "data": {
      "text/plain": [
       "PCA(n_components=200)"
      ]
     },
     "execution_count": 7,
     "metadata": {},
     "output_type": "execute_result"
    }
   ],
   "source": [
    "pca100 = PCA(n_components=100)\n",
    "pca100.fit(X_train_scaled, y_train)\n",
    "\n",
    "pca200 = PCA(n_components=200)\n",
    "pca200.fit(X_train_scaled, y_train)"
   ]
  },
  {
   "cell_type": "markdown",
   "metadata": {},
   "source": [
    "### KNN with PCA"
   ]
  },
  {
   "cell_type": "code",
   "execution_count": 10,
   "metadata": {},
   "outputs": [],
   "source": [
    "KNN1 = KNeighborsClassifier(n_neighbors=1)\n",
    "KNN3 = KNeighborsClassifier(n_neighbors=3)\n",
    "KNN5 = KNeighborsClassifier(n_neighbors=5)"
   ]
  },
  {
   "cell_type": "markdown",
   "metadata": {},
   "source": [
    "#### 1 Nearest Neighbor"
   ]
  },
  {
   "cell_type": "code",
   "execution_count": 71,
   "metadata": {},
   "outputs": [
    {
     "name": "stdout",
     "output_type": "stream",
     "text": [
      "Training time 2.966 seconds\n",
      "Test time 155.021 seconds\n",
      "0.6357948717948718\n"
     ]
    }
   ],
   "source": [
    "start_time = time.time()\n",
    "KNN1.fit(X_train,y_train)\n",
    "train_time = time.time() - start_time\n",
    "print(\"Training time %.3f seconds\" % train_time)\n",
    "\n",
    "start_time = time.time()\n",
    "y_pred_knn1 = KNN1.predict(X_test)\n",
    "test_time = time.time() - start_time\n",
    "print(\"Test time %.3f seconds\" % test_time)\n",
    "print(accuracy_score(y_pred_knn1, y_test))"
   ]
  },
  {
   "cell_type": "code",
   "execution_count": 50,
   "metadata": {},
   "outputs": [
    {
     "name": "stdout",
     "output_type": "stream",
     "text": [
      "Training time 3.704 seconds\n",
      "Test time 435.459 seconds\n",
      "0.6831282051282052\n"
     ]
    }
   ],
   "source": [
    "start_time = time.time()\n",
    "KNN1.fit(X_train_scaled,y_train)\n",
    "train_time = time.time() - start_time\n",
    "print(\"Training time %.3f seconds\" % train_time)\n",
    "\n",
    "start_time = time.time()\n",
    "y_pred_knn1 = KNN1.predict(X_test_scaled)\n",
    "test_time = time.time() - start_time\n",
    "print(\"Test time %.3f seconds\" % test_time)\n",
    "print(accuracy_score(y_pred_knn1, y_test))"
   ]
  },
  {
   "cell_type": "code",
   "execution_count": 36,
   "metadata": {},
   "outputs": [
    {
     "name": "stdout",
     "output_type": "stream",
     "text": [
      "Training time 0.624 seconds\n",
      "Test time 43.287 seconds\n",
      "0.6757948717948717\n"
     ]
    }
   ],
   "source": [
    "start_time = time.time()\n",
    "KNN1.fit(pca100.transform(X_train_scaled),y_train)\n",
    "train_time = time.time() - start_time\n",
    "print(\"Training time %.3f seconds\" % train_time)\n",
    "\n",
    "start_time = time.time()\n",
    "y_pred_knn1_pca100 = KNN1.predict(pca100.transform(X_test_scaled))\n",
    "test_time = time.time() - start_time\n",
    "print(\"Test time %.3f seconds\" % test_time)\n",
    "print(accuracy_score(y_pred_knn1_pca100, y_test))"
   ]
  },
  {
   "cell_type": "code",
   "execution_count": 52,
   "metadata": {},
   "outputs": [
    {
     "name": "stdout",
     "output_type": "stream",
     "text": [
      "Training time 1.093 seconds\n",
      "Test time 82.222 seconds\n",
      "0.6795384615384615\n"
     ]
    }
   ],
   "source": [
    "start_time = time.time()\n",
    "KNN1.fit(pca200.transform(X_train_scaled),y_train)\n",
    "train_time = time.time() - start_time\n",
    "print(\"Training time %.3f seconds\" % train_time)\n",
    "\n",
    "start_time = time.time()\n",
    "y_pred_knn1_pca200 = KNN1.predict(pca200.transform(X_test_scaled))\n",
    "test_time = time.time() - start_time\n",
    "print(\"Test time %.3f seconds\" % test_time)\n",
    "print(accuracy_score(y_pred_knn1_pca200, y_test))"
   ]
  },
  {
   "cell_type": "markdown",
   "metadata": {},
   "source": [
    "#### 3 Nearest Neighbor"
   ]
  },
  {
   "cell_type": "code",
   "execution_count": 37,
   "metadata": {},
   "outputs": [
    {
     "name": "stdout",
     "output_type": "stream",
     "text": [
      "Training time 0.617 seconds\n",
      "Test time 83.479 seconds\n",
      "0.6203076923076923\n"
     ]
    }
   ],
   "source": [
    "start_time = time.time()\n",
    "KNN3.fit(pca100.transform(X_train_scaled),y_train)\n",
    "train_time = time.time() - start_time\n",
    "print(\"Training time %.3f seconds\" % train_time)\n",
    "\n",
    "start_time = time.time()\n",
    "y_pred_knn3_pca100 = KNN3.predict(pca100.transform(X_test_scaled))\n",
    "test_time = time.time() - start_time\n",
    "print(\"Test time %.3f seconds\" % test_time)\n",
    "print(accuracy_score(y_pred_knn3_pca100, y_test))"
   ]
  },
  {
   "cell_type": "code",
   "execution_count": 54,
   "metadata": {},
   "outputs": [
    {
     "name": "stdout",
     "output_type": "stream",
     "text": [
      "Training time 1.112 seconds\n",
      "Test time 148.963 seconds\n"
     ]
    }
   ],
   "source": [
    "start_time = time.time()\n",
    "KNN3.fit(pca200.transform(X_train_scaled),y_train.ravel())\n",
    "train_time = time.time() - start_time\n",
    "print(\"Training time %.3f seconds\" % train_time)\n",
    "\n",
    "start_time = time.time()\n",
    "y_pred_knn3_pca200 = KNN3.predict(pca200.transform(X_test_scaled))\n",
    "test_time = time.time() - start_time\n",
    "print(\"Test time %.3f seconds\" % test_time)"
   ]
  },
  {
   "cell_type": "markdown",
   "metadata": {},
   "source": [
    "#### 5 Nearest Neighbor"
   ]
  },
  {
   "cell_type": "code",
   "execution_count": 26,
   "metadata": {},
   "outputs": [
    {
     "name": "stdout",
     "output_type": "stream",
     "text": [
      "Training time 1.037 seconds\n",
      "Test time 187.082 seconds\n"
     ]
    }
   ],
   "source": [
    "start_time = time.time()\n",
    "KNN5.fit(pca100.transform(X_train_scaled),y_train.ravel())\n",
    "train_time = time.time() - start_time\n",
    "print(\"Training time %.3f seconds\" % train_time)\n",
    "\n",
    "start_time = time.time()\n",
    "y_pred_knn5_pca100 = KNN5.predict(pca100.transform(X_test_scaled))\n",
    "test_time = time.time() - start_time\n",
    "print(\"Test time %.3f seconds\" % test_time)"
   ]
  },
  {
   "cell_type": "markdown",
   "metadata": {},
   "source": [
    "### KNN without PCA"
   ]
  },
  {
   "cell_type": "code",
   "execution_count": null,
   "metadata": {},
   "outputs": [],
   "source": [
    "start_time = time.time()\n",
    "KNN1 = KNeighborsClassifier(n_neighbors=3)\n",
    "\n",
    "KNN1.fit(X_train_scaled,y_train\n",
    "train_time = time.time() - start_time\n",
    "print(\"Training time %.3f seconds\" % train_time)\n",
    "\n",
    "start_time = time.time()\n",
    "y_pred_knn1 = KNN1.predict(X_test_scaled)\n",
    "test_time = time.time() - start_time\n",
    "print(\"Test time %.3f seconds\" % test_time)"
   ]
  },
  {
   "cell_type": "markdown",
   "metadata": {},
   "source": [
    "### Logistic Regression"
   ]
  },
  {
   "cell_type": "code",
   "execution_count": 23,
   "metadata": {},
   "outputs": [
    {
     "name": "stdout",
     "output_type": "stream",
     "text": [
      "Training time 13.700 seconds\n",
      "Test time 0.011 seconds\n",
      "0.48312820512820515\n"
     ]
    }
   ],
   "source": [
    "start_time = time.time()\n",
    "clf_lr = LogisticRegression(max_iter=10000)\n",
    "clf_lr.fit(X_train_scaled,y_train)\n",
    "train_time = time.time() - start_time\n",
    "print(\"Training time %.3f seconds\" % train_time)\n",
    "\n",
    "start_time = time.time()\n",
    "y_pred_lr = clf_lr.predict(X_test_scaled)\n",
    "test_time = time.time() - start_time\n",
    "print(\"Test time %.3f seconds\" % test_time)\n",
    "print(accuracy_score(y_pred_lr, y_test))"
   ]
  },
  {
   "cell_type": "markdown",
   "metadata": {},
   "source": [
    "### Naive Bayes"
   ]
  },
  {
   "cell_type": "code",
   "execution_count": 14,
   "metadata": {},
   "outputs": [
    {
     "name": "stdout",
     "output_type": "stream",
     "text": [
      "Training time 0.866 seconds\n",
      "Test time 0.442 seconds\n",
      "0.13584615384615384\n"
     ]
    }
   ],
   "source": [
    "start_time = time.time()\n",
    "gnb = GaussianNB()\n",
    "gnb.fit(X_train, y_train.ravel())\n",
    "train_time = time.time() - start_time\n",
    "print(\"Training time %.3f seconds\" % train_time)\n",
    "\n",
    "start_time = time.time()\n",
    "y_pred_gnb = gnb.predict(X_test_scaled)\n",
    "test_time = time.time() - start_time\n",
    "print(\"Test time %.3f seconds\" % test_time)\n",
    "print(accuracy_score(y_pred_gnb, y_test))"
   ]
  },
  {
   "cell_type": "code",
   "execution_count": 15,
   "metadata": {},
   "outputs": [
    {
     "name": "stdout",
     "output_type": "stream",
     "text": [
      "Training time 0.177 seconds\n",
      "Test time 0.011 seconds\n",
      "0.28112820512820513\n"
     ]
    }
   ],
   "source": [
    "start_time = time.time()\n",
    "gnb = MultinomialNB()\n",
    "gnb.fit(X_train, y_train.ravel())\n",
    "train_time = time.time() - start_time\n",
    "print(\"Training time %.3f seconds\" % train_time)\n",
    "\n",
    "start_time = time.time()\n",
    "y_pred_gnb = gnb.predict(X_test_scaled)\n",
    "test_time = time.time() - start_time\n",
    "print(\"Test time %.3f seconds\" % test_time)\n",
    "print(accuracy_score(y_pred_gnb, y_test))"
   ]
  },
  {
   "cell_type": "markdown",
   "metadata": {},
   "source": [
    "### Multi-layer Perceptron"
   ]
  },
  {
   "cell_type": "code",
   "execution_count": 61,
   "metadata": {},
   "outputs": [
    {
     "name": "stdout",
     "output_type": "stream",
     "text": [
      "Training time 37.924 seconds\n",
      "Test time 0.041 seconds\n",
      "0.6761025641025641\n"
     ]
    }
   ],
   "source": [
    "# Multi-layer perceptron with 1 hidden layer\n",
    "\n",
    "start_time = time.time()\n",
    "MLP1 = MLPClassifier(hidden_layer_sizes=(100,), max_iter=300, alpha=1e-4, solver='sgd', verbose=False, tol=1e-4, random_state=1, learning_rate_init=.1)\n",
    "\n",
    "MLP1.fit(X_train_scaled,y_train)\n",
    "train_time = time.time() - start_time\n",
    "print(\"Training time %.3f seconds\" % train_time)\n",
    "\n",
    "start_time = time.time()\n",
    "y_pred_mlp1 = MLP1.predict(X_test_scaled)\n",
    "test_time = time.time() - start_time\n",
    "print(\"Test time %.3f seconds\" % test_time)\n",
    "print(accuracy_score(y_pred_mlp1, y_test))"
   ]
  },
  {
   "cell_type": "code",
   "execution_count": 62,
   "metadata": {},
   "outputs": [
    {
     "name": "stdout",
     "output_type": "stream",
     "text": [
      "Training time 189.624 seconds\n",
      "Test time 0.513 seconds\n",
      "0.7192820512820512\n"
     ]
    }
   ],
   "source": [
    "# Multi-layer perceptron with 2 hidden layers\n",
    "\n",
    "start_time = time.time()\n",
    "MLP1 = MLPClassifier(hidden_layer_sizes=(1000,1000), max_iter=300, alpha=1e-4, solver='sgd', verbose=False, tol=1e-4, random_state=1, learning_rate_init=.1)\n",
    "\n",
    "MLP1.fit(X_train_scaled,y_train)\n",
    "train_time = time.time() - start_time\n",
    "print(\"Training time %.3f seconds\" % train_time)\n",
    "\n",
    "start_time = time.time()\n",
    "y_pred_mlp1 = MLP1.predict(X_test_scaled)\n",
    "test_time = time.time() - start_time\n",
    "print(\"Test time %.3f seconds\" % test_time)\n",
    "print(accuracy_score(y_pred_mlp1, y_test))"
   ]
  },
  {
   "cell_type": "code",
   "execution_count": 70,
   "metadata": {},
   "outputs": [
    {
     "name": "stdout",
     "output_type": "stream",
     "text": [
      "Training time 641.613 seconds\n",
      "Test time 1.121 seconds\n",
      "0.7532820512820513\n"
     ]
    }
   ],
   "source": [
    "# Multi-layer perceptron with 2 hidden layers\n",
    "\n",
    "start_time = time.time()\n",
    "MLP1 = MLPClassifier(hidden_layer_sizes=(1000,1000), max_iter=300, alpha=1e-4, solver='sgd', verbose=False, tol=1e-4, random_state=1, learning_rate_init=.1)\n",
    "\n",
    "MLP1.fit(X_train_scaled,y_train)\n",
    "train_time = time.time() - start_time\n",
    "print(\"Training time %.3f seconds\" % train_time)\n",
    "\n",
    "start_time = time.time()\n",
    "y_pred_mlp1 = MLP1.predict(X_test_scaled)\n",
    "test_time = time.time() - start_time\n",
    "print(\"Test time %.3f seconds\" % test_time)\n",
    "print(accuracy_score(y_pred_mlp1, y_test))"
   ]
  },
  {
   "cell_type": "code",
   "execution_count": 12,
   "metadata": {},
   "outputs": [
    {
     "name": "stdout",
     "output_type": "stream",
     "text": [
      "Training time 989.404 seconds\n",
      "Test time 1.215 seconds\n",
      "0.7811794871794872\n"
     ]
    }
   ],
   "source": [
    "# Multi-layer perceptron with 3 hidden layers\n",
    "\n",
    "start_time = time.time()\n",
    "MLP1 = MLPClassifier(hidden_layer_sizes=(1000,1000, 1000), max_iter=500, alpha=1e-5, solver='sgd', verbose=False, tol=1e-5, random_state=1, learning_rate_init=.1)\n",
    "\n",
    "MLP1.fit(X_train_scaled,y_train)\n",
    "train_time = time.time() - start_time\n",
    "print(\"Training time %.3f seconds\" % train_time)\n",
    "\n",
    "start_time = time.time()\n",
    "y_pred_mlp1 = MLP1.predict(X_test_scaled)\n",
    "test_time = time.time() - start_time\n",
    "print(\"Test time %.3f seconds\" % test_time)\n",
    "print(accuracy_score(y_pred_mlp1, y_test))"
   ]
  },
  {
   "cell_type": "markdown",
   "metadata": {},
   "source": [
    "### Support Vector Machine with PCA"
   ]
  },
  {
   "cell_type": "code",
   "execution_count": 73,
   "metadata": {},
   "outputs": [
    {
     "name": "stdout",
     "output_type": "stream",
     "text": [
      "Training time 366.966 seconds\n",
      "Test time 63.952 seconds\n",
      "0.7\n"
     ]
    }
   ],
   "source": [
    "start_time = time.time()\n",
    "clf_svc1 = SVC(C=1, kernel='poly')\n",
    "clf_svc1.fit(pca100.transform(X_train_scaled), y_train.ravel())\n",
    "train_time = time.time() - start_time\n",
    "print(\"Training time %.3f seconds\" % train_time)\n",
    "\n",
    "start_time = time.time()\n",
    "y_pred_svc_poly1_pca100 = clf_svc1.predict(pca100.transform(X_test_scaled))\n",
    "test_time = time.time() - start_time\n",
    "print(\"Test time %.3f seconds\" % test_time)\n",
    "print(accuracy_score(y_pred_svc_poly1_pca100, y_test))"
   ]
  },
  {
   "cell_type": "code",
   "execution_count": 74,
   "metadata": {},
   "outputs": [
    {
     "name": "stdout",
     "output_type": "stream",
     "text": [
      "Training time 360.731 seconds\n",
      "Test time 70.015 seconds\n",
      "0.47825641025641025\n"
     ]
    }
   ],
   "source": [
    " start_time = time.time()\n",
    "clf_svc1 = SVC(C=0.1, kernel='poly',)\n",
    "clf_svc1.fit(pca100.transform(X_train_scaled), y_train.ravel())\n",
    "train_time = time.time() - start_time\n",
    "print(\"Training time %.3f seconds\" % train_time)\n",
    "\n",
    "start_time = time.time()\n",
    "y_pred_svc_poly01_pca100 = clf_svc1.predict(pca100.transform(X_test_scaled))\n",
    "test_time = time.time() - start_time\n",
    "print(\"Test time %.3f seconds\" % test_time)\n",
    "print(accuracy_score(y_pred_svc_poly01_pca100, y_test))"
   ]
  },
  {
   "cell_type": "code",
   "execution_count": 75,
   "metadata": {},
   "outputs": [
    {
     "name": "stdout",
     "output_type": "stream",
     "text": [
      "Training time 705.322 seconds\n",
      "Test time 55.595 seconds\n",
      "0.7686153846153846\n"
     ]
    }
   ],
   "source": [
    "start_time = time.time()\n",
    "clf_svc1 = SVC(C=10, kernel='poly',)\n",
    "clf_svc1.fit(pca100.transform(X_train_scaled), y_train.ravel())\n",
    "train_time = time.time() - start_time\n",
    "print(\"Training time %.3f seconds\" % train_time)\n",
    "\n",
    "start_time = time.time()\n",
    "y_pred_svc_poly10_pca100 = clf_svc1.predict(pca100.transform(X_test_scaled))\n",
    "test_time = time.time() - start_time\n",
    "print(\"Test time %.3f seconds\" % test_time)\n",
    "print(accuracy_score(y_pred_svc_poly10_pca100, y_test))"
   ]
  },
  {
   "cell_type": "code",
   "execution_count": 76,
   "metadata": {},
   "outputs": [
    {
     "name": "stdout",
     "output_type": "stream",
     "text": [
      "Training time 6593.769 seconds\n",
      "Test time 62.516 seconds\n",
      "0.4636923076923077\n"
     ]
    }
   ],
   "source": [
    "start_time = time.time()\n",
    "clf_svc1 = SVC(C=1, kernel='linear')\n",
    "clf_svc1.fit(pca100.transform(X_train_scaled), y_train.ravel())\n",
    "train_time = time.time() - start_time\n",
    "print(\"Training time %.3f seconds\" % train_time)\n",
    "\n",
    "start_time = time.time()\n",
    "y_pred_svc_linear1_pca100 = clf_svc1.predict(pca100.transform(X_test_scaled))\n",
    "test_time = time.time() - start_time\n",
    "print(\"Test time %.3f seconds\" % test_time)\n",
    "print(accuracy_score(y_pred_svc_linear1_pca100, y_test))"
   ]
  },
  {
   "cell_type": "code",
   "execution_count": null,
   "metadata": {},
   "outputs": [],
   "source": [
    "start_time = time.time()\n",
    "clf_svc1 = SVC(C=10, kernel='linear')\n",
    "clf_svc1.fit(pca100.transform(X_train_scaled), y_train.ravel())\n",
    "train_time = time.time() - start_time\n",
    "print(\"Training time %.3f seconds\" % train_time)\n",
    "\n",
    "start_time = time.time()\n",
    "y_pred_svc_linear10_pca100 = clf_svc1.predict(pca100.transform(X_test_scaled))\n",
    "test_time = time.time() - start_time\n",
    "print(\"Test time %.3f seconds\" % test_time)\n",
    "print(accuracy_score(y_pred_svc_linear10_pca100, y_test))"
   ]
  },
  {
   "cell_type": "code",
   "execution_count": null,
   "metadata": {},
   "outputs": [],
   "source": [
    "start_time = time.time()\n",
    "clf_svc1 = SVC(C=0.1, kernel='linear')\n",
    "clf_svc1.fit(pca100.transform(X_train_scaled), y_train.ravel())\n",
    "train_time = time.time() - start_time\n",
    "print(\"Training time %.3f seconds\" % train_time)\n",
    "\n",
    "start_time = time.time()\n",
    "y_pred_svc_linear01_pca100 = clf_svc1.predict(pca100.transform(X_test_scaled))\n",
    "test_time = time.time() - start_time\n",
    "print(\"Test time %.3f seconds\" % test_time)\n",
    "print(accuracy_score(y_pred_svc_linear01_pca100, y_test))"
   ]
  },
  {
   "cell_type": "code",
   "execution_count": null,
   "metadata": {},
   "outputs": [],
   "source": [
    "start_time = time.time()\n",
    "clf_svc1 = SVC(C=1, kernel='poly')\n",
    "clf_svc1.fit(pca200.transform(X_train_scaled), y_train.ravel())\n",
    "train_time = time.time() - start_time\n",
    "print(\"Training time %.3f seconds\" % train_time)\n",
    "\n",
    "start_time = time.time()\n",
    "y_pred_svc_poly1_pca200 = clf_svc1.predict(pca200.transform(X_test_scaled))\n",
    "test_time = time.time() - start_time\n",
    "print(\"Test time %.3f seconds\" % test_time)"
   ]
  },
  {
   "cell_type": "code",
   "execution_count": 11,
   "metadata": {},
   "outputs": [
    {
     "name": "stdout",
     "output_type": "stream",
     "text": [
      "Training time 394.791 seconds\n",
      "Test time 94.758 seconds\n",
      "0.6996410256410256\n"
     ]
    }
   ],
   "source": [
    "start_time = time.time()\n",
    "clf_svc1 = SVC(C=1, kernel='rbf')\n",
    "clf_svc1.fit(pca100.transform(X_train_scaled), y_train.ravel())\n",
    "train_time = time.time() - start_time\n",
    "print(\"Training time %.3f seconds\" % train_time)\n",
    "\n",
    "start_time = time.time()\n",
    "y_pred_svc_rbf1_pca100 = clf_svc1.predict(pca100.transform(X_test_scaled))\n",
    "test_time = time.time() - start_time\n",
    "print(\"Test time %.3f seconds\" % test_time)\n",
    "print(accuracy_score(y_pred_svc_rbf1_pca100, y_test))"
   ]
  },
  {
   "cell_type": "code",
   "execution_count": 16,
   "metadata": {},
   "outputs": [
    {
     "name": "stdout",
     "output_type": "stream",
     "text": [
      "Training time 627.119 seconds\n",
      "Test time 70.175 seconds\n"
     ]
    },
    {
     "ename": "NameError",
     "evalue": "name 'y_pred_svc_rbf1_pca100' is not defined",
     "output_type": "error",
     "traceback": [
      "\u001b[0;31m---------------------------------------------------------------------------\u001b[0m",
      "\u001b[0;31mNameError\u001b[0m                                 Traceback (most recent call last)",
      "\u001b[0;32m<ipython-input-16-48895f034250>\u001b[0m in \u001b[0;36m<module>\u001b[0;34m\u001b[0m\n\u001b[1;32m      9\u001b[0m \u001b[0mtest_time\u001b[0m \u001b[0;34m=\u001b[0m \u001b[0mtime\u001b[0m\u001b[0;34m.\u001b[0m\u001b[0mtime\u001b[0m\u001b[0;34m(\u001b[0m\u001b[0;34m)\u001b[0m \u001b[0;34m-\u001b[0m \u001b[0mstart_time\u001b[0m\u001b[0;34m\u001b[0m\u001b[0;34m\u001b[0m\u001b[0m\n\u001b[1;32m     10\u001b[0m \u001b[0mprint\u001b[0m\u001b[0;34m(\u001b[0m\u001b[0;34m\"Test time %.3f seconds\"\u001b[0m \u001b[0;34m%\u001b[0m \u001b[0mtest_time\u001b[0m\u001b[0;34m)\u001b[0m\u001b[0;34m\u001b[0m\u001b[0;34m\u001b[0m\u001b[0m\n\u001b[0;32m---> 11\u001b[0;31m \u001b[0mprint\u001b[0m\u001b[0;34m(\u001b[0m\u001b[0maccuracy_score\u001b[0m\u001b[0;34m(\u001b[0m\u001b[0my_pred_svc_rbf1_pca100\u001b[0m\u001b[0;34m,\u001b[0m \u001b[0my_test\u001b[0m\u001b[0;34m)\u001b[0m\u001b[0;34m)\u001b[0m\u001b[0;34m\u001b[0m\u001b[0;34m\u001b[0m\u001b[0m\n\u001b[0m",
      "\u001b[0;31mNameError\u001b[0m: name 'y_pred_svc_rbf1_pca100' is not defined"
     ]
    }
   ],
   "source": [
    "start_time = time.time()\n",
    "clf_svc1 = SVC(C=10, kernel='rbf')\n",
    "clf_svc1.fit(pca100.transform(X_train_scaled), y_train.ravel())\n",
    "train_time = time.time() - start_time\n",
    "print(\"Training time %.3f seconds\" % train_time)\n",
    "\n",
    "start_time = time.time()\n",
    "y_pred_svc_rbf10_pca100 = clf_svc1.predict(pca100.transform(X_test_scaled))\n",
    "test_time = time.time() - start_time\n",
    "print(\"Test time %.3f seconds\" % test_time)\n",
    "print(accuracy_score(y_pred_svc_rbf1_pca100, y_test))"
   ]
  },
  {
   "cell_type": "code",
   "execution_count": null,
   "metadata": {},
   "outputs": [],
   "source": [
    "start_time = time.time()\n",
    "clf_svc1 = SVC(C=10, kernel='rbf')\n",
    "clf_svc1.fit(pca200.transform(X_train_scaled), y_train.ravel())\n",
    "train_time = time.time() - start_time\n",
    "print(\"Training time %.3f seconds\" % train_time)\n",
    "\n",
    "start_time = time.time()\n",
    "y_pred_svc_rbf10_pca200 = clf_svc1.predict(pca200.transform(X_test_scaled))\n",
    "test_time = time.time() - start_time\n",
    "print(\"Test time %.3f seconds\" % test_time)\n",
    "print(accuracy_score(y_pred_svc_rbf1_pca200, y_test))"
   ]
  },
  {
   "cell_type": "code",
   "execution_count": null,
   "metadata": {},
   "outputs": [],
   "source": [
    "start_time = time.time()\n",
    "clf_svc1 = SVC(C=0.1, kernel='rbf')\n",
    "clf_svc1.fit(pca100.transform(X_train_scaled), y_train.ravel())\n",
    "train_time = time.time() - start_time\n",
    "print(\"Training time %.3f seconds\" % train_time)\n",
    "\n",
    "start_time = time.time()\n",
    "y_pred_svc_rbf01_pca100 = clf_svc1.predict(pca100.transform(X_test_scaled))\n",
    "test_time = time.time() - start_time\n",
    "print(\"Test time %.3f seconds\" % test_time)\n",
    "print(accuracy_score(y_pred_svc_rbf01_pca100, y_test))"
   ]
  },
  {
   "cell_type": "markdown",
   "metadata": {},
   "source": [
    "### Support Vector Machine without PCA"
   ]
  },
  {
   "cell_type": "code",
   "execution_count": null,
   "metadata": {},
   "outputs": [],
   "source": [
    "start_time = time.time()\n",
    "clf_svc1 = SVC(C=1, kernel='poly')\n",
    "clf_svc1.fit(X_train, y_train.ravel())\n",
    "train_time = time.time() - start_time\n",
    "print(\"Training time %.3f seconds\" % train_time)\n",
    "\n",
    "start_time = time.time()\n",
    "y_pred_svc_poly1 = clf_svc1.predict(X_test)\n",
    "test_time = time.time() - start_time\n",
    "print(\"Test time %.3f seconds\" % test_time)\n",
    "print(accuracy_score(y_pred_svc_poly1, y_test))"
   ]
  },
  {
   "cell_type": "code",
   "execution_count": null,
   "metadata": {},
   "outputs": [],
   "source": [
    "start_time = time.time()\n",
    "clf_svc1 = SVC(C=10, kernel='poly')\n",
    "clf_svc1.fit(X_train, y_train.ravel())\n",
    "train_time = time.time() - start_time\n",
    "print(\"Training time %.3f seconds\" % train_time)\n",
    "\n",
    "start_time = time.time()\n",
    "y_pred_svc_poly10 = clf_svc1.predict(X_test)\n",
    "test_time = time.time() - start_time\n",
    "print(\"Test time %.3f seconds\" % test_time)\n",
    "print(accuracy_score(y_pred_svc_poly10, y_test))"
   ]
  },
  {
   "cell_type": "code",
   "execution_count": null,
   "metadata": {},
   "outputs": [],
   "source": [
    "start_time = time.time()\n",
    "clf_svc1 = SVC(C=0.1, kernel='poly')\n",
    "clf_svc1.fit(X_train, y_train.ravel())\n",
    "train_time = time.time() - start_time\n",
    "print(\"Training time %.3f seconds\" % train_time)\n",
    "\n",
    "start_time = time.time()\n",
    "y_pred_svc_poly01 = clf_svc1.predict(X_test)\n",
    "test_time = time.time() - start_time\n",
    "print(\"Test time %.3f seconds\" % test_time)\n",
    "print(accuracy_score(y_pred_svc_poly01, y_test))"
   ]
  },
  {
   "cell_type": "code",
   "execution_count": null,
   "metadata": {},
   "outputs": [],
   "source": [
    "start_time = time.time()\n",
    "clf_svc1 = SVC(C=1, kernel='poly')\n",
    "clf_svc1.fit(X_train_scaled, y_train.ravel())\n",
    "train_time = time.time() - start_time\n",
    "print(\"Training time %.3f seconds\" % train_time)\n",
    "\n",
    "start_time = time.time()\n",
    "y_pred_svc_poly1 = clf_svc1.predict(X_test_scaled)\n",
    "test_time = time.time() - start_time\n",
    "print(\"Test time %.3f seconds\" % test_time)\n",
    "print(accuracy_score(y_pred_svc_poly1, y_test))"
   ]
  },
  {
   "cell_type": "code",
   "execution_count": null,
   "metadata": {},
   "outputs": [],
   "source": [
    "from sklearn.svm import SVC\n",
    "from sklearn.metrics import accuracy_score\n",
    "# ====== Your code here ========\n",
    "clf_svc = SVC(C=1, kernel='poly')\n",
    "clf_svc.fit(X_train, y_train.ravel())\n",
    "y_pred_svc = clf_svc.predict(X_test)\n",
    "# ====== Your code here ========"
   ]
  },
  {
   "cell_type": "code",
   "execution_count": null,
   "metadata": {},
   "outputs": [],
   "source": [
    "from sklearn.svm import SVC\n",
    "from sklearn.metrics import accuracy_score\n",
    "# ====== Your code here ========\n",
    "clf_svc_scaled = SVC(C=1, kernel='poly')\n",
    "clf_svc_scaled.fit(X_train_scaled, y_train.ravel())\n",
    "y_pred_svc_scaled = clf_svc.predict(X_test_scaled)\n",
    "# ====== Your code here ========"
   ]
  },
  {
   "cell_type": "code",
   "execution_count": null,
   "metadata": {},
   "outputs": [],
   "source": [
    "from sklearn.svm import SVC\n",
    "from sklearn.metrics import accuracy_score\n",
    "# ====== Your code here ========\n",
    "clf_svc_scaled = SVC(C=1, kernel='poly')\n",
    "clf_svc_scaled.fit(X_train_scaled, y_train.ravel())\n",
    "y_pred_svc_scaled = clf_svc_scaled.predict(X_test_scaled)\n",
    "# ====== Your code here ========"
   ]
  },
  {
   "cell_type": "markdown",
   "metadata": {},
   "source": [
    "### Decision Tree Classifier"
   ]
  },
  {
   "cell_type": "code",
   "execution_count": 68,
   "metadata": {},
   "outputs": [
    {
     "data": {
      "text/plain": [
       "<matplotlib.legend.Legend at 0x118725dc0>"
      ]
     },
     "execution_count": 68,
     "metadata": {},
     "output_type": "execute_result"
    },
    {
     "data": {
      "image/png": "[encoded data removed]",
      "text/plain": [
       "<Figure size 432x288 with 1 Axes>"
      ]
     },
     "metadata": {
      "needs_background": "light"
     },
     "output_type": "display_data"
    }
   ],
   "source": [
    "accuracy = []\n",
    "indices = [50, 100, 1000, 10000, 100000, 1000000, 10000000]\n",
    "for i in indices:\n",
    "    print(\"max_depth %f\" % i)\n",
    "    start_time = time.time()\n",
    "    clf_tree = DecisionTreeClassifier(max_depth=i)\n",
    "    clf_tree.fit(X_train, y_train)\n",
    "    train_time = time.time() - start_time\n",
    "    print(\"Training time %.3f seconds\" % train_time)\n",
    "\n",
    "    start_time = time.time()\n",
    "    y_pred_tree = clf_tree.predict(X_test)\n",
    "    test_time = time.time() - start_time\n",
    "    print(\"Test time %.3f seconds\" % test_time)\n",
    "    accuracy.append(accuracy_score(y_pred_tree, y_test))\n",
    "plt.semilogx(indices, accuracy, label = \"training\")\n",
    "plt.legend()    "
   ]
  },
  {
   "cell_type": "code",
   "execution_count": 69,
   "metadata": {},
   "outputs": [
    {
     "name": "stdout",
     "output_type": "stream",
     "text": [
      "max_depth 50.000000\n",
      "Training time 9.682 seconds\n",
      "Test time 0.033 seconds\n",
      "max_depth 100.000000\n",
      "Training time 9.641 seconds\n",
      "Test time 0.034 seconds\n",
      "max_depth 1000.000000\n",
      "Training time 9.681 seconds\n",
      "Test time 0.021 seconds\n",
      "max_depth 10000.000000\n",
      "Training time 9.777 seconds\n",
      "Test time 0.032 seconds\n",
      "max_depth 100000.000000\n",
      "Training time 9.897 seconds\n",
      "Test time 0.021 seconds\n",
      "max_depth 1000000.000000\n",
      "Training time 9.826 seconds\n",
      "Test time 0.055 seconds\n",
      "max_depth 10000000.000000\n",
      "Training time 10.289 seconds\n",
      "Test time 0.038 seconds\n"
     ]
    },
    {
     "data": {
      "text/plain": [
       "<matplotlib.legend.Legend at 0x1186e41c0>"
      ]
     },
     "execution_count": 69,
     "metadata": {},
     "output_type": "execute_result"
    },
    {
     "data": {
      "image/png": "[encoded data removed]",
      "text/plain": [
       "<Figure size 432x288 with 1 Axes>"
      ]
     },
     "metadata": {
      "needs_background": "light"
     },
     "output_type": "display_data"
    }
   ],
   "source": [
    "accuracy = []\n",
    "indices = [50, 100, 1000, 10000, 100000, 1000000, 10000000]\n",
    "for i in indices:\n",
    "    print(\"max_depth %f\" % i)\n",
    "    start_time = time.time()\n",
    "    clf_tree = DecisionTreeClassifier(max_depth=i)\n",
    "    clf_tree.fit(X_train, y_train)\n",
    "    train_time = time.time() - start_time\n",
    "    print(\"Training time %.3f seconds\" % train_time)\n",
    "\n",
    "    start_time = time.time()\n",
    "    y_pred_tree = clf_tree.predict(X_test)\n",
    "    test_time = time.time() - start_time\n",
    "    print(\"Test time %.3f seconds\" % test_time)\n",
    "    accuracy.append(accuracy_score(y_pred_tree, y_test))\n",
    "plt.semilogx(indices, accuracy, label = \"training\")\n",
    "plt.legend()    "
   ]
  },
  {
   "cell_type": "code",
   "execution_count": 72,
   "metadata": {},
   "outputs": [
    {
     "name": "stdout",
     "output_type": "stream",
     "text": [
      "max_depth 10.000000\n",
      "Training time 7.098 seconds\n",
      "Test time 0.039 seconds\n",
      "max_depth 20.000000\n",
      "Training time 9.521 seconds\n",
      "Test time 0.021 seconds\n",
      "max_depth 30.000000\n",
      "Training time 9.579 seconds\n",
      "Test time 0.021 seconds\n",
      "max_depth 40.000000\n",
      "Training time 9.597 seconds\n",
      "Test time 0.034 seconds\n",
      "max_depth 50.000000\n",
      "Training time 9.595 seconds\n",
      "Test time 0.034 seconds\n",
      "max_depth 100.000000\n",
      "Training time 9.640 seconds\n",
      "Test time 0.035 seconds\n",
      "max_depth 1000.000000\n",
      "Training time 9.604 seconds\n",
      "Test time 0.035 seconds\n",
      "max_depth 10000.000000\n",
      "Training time 9.588 seconds\n",
      "Test time 0.033 seconds\n",
      "max_depth 100000.000000\n",
      "Training time 9.616 seconds\n",
      "Test time 0.034 seconds\n",
      "max_depth 1000000.000000\n",
      "Training time 9.576 seconds\n",
      "Test time 0.034 seconds\n",
      "max_depth 10000000.000000\n",
      "Training time 9.603 seconds\n",
      "Test time 0.033 seconds\n"
     ]
    },
    {
     "data": {
      "text/plain": [
       "<matplotlib.legend.Legend at 0x122f0c7f0>"
      ]
     },
     "execution_count": 72,
     "metadata": {},
     "output_type": "execute_result"
    },
    {
     "data": {
      "image/png": "[encoded data removed]",
      "text/plain": [
       "<Figure size 432x288 with 1 Axes>"
      ]
     },
     "metadata": {
      "needs_background": "light"
     },
     "output_type": "display_data"
    }
   ],
   "source": [
    "accuracy = []\n",
    "indices = [10, 20, 30, 40, 50, 100, 1000, 10000, 100000, 1000000, 10000000]\n",
    "for i in indices:\n",
    "    print(\"max_depth %f\" % i)\n",
    "    start_time = time.time()\n",
    "    clf_tree = DecisionTreeClassifier(max_depth=i)\n",
    "    clf_tree.fit(X_train, y_train)\n",
    "    train_time = time.time() - start_time\n",
    "    print(\"Training time %.3f seconds\" % train_time)\n",
    "\n",
    "    start_time = time.time()\n",
    "    y_pred_tree = clf_tree.predict(X_test)\n",
    "    test_time = time.time() - start_time\n",
    "    print(\"Test time %.3f seconds\" % test_time)\n",
    "    accuracy.append(accuracy_score(y_pred_tree, y_test))\n",
    "plt.semilogx(indices, accuracy, label = \"training\")\n",
    "plt.legend()    "
   ]
  },
  {
   "cell_type": "markdown",
   "metadata": {},
   "source": [
    "### Random Forest"
   ]
  },
  {
   "cell_type": "code",
   "execution_count": 46,
   "metadata": {},
   "outputs": [
    {
     "name": "stdout",
     "output_type": "stream",
     "text": [
      "Training time 393.402 seconds\n",
      "Test time 6.264 seconds\n",
      "0.8845641025641026\n"
     ]
    }
   ],
   "source": [
    "start_time = time.time()\n",
    "clf_bag64 = BaggingClassifier(base_estimator=DecisionTreeClassifier(), n_estimators=64)\n",
    "clf_bag64.fit(X_train, y_train)\n",
    "train_time = time.time() - start_time\n",
    "print(\"Training time %.3f seconds\" % train_time)\n",
    "\n",
    "start_time = time.time()\n",
    "y_pred_bag64 = clf_bag64.predict(X_test)\n",
    "test_time = time.time() - start_time\n",
    "print(\"Test time %.3f seconds\" % test_time)\n",
    "print(accuracy_score(y_pred_bag64, y_test))"
   ]
  },
  {
   "cell_type": "code",
   "execution_count": 55,
   "metadata": {},
   "outputs": [
    {
     "name": "stdout",
     "output_type": "stream",
     "text": [
      "Training time 392.818 seconds\n",
      "Test time 6.488 seconds\n",
      "0.8844615384615384\n"
     ]
    }
   ],
   "source": [
    "start_time = time.time()\n",
    "clf_bag64_scaled = BaggingClassifier(base_estimator=DecisionTreeClassifier(), n_estimators=64)\n",
    "clf_bag64_scaled.fit(X_train_scaled, y_train)\n",
    "train_time = time.time() - start_time\n",
    "print(\"Training time %.3f seconds\" % train_time)\n",
    "\n",
    "start_time = time.time()\n",
    "y_pred_bag64_scaled = clf_bag64_scaled.predict(X_test_scaled)\n",
    "test_time = time.time() - start_time\n",
    "print(\"Test time %.3f seconds\" % test_time)\n",
    "print(accuracy_score(y_pred_bag64_scaled, y_test))"
   ]
  },
  {
   "cell_type": "code",
   "execution_count": 49,
   "metadata": {},
   "outputs": [
    {
     "name": "stdout",
     "output_type": "stream",
     "text": [
      "Training time 395.128 seconds\n",
      "Test time 6.295 seconds\n",
      "0.8845128205128205\n",
      "Training time 409.868 seconds\n",
      "Test time 6.940 seconds\n",
      "0.8837948717948718\n",
      "Training time 411.162 seconds\n",
      "Test time 8.032 seconds\n",
      "0.8848205128205128\n",
      "Training time 405.554 seconds\n",
      "Test time 6.208 seconds\n",
      "0.8863076923076924\n"
     ]
    }
   ],
   "source": [
    "for i in [100, 1000, 3000, 5000]:\n",
    "    start_time = time.time()\n",
    "    clf_bag64 = BaggingClassifier(base_estimator=DecisionTreeClassifier(max_depth=i), n_estimators=64)\n",
    "    clf_bag64.fit(X_train, y_train)\n",
    "    train_time = time.time() - start_time\n",
    "    print(\"Training time %.3f seconds\" % train_time)\n",
    "\n",
    "    start_time = time.time()\n",
    "    y_pred_bag64 = clf_bag64.predict(X_test)\n",
    "    test_time = time.time() - start_time\n",
    "    print(\"Test time %.3f seconds\" % test_time)\n",
    "    print(accuracy_score(y_pred_bag64, y_test))"
   ]
  },
  {
   "cell_type": "code",
   "execution_count": 48,
   "metadata": {},
   "outputs": [
    {
     "name": "stdout",
     "output_type": "stream",
     "text": [
      "Training time 336.077 seconds\n",
      "Test time 1.756 seconds\n",
      "0.6048205128205129\n"
     ]
    }
   ],
   "source": [
    "start_time = time.time()\n",
    "clf_bag64 = BaggingClassifier(base_estimator=DecisionTreeClassifier(), n_estimators=64)\n",
    "clf_bag64.fit(pca100.transform(X_train_scaled), y_train)\n",
    "train_time = time.time() - start_time\n",
    "print(\"Training time %.3f seconds\" % train_time)\n",
    "\n",
    "start_time = time.time()\n",
    "y_pred_bag64_pca100 = clf_bag64.predict(pca100.transform(X_test_scaled))\n",
    "test_time = time.time() - start_time\n",
    "print(\"Test time %.3f seconds\" % test_time)\n",
    "print(accuracy_score(y_pred_bag64_pca100, y_test))"
   ]
  },
  {
   "cell_type": "code",
   "execution_count": 10,
   "metadata": {},
   "outputs": [
    {
     "name": "stdout",
     "output_type": "stream",
     "text": [
      "Training time 1167.044 seconds\n",
      "Test time 28.838 seconds\n"
     ]
    }
   ],
   "source": [
    "start_time = time.time()\n",
    "clf_bag128 = BaggingClassifier(base_estimator=DecisionTreeClassifier(), n_estimators=128)\n",
    "clf_bag128.fit(X_train, y_train.ravel())\n",
    "train_time = time.time() - start_time\n",
    "print(\"Training time %.3f seconds\" % train_time)\n",
    "\n",
    "start_time = time.time()\n",
    "y_pred_bag128 = clf_bag128.predict(X_test)\n",
    "test_time = time.time() - start_time\n",
    "print(\"Test time %.3f seconds\" % test_time)\n",
    "print(accuracy_score(y_pred_bag128, y_test))"
   ]
  },
  {
   "cell_type": "code",
   "execution_count": 28,
   "metadata": {},
   "outputs": [
    {
     "name": "stdout",
     "output_type": "stream",
     "text": [
      "Training time 2305.316 seconds\n",
      "Test time 16.778 seconds\n"
     ]
    }
   ],
   "source": [
    "start_time = time.time()\n",
    "clf_bag256 = BaggingClassifier(base_estimator=DecisionTreeClassifier(), n_estimators=256)\n",
    "clf_bag256.fit(X_train, y_train.ravel())\n",
    "train_time = time.time() - start_time\n",
    "print(\"Training time %.3f seconds\" % train_time)\n",
    "\n",
    "start_time = time.time()\n",
    "y_pred_bag256 = clf_bag256.predict(X_test)\n",
    "test_time = time.time() - start_time\n",
    "print(\"Test time %.3f seconds\" % test_time)\n",
    "print(accuracy_score(y_pred_bag256, y_test))"
   ]
  },
  {
   "cell_type": "markdown",
   "metadata": {},
   "source": [
    "### Extra Trees"
   ]
  },
  {
   "cell_type": "code",
   "execution_count": 7,
   "metadata": {},
   "outputs": [
    {
     "name": "stdout",
     "output_type": "stream",
     "text": [
      "Training time 18.108 seconds\n",
      "Test time 0.654 seconds\n",
      "0.7614871794871795\n",
      "Training time 35.586 seconds\n",
      "Test time 1.515 seconds\n",
      "0.7695384615384615\n",
      "Training time 69.805 seconds\n",
      "Test time 2.103 seconds\n",
      "0.7738461538461539\n",
      "Training time 137.200 seconds\n",
      "Test time 6.324 seconds\n",
      "0.7749230769230769\n"
     ]
    }
   ],
   "source": [
    "for i in [64, 128, 256, 512]:    \n",
    "    start_time = time.time()\n",
    "    clf_et128 = ExtraTreesClassifier(n_estimators=i, random_state=42)\n",
    "    clf_et128.fit(X_train, y_train.ravel())\n",
    "    train_time = time.time() - start_time\n",
    "    print(\"Training time %.3f seconds\" % train_time)\n",
    "\n",
    "    start_time = time.time()\n",
    "    y_pred_et128 = clf_et128.predict(X_test)\n",
    "    test_time = time.time() - start_time\n",
    "    print(\"Test time %.3f seconds\" % test_time)\n",
    "    print(accuracy_score(y_pred_et128, y_test))"
   ]
  },
  {
   "cell_type": "markdown",
   "metadata": {},
   "source": [
    "### AdaBoost"
   ]
  },
  {
   "cell_type": "code",
   "execution_count": 22,
   "metadata": {},
   "outputs": [
    {
     "name": "stdout",
     "output_type": "stream",
     "text": [
      "Training time 2096.456 seconds\n",
      "Test time 6.920 seconds\n"
     ]
    }
   ],
   "source": [
    "start_time = time.time()\n",
    "clf_ada128 = AdaBoostClassifier(base_estimator=DecisionTreeClassifier(), n_estimators=128)\n",
    "clf_ada128.fit(X_train, y_train.ravel())\n",
    "train_time = time.time() - start_time\n",
    "print(\"Training time %.3f seconds\" % train_time)\n",
    "\n",
    "start_time = time.time()base\n",
    "y_pred_ada128 = clf_ada128.predict(X_test)\n",
    "test_time = time.time() - start_time\n",
    "print(\"Test time %.3f seconds\" % test_time)\n",
    "print(accuracy_score(y_pred_ada128, y_test))"
   ]
  },
  {
   "cell_type": "code",
   "execution_count": 9,
   "metadata": {},
   "outputs": [
    {
     "name": "stdout",
     "output_type": "stream",
     "text": [
      "Training time 1453.031 seconds\n",
      "Test time 4.326 seconds\n",
      "0.8153333333333334\n"
     ]
    }
   ],
   "source": [
    "start_time = time.time()\n",
    "clf_ada128 = AdaBoostClassifier(base_estimator=DecisionTreeClassifier(), n_estimators=128)\n",
    "clf_ada128.fit(X_train_scaled, y_train.ravel())\n",
    "train_time = time.time() - start_time\n",
    "print(\"Training time %.3f seconds\" % train_time)\n",
    "\n",
    "start_time = time.time()\n",
    "y_pred_ada128 = clf_ada128.predict(X_test_scaled)\n",
    "test_time = time.time() - start_time\n",
    "print(\"Test time %.3f seconds\" % test_time)\n",
    "print(accuracy_score(y_pred_ada128, y_test))"
   ]
  },
  {
   "cell_type": "markdown",
   "metadata": {},
   "source": [
    "### Gradient Boosting"
   ]
  },
  {
   "cell_type": "code",
   "execution_count": null,
   "metadata": {},
   "outputs": [],
   "source": [
    "start_time = time.time()\n",
    "clf_gbc128 = GradientBoostingClassifier(n_estimators=128)\n",
    "clf_gbc128.fit(X_train, y_train.ravel())\n",
    "train_time = time.time() - start_time\n",
    "print(\"Training time %.3f seconds\" % train_time)\n",
    "\n",
    "start_time = time.time()\n",
    "y_pred_gbc128 = clf_gbc128.predict(X_test)\n",
    "test_time = time.time() - start_time\n",
    "print(\"Test time %.3f seconds\" % test_time)\n",
    "print(accuracy_score(y_pred_gbc128, y_test))"
   ]
  },
  {
   "cell_type": "code",
   "execution_count": 10,
   "metadata": {},
   "outputs": [
    {
     "name": "stdout",
     "output_type": "stream",
     "text": [
      "Training time 1661.174 seconds\n",
      "Test time 0.782 seconds\n",
      "0.7637435897435897\n"
     ]
    }
   ],
   "source": [
    "start_time = time.time()\n",
    "clf_gbc128 = GradientBoostingClassifier(n_estimators=128)\n",
    "clf_gbc128.fit(X_train_scaled, y_train.ravel())\n",
    "train_time = time.time() - start_time\n",
    "print(\"Training time %.3f seconds\" % train_time)\n",
    "\n",
    "start_time = time.time()\n",
    "y_pred_gbc128 = clf_gbc128.predict(X_test_scaled)\n",
    "test_time = time.time() - start_time\n",
    "print(\"Test time %.3f seconds\" % test_time)\n",
    "print(accuracy_score(y_pred_gbc128, y_test))"
   ]
  },
  {
   "cell_type": "markdown",
   "metadata": {},
   "source": [
    "### Hist-Gradient Boosting"
   ]
  },
  {
   "cell_type": "code",
   "execution_count": null,
   "metadata": {},
   "outputs": [],
   "source": [
    "start_time = time.time()\n",
    "clf_hgb = HistGradientBoostingClassifier()\n",
    "clf_hgb.fit(X_train, y_train.ravel())\n",
    "train_time = time.time() - start_time\n",
    "print(\"Training time %.3f seconds\" % train_time)\n",
    "\n",
    "start_time = time.time()\n",
    "y_pred_hgb = clf_hgb.predict(X_test)\n",
    "test_time = time.time() - start_time\n",
    "print(\"Test time %.3f seconds\" % test_time)\n",
    "print(accuracy_score(y_pred_hgb, y_test))"
   ]
  },
  {
   "cell_type": "code",
   "execution_count": 11,
   "metadata": {},
   "outputs": [
    {
     "name": "stdout",
     "output_type": "stream",
     "text": [
      "Training time 75.479 seconds\n",
      "Test time 0.295 seconds\n",
      "0.884\n"
     ]
    }
   ],
   "source": [
    "start_time = time.time()\n",
    "clf_hgb = HistGradientBoostingClassifier()\n",
    "clf_hgb.fit(X_train_scaled, y_train.ravel())\n",
    "train_time = time.time() - start_time\n",
    "print(\"Training time %.3f seconds\" % train_time)\n",
    "\n",
    "start_time = time.time()\n",
    "y_pred_hgb = clf_hgb.predict(X_test_scaled)\n",
    "test_time = time.time() - start_time\n",
    "print(\"Test time %.3f seconds\" % test_time)\n",
    "print(accuracy_score(y_pred_hgb, y_test))"
   ]
  },
  {
   "cell_type": "markdown",
   "metadata": {},
   "source": [
    "### XgBoost"
   ]
  },
  {
   "cell_type": "markdown",
   "metadata": {},
   "source": [
    "#### softprob vs softmax vs booster=dart: no difference"
   ]
  },
  {
   "cell_type": "code",
   "execution_count": 9,
   "metadata": {},
   "outputs": [
    {
     "name": "stdout",
     "output_type": "stream",
     "text": [
      "Training time 224.640 seconds\n",
      "Test time 0.714 seconds\n",
      "0.9015897435897436\n"
     ]
    }
   ],
   "source": [
    "start_time = time.time()\n",
    "clf_xgb = XGBClassifier(objective=\"multi:softprob\", random_state=42)\n",
    "clf_xgb.fit(X_train_scaled, y_train.ravel())\n",
    "train_time = time.time() - start_time\n",
    "print(\"Training time %.3f seconds\" % train_time)\n",
    "\n",
    "start_time = time.time()\n",
    "y_pred_xgb = clf_xgb.predict(X_test_scaled)\n",
    "test_time = time.time() - start_time\n",
    "print(\"Test time %.3f seconds\" % test_time)\n",
    "print(accuracy_score(y_pred_xgb, y_test))"
   ]
  },
  {
   "cell_type": "code",
   "execution_count": 17,
   "metadata": {},
   "outputs": [
    {
     "name": "stdout",
     "output_type": "stream",
     "text": [
      "Training time 179.980 seconds\n",
      "Test time 0.781 seconds\n",
      "0.9015897435897436\n"
     ]
    }
   ],
   "source": [
    "start_time = time.time()\n",
    "clf_xgb = XGBClassifier(objective=\"multi:softmax\", random_state=42)\n",
    "clf_xgb.fit(X_train_scaled, y_train.ravel())\n",
    "train_time = time.time() - start_time\n",
    "print(\"Training time %.3f seconds\" % train_time)\n",
    "\n",
    "start_time = time.time()\n",
    "y_pred_xgb = clf_xgb.predict(X_test_scaled)\n",
    "test_time = time.time() - start_time\n",
    "print(\"Test time %.3f seconds\" % test_time)\n",
    "print(accuracy_score(y_pred_xgb, y_test))"
   ]
  },
  {
   "cell_type": "code",
   "execution_count": 18,
   "metadata": {},
   "outputs": [
    {
     "name": "stdout",
     "output_type": "stream",
     "text": [
      "Training time 190.935 seconds\n",
      "Test time 0.421 seconds\n",
      "0.9015897435897436\n"
     ]
    }
   ],
   "source": [
    "start_time = time.time()\n",
    "clf_xgb = XGBClassifier(booster=\"dart\", objective=\"multi:softprob\", random_state=42)\n",
    "clf_xgb.fit(X_train_scaled, y_train.ravel())\n",
    "train_time = time.time() - start_time\n",
    "print(\"Training time %.3f seconds\" % train_time)\n",
    "\n",
    "start_time = time.time()\n",
    "y_pred_xgb = clf_xgb.predict(X_test_scaled)\n",
    "test_time = time.time() - start_time\n",
    "print(\"Test time %.3f seconds\" % test_time)\n",
    "print(accuracy_score(y_pred_xgb, y_test))"
   ]
  },
  {
   "cell_type": "markdown",
   "metadata": {},
   "source": [
    "#### Tweaking max depth: BEST IS 10"
   ]
  },
  {
   "cell_type": "code",
   "execution_count": 22,
   "metadata": {},
   "outputs": [
    {
     "name": "stdout",
     "output_type": "stream",
     "text": [
      "Training time 302.435 seconds\n",
      "Test time 0.528 seconds\n",
      "0.9166666666666666\n",
      "Training time 406.403 seconds\n",
      "Test time 0.539 seconds\n",
      "0.9106666666666666\n",
      "Training time 443.501 seconds\n",
      "Test time 0.925 seconds\n",
      "0.9114871794871795\n"
     ]
    }
   ],
   "source": [
    "for i in [10, 20, 30]:\n",
    "    start_time = time.time()\n",
    "    clf_xgb = XGBClassifier(max_depth=i, objective=\"multi:softprob\", random_state=42)\n",
    "    clf_xgb.fit(X_train_scaled, y_train.ravel())\n",
    "    train_time = time.time() - start_time\n",
    "    print(\"Training time %.3f seconds\" % train_time)\n",
    "\n",
    "    start_time = time.time()\n",
    "    y_pred_xgb = clf_xgb.predict(X_test_scaled)\n",
    "    test_time = time.time() - start_time\n",
    "    print(\"Test time %.3f seconds\" % test_time)\n",
    "    print(accuracy_score(y_pred_xgb, y_test))"
   ]
  },
  {
   "cell_type": "code",
   "execution_count": null,
   "metadata": {},
   "outputs": [
    {
     "name": "stdout",
     "output_type": "stream",
     "text": [
      "0\n",
      "Training time 9.089 seconds\n",
      "Test time 0.230 seconds\n",
      "0.2772307692307692\n",
      "2\n",
      "Training time 62.922 seconds\n",
      "Test time 0.272 seconds\n",
      "0.7124102564102565\n",
      "4\n",
      "Training time 120.944 seconds\n",
      "Test time 0.393 seconds\n",
      "0.8463076923076923\n",
      "6\n",
      "Training time 183.841 seconds\n",
      "Test time 0.627 seconds\n",
      "0.9015897435897436\n",
      "8\n",
      "Training time 252.944 seconds\n",
      "Test time 0.507 seconds\n",
      "0.914\n",
      "10\n",
      "Training time 339.122 seconds\n",
      "Test time 0.945 seconds\n",
      "0.9166666666666666\n",
      "12\n",
      "Training time 377.577 seconds\n",
      "Test time 0.634 seconds\n",
      "0.9144615384615384\n",
      "14\n",
      "Training time 389.568 seconds\n",
      "Test time 0.563 seconds\n",
      "0.9124102564102564\n",
      "16\n"
     ]
    }
   ],
   "source": [
    "for i in range(0,20,2):\n",
    "    print(i)\n",
    "    start_time = time.time()\n",
    "    clf_xgb = XGBClassifier(max_depth=i, objective=\"multi:softprob\", random_state=42)\n",
    "    clf_xgb.fit(X_train_scaled, y_train.ravel())\n",
    "    train_time = time.time() - start_time\n",
    "    print(\"Training time %.3f seconds\" % train_time)\n",
    "\n",
    "    start_time = time.time()\n",
    "    y_pred_xgb = clf_xgb.predict(X_test_scaled)\n",
    "    test_time = time.time() - start_time\n",
    "    print(\"Test time %.3f seconds\" % test_time)\n",
    "    print(accuracy_score(y_pred_xgb, y_test))"
   ]
  },
  {
   "cell_type": "markdown",
   "metadata": {},
   "source": [
    "#### Tweaking eta"
   ]
  },
  {
   "cell_type": "code",
   "execution_count": 19,
   "metadata": {},
   "outputs": [
    {
     "name": "stdout",
     "output_type": "stream",
     "text": [
      "Training time 175.416 seconds\n",
      "Test time 0.414 seconds\n",
      "0.8541025641025641\n"
     ]
    }
   ],
   "source": [
    "start_time = time.time()\n",
    "clf_xgb = XGBClassifier(eta=0.1, objective=\"multi:softprob\", random_state=42)\n",
    "clf_xgb.fit(X_train_scaled, y_train.ravel())\n",
    "train_time = time.time() - start_time\n",
    "print(\"Training time %.3f seconds\" % train_time)\n",
    "\n",
    "start_time = time.time()\n",
    "y_pred_xgb = clf_xgb.predict(X_test_scaled)\n",
    "test_time = time.time() - start_time\n",
    "print(\"Test time %.3f seconds\" % test_time)\n",
    "print(accuracy_score(y_pred_xgb, y_test))"
   ]
  },
  {
   "cell_type": "code",
   "execution_count": 10,
   "metadata": {},
   "outputs": [
    {
     "name": "stdout",
     "output_type": "stream",
     "text": [
      "Training time 186.497 seconds\n",
      "Test time 0.728 seconds\n",
      "0.8882564102564102\n",
      "Training time 181.293 seconds\n",
      "Test time 0.517 seconds\n",
      "0.9015897435897436\n",
      "Training time 191.717 seconds\n",
      "Test time 0.442 seconds\n",
      "0.9063076923076923\n"
     ]
    }
   ],
   "source": [
    "for i in [0.2, 0.3, 0.4]:    \n",
    "    start_time = time.time()\n",
    "    clf_xgb = XGBClassifier(eta=i, objective=\"multi:softprob\", random_state=42)\n",
    "    clf_xgb.fit(X_train_scaled, y_train.ravel())\n",
    "    train_time = time.time() - start_time\n",
    "    print(\"Training time %.3f seconds\" % train_time)\n",
    "\n",
    "    start_time = time.time()\n",
    "    y_pred_xgb = clf_xgb.predict(X_test_scaled)\n",
    "    test_time = time.time() - start_time\n",
    "    print(\"Test time %.3f seconds\" % test_time)\n",
    "    print(accuracy_score(y_pred_xgb, y_test))"
   ]
  },
  {
   "cell_type": "code",
   "execution_count": 11,
   "metadata": {},
   "outputs": [
    {
     "name": "stdout",
     "output_type": "stream",
     "text": [
      "Training time 187.500 seconds\n",
      "Test time 0.439 seconds\n",
      "0.9068205128205128\n",
      "Training time 197.042 seconds\n",
      "Test time 0.463 seconds\n",
      "0.9063589743589744\n",
      "Training time 206.363 seconds\n",
      "Test time 0.720 seconds\n",
      "0.905025641025641\n"
     ]
    }
   ],
   "source": [
    "for i in [0.5, 0.7, 1]:    \n",
    "    start_time = time.time()\n",
    "    clf_xgb = XGBClassifier(eta=i, objective=\"multi:softprob\", random_state=42)\n",
    "    clf_xgb.fit(X_train_scaled, y_train.ravel())\n",
    "    train_time = time.time() - start_time\n",
    "    print(\"Training time %.3f seconds\" % train_time)\n",
    "\n",
    "    start_time = time.time()\n",
    "    y_pred_xgb = clf_xgb.predict(X_test_scaled)\n",
    "    test_time = time.time() - start_time\n",
    "    print(\"Test time %.3f seconds\" % test_time)\n",
    "    print(accuracy_score(y_pred_xgb, y_test))"
   ]
  },
  {
   "cell_type": "code",
   "execution_count": 13,
   "metadata": {},
   "outputs": [
    {
     "name": "stdout",
     "output_type": "stream",
     "text": [
      "0.55\n",
      "Training time 383.644 seconds\n",
      "Test time 1.126 seconds\n",
      "0.9063589743589744\n",
      "0.6\n",
      "Training time 304.237 seconds\n",
      "Test time 0.507 seconds\n",
      "0.9108717948717949\n",
      "0.65\n",
      "Training time 193.745 seconds\n",
      "Test time 0.519 seconds\n",
      "0.9114358974358975\n"
     ]
    }
   ],
   "source": [
    "for i in [0.55, 0.6, 0.65]:\n",
    "    print(i)\n",
    "    start_time = time.time()\n",
    "    clf_xgb = XGBClassifier(eta=i, objective=\"multi:softprob\", random_state=42)\n",
    "    clf_xgb.fit(X_train_scaled, y_train.ravel())\n",
    "    train_time = time.time() - start_time\n",
    "    print(\"Training time %.3f seconds\" % train_time)\n",
    "\n",
    "    start_time = time.time()\n",
    "    y_pred_xgb = clf_xgb.predict(X_test_scaled)\n",
    "    test_time = time.time() - start_time\n",
    "    print(\"Test time %.3f seconds\" % test_time)\n",
    "    print(accuracy_score(y_pred_xgb, y_test))"
   ]
  },
  {
   "cell_type": "code",
   "execution_count": 17,
   "metadata": {},
   "outputs": [
    {
     "name": "stdout",
     "output_type": "stream",
     "text": [
      "0.7\n",
      "Training time 187.440 seconds\n",
      "Test time 0.444 seconds\n",
      "0.9063589743589744\n"
     ]
    }
   ],
   "source": [
    "for i in [0.7]:\n",
    "    print(i)\n",
    "    start_time = time.time()\n",
    "    clf_xgb = XGBClassifier(eta=i, objective=\"multi:softprob\", random_state=42)\n",
    "    clf_xgb.fit(X_train_scaled, y_train.ravel())\n",
    "    train_time = time.time() - start_time\n",
    "    print(\"Training time %.3f seconds\" % train_time)\n",
    "\n",
    "    start_time = time.time()\n",
    "    y_pred_xgb = clf_xgb.predict(X_test_scaled)\n",
    "    test_time = time.time() - start_time\n",
    "    print(\"Test time %.3f seconds\" % test_time)\n",
    "    print(accuracy_score(y_pred_xgb, y_test))"
   ]
  },
  {
   "cell_type": "markdown",
   "metadata": {},
   "source": [
    "#### Tweaking gamma"
   ]
  },
  {
   "cell_type": "code",
   "execution_count": 14,
   "metadata": {},
   "outputs": [
    {
     "name": "stdout",
     "output_type": "stream",
     "text": [
      "Training time 311.273 seconds\n",
      "Test time 1.018 seconds\n",
      "0.900051282051282\n",
      "Training time 364.592 seconds\n",
      "Test time 0.691 seconds\n",
      "0.8997435897435897\n",
      "Training time 357.922 seconds\n",
      "Test time 0.740 seconds\n",
      "0.9004102564102564\n"
     ]
    }
   ],
   "source": [
    "for i in [0.1, 0.2, 0.3]:   \n",
    "    start_time = time.time()\n",
    "    clf_xgb = XGBClassifier(gamma=i, objective=\"multi:softprob\", random_state=42)\n",
    "    clf_xgb.fit(X_train_scaled, y_train.ravel())\n",
    "    train_time = time.time() - start_time\n",
    "    print(\"Training time %.3f seconds\" % train_time)\n",
    "\n",
    "    start_time = time.time()\n",
    "    y_pred_xgb = clf_xgb.predict(X_test_scaled)\n",
    "    test_time = time.time() - start_time\n",
    "    print(\"Test time %.3f seconds\" % test_time)\n",
    "    print(accuracy_score(y_pred_xgb, y_test))"
   ]
  },
  {
   "cell_type": "code",
   "execution_count": 12,
   "metadata": {},
   "outputs": [
    {
     "name": "stdout",
     "output_type": "stream",
     "text": [
      "Training time 199.486 seconds\n",
      "Test time 0.748 seconds\n",
      "0.8995384615384615\n",
      "Training time 349.792 seconds\n",
      "Test time 1.004 seconds\n",
      "0.8975384615384615\n"
     ]
    }
   ],
   "source": [
    "for i in [0.5, 1]:   \n",
    "    start_time = time.time()\n",
    "    clf_xgb = XGBClassifier(gamma=i, objective=\"multi:softprob\", random_state=42)\n",
    "    clf_xgb.fit(X_train_scaled, y_train.ravel())\n",
    "    train_time = time.time() - start_time\n",
    "    print(\"Training time %.3f seconds\" % train_time)\n",
    "\n",
    "    start_time = time.time()\n",
    "    y_pred_xgb = clf_xgb.predict(X_test_scaled)\n",
    "    test_time = time.time() - start_time\n",
    "    print(\"Test time %.3f seconds\" % test_time)\n",
    "    print(accuracy_score(y_pred_xgb, y_test))"
   ]
  },
  {
   "cell_type": "code",
   "execution_count": 20,
   "metadata": {},
   "outputs": [
    {
     "name": "stdout",
     "output_type": "stream",
     "text": [
      "Training time 175.099 seconds\n",
      "Test time 0.413 seconds\n",
      "0.876\n"
     ]
    }
   ],
   "source": [
    "start_time = time.time()\n",
    "clf_xgb = XGBClassifier(gamma=5, objective=\"multi:softprob\", random_state=42)\n",
    "clf_xgb.fit(X_train_scaled, y_train.ravel())\n",
    "train_time = time.time() - start_time\n",
    "print(\"Training time %.3f seconds\" % train_time)\n",
    "\n",
    "start_time = time.time()\n",
    "y_pred_xgb = clf_xgb.predict(X_test_scaled)\n",
    "test_time = time.time() - start_time\n",
    "print(\"Test time %.3f seconds\" % test_time)\n",
    "print(accuracy_score(y_pred_xgb, y_test))"
   ]
  },
  {
   "cell_type": "code",
   "execution_count": 21,
   "metadata": {},
   "outputs": [
    {
     "name": "stdout",
     "output_type": "stream",
     "text": [
      "Training time 174.871 seconds\n",
      "Test time 0.342 seconds\n",
      "0.8423076923076923\n"
     ]
    }
   ],
   "source": [
    "start_time = time.time()\n",
    "clf_xgb = XGBClassifier(gamma=10, objective=\"multi:softprob\", random_state=42)\n",
    "clf_xgb.fit(X_train_scaled, y_train.ravel())\n",
    "train_time = time.time() - start_time\n",
    "print(\"Training time %.3f seconds\" % train_time)\n",
    "\n",
    "start_time = time.time()\n",
    "y_pred_xgb = clf_xgb.predict(X_test_scaled)\n",
    "test_time = time.time() - start_time\n",
    "print(\"Test time %.3f seconds\" % test_time)\n",
    "print(accuracy_score(y_pred_xgb, y_test))"
   ]
  },
  {
   "cell_type": "markdown",
   "metadata": {},
   "source": [
    "#### Tweaking lambda"
   ]
  },
  {
   "cell_type": "code",
   "execution_count": 15,
   "metadata": {},
   "outputs": [
    {
     "name": "stdout",
     "output_type": "stream",
     "text": [
      "Training time 328.231 seconds\n",
      "Test time 0.633 seconds\n",
      "0.9005128205128206\n",
      "Training time 374.796 seconds\n",
      "Test time 0.688 seconds\n",
      "0.9009230769230769\n"
     ]
    }
   ],
   "source": [
    "for i in [0.9, 1.1]:    \n",
    "    start_time = time.time()\n",
    "    clf_xgb = XGBClassifier(reg_lambda=i, objective=\"multi:softprob\", random_state=42)\n",
    "    clf_xgb.fit(X_train_scaled, y_train.ravel())\n",
    "    train_time = time.time() - start_time\n",
    "    print(\"Training time %.3f seconds\" % train_time)\n",
    "\n",
    "    start_time = time.time()\n",
    "    y_pred_xgb = clf_xgb.predict(X_test_scaled)\n",
    "    test_time = time.time() - start_time\n",
    "    print(\"Test time %.3f seconds\" % test_time)\n",
    "    print(accuracy_score(y_pred_xgb, y_test))"
   ]
  },
  {
   "cell_type": "code",
   "execution_count": 9,
   "metadata": {},
   "outputs": [
    {
     "name": "stdout",
     "output_type": "stream",
     "text": [
      "Training time 374.646 seconds\n",
      "Test time 1.267 seconds\n",
      "0.9010769230769231\n",
      "Training time 360.347 seconds\n",
      "Test time 0.899 seconds\n",
      "0.8981538461538462\n",
      "Training time 302.363 seconds\n",
      "Test time 0.810 seconds\n",
      "0.9012307692307693\n",
      "Training time 311.062 seconds\n",
      "Test time 0.715 seconds\n",
      "0.9014871794871795\n"
     ]
    }
   ],
   "source": [
    "for i in [0.95, 0.98, 1.02, 1.05]:    \n",
    "    start_time = time.time()\n",
    "    clf_xgb = XGBClassifier(reg_lambda=i, objective=\"multi:softprob\", random_state=42)\n",
    "    clf_xgb.fit(X_train_scaled, y_train.ravel())\n",
    "    train_time = time.time() - start_time\n",
    "    print(\"Training time %.3f seconds\" % train_time)\n",
    "\n",
    "    start_time = time.time()\n",
    "    y_pred_xgb = clf_xgb.predict(X_test_scaled)\n",
    "    test_time = time.time() - start_time\n",
    "    print(\"Test time %.3f seconds\" % test_time)\n",
    "    print(accuracy_score(y_pred_xgb, y_test))"
   ]
  },
  {
   "cell_type": "markdown",
   "metadata": {},
   "source": [
    "#### Tweaking alpha"
   ]
  },
  {
   "cell_type": "code",
   "execution_count": 16,
   "metadata": {},
   "outputs": [
    {
     "name": "stdout",
     "output_type": "stream",
     "text": [
      "Training time 231.749 seconds\n",
      "Test time 0.496 seconds\n",
      "0.8996410256410257\n",
      "Training time 196.597 seconds\n",
      "Test time 0.459 seconds\n",
      "0.8991794871794871\n",
      "Training time 205.284 seconds\n",
      "Test time 0.427 seconds\n",
      "0.900974358974359\n"
     ]
    }
   ],
   "source": [
    "for i in [0.1, 0.5, 1]:    \n",
    "    start_time = time.time()\n",
    "    clf_xgb = XGBClassifier(reg_alpha=i, objective=\"multi:softprob\", random_state=42)\n",
    "    clf_xgb.fit(X_train_scaled, y_train.ravel())\n",
    "    train_time = time.time() - start_time\n",
    "    print(\"Training time %.3f seconds\" % train_time)\n",
    "\n",
    "    start_time = time.time()\n",
    "    y_pred_xgb = clf_xgb.predict(X_test_scaled)\n",
    "    test_time = time.time() - start_time\n",
    "    print(\"Test time %.3f seconds\" % test_time)\n",
    "    print(accuracy_score(y_pred_xgb, y_test))"
   ]
  },
  {
   "cell_type": "code",
   "execution_count": 10,
   "metadata": {},
   "outputs": [
    {
     "name": "stdout",
     "output_type": "stream",
     "text": [
      "0.01\n",
      "Training time 351.148 seconds\n",
      "Test time 0.990 seconds\n",
      "0.9001025641025641\n",
      "0.05\n",
      "Training time 355.846 seconds\n",
      "Test time 0.857 seconds\n",
      "0.899948717948718\n",
      "1.5\n",
      "Training time 282.497 seconds\n",
      "Test time 0.797 seconds\n",
      "0.8964615384615384\n",
      "2\n",
      "Training time 328.550 seconds\n",
      "Test time 0.646 seconds\n",
      "0.8981025641025641\n",
      "3\n",
      "Training time 357.091 seconds\n",
      "Test time 0.717 seconds\n",
      "0.8946153846153846\n",
      "5\n",
      "Training time 330.759 seconds\n",
      "Test time 0.718 seconds\n",
      "0.8916923076923077\n",
      "7\n",
      "Training time 283.688 seconds\n",
      "Test time 0.743 seconds\n",
      "0.8885128205128205\n"
     ]
    }
   ],
   "source": [
    "for i in [0.01, 0.05, 1.5, 2, 3, 5, 7]:    \n",
    "    print(i)\n",
    "    start_time = time.time()\n",
    "    clf_xgb = XGBClassifier(reg_alpha=i, objective=\"multi:softprob\", random_state=42)\n",
    "    clf_xgb.fit(X_train_scaled, y_train.ravel())\n",
    "    train_time = time.time() - start_time\n",
    "    print(\"Training time %.3f seconds\" % train_time)\n",
    "\n",
    "    start_time = time.time()\n",
    "    y_pred_xgb = clf_xgb.predict(X_test_scaled)\n",
    "    test_time = time.time() - start_time\n",
    "    print(\"Test time %.3f seconds\" % test_time)\n",
    "    print(accuracy_score(y_pred_xgb, y_test))"
   ]
  },
  {
   "cell_type": "markdown",
   "metadata": {},
   "source": [
    "#### With max depth=10"
   ]
  },
  {
   "cell_type": "code",
   "execution_count": 18,
   "metadata": {},
   "outputs": [
    {
     "name": "stdout",
     "output_type": "stream",
     "text": [
      "0.5\n",
      "Training time 296.283 seconds\n",
      "Test time 0.569 seconds\n",
      "0.9161025641025641\n",
      "0.6\n",
      "Training time 291.453 seconds\n",
      "Test time 0.525 seconds\n",
      "0.9141538461538462\n",
      "0.7\n",
      "Training time 286.158 seconds\n",
      "Test time 0.537 seconds\n",
      "0.9113846153846153\n"
     ]
    }
   ],
   "source": [
    "for i in [0.5, 0.6, 0.7]:\n",
    "    print(i)\n",
    "    start_time = time.time()\n",
    "    clf_xgb = XGBClassifier(max_depth=10, eta=i, objective=\"multi:softprob\", random_state=42)\n",
    "    clf_xgb.fit(X_train_scaled, y_train.ravel())\n",
    "    train_time = time.time() - start_time\n",
    "    print(\"Training time %.3f seconds\" % train_time)\n",
    "\n",
    "    start_time = time.time()\n",
    "    y_pred_xgb = clf_xgb.predict(X_test_scaled)\n",
    "    test_time = time.time() - start_time\n",
    "    print(\"Test time %.3f seconds\" % test_time)\n",
    "    print(accuracy_score(y_pred_xgb, y_test))"
   ]
  },
  {
   "cell_type": "code",
   "execution_count": 19,
   "metadata": {},
   "outputs": [
    {
     "name": "stdout",
     "output_type": "stream",
     "text": [
      "0.4\n",
      "Training time 294.988 seconds\n",
      "Test time 0.570 seconds\n",
      "0.9166153846153846\n",
      "0.3\n",
      "Training time 305.023 seconds\n",
      "Test time 0.520 seconds\n",
      "0.9166666666666666\n",
      "0.2\n",
      "Training time 348.655 seconds\n",
      "Test time 1.147 seconds\n",
      "0.9157948717948718\n"
     ]
    }
   ],
   "source": [
    "for i in [0.4, 0.3, 0.2]:\n",
    "    print(i)\n",
    "    start_time = time.time()\n",
    "    clf_xgb = XGBClassifier(max_depth=10, eta=i, objective=\"multi:softprob\", random_state=42)\n",
    "    clf_xgb.fit(X_train_scaled, y_train.ravel())\n",
    "    train_time = time.time() - start_time\n",
    "    print(\"Training time %.3f seconds\" % train_time)\n",
    "\n",
    "    start_time = time.time()\n",
    "    y_pred_xgb = clf_xgb.predict(X_test_scaled)\n",
    "    test_time = time.time() - start_time\n",
    "    print(\"Test time %.3f seconds\" % test_time)\n",
    "    print(accuracy_score(y_pred_xgb, y_test))"
   ]
  },
  {
   "cell_type": "code",
   "execution_count": 8,
   "metadata": {},
   "outputs": [
    {
     "name": "stdout",
     "output_type": "stream",
     "text": [
      "0.35\n",
      "Training time 604.028 seconds\n",
      "Test time 1.254 seconds\n",
      "0.9160512820512821\n",
      "0.25\n",
      "Training time 637.266 seconds\n",
      "Test time 1.084 seconds\n",
      "0.9161538461538462\n"
     ]
    }
   ],
   "source": [
    "for i in [0.35, 0.25]:\n",
    "    print(i)\n",
    "    start_time = time.time()\n",
    "    clf_xgb = XGBClassifier(max_depth=10, eta=i, objective=\"multi:softprob\", random_state=42)\n",
    "    clf_xgb.fit(X_train_scaled, y_train.ravel())\n",
    "    train_time = time.time() - start_time\n",
    "    print(\"Training time %.3f seconds\" % train_time)\n",
    "\n",
    "    start_time = time.time()\n",
    "    y_pred_xgb = clf_xgb.predict(X_test_scaled)\n",
    "    test_time = time.time() - start_time\n",
    "    print(\"Test time %.3f seconds\" % test_time)\n",
    "    print(accuracy_score(y_pred_xgb, y_test))"
   ]
  },
  {
   "cell_type": "markdown",
   "metadata": {},
   "source": [
    "### From the start, test n_estimators"
   ]
  },
  {
   "cell_type": "code",
   "execution_count": 12,
   "metadata": {},
   "outputs": [
    {
     "name": "stdout",
     "output_type": "stream",
     "text": [
      "Training time 195.420 seconds\n",
      "Test time 1.098 seconds\n",
      "0.7913846153846154\n"
     ]
    }
   ],
   "source": [
    "start_time = time.time()\n",
    "clf_xgb = XGBClassifier(max_depth=3, n_estimators=100, objective=\"multi:softprob\", random_state=42)\n",
    "clf_xgb.fit(X_train_scaled, y_train.ravel())\n",
    "train_time = time.time() - start_time\n",
    "print(\"Training time %.3f seconds\" % train_time)\n",
    "\n",
    "start_time = time.time()\n",
    "y_pred_xgb = clf_xgb.predict(X_test_scaled)\n",
    "test_time = time.time() - start_time\n",
    "print(\"Test time %.3f seconds\" % test_time)\n",
    "print(accuracy_score(y_pred_xgb, y_test))"
   ]
  },
  {
   "cell_type": "code",
   "execution_count": 7,
   "metadata": {
    "collapsed": true,
    "jupyter": {
     "outputs_hidden": true
    }
   },
   "outputs": [
    {
     "name": "stdout",
     "output_type": "stream",
     "text": [
      "[0]\tvalidation_0-merror:0.07530\tvalidation_0-mlogloss:1.57594\tvalidation_1-merror:0.21231\tvalidation_1-mlogloss:1.61019\n",
      "Multiple eval metrics have been passed: 'validation_1-mlogloss' will be used for early stopping.\n",
      "\n",
      "Will train until validation_1-mlogloss hasn't improved in 15 rounds.\n",
      "[1]\tvalidation_0-merror:0.05519\tvalidation_0-mlogloss:1.40549\tvalidation_1-merror:0.18800\tvalidation_1-mlogloss:1.46831\n",
      "[2]\tvalidation_0-merror:0.04448\tvalidation_0-mlogloss:1.26339\tvalidation_1-merror:0.16959\tvalidation_1-mlogloss:1.35023\n",
      "[3]\tvalidation_0-merror:0.03954\tvalidation_0-mlogloss:1.14277\tvalidation_1-merror:0.16220\tvalidation_1-mlogloss:1.25010\n",
      "[4]\tvalidation_0-merror:0.03613\tvalidation_0-mlogloss:1.03995\tvalidation_1-merror:0.15969\tvalidation_1-mlogloss:1.16498\n",
      "[5]\tvalidation_0-merror:0.03327\tvalidation_0-mlogloss:0.94954\tvalidation_1-merror:0.15421\tvalidation_1-mlogloss:1.08992\n",
      "[6]\tvalidation_0-merror:0.03002\tvalidation_0-mlogloss:0.87013\tvalidation_1-merror:0.15046\tvalidation_1-mlogloss:1.02371\n",
      "[7]\tvalidation_0-merror:0.02675\tvalidation_0-mlogloss:0.79876\tvalidation_1-merror:0.14661\tvalidation_1-mlogloss:0.96512\n",
      "[8]\tvalidation_0-merror:0.02420\tvalidation_0-mlogloss:0.73555\tvalidation_1-merror:0.14349\tvalidation_1-mlogloss:0.91302\n",
      "[9]\tvalidation_0-merror:0.02215\tvalidation_0-mlogloss:0.67928\tvalidation_1-merror:0.14072\tvalidation_1-mlogloss:0.86694\n",
      "[10]\tvalidation_0-merror:0.02046\tvalidation_0-mlogloss:0.62779\tvalidation_1-merror:0.13780\tvalidation_1-mlogloss:0.82476\n",
      "[11]\tvalidation_0-merror:0.01934\tvalidation_0-mlogloss:0.58173\tvalidation_1-merror:0.13600\tvalidation_1-mlogloss:0.78655\n",
      "[12]\tvalidation_0-merror:0.01811\tvalidation_0-mlogloss:0.53928\tvalidation_1-merror:0.13446\tvalidation_1-mlogloss:0.75080\n",
      "[13]\tvalidation_0-merror:0.01725\tvalidation_0-mlogloss:0.50118\tvalidation_1-merror:0.13313\tvalidation_1-mlogloss:0.71937\n",
      "[14]\tvalidation_0-merror:0.01600\tvalidation_0-mlogloss:0.46545\tvalidation_1-merror:0.12995\tvalidation_1-mlogloss:0.68950\n",
      "[15]\tvalidation_0-merror:0.01510\tvalidation_0-mlogloss:0.43359\tvalidation_1-merror:0.12882\tvalidation_1-mlogloss:0.66202\n",
      "[16]\tvalidation_0-merror:0.01387\tvalidation_0-mlogloss:0.40398\tvalidation_1-merror:0.12769\tvalidation_1-mlogloss:0.63640\n",
      "[17]\tvalidation_0-merror:0.01316\tvalidation_0-mlogloss:0.37681\tvalidation_1-merror:0.12703\tvalidation_1-mlogloss:0.61215\n",
      "[18]\tvalidation_0-merror:0.01231\tvalidation_0-mlogloss:0.35186\tvalidation_1-merror:0.12569\tvalidation_1-mlogloss:0.59094\n",
      "[19]\tvalidation_0-merror:0.01174\tvalidation_0-mlogloss:0.32884\tvalidation_1-merror:0.12313\tvalidation_1-mlogloss:0.57060\n",
      "[20]\tvalidation_0-merror:0.01134\tvalidation_0-mlogloss:0.30815\tvalidation_1-merror:0.12190\tvalidation_1-mlogloss:0.55251\n",
      "[21]\tvalidation_0-merror:0.01064\tvalidation_0-mlogloss:0.28876\tvalidation_1-merror:0.12010\tvalidation_1-mlogloss:0.53507\n",
      "[22]\tvalidation_0-merror:0.01026\tvalidation_0-mlogloss:0.27133\tvalidation_1-merror:0.11959\tvalidation_1-mlogloss:0.52003\n",
      "[23]\tvalidation_0-merror:0.00985\tvalidation_0-mlogloss:0.25515\tvalidation_1-merror:0.11903\tvalidation_1-mlogloss:0.50571\n",
      "[24]\tvalidation_0-merror:0.00912\tvalidation_0-mlogloss:0.23981\tvalidation_1-merror:0.11739\tvalidation_1-mlogloss:0.49173\n",
      "[25]\tvalidation_0-merror:0.00879\tvalidation_0-mlogloss:0.22534\tvalidation_1-merror:0.11646\tvalidation_1-mlogloss:0.47872\n",
      "[26]\tvalidation_0-merror:0.00829\tvalidation_0-mlogloss:0.21199\tvalidation_1-merror:0.11492\tvalidation_1-mlogloss:0.46627\n",
      "[27]\tvalidation_0-merror:0.00798\tvalidation_0-mlogloss:0.19966\tvalidation_1-merror:0.11451\tvalidation_1-mlogloss:0.45467\n",
      "[28]\tvalidation_0-merror:0.00749\tvalidation_0-mlogloss:0.18811\tvalidation_1-merror:0.11364\tvalidation_1-mlogloss:0.44393\n",
      "[29]\tvalidation_0-merror:0.00721\tvalidation_0-mlogloss:0.17773\tvalidation_1-merror:0.11359\tvalidation_1-mlogloss:0.43417\n",
      "[30]\tvalidation_0-merror:0.00699\tvalidation_0-mlogloss:0.16809\tvalidation_1-merror:0.11359\tvalidation_1-mlogloss:0.42487\n",
      "[31]\tvalidation_0-merror:0.00677\tvalidation_0-mlogloss:0.15932\tvalidation_1-merror:0.11297\tvalidation_1-mlogloss:0.41646\n",
      "[32]\tvalidation_0-merror:0.00642\tvalidation_0-mlogloss:0.15086\tvalidation_1-merror:0.11169\tvalidation_1-mlogloss:0.40840\n",
      "[33]\tvalidation_0-merror:0.00611\tvalidation_0-mlogloss:0.14328\tvalidation_1-merror:0.11077\tvalidation_1-mlogloss:0.40089\n",
      "[34]\tvalidation_0-merror:0.00598\tvalidation_0-mlogloss:0.13601\tvalidation_1-merror:0.10980\tvalidation_1-mlogloss:0.39370\n",
      "[35]\tvalidation_0-merror:0.00571\tvalidation_0-mlogloss:0.12948\tvalidation_1-merror:0.10908\tvalidation_1-mlogloss:0.38713\n",
      "[36]\tvalidation_0-merror:0.00563\tvalidation_0-mlogloss:0.12322\tvalidation_1-merror:0.10805\tvalidation_1-mlogloss:0.38091\n",
      "[37]\tvalidation_0-merror:0.00545\tvalidation_0-mlogloss:0.11745\tvalidation_1-merror:0.10846\tvalidation_1-mlogloss:0.37535\n",
      "[38]\tvalidation_0-merror:0.00543\tvalidation_0-mlogloss:0.11215\tvalidation_1-merror:0.10790\tvalidation_1-mlogloss:0.36965\n",
      "[39]\tvalidation_0-merror:0.00530\tvalidation_0-mlogloss:0.10715\tvalidation_1-merror:0.10718\tvalidation_1-mlogloss:0.36438\n",
      "[40]\tvalidation_0-merror:0.00521\tvalidation_0-mlogloss:0.10248\tvalidation_1-merror:0.10646\tvalidation_1-mlogloss:0.35964\n",
      "[41]\tvalidation_0-merror:0.00510\tvalidation_0-mlogloss:0.09817\tvalidation_1-merror:0.10615\tvalidation_1-mlogloss:0.35494\n",
      "[42]\tvalidation_0-merror:0.00492\tvalidation_0-mlogloss:0.09409\tvalidation_1-merror:0.10528\tvalidation_1-mlogloss:0.35061\n",
      "[43]\tvalidation_0-merror:0.00486\tvalidation_0-mlogloss:0.09037\tvalidation_1-merror:0.10482\tvalidation_1-mlogloss:0.34683\n",
      "[44]\tvalidation_0-merror:0.00473\tvalidation_0-mlogloss:0.08663\tvalidation_1-merror:0.10405\tvalidation_1-mlogloss:0.34278\n",
      "[45]\tvalidation_0-merror:0.00470\tvalidation_0-mlogloss:0.08337\tvalidation_1-merror:0.10482\tvalidation_1-mlogloss:0.33931\n",
      "[46]\tvalidation_0-merror:0.00464\tvalidation_0-mlogloss:0.08034\tvalidation_1-merror:0.10421\tvalidation_1-mlogloss:0.33607\n",
      "[47]\tvalidation_0-merror:0.00455\tvalidation_0-mlogloss:0.07729\tvalidation_1-merror:0.10405\tvalidation_1-mlogloss:0.33251\n",
      "[48]\tvalidation_0-merror:0.00448\tvalidation_0-mlogloss:0.07460\tvalidation_1-merror:0.10349\tvalidation_1-mlogloss:0.32963\n",
      "[49]\tvalidation_0-merror:0.00437\tvalidation_0-mlogloss:0.07198\tvalidation_1-merror:0.10405\tvalidation_1-mlogloss:0.32653\n",
      "[50]\tvalidation_0-merror:0.00431\tvalidation_0-mlogloss:0.06954\tvalidation_1-merror:0.10349\tvalidation_1-mlogloss:0.32371\n",
      "[51]\tvalidation_0-merror:0.00420\tvalidation_0-mlogloss:0.06735\tvalidation_1-merror:0.10379\tvalidation_1-mlogloss:0.32111\n",
      "[52]\tvalidation_0-merror:0.00418\tvalidation_0-mlogloss:0.06513\tvalidation_1-merror:0.10318\tvalidation_1-mlogloss:0.31845\n",
      "[53]\tvalidation_0-merror:0.00409\tvalidation_0-mlogloss:0.06312\tvalidation_1-merror:0.10282\tvalidation_1-mlogloss:0.31608\n",
      "[54]\tvalidation_0-merror:0.00402\tvalidation_0-mlogloss:0.06106\tvalidation_1-merror:0.10215\tvalidation_1-mlogloss:0.31379\n",
      "[55]\tvalidation_0-merror:0.00402\tvalidation_0-mlogloss:0.05919\tvalidation_1-merror:0.10226\tvalidation_1-mlogloss:0.31139\n",
      "[56]\tvalidation_0-merror:0.00400\tvalidation_0-mlogloss:0.05735\tvalidation_1-merror:0.10179\tvalidation_1-mlogloss:0.30951\n",
      "[57]\tvalidation_0-merror:0.00396\tvalidation_0-mlogloss:0.05567\tvalidation_1-merror:0.10144\tvalidation_1-mlogloss:0.30738\n",
      "[58]\tvalidation_0-merror:0.00391\tvalidation_0-mlogloss:0.05405\tvalidation_1-merror:0.10087\tvalidation_1-mlogloss:0.30549\n",
      "[59]\tvalidation_0-merror:0.00389\tvalidation_0-mlogloss:0.05263\tvalidation_1-merror:0.10056\tvalidation_1-mlogloss:0.30399\n",
      "[60]\tvalidation_0-merror:0.00385\tvalidation_0-mlogloss:0.05118\tvalidation_1-merror:0.10010\tvalidation_1-mlogloss:0.30250\n",
      "[61]\tvalidation_0-merror:0.00385\tvalidation_0-mlogloss:0.04976\tvalidation_1-merror:0.10005\tvalidation_1-mlogloss:0.30078\n",
      "[62]\tvalidation_0-merror:0.00385\tvalidation_0-mlogloss:0.04851\tvalidation_1-merror:0.10015\tvalidation_1-mlogloss:0.29960\n",
      "[63]\tvalidation_0-merror:0.00385\tvalidation_0-mlogloss:0.04733\tvalidation_1-merror:0.09959\tvalidation_1-mlogloss:0.29814\n",
      "[64]\tvalidation_0-merror:0.00380\tvalidation_0-mlogloss:0.04618\tvalidation_1-merror:0.09897\tvalidation_1-mlogloss:0.29648\n",
      "[65]\tvalidation_0-merror:0.00382\tvalidation_0-mlogloss:0.04499\tvalidation_1-merror:0.09851\tvalidation_1-mlogloss:0.29509\n",
      "[66]\tvalidation_0-merror:0.00378\tvalidation_0-mlogloss:0.04393\tvalidation_1-merror:0.09872\tvalidation_1-mlogloss:0.29377\n",
      "[67]\tvalidation_0-merror:0.00376\tvalidation_0-mlogloss:0.04274\tvalidation_1-merror:0.09815\tvalidation_1-mlogloss:0.29215\n",
      "[68]\tvalidation_0-merror:0.00374\tvalidation_0-mlogloss:0.04183\tvalidation_1-merror:0.09810\tvalidation_1-mlogloss:0.29101\n",
      "[69]\tvalidation_0-merror:0.00369\tvalidation_0-mlogloss:0.04079\tvalidation_1-merror:0.09774\tvalidation_1-mlogloss:0.28976\n",
      "[70]\tvalidation_0-merror:0.00369\tvalidation_0-mlogloss:0.03985\tvalidation_1-merror:0.09780\tvalidation_1-mlogloss:0.28864\n",
      "[71]\tvalidation_0-merror:0.00369\tvalidation_0-mlogloss:0.03899\tvalidation_1-merror:0.09759\tvalidation_1-mlogloss:0.28756\n",
      "[72]\tvalidation_0-merror:0.00365\tvalidation_0-mlogloss:0.03815\tvalidation_1-merror:0.09738\tvalidation_1-mlogloss:0.28647\n",
      "[73]\tvalidation_0-merror:0.00360\tvalidation_0-mlogloss:0.03729\tvalidation_1-merror:0.09738\tvalidation_1-mlogloss:0.28520\n",
      "[74]\tvalidation_0-merror:0.00354\tvalidation_0-mlogloss:0.03656\tvalidation_1-merror:0.09703\tvalidation_1-mlogloss:0.28424\n",
      "[75]\tvalidation_0-merror:0.00356\tvalidation_0-mlogloss:0.03584\tvalidation_1-merror:0.09692\tvalidation_1-mlogloss:0.28344\n",
      "[76]\tvalidation_0-merror:0.00356\tvalidation_0-mlogloss:0.03512\tvalidation_1-merror:0.09682\tvalidation_1-mlogloss:0.28265\n",
      "[77]\tvalidation_0-merror:0.00356\tvalidation_0-mlogloss:0.03443\tvalidation_1-merror:0.09615\tvalidation_1-mlogloss:0.28165\n",
      "[78]\tvalidation_0-merror:0.00356\tvalidation_0-mlogloss:0.03373\tvalidation_1-merror:0.09646\tvalidation_1-mlogloss:0.28074\n",
      "[79]\tvalidation_0-merror:0.00356\tvalidation_0-mlogloss:0.03304\tvalidation_1-merror:0.09646\tvalidation_1-mlogloss:0.27995\n",
      "[80]\tvalidation_0-merror:0.00352\tvalidation_0-mlogloss:0.03243\tvalidation_1-merror:0.09569\tvalidation_1-mlogloss:0.27925\n",
      "[81]\tvalidation_0-merror:0.00352\tvalidation_0-mlogloss:0.03174\tvalidation_1-merror:0.09549\tvalidation_1-mlogloss:0.27845\n",
      "[82]\tvalidation_0-merror:0.00352\tvalidation_0-mlogloss:0.03116\tvalidation_1-merror:0.09508\tvalidation_1-mlogloss:0.27753\n",
      "[83]\tvalidation_0-merror:0.00352\tvalidation_0-mlogloss:0.03054\tvalidation_1-merror:0.09492\tvalidation_1-mlogloss:0.27687\n",
      "[84]\tvalidation_0-merror:0.00352\tvalidation_0-mlogloss:0.03005\tvalidation_1-merror:0.09436\tvalidation_1-mlogloss:0.27614\n",
      "[85]\tvalidation_0-merror:0.00352\tvalidation_0-mlogloss:0.02951\tvalidation_1-merror:0.09426\tvalidation_1-mlogloss:0.27533\n",
      "[86]\tvalidation_0-merror:0.00352\tvalidation_0-mlogloss:0.02900\tvalidation_1-merror:0.09385\tvalidation_1-mlogloss:0.27466\n",
      "[87]\tvalidation_0-merror:0.00352\tvalidation_0-mlogloss:0.02850\tvalidation_1-merror:0.09374\tvalidation_1-mlogloss:0.27408\n",
      "[88]\tvalidation_0-merror:0.00352\tvalidation_0-mlogloss:0.02800\tvalidation_1-merror:0.09354\tvalidation_1-mlogloss:0.27357\n",
      "[89]\tvalidation_0-merror:0.00349\tvalidation_0-mlogloss:0.02750\tvalidation_1-merror:0.09359\tvalidation_1-mlogloss:0.27299\n",
      "[90]\tvalidation_0-merror:0.00349\tvalidation_0-mlogloss:0.02701\tvalidation_1-merror:0.09333\tvalidation_1-mlogloss:0.27243\n",
      "[91]\tvalidation_0-merror:0.00349\tvalidation_0-mlogloss:0.02655\tvalidation_1-merror:0.09318\tvalidation_1-mlogloss:0.27196\n",
      "[92]\tvalidation_0-merror:0.00349\tvalidation_0-mlogloss:0.02610\tvalidation_1-merror:0.09318\tvalidation_1-mlogloss:0.27153\n",
      "[93]\tvalidation_0-merror:0.00347\tvalidation_0-mlogloss:0.02569\tvalidation_1-merror:0.09308\tvalidation_1-mlogloss:0.27115\n",
      "[94]\tvalidation_0-merror:0.00347\tvalidation_0-mlogloss:0.02526\tvalidation_1-merror:0.09313\tvalidation_1-mlogloss:0.27050\n",
      "[95]\tvalidation_0-merror:0.00347\tvalidation_0-mlogloss:0.02486\tvalidation_1-merror:0.09313\tvalidation_1-mlogloss:0.27004\n",
      "[96]\tvalidation_0-merror:0.00347\tvalidation_0-mlogloss:0.02449\tvalidation_1-merror:0.09297\tvalidation_1-mlogloss:0.26951\n",
      "[97]\tvalidation_0-merror:0.00347\tvalidation_0-mlogloss:0.02413\tvalidation_1-merror:0.09272\tvalidation_1-mlogloss:0.26907\n",
      "[98]\tvalidation_0-merror:0.00347\tvalidation_0-mlogloss:0.02381\tvalidation_1-merror:0.09241\tvalidation_1-mlogloss:0.26853\n",
      "[99]\tvalidation_0-merror:0.00347\tvalidation_0-mlogloss:0.02344\tvalidation_1-merror:0.09231\tvalidation_1-mlogloss:0.26823\n",
      "[100]\tvalidation_0-merror:0.00347\tvalidation_0-mlogloss:0.02312\tvalidation_1-merror:0.09241\tvalidation_1-mlogloss:0.26771\n",
      "[101]\tvalidation_0-merror:0.00347\tvalidation_0-mlogloss:0.02280\tvalidation_1-merror:0.09210\tvalidation_1-mlogloss:0.26721\n",
      "[102]\tvalidation_0-merror:0.00347\tvalidation_0-mlogloss:0.02247\tvalidation_1-merror:0.09205\tvalidation_1-mlogloss:0.26685\n",
      "[103]\tvalidation_0-merror:0.00347\tvalidation_0-mlogloss:0.02218\tvalidation_1-merror:0.09205\tvalidation_1-mlogloss:0.26637\n",
      "[104]\tvalidation_0-merror:0.00347\tvalidation_0-mlogloss:0.02190\tvalidation_1-merror:0.09215\tvalidation_1-mlogloss:0.26595\n",
      "[105]\tvalidation_0-merror:0.00347\tvalidation_0-mlogloss:0.02162\tvalidation_1-merror:0.09200\tvalidation_1-mlogloss:0.26560\n",
      "[106]\tvalidation_0-merror:0.00347\tvalidation_0-mlogloss:0.02136\tvalidation_1-merror:0.09190\tvalidation_1-mlogloss:0.26524\n",
      "[107]\tvalidation_0-merror:0.00347\tvalidation_0-mlogloss:0.02110\tvalidation_1-merror:0.09180\tvalidation_1-mlogloss:0.26488\n",
      "[108]\tvalidation_0-merror:0.00347\tvalidation_0-mlogloss:0.02086\tvalidation_1-merror:0.09144\tvalidation_1-mlogloss:0.26455\n",
      "[109]\tvalidation_0-merror:0.00347\tvalidation_0-mlogloss:0.02059\tvalidation_1-merror:0.09123\tvalidation_1-mlogloss:0.26437\n",
      "[110]\tvalidation_0-merror:0.00347\tvalidation_0-mlogloss:0.02032\tvalidation_1-merror:0.09118\tvalidation_1-mlogloss:0.26397\n",
      "[111]\tvalidation_0-merror:0.00347\tvalidation_0-mlogloss:0.02009\tvalidation_1-merror:0.09103\tvalidation_1-mlogloss:0.26365\n",
      "[112]\tvalidation_0-merror:0.00347\tvalidation_0-mlogloss:0.01988\tvalidation_1-merror:0.09133\tvalidation_1-mlogloss:0.26333\n",
      "[113]\tvalidation_0-merror:0.00347\tvalidation_0-mlogloss:0.01967\tvalidation_1-merror:0.09154\tvalidation_1-mlogloss:0.26301\n",
      "[114]\tvalidation_0-merror:0.00347\tvalidation_0-mlogloss:0.01946\tvalidation_1-merror:0.09128\tvalidation_1-mlogloss:0.26278\n",
      "[115]\tvalidation_0-merror:0.00345\tvalidation_0-mlogloss:0.01926\tvalidation_1-merror:0.09159\tvalidation_1-mlogloss:0.26249\n",
      "[116]\tvalidation_0-merror:0.00345\tvalidation_0-mlogloss:0.01903\tvalidation_1-merror:0.09149\tvalidation_1-mlogloss:0.26232\n",
      "[117]\tvalidation_0-merror:0.00345\tvalidation_0-mlogloss:0.01886\tvalidation_1-merror:0.09138\tvalidation_1-mlogloss:0.26202\n",
      "[118]\tvalidation_0-merror:0.00345\tvalidation_0-mlogloss:0.01867\tvalidation_1-merror:0.09138\tvalidation_1-mlogloss:0.26170\n",
      "[119]\tvalidation_0-merror:0.00345\tvalidation_0-mlogloss:0.01848\tvalidation_1-merror:0.09138\tvalidation_1-mlogloss:0.26143\n",
      "[120]\tvalidation_0-merror:0.00345\tvalidation_0-mlogloss:0.01831\tvalidation_1-merror:0.09128\tvalidation_1-mlogloss:0.26111\n",
      "[121]\tvalidation_0-merror:0.00345\tvalidation_0-mlogloss:0.01812\tvalidation_1-merror:0.09113\tvalidation_1-mlogloss:0.26083\n",
      "[122]\tvalidation_0-merror:0.00345\tvalidation_0-mlogloss:0.01797\tvalidation_1-merror:0.09123\tvalidation_1-mlogloss:0.26065\n",
      "[123]\tvalidation_0-merror:0.00345\tvalidation_0-mlogloss:0.01778\tvalidation_1-merror:0.09118\tvalidation_1-mlogloss:0.26029\n",
      "[124]\tvalidation_0-merror:0.00345\tvalidation_0-mlogloss:0.01761\tvalidation_1-merror:0.09092\tvalidation_1-mlogloss:0.25993\n",
      "[125]\tvalidation_0-merror:0.00345\tvalidation_0-mlogloss:0.01746\tvalidation_1-merror:0.09062\tvalidation_1-mlogloss:0.25965\n",
      "[126]\tvalidation_0-merror:0.00345\tvalidation_0-mlogloss:0.01727\tvalidation_1-merror:0.09092\tvalidation_1-mlogloss:0.25946\n",
      "[127]\tvalidation_0-merror:0.00345\tvalidation_0-mlogloss:0.01713\tvalidation_1-merror:0.09041\tvalidation_1-mlogloss:0.25926\n",
      "[128]\tvalidation_0-merror:0.00345\tvalidation_0-mlogloss:0.01696\tvalidation_1-merror:0.09051\tvalidation_1-mlogloss:0.25906\n",
      "[129]\tvalidation_0-merror:0.00345\tvalidation_0-mlogloss:0.01682\tvalidation_1-merror:0.09082\tvalidation_1-mlogloss:0.25882\n",
      "[130]\tvalidation_0-merror:0.00345\tvalidation_0-mlogloss:0.01667\tvalidation_1-merror:0.09031\tvalidation_1-mlogloss:0.25859\n",
      "[131]\tvalidation_0-merror:0.00345\tvalidation_0-mlogloss:0.01653\tvalidation_1-merror:0.09041\tvalidation_1-mlogloss:0.25842\n",
      "[132]\tvalidation_0-merror:0.00345\tvalidation_0-mlogloss:0.01639\tvalidation_1-merror:0.09020\tvalidation_1-mlogloss:0.25824\n",
      "[133]\tvalidation_0-merror:0.00345\tvalidation_0-mlogloss:0.01627\tvalidation_1-merror:0.09010\tvalidation_1-mlogloss:0.25805\n",
      "[134]\tvalidation_0-merror:0.00345\tvalidation_0-mlogloss:0.01613\tvalidation_1-merror:0.09036\tvalidation_1-mlogloss:0.25796\n",
      "[135]\tvalidation_0-merror:0.00345\tvalidation_0-mlogloss:0.01600\tvalidation_1-merror:0.09015\tvalidation_1-mlogloss:0.25780\n",
      "[136]\tvalidation_0-merror:0.00345\tvalidation_0-mlogloss:0.01586\tvalidation_1-merror:0.09036\tvalidation_1-mlogloss:0.25756\n",
      "[137]\tvalidation_0-merror:0.00345\tvalidation_0-mlogloss:0.01573\tvalidation_1-merror:0.09041\tvalidation_1-mlogloss:0.25742\n",
      "[138]\tvalidation_0-merror:0.00345\tvalidation_0-mlogloss:0.01559\tvalidation_1-merror:0.09020\tvalidation_1-mlogloss:0.25720\n",
      "[139]\tvalidation_0-merror:0.00345\tvalidation_0-mlogloss:0.01549\tvalidation_1-merror:0.09026\tvalidation_1-mlogloss:0.25704\n",
      "[140]\tvalidation_0-merror:0.00345\tvalidation_0-mlogloss:0.01535\tvalidation_1-merror:0.09020\tvalidation_1-mlogloss:0.25701\n",
      "[141]\tvalidation_0-merror:0.00345\tvalidation_0-mlogloss:0.01525\tvalidation_1-merror:0.09015\tvalidation_1-mlogloss:0.25688\n",
      "[142]\tvalidation_0-merror:0.00345\tvalidation_0-mlogloss:0.01513\tvalidation_1-merror:0.09000\tvalidation_1-mlogloss:0.25679\n",
      "[143]\tvalidation_0-merror:0.00345\tvalidation_0-mlogloss:0.01501\tvalidation_1-merror:0.09005\tvalidation_1-mlogloss:0.25660\n",
      "[144]\tvalidation_0-merror:0.00345\tvalidation_0-mlogloss:0.01490\tvalidation_1-merror:0.08990\tvalidation_1-mlogloss:0.25645\n",
      "[145]\tvalidation_0-merror:0.00345\tvalidation_0-mlogloss:0.01478\tvalidation_1-merror:0.08969\tvalidation_1-mlogloss:0.25635\n",
      "[146]\tvalidation_0-merror:0.00345\tvalidation_0-mlogloss:0.01469\tvalidation_1-merror:0.08933\tvalidation_1-mlogloss:0.25617\n",
      "[147]\tvalidation_0-merror:0.00345\tvalidation_0-mlogloss:0.01458\tvalidation_1-merror:0.08933\tvalidation_1-mlogloss:0.25609\n",
      "[148]\tvalidation_0-merror:0.00345\tvalidation_0-mlogloss:0.01448\tvalidation_1-merror:0.08913\tvalidation_1-mlogloss:0.25600\n",
      "[149]\tvalidation_0-merror:0.00345\tvalidation_0-mlogloss:0.01440\tvalidation_1-merror:0.08918\tvalidation_1-mlogloss:0.25588\n",
      "[150]\tvalidation_0-merror:0.00345\tvalidation_0-mlogloss:0.01430\tvalidation_1-merror:0.08913\tvalidation_1-mlogloss:0.25579\n",
      "[151]\tvalidation_0-merror:0.00345\tvalidation_0-mlogloss:0.01421\tvalidation_1-merror:0.08913\tvalidation_1-mlogloss:0.25574\n",
      "[152]\tvalidation_0-merror:0.00345\tvalidation_0-mlogloss:0.01412\tvalidation_1-merror:0.08913\tvalidation_1-mlogloss:0.25559\n",
      "[153]\tvalidation_0-merror:0.00345\tvalidation_0-mlogloss:0.01404\tvalidation_1-merror:0.08928\tvalidation_1-mlogloss:0.25544\n",
      "[154]\tvalidation_0-merror:0.00345\tvalidation_0-mlogloss:0.01395\tvalidation_1-merror:0.08903\tvalidation_1-mlogloss:0.25533\n",
      "[155]\tvalidation_0-merror:0.00345\tvalidation_0-mlogloss:0.01386\tvalidation_1-merror:0.08897\tvalidation_1-mlogloss:0.25522\n",
      "[156]\tvalidation_0-merror:0.00345\tvalidation_0-mlogloss:0.01377\tvalidation_1-merror:0.08903\tvalidation_1-mlogloss:0.25510\n",
      "[157]\tvalidation_0-merror:0.00345\tvalidation_0-mlogloss:0.01369\tvalidation_1-merror:0.08887\tvalidation_1-mlogloss:0.25497\n",
      "[158]\tvalidation_0-merror:0.00345\tvalidation_0-mlogloss:0.01360\tvalidation_1-merror:0.08903\tvalidation_1-mlogloss:0.25490\n",
      "[159]\tvalidation_0-merror:0.00345\tvalidation_0-mlogloss:0.01352\tvalidation_1-merror:0.08887\tvalidation_1-mlogloss:0.25477\n",
      "[160]\tvalidation_0-merror:0.00345\tvalidation_0-mlogloss:0.01344\tvalidation_1-merror:0.08892\tvalidation_1-mlogloss:0.25475\n",
      "[161]\tvalidation_0-merror:0.00345\tvalidation_0-mlogloss:0.01335\tvalidation_1-merror:0.08897\tvalidation_1-mlogloss:0.25479\n",
      "[162]\tvalidation_0-merror:0.00345\tvalidation_0-mlogloss:0.01328\tvalidation_1-merror:0.08897\tvalidation_1-mlogloss:0.25468\n",
      "[163]\tvalidation_0-merror:0.00345\tvalidation_0-mlogloss:0.01320\tvalidation_1-merror:0.08892\tvalidation_1-mlogloss:0.25465\n",
      "[164]\tvalidation_0-merror:0.00345\tvalidation_0-mlogloss:0.01312\tvalidation_1-merror:0.08897\tvalidation_1-mlogloss:0.25455\n",
      "[165]\tvalidation_0-merror:0.00345\tvalidation_0-mlogloss:0.01304\tvalidation_1-merror:0.08882\tvalidation_1-mlogloss:0.25446\n",
      "[166]\tvalidation_0-merror:0.00345\tvalidation_0-mlogloss:0.01299\tvalidation_1-merror:0.08877\tvalidation_1-mlogloss:0.25437\n",
      "[167]\tvalidation_0-merror:0.00345\tvalidation_0-mlogloss:0.01291\tvalidation_1-merror:0.08867\tvalidation_1-mlogloss:0.25445\n",
      "[168]\tvalidation_0-merror:0.00345\tvalidation_0-mlogloss:0.01285\tvalidation_1-merror:0.08872\tvalidation_1-mlogloss:0.25430\n",
      "[169]\tvalidation_0-merror:0.00345\tvalidation_0-mlogloss:0.01278\tvalidation_1-merror:0.08861\tvalidation_1-mlogloss:0.25431\n",
      "[170]\tvalidation_0-merror:0.00345\tvalidation_0-mlogloss:0.01271\tvalidation_1-merror:0.08841\tvalidation_1-mlogloss:0.25416\n",
      "[171]\tvalidation_0-merror:0.00345\tvalidation_0-mlogloss:0.01264\tvalidation_1-merror:0.08846\tvalidation_1-mlogloss:0.25413\n",
      "[172]\tvalidation_0-merror:0.00345\tvalidation_0-mlogloss:0.01257\tvalidation_1-merror:0.08821\tvalidation_1-mlogloss:0.25411\n",
      "[173]\tvalidation_0-merror:0.00345\tvalidation_0-mlogloss:0.01251\tvalidation_1-merror:0.08841\tvalidation_1-mlogloss:0.25404\n",
      "[174]\tvalidation_0-merror:0.00345\tvalidation_0-mlogloss:0.01244\tvalidation_1-merror:0.08821\tvalidation_1-mlogloss:0.25402\n",
      "[175]\tvalidation_0-merror:0.00345\tvalidation_0-mlogloss:0.01238\tvalidation_1-merror:0.08815\tvalidation_1-mlogloss:0.25392\n",
      "[176]\tvalidation_0-merror:0.00345\tvalidation_0-mlogloss:0.01232\tvalidation_1-merror:0.08810\tvalidation_1-mlogloss:0.25390\n",
      "[177]\tvalidation_0-merror:0.00345\tvalidation_0-mlogloss:0.01225\tvalidation_1-merror:0.08795\tvalidation_1-mlogloss:0.25392\n",
      "[178]\tvalidation_0-merror:0.00345\tvalidation_0-mlogloss:0.01220\tvalidation_1-merror:0.08790\tvalidation_1-mlogloss:0.25375\n",
      "[179]\tvalidation_0-merror:0.00345\tvalidation_0-mlogloss:0.01214\tvalidation_1-merror:0.08785\tvalidation_1-mlogloss:0.25366\n",
      "[180]\tvalidation_0-merror:0.00345\tvalidation_0-mlogloss:0.01209\tvalidation_1-merror:0.08810\tvalidation_1-mlogloss:0.25361\n",
      "[181]\tvalidation_0-merror:0.00345\tvalidation_0-mlogloss:0.01204\tvalidation_1-merror:0.08815\tvalidation_1-mlogloss:0.25353\n",
      "[182]\tvalidation_0-merror:0.00345\tvalidation_0-mlogloss:0.01197\tvalidation_1-merror:0.08800\tvalidation_1-mlogloss:0.25354\n",
      "[183]\tvalidation_0-merror:0.00345\tvalidation_0-mlogloss:0.01192\tvalidation_1-merror:0.08779\tvalidation_1-mlogloss:0.25352\n",
      "[184]\tvalidation_0-merror:0.00345\tvalidation_0-mlogloss:0.01187\tvalidation_1-merror:0.08785\tvalidation_1-mlogloss:0.25346\n",
      "[185]\tvalidation_0-merror:0.00345\tvalidation_0-mlogloss:0.01182\tvalidation_1-merror:0.08779\tvalidation_1-mlogloss:0.25340\n",
      "[186]\tvalidation_0-merror:0.00345\tvalidation_0-mlogloss:0.01176\tvalidation_1-merror:0.08759\tvalidation_1-mlogloss:0.25343\n",
      "[187]\tvalidation_0-merror:0.00345\tvalidation_0-mlogloss:0.01170\tvalidation_1-merror:0.08749\tvalidation_1-mlogloss:0.25346\n",
      "[188]\tvalidation_0-merror:0.00345\tvalidation_0-mlogloss:0.01166\tvalidation_1-merror:0.08754\tvalidation_1-mlogloss:0.25342\n",
      "[189]\tvalidation_0-merror:0.00345\tvalidation_0-mlogloss:0.01161\tvalidation_1-merror:0.08764\tvalidation_1-mlogloss:0.25345\n",
      "[190]\tvalidation_0-merror:0.00345\tvalidation_0-mlogloss:0.01155\tvalidation_1-merror:0.08774\tvalidation_1-mlogloss:0.25349\n",
      "[191]\tvalidation_0-merror:0.00345\tvalidation_0-mlogloss:0.01150\tvalidation_1-merror:0.08795\tvalidation_1-mlogloss:0.25347\n",
      "[192]\tvalidation_0-merror:0.00345\tvalidation_0-mlogloss:0.01146\tvalidation_1-merror:0.08795\tvalidation_1-mlogloss:0.25337\n",
      "[193]\tvalidation_0-merror:0.00345\tvalidation_0-mlogloss:0.01140\tvalidation_1-merror:0.08759\tvalidation_1-mlogloss:0.25339\n",
      "[194]\tvalidation_0-merror:0.00345\tvalidation_0-mlogloss:0.01136\tvalidation_1-merror:0.08779\tvalidation_1-mlogloss:0.25337\n",
      "[195]\tvalidation_0-merror:0.00345\tvalidation_0-mlogloss:0.01132\tvalidation_1-merror:0.08795\tvalidation_1-mlogloss:0.25334\n",
      "[196]\tvalidation_0-merror:0.00345\tvalidation_0-mlogloss:0.01128\tvalidation_1-merror:0.08769\tvalidation_1-mlogloss:0.25328\n",
      "[197]\tvalidation_0-merror:0.00345\tvalidation_0-mlogloss:0.01123\tvalidation_1-merror:0.08754\tvalidation_1-mlogloss:0.25323\n",
      "[198]\tvalidation_0-merror:0.00345\tvalidation_0-mlogloss:0.01119\tvalidation_1-merror:0.08739\tvalidation_1-mlogloss:0.25316\n",
      "[199]\tvalidation_0-merror:0.00345\tvalidation_0-mlogloss:0.01115\tvalidation_1-merror:0.08723\tvalidation_1-mlogloss:0.25318\n",
      "[200]\tvalidation_0-merror:0.00345\tvalidation_0-mlogloss:0.01110\tvalidation_1-merror:0.08744\tvalidation_1-mlogloss:0.25320\n",
      "[201]\tvalidation_0-merror:0.00345\tvalidation_0-mlogloss:0.01106\tvalidation_1-merror:0.08728\tvalidation_1-mlogloss:0.25314\n",
      "[202]\tvalidation_0-merror:0.00345\tvalidation_0-mlogloss:0.01102\tvalidation_1-merror:0.08733\tvalidation_1-mlogloss:0.25317\n",
      "[203]\tvalidation_0-merror:0.00345\tvalidation_0-mlogloss:0.01097\tvalidation_1-merror:0.08718\tvalidation_1-mlogloss:0.25317\n",
      "[204]\tvalidation_0-merror:0.00345\tvalidation_0-mlogloss:0.01094\tvalidation_1-merror:0.08733\tvalidation_1-mlogloss:0.25307\n",
      "[205]\tvalidation_0-merror:0.00345\tvalidation_0-mlogloss:0.01090\tvalidation_1-merror:0.08708\tvalidation_1-mlogloss:0.25306\n",
      "[206]\tvalidation_0-merror:0.00345\tvalidation_0-mlogloss:0.01086\tvalidation_1-merror:0.08718\tvalidation_1-mlogloss:0.25306\n",
      "[207]\tvalidation_0-merror:0.00345\tvalidation_0-mlogloss:0.01082\tvalidation_1-merror:0.08733\tvalidation_1-mlogloss:0.25306\n",
      "[208]\tvalidation_0-merror:0.00345\tvalidation_0-mlogloss:0.01079\tvalidation_1-merror:0.08713\tvalidation_1-mlogloss:0.25303\n",
      "[209]\tvalidation_0-merror:0.00345\tvalidation_0-mlogloss:0.01074\tvalidation_1-merror:0.08703\tvalidation_1-mlogloss:0.25298\n",
      "[210]\tvalidation_0-merror:0.00345\tvalidation_0-mlogloss:0.01071\tvalidation_1-merror:0.08708\tvalidation_1-mlogloss:0.25288\n",
      "[211]\tvalidation_0-merror:0.00345\tvalidation_0-mlogloss:0.01067\tvalidation_1-merror:0.08713\tvalidation_1-mlogloss:0.25291\n",
      "[212]\tvalidation_0-merror:0.00345\tvalidation_0-mlogloss:0.01063\tvalidation_1-merror:0.08703\tvalidation_1-mlogloss:0.25293\n",
      "[213]\tvalidation_0-merror:0.00345\tvalidation_0-mlogloss:0.01060\tvalidation_1-merror:0.08708\tvalidation_1-mlogloss:0.25289\n",
      "[214]\tvalidation_0-merror:0.00345\tvalidation_0-mlogloss:0.01056\tvalidation_1-merror:0.08692\tvalidation_1-mlogloss:0.25291\n",
      "[215]\tvalidation_0-merror:0.00345\tvalidation_0-mlogloss:0.01053\tvalidation_1-merror:0.08703\tvalidation_1-mlogloss:0.25292\n",
      "[216]\tvalidation_0-merror:0.00345\tvalidation_0-mlogloss:0.01050\tvalidation_1-merror:0.08677\tvalidation_1-mlogloss:0.25291\n",
      "[217]\tvalidation_0-merror:0.00345\tvalidation_0-mlogloss:0.01047\tvalidation_1-merror:0.08677\tvalidation_1-mlogloss:0.25292\n",
      "[218]\tvalidation_0-merror:0.00345\tvalidation_0-mlogloss:0.01043\tvalidation_1-merror:0.08667\tvalidation_1-mlogloss:0.25296\n",
      "[219]\tvalidation_0-merror:0.00345\tvalidation_0-mlogloss:0.01040\tvalidation_1-merror:0.08677\tvalidation_1-mlogloss:0.25296\n",
      "[220]\tvalidation_0-merror:0.00345\tvalidation_0-mlogloss:0.01037\tvalidation_1-merror:0.08641\tvalidation_1-mlogloss:0.25296\n",
      "[221]\tvalidation_0-merror:0.00345\tvalidation_0-mlogloss:0.01034\tvalidation_1-merror:0.08641\tvalidation_1-mlogloss:0.25294\n",
      "[222]\tvalidation_0-merror:0.00345\tvalidation_0-mlogloss:0.01031\tvalidation_1-merror:0.08641\tvalidation_1-mlogloss:0.25292\n",
      "[223]\tvalidation_0-merror:0.00345\tvalidation_0-mlogloss:0.01028\tvalidation_1-merror:0.08646\tvalidation_1-mlogloss:0.25294\n",
      "[224]\tvalidation_0-merror:0.00345\tvalidation_0-mlogloss:0.01026\tvalidation_1-merror:0.08631\tvalidation_1-mlogloss:0.25288\n",
      "[225]\tvalidation_0-merror:0.00345\tvalidation_0-mlogloss:0.01022\tvalidation_1-merror:0.08621\tvalidation_1-mlogloss:0.25293\n",
      "Stopping. Best iteration:\n",
      "[210]\tvalidation_0-merror:0.00345\tvalidation_0-mlogloss:0.01071\tvalidation_1-merror:0.08708\tvalidation_1-mlogloss:0.25288\n",
      "\n",
      "Training time 2745.395 seconds\n",
      "Test time 2.512 seconds\n",
      "0.912923076923077\n"
     ]
    }
   ],
   "source": [
    "start_time = time.time()\n",
    "clf_xgb = XGBClassifier(max_depth=13,\n",
    "                        objective=\"multi:softprob\",\n",
    "                        n_estimators=3000,\n",
    "                        learning_rate = 0.1, random_state=42)\n",
    "eval_set = [(X_train_scaled, y_train), (X_test_scaled, y_test)]\n",
    "clf_xgb.fit(X_train_scaled, y_train.ravel(), early_stopping_rounds=15, eval_metric=[\"merror\", \"mlogloss\"], eval_set=eval_set, verbose=True)\n",
    "train_time = time.time() - start_time\n",
    "print(\"Training time %.3f seconds\" % train_time)\n",
    "\n",
    "start_time = time.time()\n",
    "y_pred_xgb = clf_xgb.predict(X_test_scaled)\n",
    "test_time = time.time() - start_time\n",
    "print(\"Test time %.3f seconds\" % test_time)\n",
    "print(accuracy_score(y_pred_xgb, y_test))\n",
    "# 210 0.9129"
   ]
  },
  {
   "cell_type": "code",
   "execution_count": 8,
   "metadata": {},
   "outputs": [
    {
     "data": {
      "image/png": "[encoded data removed]",
      "text/plain": [
       "<Figure size 432x288 with 1 Axes>"
      ]
     },
     "metadata": {
      "needs_background": "light"
     },
     "output_type": "display_data"
    },
    {
     "data": {
      "image/png": "[encoded data removed]",
      "text/plain": [
       "<Figure size 432x288 with 1 Axes>"
      ]
     },
     "metadata": {
      "needs_background": "light"
     },
     "output_type": "display_data"
    }
   ],
   "source": [
    "# retrieve performance metrics\n",
    "results = clf_xgb.evals_result()\n",
    "epochs = len(results['validation_0']['merror'])\n",
    "x_axis = range(0, epochs)\n",
    "# plot log loss\n",
    "fig, ax = plt.subplots()\n",
    "ax.plot(x_axis, results['validation_0']['mlogloss'], label='Train')\n",
    "ax.plot(x_axis, results['validation_1']['mlogloss'], label='Test')\n",
    "ax.legend()\n",
    "plt.ylabel('Log Loss')\n",
    "plt.title('XGBoost Log Loss')\n",
    "plt.show()\n",
    "# plot classification error\n",
    "fig, ax = plt.subplots()\n",
    "ax.plot(x_axis, results['validation_0']['merror'], label='Train')\n",
    "ax.plot(x_axis, results['validation_1']['merror'], label='Test')\n",
    "ax.legend()\n",
    "plt.ylabel('Classification Error')\n",
    "plt.title('XGBoost Classification Error')\n",
    "plt.show()"
   ]
  },
  {
   "cell_type": "code",
   "execution_count": 9,
   "metadata": {
    "collapsed": true,
    "jupyter": {
     "outputs_hidden": true
    }
   },
   "outputs": [
    {
     "name": "stdout",
     "output_type": "stream",
     "text": [
      "[0]\tvalidation_0-merror:0.07530\tvalidation_0-mlogloss:1.19048\tvalidation_1-merror:0.21231\tvalidation_1-mlogloss:1.29093\n",
      "Multiple eval metrics have been passed: 'validation_1-mlogloss' will be used for early stopping.\n",
      "\n",
      "Will train until validation_1-mlogloss hasn't improved in 15 rounds.\n",
      "[1]\tvalidation_0-merror:0.04567\tvalidation_0-mlogloss:0.88493\tvalidation_1-merror:0.17149\tvalidation_1-mlogloss:1.03769\n",
      "[2]\tvalidation_0-merror:0.03130\tvalidation_0-mlogloss:0.68410\tvalidation_1-merror:0.15805\tvalidation_1-mlogloss:0.87613\n",
      "[3]\tvalidation_0-merror:0.02310\tvalidation_0-mlogloss:0.54019\tvalidation_1-merror:0.14933\tvalidation_1-mlogloss:0.75852\n",
      "[4]\tvalidation_0-merror:0.01842\tvalidation_0-mlogloss:0.42976\tvalidation_1-merror:0.13872\tvalidation_1-mlogloss:0.66522\n",
      "[5]\tvalidation_0-merror:0.01501\tvalidation_0-mlogloss:0.34762\tvalidation_1-merror:0.13508\tvalidation_1-mlogloss:0.59440\n",
      "[6]\tvalidation_0-merror:0.01237\tvalidation_0-mlogloss:0.28390\tvalidation_1-merror:0.12867\tvalidation_1-mlogloss:0.53863\n",
      "[7]\tvalidation_0-merror:0.01007\tvalidation_0-mlogloss:0.23635\tvalidation_1-merror:0.12446\tvalidation_1-mlogloss:0.49703\n",
      "[8]\tvalidation_0-merror:0.00853\tvalidation_0-mlogloss:0.19602\tvalidation_1-merror:0.12077\tvalidation_1-mlogloss:0.45936\n",
      "[9]\tvalidation_0-merror:0.00743\tvalidation_0-mlogloss:0.16598\tvalidation_1-merror:0.11723\tvalidation_1-mlogloss:0.43092\n",
      "[10]\tvalidation_0-merror:0.00677\tvalidation_0-mlogloss:0.14017\tvalidation_1-merror:0.11544\tvalidation_1-mlogloss:0.40597\n",
      "[11]\tvalidation_0-merror:0.00618\tvalidation_0-mlogloss:0.12066\tvalidation_1-merror:0.11333\tvalidation_1-mlogloss:0.38750\n",
      "[12]\tvalidation_0-merror:0.00549\tvalidation_0-mlogloss:0.10476\tvalidation_1-merror:0.11108\tvalidation_1-mlogloss:0.37112\n",
      "[13]\tvalidation_0-merror:0.00512\tvalidation_0-mlogloss:0.09209\tvalidation_1-merror:0.10954\tvalidation_1-mlogloss:0.35766\n",
      "[14]\tvalidation_0-merror:0.00492\tvalidation_0-mlogloss:0.08115\tvalidation_1-merror:0.10815\tvalidation_1-mlogloss:0.34573\n",
      "[15]\tvalidation_0-merror:0.00451\tvalidation_0-mlogloss:0.07269\tvalidation_1-merror:0.10677\tvalidation_1-mlogloss:0.33697\n",
      "[16]\tvalidation_0-merror:0.00426\tvalidation_0-mlogloss:0.06561\tvalidation_1-merror:0.10600\tvalidation_1-mlogloss:0.32867\n",
      "[17]\tvalidation_0-merror:0.00411\tvalidation_0-mlogloss:0.05963\tvalidation_1-merror:0.10472\tvalidation_1-mlogloss:0.32233\n",
      "[18]\tvalidation_0-merror:0.00398\tvalidation_0-mlogloss:0.05419\tvalidation_1-merror:0.10385\tvalidation_1-mlogloss:0.31515\n",
      "[19]\tvalidation_0-merror:0.00385\tvalidation_0-mlogloss:0.04966\tvalidation_1-merror:0.10226\tvalidation_1-mlogloss:0.30975\n",
      "[20]\tvalidation_0-merror:0.00380\tvalidation_0-mlogloss:0.04577\tvalidation_1-merror:0.10215\tvalidation_1-mlogloss:0.30555\n",
      "[21]\tvalidation_0-merror:0.00380\tvalidation_0-mlogloss:0.04226\tvalidation_1-merror:0.10139\tvalidation_1-mlogloss:0.30120\n",
      "[22]\tvalidation_0-merror:0.00378\tvalidation_0-mlogloss:0.03913\tvalidation_1-merror:0.10046\tvalidation_1-mlogloss:0.29692\n",
      "[23]\tvalidation_0-merror:0.00369\tvalidation_0-mlogloss:0.03668\tvalidation_1-merror:0.10015\tvalidation_1-mlogloss:0.29436\n",
      "[24]\tvalidation_0-merror:0.00358\tvalidation_0-mlogloss:0.03431\tvalidation_1-merror:0.09939\tvalidation_1-mlogloss:0.29091\n",
      "[25]\tvalidation_0-merror:0.00349\tvalidation_0-mlogloss:0.03232\tvalidation_1-merror:0.09856\tvalidation_1-mlogloss:0.28818\n",
      "[26]\tvalidation_0-merror:0.00349\tvalidation_0-mlogloss:0.03044\tvalidation_1-merror:0.09774\tvalidation_1-mlogloss:0.28564\n",
      "[27]\tvalidation_0-merror:0.00349\tvalidation_0-mlogloss:0.02907\tvalidation_1-merror:0.09733\tvalidation_1-mlogloss:0.28377\n",
      "[28]\tvalidation_0-merror:0.00349\tvalidation_0-mlogloss:0.02757\tvalidation_1-merror:0.09580\tvalidation_1-mlogloss:0.28165\n",
      "[29]\tvalidation_0-merror:0.00347\tvalidation_0-mlogloss:0.02625\tvalidation_1-merror:0.09564\tvalidation_1-mlogloss:0.28022\n",
      "[30]\tvalidation_0-merror:0.00347\tvalidation_0-mlogloss:0.02494\tvalidation_1-merror:0.09554\tvalidation_1-mlogloss:0.27846\n",
      "[31]\tvalidation_0-merror:0.00347\tvalidation_0-mlogloss:0.02380\tvalidation_1-merror:0.09523\tvalidation_1-mlogloss:0.27725\n",
      "[32]\tvalidation_0-merror:0.00347\tvalidation_0-mlogloss:0.02281\tvalidation_1-merror:0.09472\tvalidation_1-mlogloss:0.27577\n",
      "[33]\tvalidation_0-merror:0.00347\tvalidation_0-mlogloss:0.02192\tvalidation_1-merror:0.09436\tvalidation_1-mlogloss:0.27462\n",
      "[34]\tvalidation_0-merror:0.00347\tvalidation_0-mlogloss:0.02104\tvalidation_1-merror:0.09472\tvalidation_1-mlogloss:0.27371\n",
      "[35]\tvalidation_0-merror:0.00347\tvalidation_0-mlogloss:0.02028\tvalidation_1-merror:0.09354\tvalidation_1-mlogloss:0.27253\n",
      "[36]\tvalidation_0-merror:0.00347\tvalidation_0-mlogloss:0.01958\tvalidation_1-merror:0.09313\tvalidation_1-mlogloss:0.27153\n",
      "[37]\tvalidation_0-merror:0.00347\tvalidation_0-mlogloss:0.01897\tvalidation_1-merror:0.09323\tvalidation_1-mlogloss:0.27065\n",
      "[38]\tvalidation_0-merror:0.00347\tvalidation_0-mlogloss:0.01836\tvalidation_1-merror:0.09282\tvalidation_1-mlogloss:0.26984\n",
      "[39]\tvalidation_0-merror:0.00347\tvalidation_0-mlogloss:0.01776\tvalidation_1-merror:0.09256\tvalidation_1-mlogloss:0.26935\n",
      "[40]\tvalidation_0-merror:0.00347\tvalidation_0-mlogloss:0.01724\tvalidation_1-merror:0.09256\tvalidation_1-mlogloss:0.26825\n",
      "[41]\tvalidation_0-merror:0.00347\tvalidation_0-mlogloss:0.01680\tvalidation_1-merror:0.09205\tvalidation_1-mlogloss:0.26741\n",
      "[42]\tvalidation_0-merror:0.00347\tvalidation_0-mlogloss:0.01641\tvalidation_1-merror:0.09205\tvalidation_1-mlogloss:0.26689\n",
      "[43]\tvalidation_0-merror:0.00347\tvalidation_0-mlogloss:0.01605\tvalidation_1-merror:0.09164\tvalidation_1-mlogloss:0.26614\n",
      "[44]\tvalidation_0-merror:0.00347\tvalidation_0-mlogloss:0.01561\tvalidation_1-merror:0.09149\tvalidation_1-mlogloss:0.26563\n",
      "[45]\tvalidation_0-merror:0.00347\tvalidation_0-mlogloss:0.01529\tvalidation_1-merror:0.09113\tvalidation_1-mlogloss:0.26510\n",
      "[46]\tvalidation_0-merror:0.00347\tvalidation_0-mlogloss:0.01499\tvalidation_1-merror:0.09051\tvalidation_1-mlogloss:0.26462\n",
      "[47]\tvalidation_0-merror:0.00347\tvalidation_0-mlogloss:0.01460\tvalidation_1-merror:0.09015\tvalidation_1-mlogloss:0.26418\n",
      "[48]\tvalidation_0-merror:0.00347\tvalidation_0-mlogloss:0.01433\tvalidation_1-merror:0.08995\tvalidation_1-mlogloss:0.26361\n",
      "[49]\tvalidation_0-merror:0.00347\tvalidation_0-mlogloss:0.01404\tvalidation_1-merror:0.09000\tvalidation_1-mlogloss:0.26329\n",
      "[50]\tvalidation_0-merror:0.00347\tvalidation_0-mlogloss:0.01380\tvalidation_1-merror:0.09020\tvalidation_1-mlogloss:0.26285\n",
      "[51]\tvalidation_0-merror:0.00345\tvalidation_0-mlogloss:0.01349\tvalidation_1-merror:0.08990\tvalidation_1-mlogloss:0.26284\n",
      "[52]\tvalidation_0-merror:0.00345\tvalidation_0-mlogloss:0.01330\tvalidation_1-merror:0.08974\tvalidation_1-mlogloss:0.26230\n",
      "[53]\tvalidation_0-merror:0.00345\tvalidation_0-mlogloss:0.01305\tvalidation_1-merror:0.08985\tvalidation_1-mlogloss:0.26208\n",
      "[54]\tvalidation_0-merror:0.00345\tvalidation_0-mlogloss:0.01286\tvalidation_1-merror:0.08949\tvalidation_1-mlogloss:0.26184\n",
      "[55]\tvalidation_0-merror:0.00345\tvalidation_0-mlogloss:0.01264\tvalidation_1-merror:0.08923\tvalidation_1-mlogloss:0.26194\n",
      "[56]\tvalidation_0-merror:0.00345\tvalidation_0-mlogloss:0.01246\tvalidation_1-merror:0.08928\tvalidation_1-mlogloss:0.26151\n",
      "[57]\tvalidation_0-merror:0.00345\tvalidation_0-mlogloss:0.01225\tvalidation_1-merror:0.08877\tvalidation_1-mlogloss:0.26178\n",
      "[58]\tvalidation_0-merror:0.00345\tvalidation_0-mlogloss:0.01209\tvalidation_1-merror:0.08856\tvalidation_1-mlogloss:0.26134\n",
      "[59]\tvalidation_0-merror:0.00345\tvalidation_0-mlogloss:0.01195\tvalidation_1-merror:0.08892\tvalidation_1-mlogloss:0.26130\n",
      "[60]\tvalidation_0-merror:0.00345\tvalidation_0-mlogloss:0.01177\tvalidation_1-merror:0.08851\tvalidation_1-mlogloss:0.26116\n",
      "[61]\tvalidation_0-merror:0.00345\tvalidation_0-mlogloss:0.01161\tvalidation_1-merror:0.08810\tvalidation_1-mlogloss:0.26097\n",
      "[62]\tvalidation_0-merror:0.00345\tvalidation_0-mlogloss:0.01146\tvalidation_1-merror:0.08800\tvalidation_1-mlogloss:0.26108\n",
      "[63]\tvalidation_0-merror:0.00345\tvalidation_0-mlogloss:0.01132\tvalidation_1-merror:0.08785\tvalidation_1-mlogloss:0.26105\n",
      "[64]\tvalidation_0-merror:0.00345\tvalidation_0-mlogloss:0.01122\tvalidation_1-merror:0.08790\tvalidation_1-mlogloss:0.26089\n",
      "[65]\tvalidation_0-merror:0.00345\tvalidation_0-mlogloss:0.01110\tvalidation_1-merror:0.08810\tvalidation_1-mlogloss:0.26079\n",
      "[66]\tvalidation_0-merror:0.00345\tvalidation_0-mlogloss:0.01097\tvalidation_1-merror:0.08810\tvalidation_1-mlogloss:0.26060\n",
      "[67]\tvalidation_0-merror:0.00345\tvalidation_0-mlogloss:0.01085\tvalidation_1-merror:0.08795\tvalidation_1-mlogloss:0.26043\n",
      "[68]\tvalidation_0-merror:0.00345\tvalidation_0-mlogloss:0.01073\tvalidation_1-merror:0.08815\tvalidation_1-mlogloss:0.26060\n",
      "[69]\tvalidation_0-merror:0.00345\tvalidation_0-mlogloss:0.01061\tvalidation_1-merror:0.08826\tvalidation_1-mlogloss:0.26075\n",
      "[70]\tvalidation_0-merror:0.00345\tvalidation_0-mlogloss:0.01052\tvalidation_1-merror:0.08805\tvalidation_1-mlogloss:0.26035\n",
      "[71]\tvalidation_0-merror:0.00345\tvalidation_0-mlogloss:0.01042\tvalidation_1-merror:0.08769\tvalidation_1-mlogloss:0.26042\n",
      "[72]\tvalidation_0-merror:0.00345\tvalidation_0-mlogloss:0.01031\tvalidation_1-merror:0.08728\tvalidation_1-mlogloss:0.26044\n",
      "[73]\tvalidation_0-merror:0.00345\tvalidation_0-mlogloss:0.01022\tvalidation_1-merror:0.08703\tvalidation_1-mlogloss:0.26028\n",
      "[74]\tvalidation_0-merror:0.00345\tvalidation_0-mlogloss:0.01013\tvalidation_1-merror:0.08687\tvalidation_1-mlogloss:0.26021\n",
      "[75]\tvalidation_0-merror:0.00345\tvalidation_0-mlogloss:0.01004\tvalidation_1-merror:0.08677\tvalidation_1-mlogloss:0.26011\n",
      "[76]\tvalidation_0-merror:0.00345\tvalidation_0-mlogloss:0.00995\tvalidation_1-merror:0.08708\tvalidation_1-mlogloss:0.26018\n",
      "[77]\tvalidation_0-merror:0.00345\tvalidation_0-mlogloss:0.00986\tvalidation_1-merror:0.08697\tvalidation_1-mlogloss:0.26026\n",
      "[78]\tvalidation_0-merror:0.00345\tvalidation_0-mlogloss:0.00977\tvalidation_1-merror:0.08697\tvalidation_1-mlogloss:0.26025\n",
      "[79]\tvalidation_0-merror:0.00345\tvalidation_0-mlogloss:0.00970\tvalidation_1-merror:0.08692\tvalidation_1-mlogloss:0.26024\n",
      "[80]\tvalidation_0-merror:0.00345\tvalidation_0-mlogloss:0.00963\tvalidation_1-merror:0.08682\tvalidation_1-mlogloss:0.26005\n",
      "[81]\tvalidation_0-merror:0.00345\tvalidation_0-mlogloss:0.00957\tvalidation_1-merror:0.08667\tvalidation_1-mlogloss:0.25998\n",
      "[82]\tvalidation_0-merror:0.00345\tvalidation_0-mlogloss:0.00950\tvalidation_1-merror:0.08667\tvalidation_1-mlogloss:0.25964\n",
      "[83]\tvalidation_0-merror:0.00345\tvalidation_0-mlogloss:0.00943\tvalidation_1-merror:0.08605\tvalidation_1-mlogloss:0.25962\n",
      "[84]\tvalidation_0-merror:0.00345\tvalidation_0-mlogloss:0.00936\tvalidation_1-merror:0.08621\tvalidation_1-mlogloss:0.25959\n",
      "[85]\tvalidation_0-merror:0.00345\tvalidation_0-mlogloss:0.00929\tvalidation_1-merror:0.08600\tvalidation_1-mlogloss:0.25941\n",
      "[86]\tvalidation_0-merror:0.00345\tvalidation_0-mlogloss:0.00922\tvalidation_1-merror:0.08610\tvalidation_1-mlogloss:0.25933\n",
      "[87]\tvalidation_0-merror:0.00345\tvalidation_0-mlogloss:0.00916\tvalidation_1-merror:0.08574\tvalidation_1-mlogloss:0.25922\n",
      "[88]\tvalidation_0-merror:0.00345\tvalidation_0-mlogloss:0.00911\tvalidation_1-merror:0.08564\tvalidation_1-mlogloss:0.25929\n",
      "[89]\tvalidation_0-merror:0.00345\tvalidation_0-mlogloss:0.00904\tvalidation_1-merror:0.08595\tvalidation_1-mlogloss:0.25938\n",
      "[90]\tvalidation_0-merror:0.00345\tvalidation_0-mlogloss:0.00898\tvalidation_1-merror:0.08574\tvalidation_1-mlogloss:0.25943\n",
      "[91]\tvalidation_0-merror:0.00345\tvalidation_0-mlogloss:0.00894\tvalidation_1-merror:0.08569\tvalidation_1-mlogloss:0.25940\n",
      "[92]\tvalidation_0-merror:0.00345\tvalidation_0-mlogloss:0.00889\tvalidation_1-merror:0.08585\tvalidation_1-mlogloss:0.25955\n",
      "[93]\tvalidation_0-merror:0.00345\tvalidation_0-mlogloss:0.00883\tvalidation_1-merror:0.08569\tvalidation_1-mlogloss:0.25964\n",
      "[94]\tvalidation_0-merror:0.00345\tvalidation_0-mlogloss:0.00878\tvalidation_1-merror:0.08595\tvalidation_1-mlogloss:0.25972\n",
      "[95]\tvalidation_0-merror:0.00345\tvalidation_0-mlogloss:0.00874\tvalidation_1-merror:0.08559\tvalidation_1-mlogloss:0.25970\n",
      "[96]\tvalidation_0-merror:0.00345\tvalidation_0-mlogloss:0.00869\tvalidation_1-merror:0.08554\tvalidation_1-mlogloss:0.25953\n",
      "[97]\tvalidation_0-merror:0.00345\tvalidation_0-mlogloss:0.00864\tvalidation_1-merror:0.08574\tvalidation_1-mlogloss:0.25953\n",
      "[98]\tvalidation_0-merror:0.00345\tvalidation_0-mlogloss:0.00859\tvalidation_1-merror:0.08528\tvalidation_1-mlogloss:0.25955\n",
      "[99]\tvalidation_0-merror:0.00345\tvalidation_0-mlogloss:0.00855\tvalidation_1-merror:0.08528\tvalidation_1-mlogloss:0.25954\n",
      "[100]\tvalidation_0-merror:0.00345\tvalidation_0-mlogloss:0.00851\tvalidation_1-merror:0.08508\tvalidation_1-mlogloss:0.25961\n",
      "[101]\tvalidation_0-merror:0.00345\tvalidation_0-mlogloss:0.00847\tvalidation_1-merror:0.08487\tvalidation_1-mlogloss:0.25966\n",
      "[102]\tvalidation_0-merror:0.00345\tvalidation_0-mlogloss:0.00842\tvalidation_1-merror:0.08487\tvalidation_1-mlogloss:0.25964\n",
      "Stopping. Best iteration:\n",
      "[87]\tvalidation_0-merror:0.00345\tvalidation_0-mlogloss:0.00916\tvalidation_1-merror:0.08574\tvalidation_1-mlogloss:0.25922\n",
      "\n",
      "Training time 895.425 seconds\n",
      "Test time 0.836 seconds\n",
      "0.9142564102564102\n"
     ]
    }
   ],
   "source": [
    "start_time = time.time()\n",
    "clf_xgb = XGBClassifier(max_depth=13,\n",
    "                        objective=\"multi:softprob\",\n",
    "                        n_estimators=3000,\n",
    "                        learning_rate = 0.3, random_state=42)\n",
    "eval_set = [(X_train_scaled, y_train), (X_test_scaled, y_test)]\n",
    "clf_xgb.fit(X_train_scaled, y_train.ravel(), early_stopping_rounds=15, eval_metric=[\"merror\", \"mlogloss\"], eval_set=eval_set, verbose=True)\n",
    "train_time = time.time() - start_time\n",
    "print(\"Training time %.3f seconds\" % train_time)\n",
    "\n",
    "start_time = time.time()\n",
    "y_pred_xgb = clf_xgb.predict(X_test_scaled)\n",
    "test_time = time.time() - start_time\n",
    "print(\"Test time %.3f seconds\" % test_time)\n",
    "print(accuracy_score(y_pred_xgb, y_test))\n",
    "# 87 0.9142"
   ]
  },
  {
   "cell_type": "code",
   "execution_count": 10,
   "metadata": {},
   "outputs": [
    {
     "data": {
      "image/png": "[encoded data removed]",
      "text/plain": [
       "<Figure size 432x288 with 1 Axes>"
      ]
     },
     "metadata": {
      "needs_background": "light"
     },
     "output_type": "display_data"
    },
    {
     "data": {
      "image/png": "[encoded data removed]",
      "text/plain": [
       "<Figure size 432x288 with 1 Axes>"
      ]
     },
     "metadata": {
      "needs_background": "light"
     },
     "output_type": "display_data"
    }
   ],
   "source": [
    "# retrieve performance metrics\n",
    "results = clf_xgb.evals_result()\n",
    "epochs = len(results['validation_0']['merror'])\n",
    "x_axis = range(0, epochs)\n",
    "# plot log loss\n",
    "fig, ax = plt.subplots()\n",
    "ax.plot(x_axis, results['validation_0']['mlogloss'], label='Train')\n",
    "ax.plot(x_axis, results['validation_1']['mlogloss'], label='Test')\n",
    "ax.legend()\n",
    "plt.ylabel('Log Loss')\n",
    "plt.title('XGBoost Log Loss')\n",
    "plt.show()\n",
    "# plot classification error\n",
    "fig, ax = plt.subplots()\n",
    "ax.plot(x_axis, results['validation_0']['merror'], label='Train')\n",
    "ax.plot(x_axis, results['validation_1']['merror'], label='Test')\n",
    "ax.legend()\n",
    "plt.ylabel('Classification Error')\n",
    "plt.title('XGBoost Classification Error')\n",
    "plt.show()"
   ]
  },
  {
   "cell_type": "code",
   "execution_count": 7,
   "metadata": {
    "collapsed": true,
    "jupyter": {
     "outputs_hidden": true
    }
   },
   "outputs": [
    {
     "name": "stdout",
     "output_type": "stream",
     "text": [
      "[0]\tvalidation_0-merror:0.07530\tvalidation_0-mlogloss:1.68218\tvalidation_1-merror:0.21231\tvalidation_1-mlogloss:1.69937\n",
      "Multiple eval metrics have been passed: 'validation_1-mlogloss' will be used for early stopping.\n",
      "\n",
      "Will train until validation_1-mlogloss hasn't improved in 15 rounds.\n",
      "[1]\tvalidation_0-merror:0.06312\tvalidation_0-mlogloss:1.58489\tvalidation_1-merror:0.19974\tvalidation_1-mlogloss:1.61792\n",
      "[2]\tvalidation_0-merror:0.05464\tvalidation_0-mlogloss:1.49765\tvalidation_1-merror:0.18979\tvalidation_1-mlogloss:1.54536\n",
      "[3]\tvalidation_0-merror:0.04963\tvalidation_0-mlogloss:1.41829\tvalidation_1-merror:0.17764\tvalidation_1-mlogloss:1.47937\n",
      "[4]\tvalidation_0-merror:0.04582\tvalidation_0-mlogloss:1.34528\tvalidation_1-merror:0.17236\tvalidation_1-mlogloss:1.41847\n",
      "[5]\tvalidation_0-merror:0.04193\tvalidation_0-mlogloss:1.27813\tvalidation_1-merror:0.16841\tvalidation_1-mlogloss:1.36277\n",
      "[6]\tvalidation_0-merror:0.04026\tvalidation_0-mlogloss:1.21611\tvalidation_1-merror:0.16456\tvalidation_1-mlogloss:1.31117\n",
      "[7]\tvalidation_0-merror:0.03811\tvalidation_0-mlogloss:1.15868\tvalidation_1-merror:0.16210\tvalidation_1-mlogloss:1.26370\n",
      "[8]\tvalidation_0-merror:0.03679\tvalidation_0-mlogloss:1.10539\tvalidation_1-merror:0.16000\tvalidation_1-mlogloss:1.21919\n",
      "[9]\tvalidation_0-merror:0.03508\tvalidation_0-mlogloss:1.05551\tvalidation_1-merror:0.15892\tvalidation_1-mlogloss:1.17785\n",
      "[10]\tvalidation_0-merror:0.03420\tvalidation_0-mlogloss:1.00888\tvalidation_1-merror:0.15672\tvalidation_1-mlogloss:1.13911\n",
      "[11]\tvalidation_0-merror:0.03261\tvalidation_0-mlogloss:0.96485\tvalidation_1-merror:0.15359\tvalidation_1-mlogloss:1.10244\n",
      "[12]\tvalidation_0-merror:0.03077\tvalidation_0-mlogloss:0.92357\tvalidation_1-merror:0.15185\tvalidation_1-mlogloss:1.06800\n",
      "[13]\tvalidation_0-merror:0.02908\tvalidation_0-mlogloss:0.88473\tvalidation_1-merror:0.15046\tvalidation_1-mlogloss:1.03579\n",
      "[14]\tvalidation_0-merror:0.02804\tvalidation_0-mlogloss:0.84800\tvalidation_1-merror:0.14856\tvalidation_1-mlogloss:1.00531\n",
      "[15]\tvalidation_0-merror:0.02688\tvalidation_0-mlogloss:0.81296\tvalidation_1-merror:0.14687\tvalidation_1-mlogloss:0.97655\n",
      "[16]\tvalidation_0-merror:0.02519\tvalidation_0-mlogloss:0.78000\tvalidation_1-merror:0.14431\tvalidation_1-mlogloss:0.94948\n",
      "[17]\tvalidation_0-merror:0.02413\tvalidation_0-mlogloss:0.74893\tvalidation_1-merror:0.14251\tvalidation_1-mlogloss:0.92396\n",
      "[18]\tvalidation_0-merror:0.02354\tvalidation_0-mlogloss:0.71966\tvalidation_1-merror:0.14056\tvalidation_1-mlogloss:0.89989\n",
      "[19]\tvalidation_0-merror:0.02244\tvalidation_0-mlogloss:0.69161\tvalidation_1-merror:0.13928\tvalidation_1-mlogloss:0.87698\n",
      "[20]\tvalidation_0-merror:0.02130\tvalidation_0-mlogloss:0.66508\tvalidation_1-merror:0.13846\tvalidation_1-mlogloss:0.85523\n",
      "[21]\tvalidation_0-merror:0.02048\tvalidation_0-mlogloss:0.64011\tvalidation_1-merror:0.13856\tvalidation_1-mlogloss:0.83478\n",
      "[22]\tvalidation_0-merror:0.01985\tvalidation_0-mlogloss:0.61604\tvalidation_1-merror:0.13697\tvalidation_1-mlogloss:0.81463\n",
      "[23]\tvalidation_0-merror:0.01903\tvalidation_0-mlogloss:0.59296\tvalidation_1-merror:0.13615\tvalidation_1-mlogloss:0.79543\n",
      "[24]\tvalidation_0-merror:0.01829\tvalidation_0-mlogloss:0.57121\tvalidation_1-merror:0.13446\tvalidation_1-mlogloss:0.77731\n",
      "[25]\tvalidation_0-merror:0.01763\tvalidation_0-mlogloss:0.54994\tvalidation_1-merror:0.13318\tvalidation_1-mlogloss:0.75932\n",
      "[26]\tvalidation_0-merror:0.01716\tvalidation_0-mlogloss:0.52987\tvalidation_1-merror:0.13241\tvalidation_1-mlogloss:0.74262\n",
      "[27]\tvalidation_0-merror:0.01650\tvalidation_0-mlogloss:0.51073\tvalidation_1-merror:0.13067\tvalidation_1-mlogloss:0.72663\n",
      "[28]\tvalidation_0-merror:0.01604\tvalidation_0-mlogloss:0.49275\tvalidation_1-merror:0.13062\tvalidation_1-mlogloss:0.71143\n",
      "[29]\tvalidation_0-merror:0.01552\tvalidation_0-mlogloss:0.47530\tvalidation_1-merror:0.12995\tvalidation_1-mlogloss:0.69667\n",
      "[30]\tvalidation_0-merror:0.01508\tvalidation_0-mlogloss:0.45852\tvalidation_1-merror:0.12949\tvalidation_1-mlogloss:0.68247\n",
      "[31]\tvalidation_0-merror:0.01459\tvalidation_0-mlogloss:0.44264\tvalidation_1-merror:0.12862\tvalidation_1-mlogloss:0.66866\n",
      "[32]\tvalidation_0-merror:0.01411\tvalidation_0-mlogloss:0.42729\tvalidation_1-merror:0.12867\tvalidation_1-mlogloss:0.65544\n",
      "[33]\tvalidation_0-merror:0.01369\tvalidation_0-mlogloss:0.41267\tvalidation_1-merror:0.12790\tvalidation_1-mlogloss:0.64298\n",
      "[34]\tvalidation_0-merror:0.01334\tvalidation_0-mlogloss:0.39835\tvalidation_1-merror:0.12728\tvalidation_1-mlogloss:0.63047\n",
      "[35]\tvalidation_0-merror:0.01279\tvalidation_0-mlogloss:0.38485\tvalidation_1-merror:0.12641\tvalidation_1-mlogloss:0.61906\n",
      "[36]\tvalidation_0-merror:0.01246\tvalidation_0-mlogloss:0.37178\tvalidation_1-merror:0.12533\tvalidation_1-mlogloss:0.60741\n",
      "[37]\tvalidation_0-merror:0.01231\tvalidation_0-mlogloss:0.35943\tvalidation_1-merror:0.12477\tvalidation_1-mlogloss:0.59672\n",
      "[38]\tvalidation_0-merror:0.01202\tvalidation_0-mlogloss:0.34768\tvalidation_1-merror:0.12400\tvalidation_1-mlogloss:0.58647\n",
      "[39]\tvalidation_0-merror:0.01169\tvalidation_0-mlogloss:0.33623\tvalidation_1-merror:0.12277\tvalidation_1-mlogloss:0.57634\n",
      "[40]\tvalidation_0-merror:0.01143\tvalidation_0-mlogloss:0.32552\tvalidation_1-merror:0.12236\tvalidation_1-mlogloss:0.56700\n",
      "[41]\tvalidation_0-merror:0.01108\tvalidation_0-mlogloss:0.31524\tvalidation_1-merror:0.12164\tvalidation_1-mlogloss:0.55821\n",
      "[42]\tvalidation_0-merror:0.01070\tvalidation_0-mlogloss:0.30514\tvalidation_1-merror:0.12123\tvalidation_1-mlogloss:0.54924\n",
      "[43]\tvalidation_0-merror:0.01064\tvalidation_0-mlogloss:0.29560\tvalidation_1-merror:0.12046\tvalidation_1-mlogloss:0.54093\n",
      "[44]\tvalidation_0-merror:0.01042\tvalidation_0-mlogloss:0.28639\tvalidation_1-merror:0.12051\tvalidation_1-mlogloss:0.53295\n",
      "[45]\tvalidation_0-merror:0.00996\tvalidation_0-mlogloss:0.27743\tvalidation_1-merror:0.11979\tvalidation_1-mlogloss:0.52478\n",
      "[46]\tvalidation_0-merror:0.00980\tvalidation_0-mlogloss:0.26904\tvalidation_1-merror:0.11954\tvalidation_1-mlogloss:0.51756\n",
      "[47]\tvalidation_0-merror:0.00965\tvalidation_0-mlogloss:0.26071\tvalidation_1-merror:0.11872\tvalidation_1-mlogloss:0.51011\n",
      "[48]\tvalidation_0-merror:0.00938\tvalidation_0-mlogloss:0.25260\tvalidation_1-merror:0.11846\tvalidation_1-mlogloss:0.50284\n",
      "[49]\tvalidation_0-merror:0.00908\tvalidation_0-mlogloss:0.24471\tvalidation_1-merror:0.11728\tvalidation_1-mlogloss:0.49575\n",
      "[50]\tvalidation_0-merror:0.00875\tvalidation_0-mlogloss:0.23734\tvalidation_1-merror:0.11723\tvalidation_1-mlogloss:0.48898\n",
      "[51]\tvalidation_0-merror:0.00861\tvalidation_0-mlogloss:0.23008\tvalidation_1-merror:0.11672\tvalidation_1-mlogloss:0.48248\n",
      "[52]\tvalidation_0-merror:0.00837\tvalidation_0-mlogloss:0.22317\tvalidation_1-merror:0.11661\tvalidation_1-mlogloss:0.47597\n",
      "[53]\tvalidation_0-merror:0.00818\tvalidation_0-mlogloss:0.21650\tvalidation_1-merror:0.11610\tvalidation_1-mlogloss:0.46980\n",
      "[54]\tvalidation_0-merror:0.00796\tvalidation_0-mlogloss:0.21021\tvalidation_1-merror:0.11574\tvalidation_1-mlogloss:0.46402\n",
      "[55]\tvalidation_0-merror:0.00782\tvalidation_0-mlogloss:0.20394\tvalidation_1-merror:0.11544\tvalidation_1-mlogloss:0.45813\n",
      "[56]\tvalidation_0-merror:0.00754\tvalidation_0-mlogloss:0.19807\tvalidation_1-merror:0.11523\tvalidation_1-mlogloss:0.45272\n",
      "[57]\tvalidation_0-merror:0.00745\tvalidation_0-mlogloss:0.19249\tvalidation_1-merror:0.11461\tvalidation_1-mlogloss:0.44725\n",
      "[58]\tvalidation_0-merror:0.00732\tvalidation_0-mlogloss:0.18720\tvalidation_1-merror:0.11400\tvalidation_1-mlogloss:0.44236\n",
      "[59]\tvalidation_0-merror:0.00714\tvalidation_0-mlogloss:0.18194\tvalidation_1-merror:0.11333\tvalidation_1-mlogloss:0.43712\n",
      "[60]\tvalidation_0-merror:0.00710\tvalidation_0-mlogloss:0.17682\tvalidation_1-merror:0.11297\tvalidation_1-mlogloss:0.43230\n",
      "[61]\tvalidation_0-merror:0.00701\tvalidation_0-mlogloss:0.17179\tvalidation_1-merror:0.11236\tvalidation_1-mlogloss:0.42737\n",
      "[62]\tvalidation_0-merror:0.00690\tvalidation_0-mlogloss:0.16732\tvalidation_1-merror:0.11220\tvalidation_1-mlogloss:0.42317\n",
      "[63]\tvalidation_0-merror:0.00673\tvalidation_0-mlogloss:0.16277\tvalidation_1-merror:0.11149\tvalidation_1-mlogloss:0.41870\n",
      "[64]\tvalidation_0-merror:0.00662\tvalidation_0-mlogloss:0.15833\tvalidation_1-merror:0.11174\tvalidation_1-mlogloss:0.41450\n",
      "[65]\tvalidation_0-merror:0.00655\tvalidation_0-mlogloss:0.15415\tvalidation_1-merror:0.11169\tvalidation_1-mlogloss:0.41047\n",
      "[66]\tvalidation_0-merror:0.00644\tvalidation_0-mlogloss:0.15006\tvalidation_1-merror:0.11097\tvalidation_1-mlogloss:0.40644\n",
      "[67]\tvalidation_0-merror:0.00640\tvalidation_0-mlogloss:0.14625\tvalidation_1-merror:0.11062\tvalidation_1-mlogloss:0.40270\n",
      "[68]\tvalidation_0-merror:0.00626\tvalidation_0-mlogloss:0.14250\tvalidation_1-merror:0.11072\tvalidation_1-mlogloss:0.39893\n",
      "[69]\tvalidation_0-merror:0.00633\tvalidation_0-mlogloss:0.13880\tvalidation_1-merror:0.11092\tvalidation_1-mlogloss:0.39536\n",
      "[70]\tvalidation_0-merror:0.00622\tvalidation_0-mlogloss:0.13537\tvalidation_1-merror:0.11056\tvalidation_1-mlogloss:0.39213\n",
      "[71]\tvalidation_0-merror:0.00607\tvalidation_0-mlogloss:0.13204\tvalidation_1-merror:0.11041\tvalidation_1-mlogloss:0.38878\n",
      "[72]\tvalidation_0-merror:0.00593\tvalidation_0-mlogloss:0.12881\tvalidation_1-merror:0.11046\tvalidation_1-mlogloss:0.38566\n",
      "[73]\tvalidation_0-merror:0.00591\tvalidation_0-mlogloss:0.12572\tvalidation_1-merror:0.10980\tvalidation_1-mlogloss:0.38239\n",
      "[74]\tvalidation_0-merror:0.00582\tvalidation_0-mlogloss:0.12268\tvalidation_1-merror:0.10964\tvalidation_1-mlogloss:0.37938\n",
      "[75]\tvalidation_0-merror:0.00571\tvalidation_0-mlogloss:0.11979\tvalidation_1-merror:0.10933\tvalidation_1-mlogloss:0.37654\n",
      "[76]\tvalidation_0-merror:0.00560\tvalidation_0-mlogloss:0.11695\tvalidation_1-merror:0.10897\tvalidation_1-mlogloss:0.37367\n",
      "[77]\tvalidation_0-merror:0.00556\tvalidation_0-mlogloss:0.11426\tvalidation_1-merror:0.10872\tvalidation_1-mlogloss:0.37085\n",
      "[78]\tvalidation_0-merror:0.00556\tvalidation_0-mlogloss:0.11164\tvalidation_1-merror:0.10851\tvalidation_1-mlogloss:0.36812\n",
      "[79]\tvalidation_0-merror:0.00543\tvalidation_0-mlogloss:0.10912\tvalidation_1-merror:0.10851\tvalidation_1-mlogloss:0.36546\n",
      "[80]\tvalidation_0-merror:0.00536\tvalidation_0-mlogloss:0.10670\tvalidation_1-merror:0.10780\tvalidation_1-mlogloss:0.36298\n",
      "[81]\tvalidation_0-merror:0.00525\tvalidation_0-mlogloss:0.10435\tvalidation_1-merror:0.10810\tvalidation_1-mlogloss:0.36061\n",
      "[82]\tvalidation_0-merror:0.00512\tvalidation_0-mlogloss:0.10214\tvalidation_1-merror:0.10785\tvalidation_1-mlogloss:0.35827\n",
      "[83]\tvalidation_0-merror:0.00510\tvalidation_0-mlogloss:0.09993\tvalidation_1-merror:0.10728\tvalidation_1-mlogloss:0.35606\n",
      "[84]\tvalidation_0-merror:0.00499\tvalidation_0-mlogloss:0.09781\tvalidation_1-merror:0.10728\tvalidation_1-mlogloss:0.35387\n",
      "[85]\tvalidation_0-merror:0.00492\tvalidation_0-mlogloss:0.09579\tvalidation_1-merror:0.10728\tvalidation_1-mlogloss:0.35184\n",
      "[86]\tvalidation_0-merror:0.00488\tvalidation_0-mlogloss:0.09388\tvalidation_1-merror:0.10697\tvalidation_1-mlogloss:0.34985\n",
      "[87]\tvalidation_0-merror:0.00477\tvalidation_0-mlogloss:0.09200\tvalidation_1-merror:0.10697\tvalidation_1-mlogloss:0.34786\n",
      "[88]\tvalidation_0-merror:0.00477\tvalidation_0-mlogloss:0.09016\tvalidation_1-merror:0.10692\tvalidation_1-mlogloss:0.34595\n",
      "[89]\tvalidation_0-merror:0.00468\tvalidation_0-mlogloss:0.08837\tvalidation_1-merror:0.10641\tvalidation_1-mlogloss:0.34404\n",
      "[90]\tvalidation_0-merror:0.00466\tvalidation_0-mlogloss:0.08658\tvalidation_1-merror:0.10651\tvalidation_1-mlogloss:0.34230\n",
      "[91]\tvalidation_0-merror:0.00466\tvalidation_0-mlogloss:0.08488\tvalidation_1-merror:0.10605\tvalidation_1-mlogloss:0.34047\n",
      "[92]\tvalidation_0-merror:0.00468\tvalidation_0-mlogloss:0.08322\tvalidation_1-merror:0.10539\tvalidation_1-mlogloss:0.33851\n",
      "[93]\tvalidation_0-merror:0.00459\tvalidation_0-mlogloss:0.08164\tvalidation_1-merror:0.10523\tvalidation_1-mlogloss:0.33687\n",
      "[94]\tvalidation_0-merror:0.00455\tvalidation_0-mlogloss:0.08007\tvalidation_1-merror:0.10477\tvalidation_1-mlogloss:0.33508\n",
      "[95]\tvalidation_0-merror:0.00451\tvalidation_0-mlogloss:0.07864\tvalidation_1-merror:0.10487\tvalidation_1-mlogloss:0.33355\n",
      "[96]\tvalidation_0-merror:0.00448\tvalidation_0-mlogloss:0.07719\tvalidation_1-merror:0.10461\tvalidation_1-mlogloss:0.33189\n",
      "[97]\tvalidation_0-merror:0.00442\tvalidation_0-mlogloss:0.07576\tvalidation_1-merror:0.10436\tvalidation_1-mlogloss:0.33026\n",
      "[98]\tvalidation_0-merror:0.00437\tvalidation_0-mlogloss:0.07443\tvalidation_1-merror:0.10400\tvalidation_1-mlogloss:0.32871\n",
      "[99]\tvalidation_0-merror:0.00437\tvalidation_0-mlogloss:0.07311\tvalidation_1-merror:0.10349\tvalidation_1-mlogloss:0.32726\n",
      "[100]\tvalidation_0-merror:0.00435\tvalidation_0-mlogloss:0.07189\tvalidation_1-merror:0.10354\tvalidation_1-mlogloss:0.32596\n",
      "[101]\tvalidation_0-merror:0.00433\tvalidation_0-mlogloss:0.07067\tvalidation_1-merror:0.10318\tvalidation_1-mlogloss:0.32470\n",
      "[102]\tvalidation_0-merror:0.00435\tvalidation_0-mlogloss:0.06952\tvalidation_1-merror:0.10318\tvalidation_1-mlogloss:0.32337\n",
      "[103]\tvalidation_0-merror:0.00433\tvalidation_0-mlogloss:0.06837\tvalidation_1-merror:0.10282\tvalidation_1-mlogloss:0.32208\n",
      "[104]\tvalidation_0-merror:0.00429\tvalidation_0-mlogloss:0.06721\tvalidation_1-merror:0.10261\tvalidation_1-mlogloss:0.32087\n",
      "[105]\tvalidation_0-merror:0.00426\tvalidation_0-mlogloss:0.06610\tvalidation_1-merror:0.10205\tvalidation_1-mlogloss:0.31945\n",
      "[106]\tvalidation_0-merror:0.00426\tvalidation_0-mlogloss:0.06506\tvalidation_1-merror:0.10164\tvalidation_1-mlogloss:0.31835\n",
      "[107]\tvalidation_0-merror:0.00422\tvalidation_0-mlogloss:0.06401\tvalidation_1-merror:0.10139\tvalidation_1-mlogloss:0.31713\n",
      "[108]\tvalidation_0-merror:0.00418\tvalidation_0-mlogloss:0.06298\tvalidation_1-merror:0.10118\tvalidation_1-mlogloss:0.31601\n",
      "[109]\tvalidation_0-merror:0.00415\tvalidation_0-mlogloss:0.06199\tvalidation_1-merror:0.10123\tvalidation_1-mlogloss:0.31475\n",
      "[110]\tvalidation_0-merror:0.00413\tvalidation_0-mlogloss:0.06105\tvalidation_1-merror:0.10087\tvalidation_1-mlogloss:0.31363\n",
      "[111]\tvalidation_0-merror:0.00409\tvalidation_0-mlogloss:0.06008\tvalidation_1-merror:0.10077\tvalidation_1-mlogloss:0.31246\n",
      "[112]\tvalidation_0-merror:0.00402\tvalidation_0-mlogloss:0.05919\tvalidation_1-merror:0.10072\tvalidation_1-mlogloss:0.31144\n",
      "[113]\tvalidation_0-merror:0.00398\tvalidation_0-mlogloss:0.05828\tvalidation_1-merror:0.10046\tvalidation_1-mlogloss:0.31028\n",
      "[114]\tvalidation_0-merror:0.00398\tvalidation_0-mlogloss:0.05743\tvalidation_1-merror:0.10036\tvalidation_1-mlogloss:0.30931\n",
      "[115]\tvalidation_0-merror:0.00393\tvalidation_0-mlogloss:0.05655\tvalidation_1-merror:0.10026\tvalidation_1-mlogloss:0.30839\n",
      "[116]\tvalidation_0-merror:0.00389\tvalidation_0-mlogloss:0.05568\tvalidation_1-merror:0.10051\tvalidation_1-mlogloss:0.30724\n",
      "[117]\tvalidation_0-merror:0.00389\tvalidation_0-mlogloss:0.05486\tvalidation_1-merror:0.10026\tvalidation_1-mlogloss:0.30638\n",
      "[118]\tvalidation_0-merror:0.00387\tvalidation_0-mlogloss:0.05402\tvalidation_1-merror:0.10010\tvalidation_1-mlogloss:0.30529\n",
      "[119]\tvalidation_0-merror:0.00382\tvalidation_0-mlogloss:0.05329\tvalidation_1-merror:0.10015\tvalidation_1-mlogloss:0.30455\n",
      "[120]\tvalidation_0-merror:0.00380\tvalidation_0-mlogloss:0.05260\tvalidation_1-merror:0.10031\tvalidation_1-mlogloss:0.30375\n",
      "[121]\tvalidation_0-merror:0.00382\tvalidation_0-mlogloss:0.05185\tvalidation_1-merror:0.10015\tvalidation_1-mlogloss:0.30278\n",
      "[122]\tvalidation_0-merror:0.00382\tvalidation_0-mlogloss:0.05114\tvalidation_1-merror:0.09979\tvalidation_1-mlogloss:0.30184\n",
      "[123]\tvalidation_0-merror:0.00382\tvalidation_0-mlogloss:0.05036\tvalidation_1-merror:0.09954\tvalidation_1-mlogloss:0.30093\n",
      "[124]\tvalidation_0-merror:0.00380\tvalidation_0-mlogloss:0.04976\tvalidation_1-merror:0.09923\tvalidation_1-mlogloss:0.30026\n",
      "[125]\tvalidation_0-merror:0.00378\tvalidation_0-mlogloss:0.04911\tvalidation_1-merror:0.09877\tvalidation_1-mlogloss:0.29949\n",
      "[126]\tvalidation_0-merror:0.00378\tvalidation_0-mlogloss:0.04851\tvalidation_1-merror:0.09872\tvalidation_1-mlogloss:0.29862\n",
      "[127]\tvalidation_0-merror:0.00378\tvalidation_0-mlogloss:0.04786\tvalidation_1-merror:0.09851\tvalidation_1-mlogloss:0.29778\n",
      "[128]\tvalidation_0-merror:0.00378\tvalidation_0-mlogloss:0.04724\tvalidation_1-merror:0.09826\tvalidation_1-mlogloss:0.29712\n",
      "[129]\tvalidation_0-merror:0.00378\tvalidation_0-mlogloss:0.04664\tvalidation_1-merror:0.09815\tvalidation_1-mlogloss:0.29642\n",
      "[130]\tvalidation_0-merror:0.00378\tvalidation_0-mlogloss:0.04609\tvalidation_1-merror:0.09826\tvalidation_1-mlogloss:0.29568\n",
      "[131]\tvalidation_0-merror:0.00376\tvalidation_0-mlogloss:0.04557\tvalidation_1-merror:0.09810\tvalidation_1-mlogloss:0.29514\n",
      "[132]\tvalidation_0-merror:0.00376\tvalidation_0-mlogloss:0.04501\tvalidation_1-merror:0.09821\tvalidation_1-mlogloss:0.29442\n",
      "[133]\tvalidation_0-merror:0.00374\tvalidation_0-mlogloss:0.04440\tvalidation_1-merror:0.09805\tvalidation_1-mlogloss:0.29371\n",
      "[134]\tvalidation_0-merror:0.00374\tvalidation_0-mlogloss:0.04388\tvalidation_1-merror:0.09826\tvalidation_1-mlogloss:0.29304\n",
      "[135]\tvalidation_0-merror:0.00374\tvalidation_0-mlogloss:0.04339\tvalidation_1-merror:0.09785\tvalidation_1-mlogloss:0.29251\n",
      "[136]\tvalidation_0-merror:0.00374\tvalidation_0-mlogloss:0.04281\tvalidation_1-merror:0.09805\tvalidation_1-mlogloss:0.29175\n",
      "[137]\tvalidation_0-merror:0.00369\tvalidation_0-mlogloss:0.04232\tvalidation_1-merror:0.09831\tvalidation_1-mlogloss:0.29120\n",
      "[138]\tvalidation_0-merror:0.00369\tvalidation_0-mlogloss:0.04184\tvalidation_1-merror:0.09795\tvalidation_1-mlogloss:0.29056\n",
      "[139]\tvalidation_0-merror:0.00367\tvalidation_0-mlogloss:0.04133\tvalidation_1-merror:0.09780\tvalidation_1-mlogloss:0.28993\n",
      "[140]\tvalidation_0-merror:0.00365\tvalidation_0-mlogloss:0.04087\tvalidation_1-merror:0.09774\tvalidation_1-mlogloss:0.28934\n",
      "[141]\tvalidation_0-merror:0.00365\tvalidation_0-mlogloss:0.04035\tvalidation_1-merror:0.09759\tvalidation_1-mlogloss:0.28871\n",
      "[142]\tvalidation_0-merror:0.00365\tvalidation_0-mlogloss:0.03993\tvalidation_1-merror:0.09713\tvalidation_1-mlogloss:0.28820\n",
      "[143]\tvalidation_0-merror:0.00365\tvalidation_0-mlogloss:0.03946\tvalidation_1-merror:0.09713\tvalidation_1-mlogloss:0.28758\n",
      "[144]\tvalidation_0-merror:0.00363\tvalidation_0-mlogloss:0.03906\tvalidation_1-merror:0.09708\tvalidation_1-mlogloss:0.28709\n",
      "[145]\tvalidation_0-merror:0.00365\tvalidation_0-mlogloss:0.03862\tvalidation_1-merror:0.09733\tvalidation_1-mlogloss:0.28664\n",
      "[146]\tvalidation_0-merror:0.00363\tvalidation_0-mlogloss:0.03821\tvalidation_1-merror:0.09677\tvalidation_1-mlogloss:0.28606\n",
      "[147]\tvalidation_0-merror:0.00363\tvalidation_0-mlogloss:0.03780\tvalidation_1-merror:0.09651\tvalidation_1-mlogloss:0.28547\n",
      "[148]\tvalidation_0-merror:0.00363\tvalidation_0-mlogloss:0.03743\tvalidation_1-merror:0.09631\tvalidation_1-mlogloss:0.28497\n",
      "[149]\tvalidation_0-merror:0.00363\tvalidation_0-mlogloss:0.03702\tvalidation_1-merror:0.09656\tvalidation_1-mlogloss:0.28448\n",
      "[150]\tvalidation_0-merror:0.00363\tvalidation_0-mlogloss:0.03665\tvalidation_1-merror:0.09620\tvalidation_1-mlogloss:0.28391\n",
      "[151]\tvalidation_0-merror:0.00363\tvalidation_0-mlogloss:0.03629\tvalidation_1-merror:0.09620\tvalidation_1-mlogloss:0.28349\n",
      "[152]\tvalidation_0-merror:0.00363\tvalidation_0-mlogloss:0.03591\tvalidation_1-merror:0.09610\tvalidation_1-mlogloss:0.28291\n",
      "[153]\tvalidation_0-merror:0.00363\tvalidation_0-mlogloss:0.03554\tvalidation_1-merror:0.09615\tvalidation_1-mlogloss:0.28246\n",
      "[154]\tvalidation_0-merror:0.00363\tvalidation_0-mlogloss:0.03517\tvalidation_1-merror:0.09600\tvalidation_1-mlogloss:0.28191\n",
      "[155]\tvalidation_0-merror:0.00363\tvalidation_0-mlogloss:0.03486\tvalidation_1-merror:0.09569\tvalidation_1-mlogloss:0.28143\n",
      "[156]\tvalidation_0-merror:0.00358\tvalidation_0-mlogloss:0.03447\tvalidation_1-merror:0.09585\tvalidation_1-mlogloss:0.28101\n",
      "[157]\tvalidation_0-merror:0.00356\tvalidation_0-mlogloss:0.03419\tvalidation_1-merror:0.09585\tvalidation_1-mlogloss:0.28066\n",
      "[158]\tvalidation_0-merror:0.00356\tvalidation_0-mlogloss:0.03381\tvalidation_1-merror:0.09590\tvalidation_1-mlogloss:0.28022\n",
      "[159]\tvalidation_0-merror:0.00354\tvalidation_0-mlogloss:0.03345\tvalidation_1-merror:0.09590\tvalidation_1-mlogloss:0.27978\n",
      "[160]\tvalidation_0-merror:0.00354\tvalidation_0-mlogloss:0.03312\tvalidation_1-merror:0.09590\tvalidation_1-mlogloss:0.27935\n",
      "[161]\tvalidation_0-merror:0.00354\tvalidation_0-mlogloss:0.03281\tvalidation_1-merror:0.09559\tvalidation_1-mlogloss:0.27893\n",
      "[162]\tvalidation_0-merror:0.00354\tvalidation_0-mlogloss:0.03252\tvalidation_1-merror:0.09538\tvalidation_1-mlogloss:0.27857\n",
      "[163]\tvalidation_0-merror:0.00354\tvalidation_0-mlogloss:0.03222\tvalidation_1-merror:0.09549\tvalidation_1-mlogloss:0.27827\n",
      "[164]\tvalidation_0-merror:0.00352\tvalidation_0-mlogloss:0.03196\tvalidation_1-merror:0.09554\tvalidation_1-mlogloss:0.27784\n",
      "[165]\tvalidation_0-merror:0.00352\tvalidation_0-mlogloss:0.03167\tvalidation_1-merror:0.09528\tvalidation_1-mlogloss:0.27746\n",
      "[166]\tvalidation_0-merror:0.00352\tvalidation_0-mlogloss:0.03138\tvalidation_1-merror:0.09538\tvalidation_1-mlogloss:0.27711\n",
      "[167]\tvalidation_0-merror:0.00349\tvalidation_0-mlogloss:0.03109\tvalidation_1-merror:0.09518\tvalidation_1-mlogloss:0.27670\n",
      "[168]\tvalidation_0-merror:0.00349\tvalidation_0-mlogloss:0.03081\tvalidation_1-merror:0.09528\tvalidation_1-mlogloss:0.27637\n",
      "[169]\tvalidation_0-merror:0.00349\tvalidation_0-mlogloss:0.03053\tvalidation_1-merror:0.09528\tvalidation_1-mlogloss:0.27611\n",
      "[170]\tvalidation_0-merror:0.00349\tvalidation_0-mlogloss:0.03025\tvalidation_1-merror:0.09528\tvalidation_1-mlogloss:0.27574\n",
      "[171]\tvalidation_0-merror:0.00349\tvalidation_0-mlogloss:0.02997\tvalidation_1-merror:0.09523\tvalidation_1-mlogloss:0.27550\n",
      "[172]\tvalidation_0-merror:0.00349\tvalidation_0-mlogloss:0.02971\tvalidation_1-merror:0.09497\tvalidation_1-mlogloss:0.27517\n",
      "[173]\tvalidation_0-merror:0.00349\tvalidation_0-mlogloss:0.02942\tvalidation_1-merror:0.09482\tvalidation_1-mlogloss:0.27478\n",
      "[174]\tvalidation_0-merror:0.00349\tvalidation_0-mlogloss:0.02916\tvalidation_1-merror:0.09467\tvalidation_1-mlogloss:0.27446\n",
      "[175]\tvalidation_0-merror:0.00349\tvalidation_0-mlogloss:0.02889\tvalidation_1-merror:0.09472\tvalidation_1-mlogloss:0.27412\n",
      "[176]\tvalidation_0-merror:0.00349\tvalidation_0-mlogloss:0.02862\tvalidation_1-merror:0.09462\tvalidation_1-mlogloss:0.27380\n",
      "[177]\tvalidation_0-merror:0.00347\tvalidation_0-mlogloss:0.02839\tvalidation_1-merror:0.09472\tvalidation_1-mlogloss:0.27350\n",
      "[178]\tvalidation_0-merror:0.00347\tvalidation_0-mlogloss:0.02813\tvalidation_1-merror:0.09477\tvalidation_1-mlogloss:0.27321\n",
      "[179]\tvalidation_0-merror:0.00347\tvalidation_0-mlogloss:0.02791\tvalidation_1-merror:0.09462\tvalidation_1-mlogloss:0.27289\n",
      "[180]\tvalidation_0-merror:0.00347\tvalidation_0-mlogloss:0.02769\tvalidation_1-merror:0.09441\tvalidation_1-mlogloss:0.27261\n",
      "[181]\tvalidation_0-merror:0.00347\tvalidation_0-mlogloss:0.02741\tvalidation_1-merror:0.09436\tvalidation_1-mlogloss:0.27232\n",
      "[182]\tvalidation_0-merror:0.00347\tvalidation_0-mlogloss:0.02719\tvalidation_1-merror:0.09436\tvalidation_1-mlogloss:0.27202\n",
      "[183]\tvalidation_0-merror:0.00347\tvalidation_0-mlogloss:0.02696\tvalidation_1-merror:0.09446\tvalidation_1-mlogloss:0.27178\n",
      "[184]\tvalidation_0-merror:0.00347\tvalidation_0-mlogloss:0.02673\tvalidation_1-merror:0.09426\tvalidation_1-mlogloss:0.27153\n",
      "[185]\tvalidation_0-merror:0.00347\tvalidation_0-mlogloss:0.02651\tvalidation_1-merror:0.09415\tvalidation_1-mlogloss:0.27122\n",
      "[186]\tvalidation_0-merror:0.00347\tvalidation_0-mlogloss:0.02631\tvalidation_1-merror:0.09395\tvalidation_1-mlogloss:0.27088\n",
      "[187]\tvalidation_0-merror:0.00347\tvalidation_0-mlogloss:0.02612\tvalidation_1-merror:0.09395\tvalidation_1-mlogloss:0.27060\n",
      "[188]\tvalidation_0-merror:0.00347\tvalidation_0-mlogloss:0.02592\tvalidation_1-merror:0.09354\tvalidation_1-mlogloss:0.27028\n",
      "[189]\tvalidation_0-merror:0.00347\tvalidation_0-mlogloss:0.02570\tvalidation_1-merror:0.09344\tvalidation_1-mlogloss:0.27005\n",
      "[190]\tvalidation_0-merror:0.00347\tvalidation_0-mlogloss:0.02552\tvalidation_1-merror:0.09333\tvalidation_1-mlogloss:0.26976\n",
      "[191]\tvalidation_0-merror:0.00347\tvalidation_0-mlogloss:0.02533\tvalidation_1-merror:0.09323\tvalidation_1-mlogloss:0.26957\n",
      "[192]\tvalidation_0-merror:0.00347\tvalidation_0-mlogloss:0.02516\tvalidation_1-merror:0.09308\tvalidation_1-mlogloss:0.26935\n",
      "[193]\tvalidation_0-merror:0.00347\tvalidation_0-mlogloss:0.02496\tvalidation_1-merror:0.09308\tvalidation_1-mlogloss:0.26914\n",
      "[194]\tvalidation_0-merror:0.00347\tvalidation_0-mlogloss:0.02478\tvalidation_1-merror:0.09303\tvalidation_1-mlogloss:0.26894\n",
      "[195]\tvalidation_0-merror:0.00347\tvalidation_0-mlogloss:0.02462\tvalidation_1-merror:0.09292\tvalidation_1-mlogloss:0.26870\n",
      "[196]\tvalidation_0-merror:0.00347\tvalidation_0-mlogloss:0.02443\tvalidation_1-merror:0.09272\tvalidation_1-mlogloss:0.26854\n",
      "[197]\tvalidation_0-merror:0.00347\tvalidation_0-mlogloss:0.02425\tvalidation_1-merror:0.09292\tvalidation_1-mlogloss:0.26827\n",
      "[198]\tvalidation_0-merror:0.00347\tvalidation_0-mlogloss:0.02406\tvalidation_1-merror:0.09308\tvalidation_1-mlogloss:0.26806\n",
      "[199]\tvalidation_0-merror:0.00347\tvalidation_0-mlogloss:0.02390\tvalidation_1-merror:0.09277\tvalidation_1-mlogloss:0.26783\n",
      "[200]\tvalidation_0-merror:0.00347\tvalidation_0-mlogloss:0.02372\tvalidation_1-merror:0.09277\tvalidation_1-mlogloss:0.26763\n",
      "[201]\tvalidation_0-merror:0.00347\tvalidation_0-mlogloss:0.02355\tvalidation_1-merror:0.09262\tvalidation_1-mlogloss:0.26742\n",
      "[202]\tvalidation_0-merror:0.00347\tvalidation_0-mlogloss:0.02338\tvalidation_1-merror:0.09256\tvalidation_1-mlogloss:0.26726\n",
      "[203]\tvalidation_0-merror:0.00347\tvalidation_0-mlogloss:0.02323\tvalidation_1-merror:0.09246\tvalidation_1-mlogloss:0.26703\n",
      "[204]\tvalidation_0-merror:0.00347\tvalidation_0-mlogloss:0.02306\tvalidation_1-merror:0.09246\tvalidation_1-mlogloss:0.26684\n",
      "[205]\tvalidation_0-merror:0.00347\tvalidation_0-mlogloss:0.02291\tvalidation_1-merror:0.09251\tvalidation_1-mlogloss:0.26659\n",
      "[206]\tvalidation_0-merror:0.00347\tvalidation_0-mlogloss:0.02276\tvalidation_1-merror:0.09241\tvalidation_1-mlogloss:0.26643\n",
      "[207]\tvalidation_0-merror:0.00347\tvalidation_0-mlogloss:0.02260\tvalidation_1-merror:0.09220\tvalidation_1-mlogloss:0.26619\n",
      "[208]\tvalidation_0-merror:0.00347\tvalidation_0-mlogloss:0.02244\tvalidation_1-merror:0.09231\tvalidation_1-mlogloss:0.26603\n",
      "[209]\tvalidation_0-merror:0.00347\tvalidation_0-mlogloss:0.02232\tvalidation_1-merror:0.09195\tvalidation_1-mlogloss:0.26584\n",
      "[210]\tvalidation_0-merror:0.00347\tvalidation_0-mlogloss:0.02217\tvalidation_1-merror:0.09205\tvalidation_1-mlogloss:0.26566\n",
      "[211]\tvalidation_0-merror:0.00347\tvalidation_0-mlogloss:0.02203\tvalidation_1-merror:0.09185\tvalidation_1-mlogloss:0.26542\n",
      "[212]\tvalidation_0-merror:0.00347\tvalidation_0-mlogloss:0.02188\tvalidation_1-merror:0.09195\tvalidation_1-mlogloss:0.26523\n",
      "[213]\tvalidation_0-merror:0.00347\tvalidation_0-mlogloss:0.02175\tvalidation_1-merror:0.09195\tvalidation_1-mlogloss:0.26510\n",
      "[214]\tvalidation_0-merror:0.00347\tvalidation_0-mlogloss:0.02162\tvalidation_1-merror:0.09185\tvalidation_1-mlogloss:0.26487\n",
      "[215]\tvalidation_0-merror:0.00347\tvalidation_0-mlogloss:0.02148\tvalidation_1-merror:0.09174\tvalidation_1-mlogloss:0.26472\n",
      "[216]\tvalidation_0-merror:0.00347\tvalidation_0-mlogloss:0.02135\tvalidation_1-merror:0.09180\tvalidation_1-mlogloss:0.26456\n",
      "[217]\tvalidation_0-merror:0.00347\tvalidation_0-mlogloss:0.02123\tvalidation_1-merror:0.09159\tvalidation_1-mlogloss:0.26438\n",
      "[218]\tvalidation_0-merror:0.00347\tvalidation_0-mlogloss:0.02110\tvalidation_1-merror:0.09185\tvalidation_1-mlogloss:0.26423\n",
      "[219]\tvalidation_0-merror:0.00347\tvalidation_0-mlogloss:0.02096\tvalidation_1-merror:0.09159\tvalidation_1-mlogloss:0.26409\n",
      "[220]\tvalidation_0-merror:0.00347\tvalidation_0-mlogloss:0.02083\tvalidation_1-merror:0.09144\tvalidation_1-mlogloss:0.26390\n",
      "[221]\tvalidation_0-merror:0.00347\tvalidation_0-mlogloss:0.02072\tvalidation_1-merror:0.09149\tvalidation_1-mlogloss:0.26375\n",
      "[222]\tvalidation_0-merror:0.00347\tvalidation_0-mlogloss:0.02059\tvalidation_1-merror:0.09149\tvalidation_1-mlogloss:0.26354\n",
      "[223]\tvalidation_0-merror:0.00347\tvalidation_0-mlogloss:0.02046\tvalidation_1-merror:0.09164\tvalidation_1-mlogloss:0.26341\n",
      "[224]\tvalidation_0-merror:0.00347\tvalidation_0-mlogloss:0.02035\tvalidation_1-merror:0.09149\tvalidation_1-mlogloss:0.26330\n",
      "[225]\tvalidation_0-merror:0.00347\tvalidation_0-mlogloss:0.02024\tvalidation_1-merror:0.09133\tvalidation_1-mlogloss:0.26309\n",
      "[226]\tvalidation_0-merror:0.00347\tvalidation_0-mlogloss:0.02011\tvalidation_1-merror:0.09154\tvalidation_1-mlogloss:0.26299\n",
      "[227]\tvalidation_0-merror:0.00347\tvalidation_0-mlogloss:0.02000\tvalidation_1-merror:0.09149\tvalidation_1-mlogloss:0.26282\n",
      "[228]\tvalidation_0-merror:0.00347\tvalidation_0-mlogloss:0.01988\tvalidation_1-merror:0.09138\tvalidation_1-mlogloss:0.26266\n",
      "[229]\tvalidation_0-merror:0.00347\tvalidation_0-mlogloss:0.01978\tvalidation_1-merror:0.09138\tvalidation_1-mlogloss:0.26249\n",
      "[230]\tvalidation_0-merror:0.00347\tvalidation_0-mlogloss:0.01967\tvalidation_1-merror:0.09128\tvalidation_1-mlogloss:0.26236\n",
      "[231]\tvalidation_0-merror:0.00347\tvalidation_0-mlogloss:0.01956\tvalidation_1-merror:0.09092\tvalidation_1-mlogloss:0.26222\n",
      "[232]\tvalidation_0-merror:0.00347\tvalidation_0-mlogloss:0.01944\tvalidation_1-merror:0.09108\tvalidation_1-mlogloss:0.26208\n",
      "[233]\tvalidation_0-merror:0.00347\tvalidation_0-mlogloss:0.01933\tvalidation_1-merror:0.09097\tvalidation_1-mlogloss:0.26198\n",
      "[234]\tvalidation_0-merror:0.00347\tvalidation_0-mlogloss:0.01923\tvalidation_1-merror:0.09097\tvalidation_1-mlogloss:0.26181\n",
      "[235]\tvalidation_0-merror:0.00347\tvalidation_0-mlogloss:0.01913\tvalidation_1-merror:0.09103\tvalidation_1-mlogloss:0.26171\n",
      "[236]\tvalidation_0-merror:0.00347\tvalidation_0-mlogloss:0.01903\tvalidation_1-merror:0.09077\tvalidation_1-mlogloss:0.26152\n",
      "[237]\tvalidation_0-merror:0.00347\tvalidation_0-mlogloss:0.01893\tvalidation_1-merror:0.09082\tvalidation_1-mlogloss:0.26137\n",
      "[238]\tvalidation_0-merror:0.00347\tvalidation_0-mlogloss:0.01882\tvalidation_1-merror:0.09067\tvalidation_1-mlogloss:0.26132\n",
      "[239]\tvalidation_0-merror:0.00347\tvalidation_0-mlogloss:0.01874\tvalidation_1-merror:0.09072\tvalidation_1-mlogloss:0.26118\n",
      "[240]\tvalidation_0-merror:0.00347\tvalidation_0-mlogloss:0.01864\tvalidation_1-merror:0.09036\tvalidation_1-mlogloss:0.26108\n",
      "[241]\tvalidation_0-merror:0.00347\tvalidation_0-mlogloss:0.01856\tvalidation_1-merror:0.09046\tvalidation_1-mlogloss:0.26094\n",
      "[242]\tvalidation_0-merror:0.00347\tvalidation_0-mlogloss:0.01847\tvalidation_1-merror:0.09026\tvalidation_1-mlogloss:0.26087\n",
      "[243]\tvalidation_0-merror:0.00347\tvalidation_0-mlogloss:0.01837\tvalidation_1-merror:0.09031\tvalidation_1-mlogloss:0.26071\n",
      "[244]\tvalidation_0-merror:0.00347\tvalidation_0-mlogloss:0.01828\tvalidation_1-merror:0.09036\tvalidation_1-mlogloss:0.26060\n",
      "[245]\tvalidation_0-merror:0.00347\tvalidation_0-mlogloss:0.01818\tvalidation_1-merror:0.09031\tvalidation_1-mlogloss:0.26048\n",
      "[246]\tvalidation_0-merror:0.00347\tvalidation_0-mlogloss:0.01809\tvalidation_1-merror:0.09031\tvalidation_1-mlogloss:0.26044\n",
      "[247]\tvalidation_0-merror:0.00347\tvalidation_0-mlogloss:0.01801\tvalidation_1-merror:0.09010\tvalidation_1-mlogloss:0.26029\n",
      "[248]\tvalidation_0-merror:0.00347\tvalidation_0-mlogloss:0.01793\tvalidation_1-merror:0.09005\tvalidation_1-mlogloss:0.26021\n",
      "[249]\tvalidation_0-merror:0.00347\tvalidation_0-mlogloss:0.01785\tvalidation_1-merror:0.09000\tvalidation_1-mlogloss:0.26014\n",
      "[250]\tvalidation_0-merror:0.00347\tvalidation_0-mlogloss:0.01777\tvalidation_1-merror:0.08979\tvalidation_1-mlogloss:0.26000\n",
      "[251]\tvalidation_0-merror:0.00347\tvalidation_0-mlogloss:0.01769\tvalidation_1-merror:0.08995\tvalidation_1-mlogloss:0.25995\n",
      "[252]\tvalidation_0-merror:0.00347\tvalidation_0-mlogloss:0.01760\tvalidation_1-merror:0.09000\tvalidation_1-mlogloss:0.25984\n",
      "[253]\tvalidation_0-merror:0.00347\tvalidation_0-mlogloss:0.01751\tvalidation_1-merror:0.09000\tvalidation_1-mlogloss:0.25977\n",
      "[254]\tvalidation_0-merror:0.00347\tvalidation_0-mlogloss:0.01743\tvalidation_1-merror:0.09005\tvalidation_1-mlogloss:0.25965\n",
      "[255]\tvalidation_0-merror:0.00347\tvalidation_0-mlogloss:0.01735\tvalidation_1-merror:0.08974\tvalidation_1-mlogloss:0.25948\n",
      "[256]\tvalidation_0-merror:0.00347\tvalidation_0-mlogloss:0.01728\tvalidation_1-merror:0.08964\tvalidation_1-mlogloss:0.25935\n",
      "[257]\tvalidation_0-merror:0.00347\tvalidation_0-mlogloss:0.01720\tvalidation_1-merror:0.08954\tvalidation_1-mlogloss:0.25927\n",
      "[258]\tvalidation_0-merror:0.00347\tvalidation_0-mlogloss:0.01713\tvalidation_1-merror:0.08944\tvalidation_1-mlogloss:0.25918\n",
      "[259]\tvalidation_0-merror:0.00347\tvalidation_0-mlogloss:0.01707\tvalidation_1-merror:0.08964\tvalidation_1-mlogloss:0.25904\n",
      "[260]\tvalidation_0-merror:0.00347\tvalidation_0-mlogloss:0.01699\tvalidation_1-merror:0.08964\tvalidation_1-mlogloss:0.25894\n",
      "[261]\tvalidation_0-merror:0.00347\tvalidation_0-mlogloss:0.01692\tvalidation_1-merror:0.08959\tvalidation_1-mlogloss:0.25893\n",
      "[262]\tvalidation_0-merror:0.00347\tvalidation_0-mlogloss:0.01685\tvalidation_1-merror:0.08959\tvalidation_1-mlogloss:0.25886\n",
      "[263]\tvalidation_0-merror:0.00347\tvalidation_0-mlogloss:0.01679\tvalidation_1-merror:0.08974\tvalidation_1-mlogloss:0.25873\n",
      "[264]\tvalidation_0-merror:0.00347\tvalidation_0-mlogloss:0.01672\tvalidation_1-merror:0.08959\tvalidation_1-mlogloss:0.25860\n",
      "[265]\tvalidation_0-merror:0.00347\tvalidation_0-mlogloss:0.01665\tvalidation_1-merror:0.08949\tvalidation_1-mlogloss:0.25852\n",
      "[266]\tvalidation_0-merror:0.00347\tvalidation_0-mlogloss:0.01658\tvalidation_1-merror:0.08969\tvalidation_1-mlogloss:0.25845\n",
      "[267]\tvalidation_0-merror:0.00347\tvalidation_0-mlogloss:0.01651\tvalidation_1-merror:0.08974\tvalidation_1-mlogloss:0.25835\n",
      "[268]\tvalidation_0-merror:0.00347\tvalidation_0-mlogloss:0.01645\tvalidation_1-merror:0.08974\tvalidation_1-mlogloss:0.25830\n",
      "[269]\tvalidation_0-merror:0.00347\tvalidation_0-mlogloss:0.01637\tvalidation_1-merror:0.08979\tvalidation_1-mlogloss:0.25819\n",
      "[270]\tvalidation_0-merror:0.00347\tvalidation_0-mlogloss:0.01630\tvalidation_1-merror:0.08974\tvalidation_1-mlogloss:0.25811\n",
      "[271]\tvalidation_0-merror:0.00347\tvalidation_0-mlogloss:0.01623\tvalidation_1-merror:0.08964\tvalidation_1-mlogloss:0.25804\n",
      "[272]\tvalidation_0-merror:0.00347\tvalidation_0-mlogloss:0.01616\tvalidation_1-merror:0.08939\tvalidation_1-mlogloss:0.25795\n",
      "[273]\tvalidation_0-merror:0.00347\tvalidation_0-mlogloss:0.01609\tvalidation_1-merror:0.08949\tvalidation_1-mlogloss:0.25786\n",
      "[274]\tvalidation_0-merror:0.00347\tvalidation_0-mlogloss:0.01602\tvalidation_1-merror:0.08933\tvalidation_1-mlogloss:0.25776\n",
      "[275]\tvalidation_0-merror:0.00347\tvalidation_0-mlogloss:0.01596\tvalidation_1-merror:0.08923\tvalidation_1-mlogloss:0.25767\n",
      "[276]\tvalidation_0-merror:0.00347\tvalidation_0-mlogloss:0.01590\tvalidation_1-merror:0.08918\tvalidation_1-mlogloss:0.25755\n",
      "[277]\tvalidation_0-merror:0.00347\tvalidation_0-mlogloss:0.01584\tvalidation_1-merror:0.08913\tvalidation_1-mlogloss:0.25745\n",
      "[278]\tvalidation_0-merror:0.00347\tvalidation_0-mlogloss:0.01578\tvalidation_1-merror:0.08923\tvalidation_1-mlogloss:0.25733\n",
      "[279]\tvalidation_0-merror:0.00347\tvalidation_0-mlogloss:0.01571\tvalidation_1-merror:0.08908\tvalidation_1-mlogloss:0.25727\n",
      "[280]\tvalidation_0-merror:0.00347\tvalidation_0-mlogloss:0.01564\tvalidation_1-merror:0.08918\tvalidation_1-mlogloss:0.25727\n",
      "[281]\tvalidation_0-merror:0.00347\tvalidation_0-mlogloss:0.01558\tvalidation_1-merror:0.08903\tvalidation_1-mlogloss:0.25724\n",
      "[282]\tvalidation_0-merror:0.00345\tvalidation_0-mlogloss:0.01553\tvalidation_1-merror:0.08897\tvalidation_1-mlogloss:0.25720\n",
      "[283]\tvalidation_0-merror:0.00345\tvalidation_0-mlogloss:0.01548\tvalidation_1-merror:0.08923\tvalidation_1-mlogloss:0.25709\n",
      "[284]\tvalidation_0-merror:0.00345\tvalidation_0-mlogloss:0.01542\tvalidation_1-merror:0.08913\tvalidation_1-mlogloss:0.25695\n",
      "[285]\tvalidation_0-merror:0.00345\tvalidation_0-mlogloss:0.01537\tvalidation_1-merror:0.08908\tvalidation_1-mlogloss:0.25687\n",
      "[286]\tvalidation_0-merror:0.00345\tvalidation_0-mlogloss:0.01531\tvalidation_1-merror:0.08913\tvalidation_1-mlogloss:0.25683\n",
      "[287]\tvalidation_0-merror:0.00345\tvalidation_0-mlogloss:0.01525\tvalidation_1-merror:0.08908\tvalidation_1-mlogloss:0.25671\n",
      "[288]\tvalidation_0-merror:0.00345\tvalidation_0-mlogloss:0.01520\tvalidation_1-merror:0.08887\tvalidation_1-mlogloss:0.25665\n",
      "[289]\tvalidation_0-merror:0.00345\tvalidation_0-mlogloss:0.01513\tvalidation_1-merror:0.08892\tvalidation_1-mlogloss:0.25655\n",
      "[290]\tvalidation_0-merror:0.00345\tvalidation_0-mlogloss:0.01507\tvalidation_1-merror:0.08897\tvalidation_1-mlogloss:0.25653\n",
      "[291]\tvalidation_0-merror:0.00345\tvalidation_0-mlogloss:0.01502\tvalidation_1-merror:0.08892\tvalidation_1-mlogloss:0.25646\n",
      "[292]\tvalidation_0-merror:0.00345\tvalidation_0-mlogloss:0.01496\tvalidation_1-merror:0.08882\tvalidation_1-mlogloss:0.25643\n",
      "[293]\tvalidation_0-merror:0.00345\tvalidation_0-mlogloss:0.01490\tvalidation_1-merror:0.08887\tvalidation_1-mlogloss:0.25642\n",
      "[294]\tvalidation_0-merror:0.00345\tvalidation_0-mlogloss:0.01485\tvalidation_1-merror:0.08882\tvalidation_1-mlogloss:0.25635\n",
      "[295]\tvalidation_0-merror:0.00345\tvalidation_0-mlogloss:0.01480\tvalidation_1-merror:0.08887\tvalidation_1-mlogloss:0.25630\n",
      "[296]\tvalidation_0-merror:0.00345\tvalidation_0-mlogloss:0.01474\tvalidation_1-merror:0.08882\tvalidation_1-mlogloss:0.25625\n",
      "[297]\tvalidation_0-merror:0.00345\tvalidation_0-mlogloss:0.01470\tvalidation_1-merror:0.08877\tvalidation_1-mlogloss:0.25617\n",
      "[298]\tvalidation_0-merror:0.00345\tvalidation_0-mlogloss:0.01464\tvalidation_1-merror:0.08836\tvalidation_1-mlogloss:0.25606\n",
      "[299]\tvalidation_0-merror:0.00345\tvalidation_0-mlogloss:0.01459\tvalidation_1-merror:0.08841\tvalidation_1-mlogloss:0.25600\n",
      "[300]\tvalidation_0-merror:0.00345\tvalidation_0-mlogloss:0.01454\tvalidation_1-merror:0.08831\tvalidation_1-mlogloss:0.25595\n",
      "[301]\tvalidation_0-merror:0.00345\tvalidation_0-mlogloss:0.01449\tvalidation_1-merror:0.08810\tvalidation_1-mlogloss:0.25587\n",
      "[302]\tvalidation_0-merror:0.00345\tvalidation_0-mlogloss:0.01444\tvalidation_1-merror:0.08841\tvalidation_1-mlogloss:0.25584\n",
      "[303]\tvalidation_0-merror:0.00345\tvalidation_0-mlogloss:0.01440\tvalidation_1-merror:0.08851\tvalidation_1-mlogloss:0.25580\n",
      "[304]\tvalidation_0-merror:0.00345\tvalidation_0-mlogloss:0.01435\tvalidation_1-merror:0.08846\tvalidation_1-mlogloss:0.25573\n",
      "[305]\tvalidation_0-merror:0.00345\tvalidation_0-mlogloss:0.01431\tvalidation_1-merror:0.08831\tvalidation_1-mlogloss:0.25568\n",
      "[306]\tvalidation_0-merror:0.00345\tvalidation_0-mlogloss:0.01426\tvalidation_1-merror:0.08826\tvalidation_1-mlogloss:0.25566\n",
      "[307]\tvalidation_0-merror:0.00345\tvalidation_0-mlogloss:0.01421\tvalidation_1-merror:0.08826\tvalidation_1-mlogloss:0.25562\n",
      "[308]\tvalidation_0-merror:0.00345\tvalidation_0-mlogloss:0.01416\tvalidation_1-merror:0.08826\tvalidation_1-mlogloss:0.25559\n",
      "[309]\tvalidation_0-merror:0.00345\tvalidation_0-mlogloss:0.01411\tvalidation_1-merror:0.08805\tvalidation_1-mlogloss:0.25557\n",
      "[310]\tvalidation_0-merror:0.00345\tvalidation_0-mlogloss:0.01407\tvalidation_1-merror:0.08821\tvalidation_1-mlogloss:0.25550\n",
      "[311]\tvalidation_0-merror:0.00345\tvalidation_0-mlogloss:0.01403\tvalidation_1-merror:0.08821\tvalidation_1-mlogloss:0.25546\n",
      "[312]\tvalidation_0-merror:0.00345\tvalidation_0-mlogloss:0.01399\tvalidation_1-merror:0.08821\tvalidation_1-mlogloss:0.25540\n",
      "[313]\tvalidation_0-merror:0.00345\tvalidation_0-mlogloss:0.01394\tvalidation_1-merror:0.08841\tvalidation_1-mlogloss:0.25537\n",
      "[314]\tvalidation_0-merror:0.00345\tvalidation_0-mlogloss:0.01390\tvalidation_1-merror:0.08831\tvalidation_1-mlogloss:0.25530\n",
      "[315]\tvalidation_0-merror:0.00345\tvalidation_0-mlogloss:0.01387\tvalidation_1-merror:0.08815\tvalidation_1-mlogloss:0.25524\n",
      "[316]\tvalidation_0-merror:0.00345\tvalidation_0-mlogloss:0.01382\tvalidation_1-merror:0.08790\tvalidation_1-mlogloss:0.25523\n",
      "[317]\tvalidation_0-merror:0.00345\tvalidation_0-mlogloss:0.01378\tvalidation_1-merror:0.08800\tvalidation_1-mlogloss:0.25514\n",
      "[318]\tvalidation_0-merror:0.00345\tvalidation_0-mlogloss:0.01374\tvalidation_1-merror:0.08810\tvalidation_1-mlogloss:0.25509\n",
      "[319]\tvalidation_0-merror:0.00345\tvalidation_0-mlogloss:0.01370\tvalidation_1-merror:0.08800\tvalidation_1-mlogloss:0.25506\n",
      "[320]\tvalidation_0-merror:0.00345\tvalidation_0-mlogloss:0.01365\tvalidation_1-merror:0.08805\tvalidation_1-mlogloss:0.25504\n",
      "[321]\tvalidation_0-merror:0.00345\tvalidation_0-mlogloss:0.01361\tvalidation_1-merror:0.08815\tvalidation_1-mlogloss:0.25500\n",
      "[322]\tvalidation_0-merror:0.00345\tvalidation_0-mlogloss:0.01357\tvalidation_1-merror:0.08805\tvalidation_1-mlogloss:0.25495\n",
      "[323]\tvalidation_0-merror:0.00345\tvalidation_0-mlogloss:0.01353\tvalidation_1-merror:0.08795\tvalidation_1-mlogloss:0.25490\n",
      "[324]\tvalidation_0-merror:0.00345\tvalidation_0-mlogloss:0.01349\tvalidation_1-merror:0.08800\tvalidation_1-mlogloss:0.25491\n",
      "[325]\tvalidation_0-merror:0.00345\tvalidation_0-mlogloss:0.01345\tvalidation_1-merror:0.08810\tvalidation_1-mlogloss:0.25484\n",
      "[326]\tvalidation_0-merror:0.00345\tvalidation_0-mlogloss:0.01341\tvalidation_1-merror:0.08779\tvalidation_1-mlogloss:0.25479\n",
      "[327]\tvalidation_0-merror:0.00345\tvalidation_0-mlogloss:0.01337\tvalidation_1-merror:0.08790\tvalidation_1-mlogloss:0.25478\n",
      "[328]\tvalidation_0-merror:0.00345\tvalidation_0-mlogloss:0.01334\tvalidation_1-merror:0.08795\tvalidation_1-mlogloss:0.25473\n",
      "[329]\tvalidation_0-merror:0.00345\tvalidation_0-mlogloss:0.01330\tvalidation_1-merror:0.08795\tvalidation_1-mlogloss:0.25473\n",
      "[330]\tvalidation_0-merror:0.00345\tvalidation_0-mlogloss:0.01327\tvalidation_1-merror:0.08810\tvalidation_1-mlogloss:0.25466\n",
      "[331]\tvalidation_0-merror:0.00345\tvalidation_0-mlogloss:0.01323\tvalidation_1-merror:0.08800\tvalidation_1-mlogloss:0.25464\n",
      "[332]\tvalidation_0-merror:0.00345\tvalidation_0-mlogloss:0.01319\tvalidation_1-merror:0.08800\tvalidation_1-mlogloss:0.25462\n",
      "[333]\tvalidation_0-merror:0.00345\tvalidation_0-mlogloss:0.01315\tvalidation_1-merror:0.08805\tvalidation_1-mlogloss:0.25461\n",
      "[334]\tvalidation_0-merror:0.00345\tvalidation_0-mlogloss:0.01311\tvalidation_1-merror:0.08800\tvalidation_1-mlogloss:0.25458\n",
      "[335]\tvalidation_0-merror:0.00345\tvalidation_0-mlogloss:0.01308\tvalidation_1-merror:0.08785\tvalidation_1-mlogloss:0.25457\n",
      "[336]\tvalidation_0-merror:0.00345\tvalidation_0-mlogloss:0.01304\tvalidation_1-merror:0.08800\tvalidation_1-mlogloss:0.25453\n",
      "[337]\tvalidation_0-merror:0.00345\tvalidation_0-mlogloss:0.01301\tvalidation_1-merror:0.08785\tvalidation_1-mlogloss:0.25451\n",
      "[338]\tvalidation_0-merror:0.00345\tvalidation_0-mlogloss:0.01298\tvalidation_1-merror:0.08785\tvalidation_1-mlogloss:0.25449\n",
      "[339]\tvalidation_0-merror:0.00345\tvalidation_0-mlogloss:0.01294\tvalidation_1-merror:0.08779\tvalidation_1-mlogloss:0.25450\n",
      "[340]\tvalidation_0-merror:0.00345\tvalidation_0-mlogloss:0.01290\tvalidation_1-merror:0.08779\tvalidation_1-mlogloss:0.25444\n",
      "[341]\tvalidation_0-merror:0.00345\tvalidation_0-mlogloss:0.01287\tvalidation_1-merror:0.08795\tvalidation_1-mlogloss:0.25439\n",
      "[342]\tvalidation_0-merror:0.00345\tvalidation_0-mlogloss:0.01284\tvalidation_1-merror:0.08790\tvalidation_1-mlogloss:0.25439\n",
      "[343]\tvalidation_0-merror:0.00345\tvalidation_0-mlogloss:0.01280\tvalidation_1-merror:0.08800\tvalidation_1-mlogloss:0.25436\n",
      "[344]\tvalidation_0-merror:0.00345\tvalidation_0-mlogloss:0.01277\tvalidation_1-merror:0.08790\tvalidation_1-mlogloss:0.25433\n",
      "[345]\tvalidation_0-merror:0.00345\tvalidation_0-mlogloss:0.01274\tvalidation_1-merror:0.08779\tvalidation_1-mlogloss:0.25431\n",
      "[346]\tvalidation_0-merror:0.00345\tvalidation_0-mlogloss:0.01270\tvalidation_1-merror:0.08774\tvalidation_1-mlogloss:0.25423\n",
      "[347]\tvalidation_0-merror:0.00345\tvalidation_0-mlogloss:0.01268\tvalidation_1-merror:0.08759\tvalidation_1-mlogloss:0.25419\n",
      "[348]\tvalidation_0-merror:0.00345\tvalidation_0-mlogloss:0.01264\tvalidation_1-merror:0.08779\tvalidation_1-mlogloss:0.25416\n",
      "[349]\tvalidation_0-merror:0.00345\tvalidation_0-mlogloss:0.01261\tvalidation_1-merror:0.08800\tvalidation_1-mlogloss:0.25414\n",
      "[350]\tvalidation_0-merror:0.00345\tvalidation_0-mlogloss:0.01258\tvalidation_1-merror:0.08790\tvalidation_1-mlogloss:0.25409\n",
      "[351]\tvalidation_0-merror:0.00345\tvalidation_0-mlogloss:0.01255\tvalidation_1-merror:0.08790\tvalidation_1-mlogloss:0.25407\n",
      "[352]\tvalidation_0-merror:0.00345\tvalidation_0-mlogloss:0.01252\tvalidation_1-merror:0.08790\tvalidation_1-mlogloss:0.25403\n",
      "[353]\tvalidation_0-merror:0.00345\tvalidation_0-mlogloss:0.01249\tvalidation_1-merror:0.08785\tvalidation_1-mlogloss:0.25398\n",
      "[354]\tvalidation_0-merror:0.00345\tvalidation_0-mlogloss:0.01246\tvalidation_1-merror:0.08785\tvalidation_1-mlogloss:0.25399\n",
      "[355]\tvalidation_0-merror:0.00345\tvalidation_0-mlogloss:0.01243\tvalidation_1-merror:0.08785\tvalidation_1-mlogloss:0.25395\n",
      "[356]\tvalidation_0-merror:0.00345\tvalidation_0-mlogloss:0.01240\tvalidation_1-merror:0.08774\tvalidation_1-mlogloss:0.25392\n",
      "[357]\tvalidation_0-merror:0.00345\tvalidation_0-mlogloss:0.01238\tvalidation_1-merror:0.08774\tvalidation_1-mlogloss:0.25385\n",
      "[358]\tvalidation_0-merror:0.00345\tvalidation_0-mlogloss:0.01235\tvalidation_1-merror:0.08779\tvalidation_1-mlogloss:0.25380\n",
      "[359]\tvalidation_0-merror:0.00345\tvalidation_0-mlogloss:0.01232\tvalidation_1-merror:0.08769\tvalidation_1-mlogloss:0.25376\n",
      "[360]\tvalidation_0-merror:0.00345\tvalidation_0-mlogloss:0.01229\tvalidation_1-merror:0.08774\tvalidation_1-mlogloss:0.25375\n",
      "[361]\tvalidation_0-merror:0.00345\tvalidation_0-mlogloss:0.01226\tvalidation_1-merror:0.08769\tvalidation_1-mlogloss:0.25370\n",
      "[362]\tvalidation_0-merror:0.00345\tvalidation_0-mlogloss:0.01223\tvalidation_1-merror:0.08754\tvalidation_1-mlogloss:0.25369\n",
      "[363]\tvalidation_0-merror:0.00345\tvalidation_0-mlogloss:0.01220\tvalidation_1-merror:0.08754\tvalidation_1-mlogloss:0.25368\n",
      "[364]\tvalidation_0-merror:0.00345\tvalidation_0-mlogloss:0.01218\tvalidation_1-merror:0.08774\tvalidation_1-mlogloss:0.25364\n",
      "[365]\tvalidation_0-merror:0.00345\tvalidation_0-mlogloss:0.01214\tvalidation_1-merror:0.08774\tvalidation_1-mlogloss:0.25367\n",
      "[366]\tvalidation_0-merror:0.00345\tvalidation_0-mlogloss:0.01211\tvalidation_1-merror:0.08769\tvalidation_1-mlogloss:0.25367\n",
      "[367]\tvalidation_0-merror:0.00345\tvalidation_0-mlogloss:0.01209\tvalidation_1-merror:0.08759\tvalidation_1-mlogloss:0.25363\n",
      "[368]\tvalidation_0-merror:0.00345\tvalidation_0-mlogloss:0.01206\tvalidation_1-merror:0.08774\tvalidation_1-mlogloss:0.25364\n",
      "[369]\tvalidation_0-merror:0.00345\tvalidation_0-mlogloss:0.01204\tvalidation_1-merror:0.08779\tvalidation_1-mlogloss:0.25364\n",
      "[370]\tvalidation_0-merror:0.00345\tvalidation_0-mlogloss:0.01201\tvalidation_1-merror:0.08785\tvalidation_1-mlogloss:0.25362\n",
      "[371]\tvalidation_0-merror:0.00345\tvalidation_0-mlogloss:0.01199\tvalidation_1-merror:0.08779\tvalidation_1-mlogloss:0.25360\n",
      "[372]\tvalidation_0-merror:0.00345\tvalidation_0-mlogloss:0.01196\tvalidation_1-merror:0.08785\tvalidation_1-mlogloss:0.25357\n",
      "[373]\tvalidation_0-merror:0.00345\tvalidation_0-mlogloss:0.01193\tvalidation_1-merror:0.08779\tvalidation_1-mlogloss:0.25350\n",
      "[374]\tvalidation_0-merror:0.00345\tvalidation_0-mlogloss:0.01191\tvalidation_1-merror:0.08769\tvalidation_1-mlogloss:0.25344\n",
      "[375]\tvalidation_0-merror:0.00345\tvalidation_0-mlogloss:0.01188\tvalidation_1-merror:0.08769\tvalidation_1-mlogloss:0.25347\n",
      "[376]\tvalidation_0-merror:0.00345\tvalidation_0-mlogloss:0.01186\tvalidation_1-merror:0.08774\tvalidation_1-mlogloss:0.25343\n",
      "[377]\tvalidation_0-merror:0.00345\tvalidation_0-mlogloss:0.01183\tvalidation_1-merror:0.08774\tvalidation_1-mlogloss:0.25341\n",
      "[378]\tvalidation_0-merror:0.00345\tvalidation_0-mlogloss:0.01180\tvalidation_1-merror:0.08759\tvalidation_1-mlogloss:0.25341\n",
      "[379]\tvalidation_0-merror:0.00345\tvalidation_0-mlogloss:0.01177\tvalidation_1-merror:0.08754\tvalidation_1-mlogloss:0.25340\n",
      "[380]\tvalidation_0-merror:0.00345\tvalidation_0-mlogloss:0.01175\tvalidation_1-merror:0.08764\tvalidation_1-mlogloss:0.25339\n",
      "[381]\tvalidation_0-merror:0.00345\tvalidation_0-mlogloss:0.01173\tvalidation_1-merror:0.08764\tvalidation_1-mlogloss:0.25336\n",
      "[382]\tvalidation_0-merror:0.00345\tvalidation_0-mlogloss:0.01170\tvalidation_1-merror:0.08759\tvalidation_1-mlogloss:0.25334\n",
      "[383]\tvalidation_0-merror:0.00345\tvalidation_0-mlogloss:0.01168\tvalidation_1-merror:0.08754\tvalidation_1-mlogloss:0.25331\n",
      "[384]\tvalidation_0-merror:0.00345\tvalidation_0-mlogloss:0.01166\tvalidation_1-merror:0.08739\tvalidation_1-mlogloss:0.25330\n",
      "[385]\tvalidation_0-merror:0.00345\tvalidation_0-mlogloss:0.01163\tvalidation_1-merror:0.08754\tvalidation_1-mlogloss:0.25331\n",
      "[386]\tvalidation_0-merror:0.00345\tvalidation_0-mlogloss:0.01161\tvalidation_1-merror:0.08749\tvalidation_1-mlogloss:0.25334\n",
      "[387]\tvalidation_0-merror:0.00345\tvalidation_0-mlogloss:0.01158\tvalidation_1-merror:0.08728\tvalidation_1-mlogloss:0.25335\n",
      "[388]\tvalidation_0-merror:0.00345\tvalidation_0-mlogloss:0.01156\tvalidation_1-merror:0.08739\tvalidation_1-mlogloss:0.25333\n",
      "[389]\tvalidation_0-merror:0.00345\tvalidation_0-mlogloss:0.01154\tvalidation_1-merror:0.08733\tvalidation_1-mlogloss:0.25332\n",
      "[390]\tvalidation_0-merror:0.00345\tvalidation_0-mlogloss:0.01151\tvalidation_1-merror:0.08723\tvalidation_1-mlogloss:0.25333\n",
      "[391]\tvalidation_0-merror:0.00345\tvalidation_0-mlogloss:0.01149\tvalidation_1-merror:0.08733\tvalidation_1-mlogloss:0.25332\n",
      "[392]\tvalidation_0-merror:0.00345\tvalidation_0-mlogloss:0.01146\tvalidation_1-merror:0.08733\tvalidation_1-mlogloss:0.25332\n",
      "[393]\tvalidation_0-merror:0.00345\tvalidation_0-mlogloss:0.01144\tvalidation_1-merror:0.08728\tvalidation_1-mlogloss:0.25330\n",
      "[394]\tvalidation_0-merror:0.00345\tvalidation_0-mlogloss:0.01142\tvalidation_1-merror:0.08739\tvalidation_1-mlogloss:0.25328\n",
      "[395]\tvalidation_0-merror:0.00345\tvalidation_0-mlogloss:0.01140\tvalidation_1-merror:0.08759\tvalidation_1-mlogloss:0.25328\n",
      "[396]\tvalidation_0-merror:0.00345\tvalidation_0-mlogloss:0.01137\tvalidation_1-merror:0.08749\tvalidation_1-mlogloss:0.25327\n",
      "[397]\tvalidation_0-merror:0.00345\tvalidation_0-mlogloss:0.01135\tvalidation_1-merror:0.08754\tvalidation_1-mlogloss:0.25325\n",
      "[398]\tvalidation_0-merror:0.00345\tvalidation_0-mlogloss:0.01133\tvalidation_1-merror:0.08744\tvalidation_1-mlogloss:0.25319\n",
      "[399]\tvalidation_0-merror:0.00345\tvalidation_0-mlogloss:0.01131\tvalidation_1-merror:0.08733\tvalidation_1-mlogloss:0.25318\n",
      "[400]\tvalidation_0-merror:0.00345\tvalidation_0-mlogloss:0.01128\tvalidation_1-merror:0.08739\tvalidation_1-mlogloss:0.25318\n",
      "[401]\tvalidation_0-merror:0.00345\tvalidation_0-mlogloss:0.01126\tvalidation_1-merror:0.08739\tvalidation_1-mlogloss:0.25317\n",
      "[402]\tvalidation_0-merror:0.00345\tvalidation_0-mlogloss:0.01124\tvalidation_1-merror:0.08733\tvalidation_1-mlogloss:0.25313\n",
      "[403]\tvalidation_0-merror:0.00345\tvalidation_0-mlogloss:0.01122\tvalidation_1-merror:0.08723\tvalidation_1-mlogloss:0.25312\n",
      "[404]\tvalidation_0-merror:0.00345\tvalidation_0-mlogloss:0.01120\tvalidation_1-merror:0.08723\tvalidation_1-mlogloss:0.25311\n",
      "[405]\tvalidation_0-merror:0.00345\tvalidation_0-mlogloss:0.01118\tvalidation_1-merror:0.08718\tvalidation_1-mlogloss:0.25311\n",
      "[406]\tvalidation_0-merror:0.00345\tvalidation_0-mlogloss:0.01116\tvalidation_1-merror:0.08728\tvalidation_1-mlogloss:0.25310\n",
      "[407]\tvalidation_0-merror:0.00345\tvalidation_0-mlogloss:0.01114\tvalidation_1-merror:0.08718\tvalidation_1-mlogloss:0.25309\n",
      "[408]\tvalidation_0-merror:0.00345\tvalidation_0-mlogloss:0.01112\tvalidation_1-merror:0.08723\tvalidation_1-mlogloss:0.25308\n",
      "[409]\tvalidation_0-merror:0.00345\tvalidation_0-mlogloss:0.01110\tvalidation_1-merror:0.08713\tvalidation_1-mlogloss:0.25310\n",
      "[410]\tvalidation_0-merror:0.00345\tvalidation_0-mlogloss:0.01107\tvalidation_1-merror:0.08708\tvalidation_1-mlogloss:0.25310\n",
      "[411]\tvalidation_0-merror:0.00345\tvalidation_0-mlogloss:0.01106\tvalidation_1-merror:0.08708\tvalidation_1-mlogloss:0.25311\n",
      "[412]\tvalidation_0-merror:0.00345\tvalidation_0-mlogloss:0.01104\tvalidation_1-merror:0.08713\tvalidation_1-mlogloss:0.25308\n",
      "[413]\tvalidation_0-merror:0.00345\tvalidation_0-mlogloss:0.01101\tvalidation_1-merror:0.08703\tvalidation_1-mlogloss:0.25311\n",
      "[414]\tvalidation_0-merror:0.00345\tvalidation_0-mlogloss:0.01099\tvalidation_1-merror:0.08697\tvalidation_1-mlogloss:0.25309\n",
      "[415]\tvalidation_0-merror:0.00345\tvalidation_0-mlogloss:0.01097\tvalidation_1-merror:0.08687\tvalidation_1-mlogloss:0.25310\n",
      "[416]\tvalidation_0-merror:0.00345\tvalidation_0-mlogloss:0.01095\tvalidation_1-merror:0.08687\tvalidation_1-mlogloss:0.25309\n",
      "[417]\tvalidation_0-merror:0.00345\tvalidation_0-mlogloss:0.01094\tvalidation_1-merror:0.08697\tvalidation_1-mlogloss:0.25311\n",
      "[418]\tvalidation_0-merror:0.00345\tvalidation_0-mlogloss:0.01091\tvalidation_1-merror:0.08697\tvalidation_1-mlogloss:0.25312\n",
      "[419]\tvalidation_0-merror:0.00345\tvalidation_0-mlogloss:0.01089\tvalidation_1-merror:0.08687\tvalidation_1-mlogloss:0.25311\n",
      "[420]\tvalidation_0-merror:0.00345\tvalidation_0-mlogloss:0.01088\tvalidation_1-merror:0.08692\tvalidation_1-mlogloss:0.25308\n",
      "[421]\tvalidation_0-merror:0.00345\tvalidation_0-mlogloss:0.01086\tvalidation_1-merror:0.08687\tvalidation_1-mlogloss:0.25310\n",
      "[422]\tvalidation_0-merror:0.00345\tvalidation_0-mlogloss:0.01084\tvalidation_1-merror:0.08692\tvalidation_1-mlogloss:0.25310\n",
      "[423]\tvalidation_0-merror:0.00345\tvalidation_0-mlogloss:0.01082\tvalidation_1-merror:0.08692\tvalidation_1-mlogloss:0.25307\n",
      "[424]\tvalidation_0-merror:0.00345\tvalidation_0-mlogloss:0.01080\tvalidation_1-merror:0.08687\tvalidation_1-mlogloss:0.25311\n",
      "[425]\tvalidation_0-merror:0.00345\tvalidation_0-mlogloss:0.01078\tvalidation_1-merror:0.08682\tvalidation_1-mlogloss:0.25309\n",
      "[426]\tvalidation_0-merror:0.00345\tvalidation_0-mlogloss:0.01077\tvalidation_1-merror:0.08677\tvalidation_1-mlogloss:0.25309\n",
      "[427]\tvalidation_0-merror:0.00345\tvalidation_0-mlogloss:0.01075\tvalidation_1-merror:0.08682\tvalidation_1-mlogloss:0.25310\n",
      "[428]\tvalidation_0-merror:0.00345\tvalidation_0-mlogloss:0.01073\tvalidation_1-merror:0.08667\tvalidation_1-mlogloss:0.25307\n",
      "[429]\tvalidation_0-merror:0.00345\tvalidation_0-mlogloss:0.01071\tvalidation_1-merror:0.08677\tvalidation_1-mlogloss:0.25309\n",
      "[430]\tvalidation_0-merror:0.00345\tvalidation_0-mlogloss:0.01069\tvalidation_1-merror:0.08656\tvalidation_1-mlogloss:0.25311\n",
      "[431]\tvalidation_0-merror:0.00345\tvalidation_0-mlogloss:0.01067\tvalidation_1-merror:0.08656\tvalidation_1-mlogloss:0.25306\n",
      "[432]\tvalidation_0-merror:0.00345\tvalidation_0-mlogloss:0.01066\tvalidation_1-merror:0.08646\tvalidation_1-mlogloss:0.25309\n",
      "[433]\tvalidation_0-merror:0.00345\tvalidation_0-mlogloss:0.01064\tvalidation_1-merror:0.08641\tvalidation_1-mlogloss:0.25308\n",
      "[434]\tvalidation_0-merror:0.00345\tvalidation_0-mlogloss:0.01062\tvalidation_1-merror:0.08641\tvalidation_1-mlogloss:0.25305\n",
      "[435]\tvalidation_0-merror:0.00345\tvalidation_0-mlogloss:0.01060\tvalidation_1-merror:0.08636\tvalidation_1-mlogloss:0.25303\n",
      "[436]\tvalidation_0-merror:0.00345\tvalidation_0-mlogloss:0.01058\tvalidation_1-merror:0.08631\tvalidation_1-mlogloss:0.25301\n",
      "[437]\tvalidation_0-merror:0.00345\tvalidation_0-mlogloss:0.01057\tvalidation_1-merror:0.08631\tvalidation_1-mlogloss:0.25301\n",
      "[438]\tvalidation_0-merror:0.00345\tvalidation_0-mlogloss:0.01055\tvalidation_1-merror:0.08631\tvalidation_1-mlogloss:0.25301\n",
      "[439]\tvalidation_0-merror:0.00345\tvalidation_0-mlogloss:0.01054\tvalidation_1-merror:0.08631\tvalidation_1-mlogloss:0.25302\n",
      "[440]\tvalidation_0-merror:0.00345\tvalidation_0-mlogloss:0.01052\tvalidation_1-merror:0.08631\tvalidation_1-mlogloss:0.25300\n",
      "[441]\tvalidation_0-merror:0.00345\tvalidation_0-mlogloss:0.01051\tvalidation_1-merror:0.08636\tvalidation_1-mlogloss:0.25300\n",
      "[442]\tvalidation_0-merror:0.00345\tvalidation_0-mlogloss:0.01049\tvalidation_1-merror:0.08646\tvalidation_1-mlogloss:0.25302\n",
      "[443]\tvalidation_0-merror:0.00345\tvalidation_0-mlogloss:0.01047\tvalidation_1-merror:0.08636\tvalidation_1-mlogloss:0.25302\n",
      "[444]\tvalidation_0-merror:0.00345\tvalidation_0-mlogloss:0.01045\tvalidation_1-merror:0.08636\tvalidation_1-mlogloss:0.25307\n",
      "[445]\tvalidation_0-merror:0.00345\tvalidation_0-mlogloss:0.01043\tvalidation_1-merror:0.08636\tvalidation_1-mlogloss:0.25307\n",
      "[446]\tvalidation_0-merror:0.00345\tvalidation_0-mlogloss:0.01042\tvalidation_1-merror:0.08646\tvalidation_1-mlogloss:0.25308\n",
      "[447]\tvalidation_0-merror:0.00345\tvalidation_0-mlogloss:0.01040\tvalidation_1-merror:0.08646\tvalidation_1-mlogloss:0.25308\n",
      "[448]\tvalidation_0-merror:0.00345\tvalidation_0-mlogloss:0.01039\tvalidation_1-merror:0.08646\tvalidation_1-mlogloss:0.25306\n",
      "[449]\tvalidation_0-merror:0.00345\tvalidation_0-mlogloss:0.01037\tvalidation_1-merror:0.08651\tvalidation_1-mlogloss:0.25302\n",
      "[450]\tvalidation_0-merror:0.00345\tvalidation_0-mlogloss:0.01035\tvalidation_1-merror:0.08641\tvalidation_1-mlogloss:0.25305\n",
      "[451]\tvalidation_0-merror:0.00345\tvalidation_0-mlogloss:0.01034\tvalidation_1-merror:0.08636\tvalidation_1-mlogloss:0.25305\n",
      "[452]\tvalidation_0-merror:0.00345\tvalidation_0-mlogloss:0.01032\tvalidation_1-merror:0.08631\tvalidation_1-mlogloss:0.25304\n",
      "[453]\tvalidation_0-merror:0.00345\tvalidation_0-mlogloss:0.01030\tvalidation_1-merror:0.08626\tvalidation_1-mlogloss:0.25304\n",
      "[454]\tvalidation_0-merror:0.00345\tvalidation_0-mlogloss:0.01029\tvalidation_1-merror:0.08626\tvalidation_1-mlogloss:0.25302\n",
      "[455]\tvalidation_0-merror:0.00345\tvalidation_0-mlogloss:0.01027\tvalidation_1-merror:0.08636\tvalidation_1-mlogloss:0.25304\n",
      "Stopping. Best iteration:\n",
      "[440]\tvalidation_0-merror:0.00345\tvalidation_0-mlogloss:0.01052\tvalidation_1-merror:0.08631\tvalidation_1-mlogloss:0.25300\n",
      "\n",
      "Training time 5706.516 seconds\n",
      "Test time 2.388 seconds\n",
      "0.9136923076923077\n"
     ]
    }
   ],
   "source": [
    "start_time = time.time()\n",
    "clf_xgb = XGBClassifier(max_depth=13,\n",
    "                        objective=\"multi:softprob\",\n",
    "                        n_estimators=3000,\n",
    "                        learning_rate = 0.05, random_state=42)\n",
    "eval_set = [(X_train_scaled, y_train), (X_test_scaled, y_test)]\n",
    "clf_xgb.fit(X_train_scaled, y_train.ravel(), early_stopping_rounds=15, eval_metric=[\"merror\", \"mlogloss\"], eval_set=eval_set, verbose=True)\n",
    "train_time = time.time() - start_time\n",
    "print(\"Training time %.3f seconds\" % train_time)\n",
    "\n",
    "start_time = time.time()\n",
    "y_pred_xgb = clf_xgb.predict(X_test_scaled)\n",
    "test_time = time.time() - start_time\n",
    "print(\"Test time %.3f seconds\" % test_time)\n",
    "print(accuracy_score(y_pred_xgb, y_test))\n",
    "# 440 0.91369"
   ]
  },
  {
   "cell_type": "code",
   "execution_count": 8,
   "metadata": {},
   "outputs": [
    {
     "data": {
      "image/png": "[encoded data removed]",
      "text/plain": [
       "<Figure size 432x288 with 1 Axes>"
      ]
     },
     "metadata": {
      "needs_background": "light"
     },
     "output_type": "display_data"
    },
    {
     "data": {
      "image/png": "[encoded data removed]",
      "text/plain": [
       "<Figure size 432x288 with 1 Axes>"
      ]
     },
     "metadata": {
      "needs_background": "light"
     },
     "output_type": "display_data"
    }
   ],
   "source": [
    "# retrieve performance metrics\n",
    "results = clf_xgb.evals_result()\n",
    "epochs = len(results['validation_0']['merror'])\n",
    "x_axis = range(0, epochs)\n",
    "# plot log loss\n",
    "fig, ax = plt.subplots()\n",
    "ax.plot(x_axis, results['validation_0']['mlogloss'], label='Train')\n",
    "ax.plot(x_axis, results['validation_1']['mlogloss'], label='Test')\n",
    "ax.legend()\n",
    "plt.ylabel('Log Loss')\n",
    "plt.title('XGBoost Log Loss')\n",
    "plt.show()\n",
    "# plot classification error\n",
    "fig, ax = plt.subplots()\n",
    "ax.plot(x_axis, results['validation_0']['merror'], label='Train')\n",
    "ax.plot(x_axis, results['validation_1']['merror'], label='Test')\n",
    "ax.legend()\n",
    "plt.ylabel('Classification Error')\n",
    "plt.title('XGBoost Classification Error')\n",
    "plt.show()"
   ]
  },
  {
   "cell_type": "markdown",
   "metadata": {},
   "source": [
    "# Export"
   ]
  },
  {
   "cell_type": "code",
   "execution_count": 34,
   "metadata": {},
   "outputs": [],
   "source": [
    "from numpy import savetxt\n",
    "\n",
    "# abc = np.vstack(np.arange(y_pred.shape[0]))\n",
    "# output = np.hstack((abc, np.vstack(y_pred)))\n",
    "# y_pred_v = np.vstack(y_pred)\n",
    "# print(y_pred_v)\n",
    "\n",
    "\n",
    "#savetxt('./data.csv', output, delimiter=',')\n",
    "\n",
    "# df = pd.DataFrame(output)\n",
    "# df.to_csv('data.csv',index=False, header=['ID', 'Font'])\n",
    "\n",
    "sample_submission = pd.read_csv('./sample_submission.csv')\n",
    "\n",
    "out = pd.DataFrame({'ID': sample_submission.ID,'Font': clf_bag64_pca100})\n",
    "out.to_csv('data.csv', index=False)"
   ]
  },
  {
   "cell_type": "code",
   "execution_count": null,
   "metadata": {},
   "outputs": [],
   "source": []
  }
 ],
 "metadata": {
  "kernelspec": {
   "display_name": "Python 3",
   "language": "python",
   "name": "python3"
  },
  "language_info": {
   "codemirror_mode": {
    "name": "ipython",
    "version": 3
   },
   "file_extension": ".py",
   "mimetype": "text/x-python",
   "name": "python",
   "nbconvert_exporter": "python",
   "pygments_lexer": "ipython3",
   "version": "3.8.3"
  }
 },
 "nbformat": 4,
 "nbformat_minor": 4
}
