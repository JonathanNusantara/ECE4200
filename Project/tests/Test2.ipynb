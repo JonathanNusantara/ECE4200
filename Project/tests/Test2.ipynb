{
 "cells": [
  {
   "cell_type": "code",
   "execution_count": 25,
   "metadata": {},
   "outputs": [],
   "source": [
    "import numpy as np\n",
    "import matplotlib.pyplot as plt\n",
    "import pandas as pd\n",
    "from sklearn.utils import shuffle\n",
    "import time\n",
    "\n",
    "from sklearn.neighbors import KNeighborsClassifier\n",
    "from sklearn.neural_network import MLPClassifier\n",
    "from sklearn.svm import SVC\n",
    "from sklearn.ensemble import BaggingClassifier\n",
    "from sklearn.tree import DecisionTreeClassifier\n",
    "from sklearn.ensemble import AdaBoostClassifier\n",
    "from sklearn.ensemble import GradientBoostingClassifier\n",
    "from sklearn.ensemble import ExtraTreesClassifier\n",
    "from sklearn.experimental import enable_hist_gradient_boosting  # noqa\n",
    "from sklearn.ensemble import HistGradientBoostingClassifier\n",
    "from sklearn.linear_model import LogisticRegression\n",
    "from sklearn.naive_bayes import MultinomialNB\n",
    "from sklearn.naive_bayes import GaussianNB\n",
    "\n",
    "from sklearn.decomposition import PCA\n",
    "\n",
    "from sklearn.model_selection import train_test_split\n",
    "\n",
    "from sklearn.metrics import accuracy_score\n",
    "\n",
    "from xgboost import XGBClassifier"
   ]
  },
  {
   "cell_type": "code",
   "execution_count": 26,
   "metadata": {},
   "outputs": [
    {
     "data": {
      "text/html": [
       "<div>\n",
       "<style scoped>\n",
       "    .dataframe tbody tr th:only-of-type {\n",
       "        vertical-align: middle;\n",
       "    }\n",
       "\n",
       "    .dataframe tbody tr th {\n",
       "        vertical-align: top;\n",
       "    }\n",
       "\n",
       "    .dataframe thead th {\n",
       "        text-align: right;\n",
       "    }\n",
       "</style>\n",
       "<table border=\"1\" class=\"dataframe\">\n",
       "  <thead>\n",
       "    <tr style=\"text-align: right;\">\n",
       "      <th></th>\n",
       "      <th>m_label</th>\n",
       "      <th>strength</th>\n",
       "      <th>italic</th>\n",
       "      <th>m_top</th>\n",
       "      <th>m_left</th>\n",
       "      <th>originalH</th>\n",
       "      <th>originalW</th>\n",
       "      <th>r0c0</th>\n",
       "      <th>r0c1</th>\n",
       "      <th>r0c2</th>\n",
       "      <th>...</th>\n",
       "      <th>r19c10</th>\n",
       "      <th>r19c11</th>\n",
       "      <th>r19c12</th>\n",
       "      <th>r19c13</th>\n",
       "      <th>r19c14</th>\n",
       "      <th>r19c15</th>\n",
       "      <th>r19c16</th>\n",
       "      <th>r19c17</th>\n",
       "      <th>r19c18</th>\n",
       "      <th>r19c19</th>\n",
       "    </tr>\n",
       "  </thead>\n",
       "  <tbody>\n",
       "    <tr>\n",
       "      <th>0</th>\n",
       "      <td>8710</td>\n",
       "      <td>0.4</td>\n",
       "      <td>1</td>\n",
       "      <td>35</td>\n",
       "      <td>21</td>\n",
       "      <td>46</td>\n",
       "      <td>39</td>\n",
       "      <td>1</td>\n",
       "      <td>1</td>\n",
       "      <td>1</td>\n",
       "      <td>...</td>\n",
       "      <td>255</td>\n",
       "      <td>255</td>\n",
       "      <td>255</td>\n",
       "      <td>255</td>\n",
       "      <td>255</td>\n",
       "      <td>255</td>\n",
       "      <td>255</td>\n",
       "      <td>255</td>\n",
       "      <td>255</td>\n",
       "      <td>182</td>\n",
       "    </tr>\n",
       "    <tr>\n",
       "      <th>1</th>\n",
       "      <td>99</td>\n",
       "      <td>0.4</td>\n",
       "      <td>0</td>\n",
       "      <td>48</td>\n",
       "      <td>23</td>\n",
       "      <td>33</td>\n",
       "      <td>25</td>\n",
       "      <td>1</td>\n",
       "      <td>1</td>\n",
       "      <td>1</td>\n",
       "      <td>...</td>\n",
       "      <td>255</td>\n",
       "      <td>255</td>\n",
       "      <td>225</td>\n",
       "      <td>101</td>\n",
       "      <td>41</td>\n",
       "      <td>1</td>\n",
       "      <td>1</td>\n",
       "      <td>1</td>\n",
       "      <td>1</td>\n",
       "      <td>1</td>\n",
       "    </tr>\n",
       "    <tr>\n",
       "      <th>2</th>\n",
       "      <td>835</td>\n",
       "      <td>0.4</td>\n",
       "      <td>0</td>\n",
       "      <td>33</td>\n",
       "      <td>16</td>\n",
       "      <td>13</td>\n",
       "      <td>8</td>\n",
       "      <td>1</td>\n",
       "      <td>1</td>\n",
       "      <td>128</td>\n",
       "      <td>...</td>\n",
       "      <td>1</td>\n",
       "      <td>1</td>\n",
       "      <td>1</td>\n",
       "      <td>1</td>\n",
       "      <td>1</td>\n",
       "      <td>1</td>\n",
       "      <td>1</td>\n",
       "      <td>1</td>\n",
       "      <td>1</td>\n",
       "      <td>1</td>\n",
       "    </tr>\n",
       "    <tr>\n",
       "      <th>3</th>\n",
       "      <td>48</td>\n",
       "      <td>0.4</td>\n",
       "      <td>0</td>\n",
       "      <td>0</td>\n",
       "      <td>0</td>\n",
       "      <td>18</td>\n",
       "      <td>11</td>\n",
       "      <td>27</td>\n",
       "      <td>31</td>\n",
       "      <td>49</td>\n",
       "      <td>...</td>\n",
       "      <td>249</td>\n",
       "      <td>247</td>\n",
       "      <td>244</td>\n",
       "      <td>236</td>\n",
       "      <td>212</td>\n",
       "      <td>184</td>\n",
       "      <td>127</td>\n",
       "      <td>94</td>\n",
       "      <td>41</td>\n",
       "      <td>29</td>\n",
       "    </tr>\n",
       "    <tr>\n",
       "      <th>4</th>\n",
       "      <td>3653</td>\n",
       "      <td>0.4</td>\n",
       "      <td>0</td>\n",
       "      <td>46</td>\n",
       "      <td>21</td>\n",
       "      <td>50</td>\n",
       "      <td>23</td>\n",
       "      <td>1</td>\n",
       "      <td>1</td>\n",
       "      <td>1</td>\n",
       "      <td>...</td>\n",
       "      <td>1</td>\n",
       "      <td>1</td>\n",
       "      <td>1</td>\n",
       "      <td>1</td>\n",
       "      <td>56</td>\n",
       "      <td>255</td>\n",
       "      <td>255</td>\n",
       "      <td>255</td>\n",
       "      <td>255</td>\n",
       "      <td>255</td>\n",
       "    </tr>\n",
       "    <tr>\n",
       "      <th>5</th>\n",
       "      <td>697</td>\n",
       "      <td>0.4</td>\n",
       "      <td>0</td>\n",
       "      <td>37</td>\n",
       "      <td>25</td>\n",
       "      <td>16</td>\n",
       "      <td>7</td>\n",
       "      <td>255</td>\n",
       "      <td>255</td>\n",
       "      <td>255</td>\n",
       "      <td>...</td>\n",
       "      <td>255</td>\n",
       "      <td>255</td>\n",
       "      <td>255</td>\n",
       "      <td>255</td>\n",
       "      <td>73</td>\n",
       "      <td>1</td>\n",
       "      <td>1</td>\n",
       "      <td>1</td>\n",
       "      <td>1</td>\n",
       "      <td>1</td>\n",
       "    </tr>\n",
       "    <tr>\n",
       "      <th>6</th>\n",
       "      <td>52</td>\n",
       "      <td>0.4</td>\n",
       "      <td>0</td>\n",
       "      <td>0</td>\n",
       "      <td>0</td>\n",
       "      <td>13</td>\n",
       "      <td>11</td>\n",
       "      <td>40</td>\n",
       "      <td>40</td>\n",
       "      <td>40</td>\n",
       "      <td>...</td>\n",
       "      <td>222</td>\n",
       "      <td>218</td>\n",
       "      <td>222</td>\n",
       "      <td>233</td>\n",
       "      <td>240</td>\n",
       "      <td>249</td>\n",
       "      <td>240</td>\n",
       "      <td>236</td>\n",
       "      <td>157</td>\n",
       "      <td>139</td>\n",
       "    </tr>\n",
       "    <tr>\n",
       "      <th>7</th>\n",
       "      <td>195</td>\n",
       "      <td>0.4</td>\n",
       "      <td>1</td>\n",
       "      <td>34</td>\n",
       "      <td>21</td>\n",
       "      <td>60</td>\n",
       "      <td>58</td>\n",
       "      <td>1</td>\n",
       "      <td>1</td>\n",
       "      <td>1</td>\n",
       "      <td>...</td>\n",
       "      <td>1</td>\n",
       "      <td>1</td>\n",
       "      <td>150</td>\n",
       "      <td>255</td>\n",
       "      <td>255</td>\n",
       "      <td>255</td>\n",
       "      <td>255</td>\n",
       "      <td>238</td>\n",
       "      <td>1</td>\n",
       "      <td>1</td>\n",
       "    </tr>\n",
       "    <tr>\n",
       "      <th>8</th>\n",
       "      <td>7534</td>\n",
       "      <td>0.4</td>\n",
       "      <td>0</td>\n",
       "      <td>37</td>\n",
       "      <td>19</td>\n",
       "      <td>47</td>\n",
       "      <td>26</td>\n",
       "      <td>1</td>\n",
       "      <td>1</td>\n",
       "      <td>1</td>\n",
       "      <td>...</td>\n",
       "      <td>255</td>\n",
       "      <td>255</td>\n",
       "      <td>229</td>\n",
       "      <td>184</td>\n",
       "      <td>1</td>\n",
       "      <td>1</td>\n",
       "      <td>1</td>\n",
       "      <td>1</td>\n",
       "      <td>1</td>\n",
       "      <td>1</td>\n",
       "    </tr>\n",
       "    <tr>\n",
       "      <th>9</th>\n",
       "      <td>653</td>\n",
       "      <td>0.7</td>\n",
       "      <td>1</td>\n",
       "      <td>53</td>\n",
       "      <td>20</td>\n",
       "      <td>31</td>\n",
       "      <td>43</td>\n",
       "      <td>1</td>\n",
       "      <td>1</td>\n",
       "      <td>1</td>\n",
       "      <td>...</td>\n",
       "      <td>255</td>\n",
       "      <td>161</td>\n",
       "      <td>1</td>\n",
       "      <td>1</td>\n",
       "      <td>1</td>\n",
       "      <td>1</td>\n",
       "      <td>1</td>\n",
       "      <td>202</td>\n",
       "      <td>255</td>\n",
       "      <td>255</td>\n",
       "    </tr>\n",
       "  </tbody>\n",
       "</table>\n",
       "<p>10 rows × 407 columns</p>\n",
       "</div>"
      ],
      "text/plain": [
       "   m_label  strength  italic  m_top  m_left  originalH  originalW  r0c0  r0c1  \\\n",
       "0     8710       0.4       1     35      21         46         39     1     1   \n",
       "1       99       0.4       0     48      23         33         25     1     1   \n",
       "2      835       0.4       0     33      16         13          8     1     1   \n",
       "3       48       0.4       0      0       0         18         11    27    31   \n",
       "4     3653       0.4       0     46      21         50         23     1     1   \n",
       "5      697       0.4       0     37      25         16          7   255   255   \n",
       "6       52       0.4       0      0       0         13         11    40    40   \n",
       "7      195       0.4       1     34      21         60         58     1     1   \n",
       "8     7534       0.4       0     37      19         47         26     1     1   \n",
       "9      653       0.7       1     53      20         31         43     1     1   \n",
       "\n",
       "   r0c2  ...  r19c10  r19c11  r19c12  r19c13  r19c14  r19c15  r19c16  r19c17  \\\n",
       "0     1  ...     255     255     255     255     255     255     255     255   \n",
       "1     1  ...     255     255     225     101      41       1       1       1   \n",
       "2   128  ...       1       1       1       1       1       1       1       1   \n",
       "3    49  ...     249     247     244     236     212     184     127      94   \n",
       "4     1  ...       1       1       1       1      56     255     255     255   \n",
       "5   255  ...     255     255     255     255      73       1       1       1   \n",
       "6    40  ...     222     218     222     233     240     249     240     236   \n",
       "7     1  ...       1       1     150     255     255     255     255     238   \n",
       "8     1  ...     255     255     229     184       1       1       1       1   \n",
       "9     1  ...     255     161       1       1       1       1       1     202   \n",
       "\n",
       "   r19c18  r19c19  \n",
       "0     255     182  \n",
       "1       1       1  \n",
       "2       1       1  \n",
       "3      41      29  \n",
       "4     255     255  \n",
       "5       1       1  \n",
       "6     157     139  \n",
       "7       1       1  \n",
       "8       1       1  \n",
       "9     255     255  \n",
       "\n",
       "[10 rows x 407 columns]"
      ]
     },
     "execution_count": 26,
     "metadata": {},
     "output_type": "execute_result"
    }
   ],
   "source": [
    "X_train = pd.read_csv('train_data.csv')\n",
    "X_train.head(10)"
   ]
  },
  {
   "cell_type": "code",
   "execution_count": 27,
   "metadata": {},
   "outputs": [
    {
     "data": {
      "text/html": [
       "<div>\n",
       "<style scoped>\n",
       "    .dataframe tbody tr th:only-of-type {\n",
       "        vertical-align: middle;\n",
       "    }\n",
       "\n",
       "    .dataframe tbody tr th {\n",
       "        vertical-align: top;\n",
       "    }\n",
       "\n",
       "    .dataframe thead th {\n",
       "        text-align: right;\n",
       "    }\n",
       "</style>\n",
       "<table border=\"1\" class=\"dataframe\">\n",
       "  <thead>\n",
       "    <tr style=\"text-align: right;\">\n",
       "      <th></th>\n",
       "      <th>Font</th>\n",
       "    </tr>\n",
       "  </thead>\n",
       "  <tbody>\n",
       "    <tr>\n",
       "      <th>0</th>\n",
       "      <td>ARIAL</td>\n",
       "    </tr>\n",
       "    <tr>\n",
       "      <th>1</th>\n",
       "      <td>TIMES</td>\n",
       "    </tr>\n",
       "    <tr>\n",
       "      <th>2</th>\n",
       "      <td>TIMES</td>\n",
       "    </tr>\n",
       "    <tr>\n",
       "      <th>3</th>\n",
       "      <td>ARIAL</td>\n",
       "    </tr>\n",
       "    <tr>\n",
       "      <th>4</th>\n",
       "      <td>SERIF</td>\n",
       "    </tr>\n",
       "    <tr>\n",
       "      <th>5</th>\n",
       "      <td>CAMBRIA</td>\n",
       "    </tr>\n",
       "    <tr>\n",
       "      <th>6</th>\n",
       "      <td>ARIAL</td>\n",
       "    </tr>\n",
       "    <tr>\n",
       "      <th>7</th>\n",
       "      <td>ARIAL</td>\n",
       "    </tr>\n",
       "    <tr>\n",
       "      <th>8</th>\n",
       "      <td>CAMBRIA</td>\n",
       "    </tr>\n",
       "    <tr>\n",
       "      <th>9</th>\n",
       "      <td>CALIBRI</td>\n",
       "    </tr>\n",
       "  </tbody>\n",
       "</table>\n",
       "</div>"
      ],
      "text/plain": [
       "      Font\n",
       "0    ARIAL\n",
       "1    TIMES\n",
       "2    TIMES\n",
       "3    ARIAL\n",
       "4    SERIF\n",
       "5  CAMBRIA\n",
       "6    ARIAL\n",
       "7    ARIAL\n",
       "8  CAMBRIA\n",
       "9  CALIBRI"
      ]
     },
     "execution_count": 27,
     "metadata": {},
     "output_type": "execute_result"
    }
   ],
   "source": [
    "y_train = pd.read_csv('train_labels.csv')\n",
    "y_train.head(10)"
   ]
  },
  {
   "cell_type": "code",
   "execution_count": 28,
   "metadata": {},
   "outputs": [
    {
     "data": {
      "text/html": [
       "<div>\n",
       "<style scoped>\n",
       "    .dataframe tbody tr th:only-of-type {\n",
       "        vertical-align: middle;\n",
       "    }\n",
       "\n",
       "    .dataframe tbody tr th {\n",
       "        vertical-align: top;\n",
       "    }\n",
       "\n",
       "    .dataframe thead th {\n",
       "        text-align: right;\n",
       "    }\n",
       "</style>\n",
       "<table border=\"1\" class=\"dataframe\">\n",
       "  <thead>\n",
       "    <tr style=\"text-align: right;\">\n",
       "      <th></th>\n",
       "      <th>m_label</th>\n",
       "      <th>strength</th>\n",
       "      <th>italic</th>\n",
       "      <th>m_top</th>\n",
       "      <th>m_left</th>\n",
       "      <th>originalH</th>\n",
       "      <th>originalW</th>\n",
       "      <th>r0c0</th>\n",
       "      <th>r0c1</th>\n",
       "      <th>r0c2</th>\n",
       "      <th>...</th>\n",
       "      <th>r19c10</th>\n",
       "      <th>r19c11</th>\n",
       "      <th>r19c12</th>\n",
       "      <th>r19c13</th>\n",
       "      <th>r19c14</th>\n",
       "      <th>r19c15</th>\n",
       "      <th>r19c16</th>\n",
       "      <th>r19c17</th>\n",
       "      <th>r19c18</th>\n",
       "      <th>r19c19</th>\n",
       "    </tr>\n",
       "  </thead>\n",
       "  <tbody>\n",
       "    <tr>\n",
       "      <th>0</th>\n",
       "      <td>49</td>\n",
       "      <td>0.4</td>\n",
       "      <td>0</td>\n",
       "      <td>0</td>\n",
       "      <td>0</td>\n",
       "      <td>36</td>\n",
       "      <td>36</td>\n",
       "      <td>1</td>\n",
       "      <td>1</td>\n",
       "      <td>1</td>\n",
       "      <td>...</td>\n",
       "      <td>114</td>\n",
       "      <td>240</td>\n",
       "      <td>255</td>\n",
       "      <td>255</td>\n",
       "      <td>255</td>\n",
       "      <td>255</td>\n",
       "      <td>255</td>\n",
       "      <td>224</td>\n",
       "      <td>114</td>\n",
       "      <td>51</td>\n",
       "    </tr>\n",
       "    <tr>\n",
       "      <th>1</th>\n",
       "      <td>8453</td>\n",
       "      <td>0.7</td>\n",
       "      <td>1</td>\n",
       "      <td>33</td>\n",
       "      <td>25</td>\n",
       "      <td>50</td>\n",
       "      <td>55</td>\n",
       "      <td>1</td>\n",
       "      <td>1</td>\n",
       "      <td>52</td>\n",
       "      <td>...</td>\n",
       "      <td>1</td>\n",
       "      <td>1</td>\n",
       "      <td>14</td>\n",
       "      <td>107</td>\n",
       "      <td>154</td>\n",
       "      <td>154</td>\n",
       "      <td>89</td>\n",
       "      <td>24</td>\n",
       "      <td>1</td>\n",
       "      <td>1</td>\n",
       "    </tr>\n",
       "    <tr>\n",
       "      <th>2</th>\n",
       "      <td>64421</td>\n",
       "      <td>0.7</td>\n",
       "      <td>1</td>\n",
       "      <td>32</td>\n",
       "      <td>31</td>\n",
       "      <td>55</td>\n",
       "      <td>39</td>\n",
       "      <td>1</td>\n",
       "      <td>1</td>\n",
       "      <td>1</td>\n",
       "      <td>...</td>\n",
       "      <td>1</td>\n",
       "      <td>1</td>\n",
       "      <td>49</td>\n",
       "      <td>132</td>\n",
       "      <td>222</td>\n",
       "      <td>255</td>\n",
       "      <td>255</td>\n",
       "      <td>195</td>\n",
       "      <td>1</td>\n",
       "      <td>1</td>\n",
       "    </tr>\n",
       "    <tr>\n",
       "      <th>3</th>\n",
       "      <td>1704</td>\n",
       "      <td>0.7</td>\n",
       "      <td>0</td>\n",
       "      <td>29</td>\n",
       "      <td>24</td>\n",
       "      <td>70</td>\n",
       "      <td>58</td>\n",
       "      <td>1</td>\n",
       "      <td>1</td>\n",
       "      <td>1</td>\n",
       "      <td>...</td>\n",
       "      <td>255</td>\n",
       "      <td>235</td>\n",
       "      <td>183</td>\n",
       "      <td>117</td>\n",
       "      <td>47</td>\n",
       "      <td>7</td>\n",
       "      <td>1</td>\n",
       "      <td>1</td>\n",
       "      <td>1</td>\n",
       "      <td>1</td>\n",
       "    </tr>\n",
       "    <tr>\n",
       "      <th>4</th>\n",
       "      <td>1102</td>\n",
       "      <td>0.4</td>\n",
       "      <td>0</td>\n",
       "      <td>49</td>\n",
       "      <td>24</td>\n",
       "      <td>39</td>\n",
       "      <td>45</td>\n",
       "      <td>125</td>\n",
       "      <td>125</td>\n",
       "      <td>83</td>\n",
       "      <td>...</td>\n",
       "      <td>125</td>\n",
       "      <td>241</td>\n",
       "      <td>255</td>\n",
       "      <td>255</td>\n",
       "      <td>212</td>\n",
       "      <td>125</td>\n",
       "      <td>1</td>\n",
       "      <td>1</td>\n",
       "      <td>1</td>\n",
       "      <td>1</td>\n",
       "    </tr>\n",
       "    <tr>\n",
       "      <th>5</th>\n",
       "      <td>598</td>\n",
       "      <td>0.7</td>\n",
       "      <td>0</td>\n",
       "      <td>39</td>\n",
       "      <td>22</td>\n",
       "      <td>57</td>\n",
       "      <td>35</td>\n",
       "      <td>1</td>\n",
       "      <td>1</td>\n",
       "      <td>1</td>\n",
       "      <td>...</td>\n",
       "      <td>1</td>\n",
       "      <td>1</td>\n",
       "      <td>1</td>\n",
       "      <td>22</td>\n",
       "      <td>140</td>\n",
       "      <td>217</td>\n",
       "      <td>255</td>\n",
       "      <td>255</td>\n",
       "      <td>255</td>\n",
       "      <td>204</td>\n",
       "    </tr>\n",
       "    <tr>\n",
       "      <th>6</th>\n",
       "      <td>722</td>\n",
       "      <td>0.7</td>\n",
       "      <td>1</td>\n",
       "      <td>64</td>\n",
       "      <td>28</td>\n",
       "      <td>15</td>\n",
       "      <td>7</td>\n",
       "      <td>255</td>\n",
       "      <td>255</td>\n",
       "      <td>255</td>\n",
       "      <td>...</td>\n",
       "      <td>1</td>\n",
       "      <td>1</td>\n",
       "      <td>1</td>\n",
       "      <td>1</td>\n",
       "      <td>1</td>\n",
       "      <td>1</td>\n",
       "      <td>1</td>\n",
       "      <td>1</td>\n",
       "      <td>1</td>\n",
       "      <td>1</td>\n",
       "    </tr>\n",
       "    <tr>\n",
       "      <th>7</th>\n",
       "      <td>57</td>\n",
       "      <td>0.4</td>\n",
       "      <td>0</td>\n",
       "      <td>0</td>\n",
       "      <td>0</td>\n",
       "      <td>14</td>\n",
       "      <td>8</td>\n",
       "      <td>1</td>\n",
       "      <td>1</td>\n",
       "      <td>8</td>\n",
       "      <td>...</td>\n",
       "      <td>1</td>\n",
       "      <td>1</td>\n",
       "      <td>1</td>\n",
       "      <td>1</td>\n",
       "      <td>1</td>\n",
       "      <td>20</td>\n",
       "      <td>20</td>\n",
       "      <td>10</td>\n",
       "      <td>1</td>\n",
       "      <td>1</td>\n",
       "    </tr>\n",
       "    <tr>\n",
       "      <th>8</th>\n",
       "      <td>65236</td>\n",
       "      <td>0.4</td>\n",
       "      <td>0</td>\n",
       "      <td>31</td>\n",
       "      <td>18</td>\n",
       "      <td>39</td>\n",
       "      <td>20</td>\n",
       "      <td>1</td>\n",
       "      <td>1</td>\n",
       "      <td>1</td>\n",
       "      <td>...</td>\n",
       "      <td>255</td>\n",
       "      <td>255</td>\n",
       "      <td>255</td>\n",
       "      <td>255</td>\n",
       "      <td>255</td>\n",
       "      <td>255</td>\n",
       "      <td>255</td>\n",
       "      <td>255</td>\n",
       "      <td>255</td>\n",
       "      <td>255</td>\n",
       "    </tr>\n",
       "    <tr>\n",
       "      <th>9</th>\n",
       "      <td>7811</td>\n",
       "      <td>0.4</td>\n",
       "      <td>0</td>\n",
       "      <td>35</td>\n",
       "      <td>20</td>\n",
       "      <td>46</td>\n",
       "      <td>47</td>\n",
       "      <td>1</td>\n",
       "      <td>1</td>\n",
       "      <td>1</td>\n",
       "      <td>...</td>\n",
       "      <td>1</td>\n",
       "      <td>1</td>\n",
       "      <td>1</td>\n",
       "      <td>56</td>\n",
       "      <td>227</td>\n",
       "      <td>11</td>\n",
       "      <td>1</td>\n",
       "      <td>1</td>\n",
       "      <td>1</td>\n",
       "      <td>1</td>\n",
       "    </tr>\n",
       "  </tbody>\n",
       "</table>\n",
       "<p>10 rows × 407 columns</p>\n",
       "</div>"
      ],
      "text/plain": [
       "   m_label  strength  italic  m_top  m_left  originalH  originalW  r0c0  r0c1  \\\n",
       "0       49       0.4       0      0       0         36         36     1     1   \n",
       "1     8453       0.7       1     33      25         50         55     1     1   \n",
       "2    64421       0.7       1     32      31         55         39     1     1   \n",
       "3     1704       0.7       0     29      24         70         58     1     1   \n",
       "4     1102       0.4       0     49      24         39         45   125   125   \n",
       "5      598       0.7       0     39      22         57         35     1     1   \n",
       "6      722       0.7       1     64      28         15          7   255   255   \n",
       "7       57       0.4       0      0       0         14          8     1     1   \n",
       "8    65236       0.4       0     31      18         39         20     1     1   \n",
       "9     7811       0.4       0     35      20         46         47     1     1   \n",
       "\n",
       "   r0c2  ...  r19c10  r19c11  r19c12  r19c13  r19c14  r19c15  r19c16  r19c17  \\\n",
       "0     1  ...     114     240     255     255     255     255     255     224   \n",
       "1    52  ...       1       1      14     107     154     154      89      24   \n",
       "2     1  ...       1       1      49     132     222     255     255     195   \n",
       "3     1  ...     255     235     183     117      47       7       1       1   \n",
       "4    83  ...     125     241     255     255     212     125       1       1   \n",
       "5     1  ...       1       1       1      22     140     217     255     255   \n",
       "6   255  ...       1       1       1       1       1       1       1       1   \n",
       "7     8  ...       1       1       1       1       1      20      20      10   \n",
       "8     1  ...     255     255     255     255     255     255     255     255   \n",
       "9     1  ...       1       1       1      56     227      11       1       1   \n",
       "\n",
       "   r19c18  r19c19  \n",
       "0     114      51  \n",
       "1       1       1  \n",
       "2       1       1  \n",
       "3       1       1  \n",
       "4       1       1  \n",
       "5     255     204  \n",
       "6       1       1  \n",
       "7       1       1  \n",
       "8     255     255  \n",
       "9       1       1  \n",
       "\n",
       "[10 rows x 407 columns]"
      ]
     },
     "execution_count": 28,
     "metadata": {},
     "output_type": "execute_result"
    }
   ],
   "source": [
    "X_test = pd.read_csv('test_data.csv')\n",
    "X_test.head(10)"
   ]
  },
  {
   "cell_type": "code",
   "execution_count": 29,
   "metadata": {},
   "outputs": [
    {
     "name": "stdout",
     "output_type": "stream",
     "text": [
      "[[8.710e+03 4.000e-01 1.000e+00 ... 2.550e+02 2.550e+02 1.820e+02]\n",
      " [9.900e+01 4.000e-01 0.000e+00 ... 1.000e+00 1.000e+00 1.000e+00]\n",
      " [8.350e+02 4.000e-01 0.000e+00 ... 1.000e+00 1.000e+00 1.000e+00]\n",
      " ...\n",
      " [7.761e+03 7.000e-01 0.000e+00 ... 1.000e+00 1.000e+00 1.000e+00]\n",
      " [3.617e+03 7.000e-01 0.000e+00 ... 1.250e+02 1.250e+02 1.250e+02]\n",
      " [1.784e+03 4.000e-01 0.000e+00 ... 2.390e+02 2.550e+02 1.750e+02]]\n",
      "[['ARIAL']\n",
      " ['TIMES']\n",
      " ['TIMES']\n",
      " ...\n",
      " ['SERIF']\n",
      " ['TAHOMA']\n",
      " ['TAHOMA']]\n"
     ]
    }
   ],
   "source": [
    "X_train = np.array(X_train)\n",
    "y_train = np.array(y_train)\n",
    "X_test = np.array(X_test)\n",
    "print(X_train)\n",
    "print(y_train)"
   ]
  },
  {
   "cell_type": "code",
   "execution_count": 6,
   "metadata": {},
   "outputs": [
    {
     "name": "stdout",
     "output_type": "stream",
     "text": [
      "(65000, 407)\n",
      "(65000, 1)\n"
     ]
    }
   ],
   "source": [
    "print(X_train.shape)\n",
    "print(y_train.shape)"
   ]
  },
  {
   "cell_type": "code",
   "execution_count": 7,
   "metadata": {},
   "outputs": [
    {
     "name": "stdout",
     "output_type": "stream",
     "text": [
      "(650, 407)\n",
      "(650, 1)\n"
     ]
    }
   ],
   "source": [
    "newlength = int(X_train.shape[0]/100)\n",
    "\n",
    "X_train_new = X_train[:newlength]\n",
    "y_train_new = y_train[:newlength]\n",
    "print(X_train_new.shape)\n",
    "print(y_train_new.shape)"
   ]
  },
  {
   "cell_type": "code",
   "execution_count": 37,
   "metadata": {},
   "outputs": [
    {
     "name": "stdout",
     "output_type": "stream",
     "text": [
      "(65000, 427)\n",
      "(65000, 407)\n"
     ]
    },
    {
     "data": {
      "text/plain": [
       "((130000, 407), (130000, 1))"
      ]
     },
     "execution_count": 37,
     "metadata": {},
     "output_type": "execute_result"
    }
   ],
   "source": [
    "# Shifting\n",
    "X_train_temp = (np.hstack((X_train,X_train[:,7:27])))\n",
    "print(X_train_temp.shape)\n",
    "\n",
    "X_train_shifted = np.delete(X_train_temp,[7,8,9,10,11,12,13,14,15,16,17,18,19,20,21,22,23,24,25,26],1)\n",
    "print(X_train_shifted.shape)\n",
    "\n",
    "# Augmenting\n",
    "X_train_augmented = np.vstack((X_train, X_train_shifted))\n",
    "y_train_augmented = np.vstack((y_train, y_train))\n",
    "X_train_augmented.shape, y_train_augmented.shape"
   ]
  },
  {
   "cell_type": "markdown",
   "metadata": {},
   "source": [
    "# Pre-processing"
   ]
  },
  {
   "cell_type": "code",
   "execution_count": 8,
   "metadata": {},
   "outputs": [
    {
     "name": "stdout",
     "output_type": "stream",
     "text": [
      "(407,)\n",
      "(407,)\n"
     ]
    }
   ],
   "source": [
    "mean = np.zeros((1, X_train.shape[1]))\n",
    "std = np.ones((1, X_train.shape[1]))\n",
    "\n",
    "\n",
    "# ====== Your code here ========\n",
    "\n",
    "# Compute the mean and standard deviation\n",
    "mean = np.mean(X_train, axis=0)\n",
    "std = np.std(X_train, axis=0)\n",
    "\n",
    "# ====== Your code here ========\n",
    "\n",
    "def transform(X, mean, std):\n",
    "    # X: n x d matrix\n",
    "    # mean and std: 1 x d matrix\n",
    "    # X_out: n x d matrix\n",
    "    X_out = np.zeros(X.shape)\n",
    "    # ====== Your code here ========\n",
    "   \n",
    "    X_out = (X - mean) / std\n",
    "   \n",
    "    # ====== Your code here ========\n",
    "    return X_out \n",
    "\n",
    "X_train_scaled = transform(X_train, mean, std)\n",
    "X_test_scaled = transform(X_test, mean, std)\n",
    "\n",
    "print(mean.shape)\n",
    "print(std.shape)"
   ]
  },
  {
   "cell_type": "code",
   "execution_count": 19,
   "metadata": {},
   "outputs": [
    {
     "data": {
      "image/png": "[encoded data removed]",
      "text/plain": [
       "<Figure size 432x288 with 1 Axes>"
      ]
     },
     "metadata": {
      "needs_background": "light"
     },
     "output_type": "display_data"
    }
   ],
   "source": [
    "num_comp = [2,5,7,10,20,30,40,50,100,407]\n",
    "#========Your code here ======\n",
    "from sklearn.decomposition import PCA\n",
    "\n",
    "total_variance_explained = []\n",
    "\n",
    "for i in num_comp:\n",
    "    pca = PCA(n_components=i)\n",
    "    pca.fit(X_train_scaled, y_train)\n",
    "    total_variance_explained.append(sum(pca.explained_variance_ratio_))\n",
    "#     if i == 500:\n",
    "#         singular_values = pca.singular_values_\n",
    "#==============================\n",
    "plt.figure(1)\n",
    "plt.plot(num_comp,total_variance_explained,label='total variance')\n",
    "plt.legend()\n",
    "plt.show()"
   ]
  },
  {
   "cell_type": "markdown",
   "metadata": {},
   "source": [
    "# Classifier experiments"
   ]
  },
  {
   "cell_type": "code",
   "execution_count": 29,
   "metadata": {},
   "outputs": [
    {
     "data": {
      "text/plain": [
       "PCA(n_components=200)"
      ]
     },
     "execution_count": 29,
     "metadata": {},
     "output_type": "execute_result"
    }
   ],
   "source": [
    "pca100 = PCA(n_components=100)\n",
    "pca100.fit(X_train_scaled, y_train)\n",
    "\n",
    "pca200 = PCA(n_components=200)\n",
    "pca200.fit(X_train_scaled, y_train)"
   ]
  },
  {
   "cell_type": "markdown",
   "metadata": {},
   "source": [
    "### KNN with PCA"
   ]
  },
  {
   "cell_type": "code",
   "execution_count": 32,
   "metadata": {},
   "outputs": [],
   "source": [
    "KNN1 = KNeighborsClassifier(n_neighbors=1)\n",
    "KNN3 = KNeighborsClassifier(n_neighbors=3)\n",
    "KNN5 = KNeighborsClassifier(n_neighbors=5)"
   ]
  },
  {
   "cell_type": "markdown",
   "metadata": {},
   "source": [
    "#### 1 Nearest Neighbor"
   ]
  },
  {
   "cell_type": "code",
   "execution_count": 33,
   "metadata": {},
   "outputs": [
    {
     "name": "stdout",
     "output_type": "stream",
     "text": [
      "Training time 1.142 seconds\n",
      "Test time 74.624 seconds\n"
     ]
    }
   ],
   "source": [
    "start_time = time.time()\n",
    "KNN1.fit(pca100.transform(X_train_scaled),y_train.ravel())\n",
    "train_time = time.time() - start_time\n",
    "print(\"Training time %.3f seconds\" % train_time)\n",
    "\n",
    "start_time = time.time()\n",
    "y_pred_knn1_pca100 = KNN1.predict(pca100.transform(X_test_scaled))\n",
    "test_time = time.time() - start_time\n",
    "print(\"Test time %.3f seconds\" % test_time)"
   ]
  },
  {
   "cell_type": "code",
   "execution_count": 36,
   "metadata": {},
   "outputs": [
    {
     "name": "stdout",
     "output_type": "stream",
     "text": [
      "Training time 2.060 seconds\n",
      "Test time 155.913 seconds\n"
     ]
    }
   ],
   "source": [
    "start_time = time.time()\n",
    "KNN1.fit(pca200.transform(X_train_scaled),y_train.ravel())\n",
    "train_time = time.time() - start_time\n",
    "print(\"Training time %.3f seconds\" % train_time)\n",
    "\n",
    "start_time = time.time()\n",
    "y_pred_knn1_pca200 = KNN1.predict(pca200.transform(X_test_scaled))\n",
    "test_time = time.time() - start_time\n",
    "print(\"Test time %.3f seconds\" % test_time)"
   ]
  },
  {
   "cell_type": "markdown",
   "metadata": {},
   "source": [
    "#### 3 Nearest Neighbor"
   ]
  },
  {
   "cell_type": "code",
   "execution_count": 13,
   "metadata": {},
   "outputs": [
    {
     "name": "stdout",
     "output_type": "stream",
     "text": [
      "Training time 0.961 seconds\n",
      "Test time 146.529 seconds\n"
     ]
    }
   ],
   "source": [
    "start_time = time.time()\n",
    "KNN3.fit(pca100.transform(X_train_scaled),y_train.ravel())\n",
    "train_time = time.time() - start_time\n",
    "print(\"Training time %.3f seconds\" % train_time)\n",
    "\n",
    "start_time = time.time()\n",
    "y_pred_knn3_pca100 = KNN3.predict(pca100.transform(X_test_scaled))\n",
    "test_time = time.time() - start_time\n",
    "print(\"Test time %.3f seconds\" % test_time)"
   ]
  },
  {
   "cell_type": "code",
   "execution_count": 30,
   "metadata": {},
   "outputs": [
    {
     "name": "stdout",
     "output_type": "stream",
     "text": [
      "Training time 1.941 seconds\n",
      "Test time 294.139 seconds\n"
     ]
    }
   ],
   "source": [
    "start_time = time.time()\n",
    "KNN3.fit(pca200.transform(X_train_scaled),y_train.ravel())\n",
    "train_time = time.time() - start_time\n",
    "print(\"Training time %.3f seconds\" % train_time)\n",
    "\n",
    "start_time = time.time()\n",
    "y_pred_knn3_pca200 = KNN3.predict(pca200.transform(X_test_scaled))\n",
    "test_time = time.time() - start_time\n",
    "print(\"Test time %.3f seconds\" % test_time)"
   ]
  },
  {
   "cell_type": "markdown",
   "metadata": {},
   "source": [
    "#### 5 Nearest Neighbor"
   ]
  },
  {
   "cell_type": "code",
   "execution_count": 26,
   "metadata": {},
   "outputs": [
    {
     "name": "stdout",
     "output_type": "stream",
     "text": [
      "Training time 1.037 seconds\n",
      "Test time 187.082 seconds\n"
     ]
    }
   ],
   "source": [
    "start_time = time.time()\n",
    "KNN5.fit(pca100.transform(X_train_scaled),y_train.ravel())\n",
    "train_time = time.time() - start_time\n",
    "print(\"Training time %.3f seconds\" % train_time)\n",
    "\n",
    "start_time = time.time()\n",
    "y_pred_knn5_pca100 = KNN5.predict(pca100.transform(X_test_scaled))\n",
    "test_time = time.time() - start_time\n",
    "print(\"Test time %.3f seconds\" % test_time)"
   ]
  },
  {
   "cell_type": "markdown",
   "metadata": {},
   "source": [
    "### KNN without PCA"
   ]
  },
  {
   "cell_type": "code",
   "execution_count": null,
   "metadata": {},
   "outputs": [],
   "source": [
    "start_time = time.time()\n",
    "KNN1 = KNeighborsClassifier(n_neighbors=3)\n",
    "\n",
    "KNN1.fit(X_train_scaled,y_train.ravel())\n",
    "train_time = time.time() - start_time\n",
    "print(\"Training time %.3f seconds\" % train_time)\n",
    "\n",
    "start_time = time.time()\n",
    "y_pred_knn1 = KNN1.predict(X_test_scaled)\n",
    "test_time = time.time() - start_time\n",
    "print(\"Test time %.3f seconds\" % test_time)"
   ]
  },
  {
   "cell_type": "markdown",
   "metadata": {},
   "source": [
    "### Logistic Regression"
   ]
  },
  {
   "cell_type": "code",
   "execution_count": 40,
   "metadata": {},
   "outputs": [
    {
     "data": {
      "text/plain": [
       "LogisticRegression(max_iter=10000)"
      ]
     },
     "execution_count": 40,
     "metadata": {},
     "output_type": "execute_result"
    }
   ],
   "source": [
    "from sklearn.linear_model import LogisticRegression\n",
    "clf = LogisticRegression(max_iter=10000)\n",
    "clf.fit(X_train, y_train.ravel())"
   ]
  },
  {
   "cell_type": "code",
   "execution_count": 42,
   "metadata": {},
   "outputs": [
    {
     "ename": "ValueError",
     "evalue": "maximum supported dimension for an ndarray is 32, found 29221",
     "output_type": "error",
     "traceback": [
      "\u001b[0;31m---------------------------------------------------------------------------\u001b[0m",
      "\u001b[0;31mValueError\u001b[0m                                Traceback (most recent call last)",
      "\u001b[0;32m<ipython-input-42-3b30846af4dd>\u001b[0m in \u001b[0;36m<module>\u001b[0;34m\u001b[0m\n\u001b[0;32m----> 1\u001b[0;31m \u001b[0my_pred\u001b[0m \u001b[0;34m=\u001b[0m \u001b[0mclf_red\u001b[0m\u001b[0;34m.\u001b[0m\u001b[0mpredict\u001b[0m\u001b[0;34m(\u001b[0m\u001b[0mnp\u001b[0m\u001b[0;34m.\u001b[0m\u001b[0mndarray\u001b[0m\u001b[0;34m(\u001b[0m\u001b[0mX_test\u001b[0m\u001b[0;34m)\u001b[0m\u001b[0;34m)\u001b[0m\u001b[0;34m\u001b[0m\u001b[0;34m\u001b[0m\u001b[0m\n\u001b[0m",
      "\u001b[0;31mValueError\u001b[0m: maximum supported dimension for an ndarray is 32, found 29221"
     ]
    }
   ],
   "source": [
    "y_pred = clf_red.predict(X_test)"
   ]
  },
  {
   "cell_type": "code",
   "execution_count": 69,
   "metadata": {},
   "outputs": [],
   "source": [
    "from sklearn.naive_bayes import GaussianNB\n",
    "\n",
    "gnb = GaussianNB()\n",
    "gnb.fit(X_train, y_train.ravel())\n",
    "y_pred = gnb.predict(X_test)"
   ]
  },
  {
   "cell_type": "code",
   "execution_count": 92,
   "metadata": {},
   "outputs": [],
   "source": [
    "from sklearn.naive_bayes import MultinomialNB\n",
    "gnb = MultinomialNB()\n",
    "gnb.fit(X_train, y_train.ravel())\n",
    "y_pred = gnb.predict(X_test)"
   ]
  },
  {
   "cell_type": "markdown",
   "metadata": {},
   "source": [
    "### Decision Tree Classifier"
   ]
  },
  {
   "cell_type": "code",
   "execution_count": 10,
   "metadata": {},
   "outputs": [
    {
     "name": "stdout",
     "output_type": "stream",
     "text": [
      "Training time 14.691 seconds\n",
      "Test time 0.507 seconds\n"
     ]
    }
   ],
   "source": [
    "from sklearn.tree import DecisionTreeClassifier\n",
    "\n",
    "start_time = time.time()\n",
    "clf_tree = DecisionTreeClassifier()\n",
    "clf_tree.fit(X_train, y_train.ravel())\n",
    "train_time = time.time() - start_time\n",
    "print(\"Training time %.3f seconds\" % train_time)\n",
    "\n",
    "start_time = time.time()\n",
    "y_pred_tree = clf_tree.predict(X_test)\n",
    "test_time = time.time() - start_time\n",
    "print(\"Test time %.3f seconds\" % test_time)"
   ]
  },
  {
   "cell_type": "markdown",
   "metadata": {},
   "source": [
    "### Random Forest"
   ]
  },
  {
   "cell_type": "code",
   "execution_count": 30,
   "metadata": {},
   "outputs": [
    {
     "name": "stdout",
     "output_type": "stream",
     "text": [
      "Training time 500.156 seconds\n",
      "Test time 2.378 seconds\n"
     ]
    }
   ],
   "source": [
    "start_time = time.time()\n",
    "clf_bag64 = BaggingClassifier(base_estimator=DecisionTreeClassifier(), n_estimators=64)\n",
    "clf_bag64.fit(pca100.transform(X_train_scaled), y_train.ravel())\n",
    "train_time = time.time() - start_time\n",
    "print(\"Training time %.3f seconds\" % train_time)\n",
    "\n",
    "start_time = time.time()\n",
    "clf_bag64_pca100 = clf_bag64.predict(pca100.transform(X_test_scaled))\n",
    "test_time = time.time() - start_time\n",
    "print(\"Test time %.3f seconds\" % test_time)"
   ]
  },
  {
   "cell_type": "code",
   "execution_count": 26,
   "metadata": {},
   "outputs": [
    {
     "name": "stdout",
     "output_type": "stream",
     "text": [
      "Training time 587.364 seconds\n",
      "Test time 4.596 seconds\n"
     ]
    }
   ],
   "source": [
    "start_time = time.time()\n",
    "clf_bag64 = BaggingClassifier(base_estimator=DecisionTreeClassifier(), n_estimators=64)\n",
    "clf_bag64.fit(X_train, y_train.ravel())\n",
    "train_time = time.time() - start_time\n",
    "print(\"Training time %.3f seconds\" % train_time)\n",
    "\n",
    "start_time = time.time()\n",
    "clf_bag64 = clf_bag64.predict(X_test)\n",
    "test_time = time.time() - start_time\n",
    "print(\"Test time %.3f seconds\" % test_time)"
   ]
  },
  {
   "cell_type": "code",
   "execution_count": null,
   "metadata": {},
   "outputs": [],
   "source": [
    "start_time = time.time()\n",
    "clf_bag64 = BaggingClassifier(base_estimator=DecisionTreeClassifier(), n_estimators=64)\n",
    "clf_bag64.fit(X_train, y_train.ravel())\n",
    "train_time = time.time() - start_time\n",
    "print(\"Training time %.3f seconds\" % train_time)\n",
    "\n",
    "start_time = time.time()\n",
    "clf_bag64 = clf_bag64.predict(X_test)\n",
    "test_time = time.time() - start_time\n",
    "print(\"Test time %.3f seconds\" % test_time)"
   ]
  },
  {
   "cell_type": "code",
   "execution_count": 10,
   "metadata": {},
   "outputs": [
    {
     "name": "stdout",
     "output_type": "stream",
     "text": [
      "Training time 1167.044 seconds\n",
      "Test time 28.838 seconds\n"
     ]
    }
   ],
   "source": [
    "start_time = time.time()\n",
    "clf_bag128 = BaggingClassifier(base_estimator=DecisionTreeClassifier(), n_estimators=128)\n",
    "clf_bag128.fit(X_train, y_train.ravel())\n",
    "train_time = time.time() - start_time\n",
    "print(\"Training time %.3f seconds\" % train_time)\n",
    "\n",
    "start_time = time.time()\n",
    "y_pred_bag128 = clf_bag128.predict(X_test)\n",
    "test_time = time.time() - start_time\n",
    "print(\"Test time %.3f seconds\" % test_time)"
   ]
  },
  {
   "cell_type": "code",
   "execution_count": null,
   "metadata": {},
   "outputs": [],
   "source": [
    "start_time = time.time()\n",
    "clf_bag128 = BaggingClassifier(base_estimator=DecisionTreeClassifier(), n_estimators=128)\n",
    "clf_bag128.fit(X_train, y_train.ravel())\n",
    "train_time = time.time() - start_time\n",
    "print(\"Training time %.3f seconds\" % train_time)\n",
    "\n",
    "start_time = time.time()\n",
    "y_pred_bag128 = clf_bag128.predict(X_test)\n",
    "test_time = time.time() - start_time\n",
    "print(\"Test time %.3f seconds\" % test_time)"
   ]
  },
  {
   "cell_type": "code",
   "execution_count": 28,
   "metadata": {},
   "outputs": [
    {
     "name": "stdout",
     "output_type": "stream",
     "text": [
      "Training time 2305.316 seconds\n",
      "Test time 16.778 seconds\n"
     ]
    }
   ],
   "source": [
    "start_time = time.time()\n",
    "clf_bag256 = BaggingClassifier(base_estimator=DecisionTreeClassifier(), n_estimators=256)\n",
    "clf_bag256.fit(X_train, y_train.ravel())\n",
    "train_time = time.time() - start_time\n",
    "print(\"Training time %.3f seconds\" % train_time)\n",
    "\n",
    "start_time = time.time()\n",
    "y_pred_bag256 = clf_bag256.predict(X_test)\n",
    "test_time = time.time() - start_time\n",
    "print(\"Test time %.3f seconds\" % test_time)"
   ]
  },
  {
   "cell_type": "markdown",
   "metadata": {},
   "source": [
    "### AdaBoost"
   ]
  },
  {
   "cell_type": "code",
   "execution_count": 22,
   "metadata": {},
   "outputs": [
    {
     "name": "stdout",
     "output_type": "stream",
     "text": [
      "Training time 2096.456 seconds\n",
      "Test time 6.920 seconds\n"
     ]
    }
   ],
   "source": [
    "start_time = time.time()\n",
    "clf_ada128 = AdaBoostClassifier(base_estimator=DecisionTreeClassifier(), n_estimators=128)\n",
    "clf_ada128.fit(X_train, y_train.ravel())\n",
    "train_time = time.time() - start_time\n",
    "print(\"Training time %.3f seconds\" % train_time)\n",
    "\n",
    "start_time = time.time()\n",
    "y_pred_ada128 = clf_ada128.predict(X_test)\n",
    "test_time = time.time() - start_time\n",
    "print(\"Test time %.3f seconds\" % test_time)"
   ]
  },
  {
   "cell_type": "markdown",
   "metadata": {},
   "source": [
    "### XgBoost"
   ]
  },
  {
   "cell_type": "code",
   "execution_count": 14,
   "metadata": {},
   "outputs": [
    {
     "name": "stdout",
     "output_type": "stream",
     "text": [
      "Training time 512.040 seconds\n",
      "Test time 1.297 seconds\n"
     ]
    }
   ],
   "source": [
    "start_time = time.time()\n",
    "clf_xgb = XGBClassifier(max_depth=10, objective=\"multi:softprob\", random_state=42)\n",
    "clf_xgb.fit(X_train_scaled, y_train.ravel())\n",
    "train_time = time.time() - start_time\n",
    "print(\"Training time %.3f seconds\" % train_time)\n",
    "\n",
    "start_time = time.time()\n",
    "y_pred_xgb_d10 = clf_xgb.predict(X_test_scaled)\n",
    "test_time = time.time() - start_time\n",
    "print(\"Test time %.3f seconds\" % test_time)"
   ]
  },
  {
   "cell_type": "code",
   "execution_count": 20,
   "metadata": {},
   "outputs": [
    {
     "name": "stdout",
     "output_type": "stream",
     "text": [
      "Training time 428.539 seconds\n",
      "Test time 0.803 seconds\n"
     ]
    }
   ],
   "source": [
    "start_time = time.time()\n",
    "clf_xgb = XGBClassifier(eta=0.4, max_depth=10, objective=\"multi:softprob\", random_state=42)\n",
    "clf_xgb.fit(X_train_scaled, y_train.ravel())\n",
    "train_time = time.time() - start_time\n",
    "print(\"Training time %.3f seconds\" % train_time)\n",
    "\n",
    "start_time = time.time()\n",
    "y_pred_xgb_d10_e04 = clf_xgb.predict(X_test_scaled)\n",
    "test_time = time.time() - start_time\n",
    "print(\"Test time %.3f seconds\" % test_time)"
   ]
  },
  {
   "cell_type": "code",
   "execution_count": 15,
   "metadata": {},
   "outputs": [
    {
     "name": "stdout",
     "output_type": "stream",
     "text": [
      "Training time 677.992 seconds\n",
      "Test time 2.078 seconds\n"
     ]
    }
   ],
   "source": [
    "start_time = time.time()\n",
    "clf_xgb = XGBClassifier(eta=0.5, max_depth=10, objective=\"multi:softprob\", random_state=42)\n",
    "clf_xgb.fit(X_train_scaled, y_train.ravel())\n",
    "train_time = time.time() - start_time\n",
    "print(\"Training time %.3f seconds\" % train_time)\n",
    "\n",
    "start_time = time.time()\n",
    "y_pred_xgb_d10_e05 = clf_xgb.predict(X_test_scaled)\n",
    "test_time = time.time() - start_time\n",
    "print(\"Test time %.3f seconds\" % test_time)"
   ]
  },
  {
   "cell_type": "code",
   "execution_count": 9,
   "metadata": {},
   "outputs": [
    {
     "name": "stdout",
     "output_type": "stream",
     "text": [
      "Training time 876.263 seconds\n",
      "Test time 2.027 seconds\n"
     ]
    }
   ],
   "source": [
    "start_time = time.time()\n",
    "clf_xgb = XGBClassifier(eta=0.65, max_depth=10, objective=\"multi:softprob\", random_state=42)\n",
    "clf_xgb.fit(X_train_scaled, y_train.ravel())\n",
    "train_time = time.time() - start_time\n",
    "print(\"Training time %.3f seconds\" % train_time)\n",
    "\n",
    "start_time = time.time()\n",
    "y_pred_xgb = clf_xgb.predict(X_test_scaled)\n",
    "test_time = time.time() - start_time\n",
    "print(\"Test time %.3f seconds\" % test_time)"
   ]
  },
  {
   "cell_type": "code",
   "execution_count": 10,
   "metadata": {},
   "outputs": [
    {
     "name": "stdout",
     "output_type": "stream",
     "text": [
      "Training time 877.966 seconds\n",
      "Test time 1.774 seconds\n"
     ]
    }
   ],
   "source": [
    "start_time = time.time()\n",
    "clf_xgb = XGBClassifier(eta=0.6, max_depth=10, objective=\"multi:softprob\", random_state=42)\n",
    "clf_xgb.fit(X_train_scaled, y_train.ravel())\n",
    "train_time = time.time() - start_time\n",
    "print(\"Training time %.3f seconds\" % train_time)\n",
    "\n",
    "start_time = time.time()\n",
    "y_pred_xgb2 = clf_xgb.predict(X_test_scaled)\n",
    "test_time = time.time() - start_time\n",
    "print(\"Test time %.3f seconds\" % test_time)"
   ]
  },
  {
   "cell_type": "markdown",
   "metadata": {},
   "source": [
    "#### depth: 12 is the best, tested 8-50"
   ]
  },
  {
   "cell_type": "code",
   "execution_count": 18,
   "metadata": {},
   "outputs": [
    {
     "name": "stdout",
     "output_type": "stream",
     "text": [
      "Training time 814.034 seconds\n",
      "Test time 1.243 seconds\n"
     ]
    }
   ],
   "source": [
    "start_time = time.time()\n",
    "clf_xgb = XGBClassifier(max_depth=11, objective=\"multi:softprob\", random_state=42)\n",
    "clf_xgb.fit(X_train_scaled, y_train.ravel())\n",
    "train_time = time.time() - start_time\n",
    "print(\"Training time %.3f seconds\" % train_time)\n",
    "\n",
    "start_time = time.time()\n",
    "y_pred_xgb_d11 = clf_xgb.predict(X_test_scaled)\n",
    "test_time = time.time() - start_time\n",
    "print(\"Test time %.3f seconds\" % test_time)"
   ]
  },
  {
   "cell_type": "code",
   "execution_count": 9,
   "metadata": {},
   "outputs": [
    {
     "name": "stdout",
     "output_type": "stream",
     "text": [
      "Training time 990.907 seconds\n",
      "Test time 2.433 seconds\n"
     ]
    }
   ],
   "source": [
    "start_time = time.time()\n",
    "clf_xgb = XGBClassifier(max_depth=12, objective=\"multi:softprob\", random_state=42)\n",
    "clf_xgb.fit(X_train_scaled, y_train.ravel())\n",
    "train_time = time.time() - start_time\n",
    "print(\"Training time %.3f seconds\" % train_time)\n",
    "\n",
    "start_time = time.time()\n",
    "y_pred_xgb_d12 = clf_xgb.predict(X_test_scaled)\n",
    "test_time = time.time() - start_time\n",
    "print(\"Test time %.3f seconds\" % test_time)"
   ]
  },
  {
   "cell_type": "code",
   "execution_count": 10,
   "metadata": {},
   "outputs": [
    {
     "name": "stdout",
     "output_type": "stream",
     "text": [
      "Training time 1184.790 seconds\n",
      "Test time 2.310 seconds\n"
     ]
    }
   ],
   "source": [
    "start_time = time.time()\n",
    "clf_xgb = XGBClassifier(max_depth=13, objective=\"multi:softprob\", random_state=42)\n",
    "clf_xgb.fit(X_train_scaled, y_train.ravel())\n",
    "train_time = time.time() - start_time\n",
    "print(\"Training time %.3f seconds\" % train_time)\n",
    "\n",
    "start_time = time.time()\n",
    "y_pred_xgb_d13 = clf_xgb.predict(X_test_scaled)\n",
    "test_time = time.time() - start_time\n",
    "print(\"Test time %.3f seconds\" % test_time)"
   ]
  },
  {
   "cell_type": "code",
   "execution_count": 11,
   "metadata": {},
   "outputs": [
    {
     "name": "stdout",
     "output_type": "stream",
     "text": [
      "Training time 1225.633 seconds\n",
      "Test time 2.254 seconds\n"
     ]
    }
   ],
   "source": [
    "start_time = time.time()\n",
    "clf_xgb = XGBClassifier(max_depth=14, objective=\"multi:softprob\", random_state=42)\n",
    "clf_xgb.fit(X_train_scaled, y_train.ravel())\n",
    "train_time = time.time() - start_time\n",
    "print(\"Training time %.3f seconds\" % train_time)\n",
    "\n",
    "start_time = time.time()\n",
    "y_pred_xgb_d14 = clf_xgb.predict(X_test_scaled)\n",
    "test_time = time.time() - start_time\n",
    "print(\"Test time %.3f seconds\" % test_time)"
   ]
  },
  {
   "cell_type": "code",
   "execution_count": 12,
   "metadata": {},
   "outputs": [
    {
     "name": "stdout",
     "output_type": "stream",
     "text": [
      "Training time 816.458 seconds\n",
      "Test time 1.033 seconds\n"
     ]
    }
   ],
   "source": [
    "start_time = time.time()\n",
    "clf_xgb = XGBClassifier(max_depth=15, objective=\"multi:softprob\", random_state=42)\n",
    "clf_xgb.fit(X_train_scaled, y_train.ravel())\n",
    "train_time = time.time() - start_time\n",
    "print(\"Training time %.3f seconds\" % train_time)\n",
    "\n",
    "start_time = time.time()\n",
    "y_pred_xgb_d15 = clf_xgb.predict(X_test_scaled)\n",
    "test_time = time.time() - start_time\n",
    "print(\"Test time %.3f seconds\" % test_time)"
   ]
  },
  {
   "cell_type": "code",
   "execution_count": 13,
   "metadata": {},
   "outputs": [
    {
     "name": "stdout",
     "output_type": "stream",
     "text": [
      "Training time 644.588 seconds\n",
      "Test time 0.869 seconds\n"
     ]
    }
   ],
   "source": [
    "start_time = time.time()\n",
    "clf_xgb = XGBClassifier(max_depth=25, objective=\"multi:softprob\", random_state=42)\n",
    "clf_xgb.fit(X_train_scaled, y_train.ravel())\n",
    "train_time = time.time() - start_time\n",
    "print(\"Training time %.3f seconds\" % train_time)\n",
    "\n",
    "start_time = time.time()\n",
    "y_pred_xgb_d25 = clf_xgb.predict(X_test_scaled)\n",
    "test_time = time.time() - start_time\n",
    "print(\"Test time %.3f seconds\" % test_time)"
   ]
  },
  {
   "cell_type": "code",
   "execution_count": 14,
   "metadata": {},
   "outputs": [
    {
     "name": "stdout",
     "output_type": "stream",
     "text": [
      "Training time 697.929 seconds\n",
      "Test time 0.879 seconds\n"
     ]
    }
   ],
   "source": [
    "start_time = time.time()\n",
    "clf_xgb = XGBClassifier(max_depth=50, objective=\"multi:softprob\", random_state=42)\n",
    "clf_xgb.fit(X_train_scaled, y_train.ravel())\n",
    "train_time = time.time() - start_time\n",
    "print(\"Training time %.3f seconds\" % train_time)\n",
    "\n",
    "start_time = time.time()\n",
    "y_pred_xgb_d50 = clf_xgb.predict(X_test_scaled)\n",
    "test_time = time.time() - start_time\n",
    "print(\"Test time %.3f seconds\" % test_time)"
   ]
  },
  {
   "cell_type": "code",
   "execution_count": 19,
   "metadata": {},
   "outputs": [
    {
     "name": "stdout",
     "output_type": "stream",
     "text": [
      "Training time 390.057 seconds\n",
      "Test time 0.774 seconds\n"
     ]
    }
   ],
   "source": [
    "start_time = time.time()\n",
    "clf_xgb = XGBClassifier(max_depth=9, objective=\"multi:softprob\", random_state=42)\n",
    "clf_xgb.fit(X_train_scaled, y_train.ravel())\n",
    "train_time = time.time() - start_time\n",
    "print(\"Training time %.3f seconds\" % train_time)\n",
    "\n",
    "start_time = time.time()\n",
    "y_pred_xgb_d9 = clf_xgb.predict(X_test_scaled)\n",
    "test_time = time.time() - start_time\n",
    "print(\"Test time %.3f seconds\" % test_time)"
   ]
  },
  {
   "cell_type": "markdown",
   "metadata": {},
   "source": [
    "### test eta for depth 12"
   ]
  },
  {
   "cell_type": "code",
   "execution_count": 9,
   "metadata": {},
   "outputs": [
    {
     "name": "stdout",
     "output_type": "stream",
     "text": [
      "Training time 703.858 seconds\n",
      "Test time 1.338 seconds\n"
     ]
    }
   ],
   "source": [
    "start_time = time.time()\n",
    "clf_xgb = XGBClassifier(eta=0.2, max_depth=12, objective=\"multi:softprob\", random_state=42)\n",
    "clf_xgb.fit(X_train_scaled, y_train.ravel())\n",
    "train_time = time.time() - start_time\n",
    "print(\"Training time %.3f seconds\" % train_time)\n",
    "\n",
    "start_time = time.time()\n",
    "y_pred_xgb_d12_e02 = clf_xgb.predict(X_test_scaled)\n",
    "test_time = time.time() - start_time\n",
    "print(\"Test time %.3f seconds\" % test_time)"
   ]
  },
  {
   "cell_type": "code",
   "execution_count": 10,
   "metadata": {},
   "outputs": [
    {
     "name": "stdout",
     "output_type": "stream",
     "text": [
      "Training time 528.694 seconds\n",
      "Test time 1.184 seconds\n"
     ]
    }
   ],
   "source": [
    "start_time = time.time()\n",
    "clf_xgb = XGBClassifier(eta=0.4, max_depth=12, objective=\"multi:softprob\", random_state=42)\n",
    "clf_xgb.fit(X_train_scaled, y_train.ravel())\n",
    "train_time = time.time() - start_time\n",
    "print(\"Training time %.3f seconds\" % train_time)\n",
    "\n",
    "start_time = time.time()\n",
    "y_pred_xgb_d12_e04 = clf_xgb.predict(X_test_scaled)\n",
    "test_time = time.time() - start_time\n",
    "print(\"Test time %.3f seconds\" % test_time)"
   ]
  },
  {
   "cell_type": "code",
   "execution_count": 11,
   "metadata": {},
   "outputs": [
    {
     "name": "stdout",
     "output_type": "stream",
     "text": [
      "Training time 510.724 seconds\n",
      "Test time 1.196 seconds\n"
     ]
    }
   ],
   "source": [
    "start_time = time.time()\n",
    "clf_xgb = XGBClassifier(eta=0.5, max_depth=12, objective=\"multi:softprob\", random_state=42)\n",
    "clf_xgb.fit(X_train_scaled, y_train.ravel())\n",
    "train_time = time.time() - start_time\n",
    "print(\"Training time %.3f seconds\" % train_time)\n",
    "\n",
    "start_time = time.time()\n",
    "y_pred_xgb_d12_e05 = clf_xgb.predict(X_test_scaled)\n",
    "test_time = time.time() - start_time\n",
    "print(\"Test time %.3f seconds\" % test_time)"
   ]
  },
  {
   "cell_type": "code",
   "execution_count": 15,
   "metadata": {},
   "outputs": [
    {
     "name": "stdout",
     "output_type": "stream",
     "text": [
      "Training time 549.015 seconds\n",
      "Test time 1.516 seconds\n"
     ]
    }
   ],
   "source": [
    "start_time = time.time()\n",
    "clf_xgb = XGBClassifier(eta=0.35, max_depth=12, objective=\"multi:softprob\", random_state=42)\n",
    "clf_xgb.fit(X_train_scaled, y_train.ravel())\n",
    "train_time = time.time() - start_time\n",
    "print(\"Training time %.3f seconds\" % train_time)\n",
    "\n",
    "start_time = time.time()\n",
    "y_pred_xgb_d12_e035 = clf_xgb.predict(X_test_scaled)\n",
    "test_time = time.time() - start_time\n",
    "print(\"Test time %.3f seconds\" % test_time)"
   ]
  },
  {
   "cell_type": "code",
   "execution_count": 17,
   "metadata": {},
   "outputs": [
    {
     "name": "stdout",
     "output_type": "stream",
     "text": [
      "Training time 577.263 seconds\n",
      "Test time 1.501 seconds\n"
     ]
    }
   ],
   "source": [
    "start_time = time.time()\n",
    "clf_xgb = XGBClassifier(eta=0.375, max_depth=12, objective=\"multi:softprob\", random_state=42)\n",
    "clf_xgb.fit(X_train_scaled, y_train.ravel())\n",
    "train_time = time.time() - start_time\n",
    "print(\"Training time %.3f seconds\" % train_time)\n",
    "\n",
    "start_time = time.time()\n",
    "y_pred_xgb_d12_e0375 = clf_xgb.predict(X_test_scaled)\n",
    "test_time = time.time() - start_time\n",
    "print(\"Test time %.3f seconds\" % test_time)"
   ]
  },
  {
   "cell_type": "code",
   "execution_count": 19,
   "metadata": {},
   "outputs": [
    {
     "name": "stdout",
     "output_type": "stream",
     "text": [
      "Training time 517.948 seconds\n",
      "Test time 1.324 seconds\n"
     ]
    }
   ],
   "source": [
    "start_time = time.time()\n",
    "clf_xgb = XGBClassifier(eta=0.365, max_depth=12, objective=\"multi:softprob\", random_state=42)\n",
    "clf_xgb.fit(X_train_scaled, y_train.ravel())\n",
    "train_time = time.time() - start_time\n",
    "print(\"Training time %.3f seconds\" % train_time)\n",
    "\n",
    "start_time = time.time()\n",
    "y_pred_xgb_d12_e0365 = clf_xgb.predict(X_test_scaled)\n",
    "test_time = time.time() - start_time\n",
    "print(\"Test time %.3f seconds\" % test_time)"
   ]
  },
  {
   "cell_type": "code",
   "execution_count": 21,
   "metadata": {},
   "outputs": [
    {
     "name": "stdout",
     "output_type": "stream",
     "text": [
      "Training time 575.058 seconds\n",
      "Test time 1.318 seconds\n"
     ]
    }
   ],
   "source": [
    "start_time = time.time()\n",
    "clf_xgb = XGBClassifier(eta=0.385, max_depth=12, objective=\"multi:softprob\", random_state=42)\n",
    "clf_xgb.fit(X_train_scaled, y_train.ravel())\n",
    "train_time = time.time() - start_time\n",
    "print(\"Training time %.3f seconds\" % train_time)\n",
    "\n",
    "start_time = time.time()\n",
    "y_pred_xgb_d12_e0385 = clf_xgb.predict(X_test_scaled)\n",
    "test_time = time.time() - start_time\n",
    "print(\"Test time %.3f seconds\" % test_time)"
   ]
  },
  {
   "cell_type": "code",
   "execution_count": 23,
   "metadata": {},
   "outputs": [
    {
     "name": "stdout",
     "output_type": "stream",
     "text": [
      "Training time 511.353 seconds\n",
      "Test time 1.323 seconds\n"
     ]
    }
   ],
   "source": [
    "start_time = time.time()\n",
    "clf_xgb = XGBClassifier(eta=0.38, max_depth=12, objective=\"multi:softprob\", random_state=42)\n",
    "clf_xgb.fit(X_train_scaled, y_train.ravel())\n",
    "train_time = time.time() - start_time\n",
    "print(\"Training time %.3f seconds\" % train_time)\n",
    "\n",
    "start_time = time.time()\n",
    "y_pred_xgb_d12_e038 = clf_xgb.predict(X_test_scaled)\n",
    "test_time = time.time() - start_time\n",
    "print(\"Test time %.3f seconds\" % test_time)"
   ]
  },
  {
   "cell_type": "code",
   "execution_count": 24,
   "metadata": {},
   "outputs": [
    {
     "name": "stdout",
     "output_type": "stream",
     "text": [
      "Training time 506.394 seconds\n",
      "Test time 1.240 seconds\n"
     ]
    }
   ],
   "source": [
    "start_time = time.time()\n",
    "clf_xgb = XGBClassifier(eta=0.37, max_depth=12, objective=\"multi:softprob\", random_state=42)\n",
    "clf_xgb.fit(X_train_scaled, y_train.ravel())\n",
    "train_time = time.time() - start_time\n",
    "print(\"Training time %.3f seconds\" % train_time)\n",
    "\n",
    "start_time = time.time()\n",
    "y_pred_xgb_d12_e037 = clf_xgb.predict(X_test_scaled)\n",
    "test_time = time.time() - start_time\n",
    "print(\"Test time %.3f seconds\" % test_time)"
   ]
  },
  {
   "cell_type": "code",
   "execution_count": null,
   "metadata": {},
   "outputs": [],
   "source": [
    "start_time = time.time()\n",
    "clf_xgb = XGBClassifier(eta=0.7, max_depth=12, objective=\"multi:softprob\", random_state=42)\n",
    "clf_xgb.fit(X_train_scaled, y_train.ravel())\n",
    "train_time = time.time() - start_time\n",
    "print(\"Training time %.3f seconds\" % train_time)\n",
    "\n",
    "start_time = time.time()\n",
    "y_pred_xgb_d12_e07 = clf_xgb.predict(X_test_scaled)\n",
    "test_time = time.time() - start_time\n",
    "print(\"Test time %.3f seconds\" % test_time)"
   ]
  },
  {
   "cell_type": "markdown",
   "metadata": {},
   "source": [
    "### depth 12 eta 0.37"
   ]
  },
  {
   "cell_type": "markdown",
   "metadata": {},
   "source": [
    "### depth 12 test n_estimators"
   ]
  },
  {
   "cell_type": "code",
   "execution_count": 27,
   "metadata": {},
   "outputs": [
    {
     "name": "stdout",
     "output_type": "stream",
     "text": [
      "Training time 52.439 seconds\n",
      "Test time 10.252 seconds\n"
     ]
    }
   ],
   "source": [
    "start_time = time.time()\n",
    "clf_xgb = XGBClassifier(n_estimators=1, max_depth=12, objective=\"multi:softprob\", random_state=42)\n",
    "clf_xgb.fit(X_train_scaled, y_train.ravel())\n",
    "train_time = time.time() - start_time\n",
    "print(\"Training time %.3f seconds\" % train_time)\n",
    "\n",
    "start_time = time.time()\n",
    "y_pred_xgb_d12_n1 = clf_xgb.predict(X_test_scaled)\n",
    "test_time = time.time() - start_time\n",
    "print(\"Test time %.3f seconds\" % test_time)"
   ]
  },
  {
   "cell_type": "code",
   "execution_count": 28,
   "metadata": {},
   "outputs": [
    {
     "name": "stdout",
     "output_type": "stream",
     "text": [
      "Training time 145.910 seconds\n",
      "Test time 2.451 seconds\n"
     ]
    }
   ],
   "source": [
    "start_time = time.time()\n",
    "clf_xgb = XGBClassifier(n_estimators=5, max_depth=12, objective=\"multi:softprob\", random_state=42)\n",
    "clf_xgb.fit(X_train_scaled, y_train.ravel())\n",
    "train_time = time.time() - start_time\n",
    "print(\"Training time %.3f seconds\" % train_time)\n",
    "\n",
    "start_time = time.time()\n",
    "y_pred_xgb_d12_n5 = clf_xgb.predict(X_test_scaled)\n",
    "test_time = time.time() - start_time\n",
    "print(\"Test time %.3f seconds\" % test_time)"
   ]
  },
  {
   "cell_type": "code",
   "execution_count": 29,
   "metadata": {},
   "outputs": [
    {
     "name": "stdout",
     "output_type": "stream",
     "text": [
      "Training time 204.348 seconds\n",
      "Test time 0.793 seconds\n"
     ]
    }
   ],
   "source": [
    "start_time = time.time()\n",
    "clf_xgb = XGBClassifier(n_estimators=10, max_depth=12, objective=\"multi:softprob\", random_state=42)\n",
    "clf_xgb.fit(X_train_scaled, y_train.ravel())\n",
    "train_time = time.time() - start_time\n",
    "print(\"Training time %.3f seconds\" % train_time)\n",
    "\n",
    "start_time = time.time()\n",
    "y_pred_xgb_d12_n10 = clf_xgb.predict(X_test_scaled)\n",
    "test_time = time.time() - start_time\n",
    "print(\"Test time %.3f seconds\" % test_time)"
   ]
  },
  {
   "cell_type": "code",
   "execution_count": 31,
   "metadata": {},
   "outputs": [
    {
     "name": "stdout",
     "output_type": "stream",
     "text": [
      "Training time 540.550 seconds\n",
      "Test time 1.382 seconds\n"
     ]
    }
   ],
   "source": [
    "start_time = time.time()\n",
    "clf_xgb = XGBClassifier(n_estimators=100, max_depth=12, objective=\"multi:softprob\", random_state=42)\n",
    "clf_xgb.fit(X_train_scaled, y_train.ravel())\n",
    "train_time = time.time() - start_time\n",
    "print(\"Training time %.3f seconds\" % train_time)\n",
    "\n",
    "start_time = time.time()\n",
    "y_pred_xgb_d12_n100 = clf_xgb.predict(X_test_scaled)\n",
    "test_time = time.time() - start_time\n",
    "print(\"Test time %.3f seconds\" % test_time)"
   ]
  },
  {
   "cell_type": "code",
   "execution_count": 32,
   "metadata": {},
   "outputs": [
    {
     "name": "stdout",
     "output_type": "stream",
     "text": [
      "Training time 2186.975 seconds\n",
      "Test time 3.113 seconds\n"
     ]
    }
   ],
   "source": [
    "start_time = time.time()\n",
    "clf_xgb = XGBClassifier(n_estimators=500, max_depth=12, objective=\"multi:softprob\", random_state=42)\n",
    "clf_xgb.fit(X_train_scaled, y_train.ravel())\n",
    "train_time = time.time() - start_time\n",
    "print(\"Training time %.3f seconds\" % train_time)\n",
    "\n",
    "start_time = time.time()\n",
    "y_pred_xgb_d12_n500 = clf_xgb.predict(X_test_scaled)\n",
    "test_time = time.time() - start_time\n",
    "print(\"Test time %.3f seconds\" % test_time)"
   ]
  },
  {
   "cell_type": "code",
   "execution_count": 36,
   "metadata": {},
   "outputs": [
    {
     "name": "stdout",
     "output_type": "stream",
     "text": [
      "Training time 2699.089 seconds\n",
      "Test time 4.098 seconds\n"
     ]
    }
   ],
   "source": [
    "start_time = time.time()\n",
    "clf_xgb = XGBClassifier(n_estimators=700, max_depth=12, objective=\"multi:softprob\", random_state=42)\n",
    "clf_xgb.fit(X_train_scaled, y_train.ravel())\n",
    "train_time = time.time() - start_time\n",
    "print(\"Training time %.3f seconds\" % train_time)\n",
    "\n",
    "start_time = time.time()\n",
    "y_pred_xgb_d12_n700 = clf_xgb.predict(X_test_scaled)\n",
    "test_time = time.time() - start_time\n",
    "print(\"Test time %.3f seconds\" % test_time)"
   ]
  },
  {
   "cell_type": "code",
   "execution_count": 37,
   "metadata": {},
   "outputs": [
    {
     "name": "stdout",
     "output_type": "stream",
     "text": [
      "Training time 3639.172 seconds\n",
      "Test time 5.630 seconds\n"
     ]
    }
   ],
   "source": [
    "start_time = time.time()\n",
    "clf_xgb = XGBClassifier(n_estimators=1000, max_depth=12, objective=\"multi:softprob\", random_state=42)\n",
    "clf_xgb.fit(X_train_scaled, y_train.ravel())\n",
    "train_time = time.time() - start_time\n",
    "print(\"Training time %.3f seconds\" % train_time)\n",
    "\n",
    "start_time = time.time()\n",
    "y_pred_xgb_d12_n1000 = clf_xgb.predict(X_test_scaled)\n",
    "test_time = time.time() - start_time\n",
    "print(\"Test time %.3f seconds\" % test_time)"
   ]
  },
  {
   "cell_type": "code",
   "execution_count": 40,
   "metadata": {},
   "outputs": [
    {
     "name": "stdout",
     "output_type": "stream",
     "text": [
      "Training time 12086.755 seconds\n",
      "Test time 28.352 seconds\n"
     ]
    }
   ],
   "source": [
    "start_time = time.time()\n",
    "clf_xgb = XGBClassifier(n_estimators=2000, max_depth=12, objective=\"multi:softprob\", random_state=42)\n",
    "clf_xgb.fit(X_train_scaled, y_train.ravel())\n",
    "train_time = time.time() - start_time\n",
    "print(\"Training time %.3f seconds\" % train_time)\n",
    "\n",
    "start_time = time.time()\n",
    "y_pred_xgb_d12_n2000 = clf_xgb.predict(X_test_scaled)\n",
    "test_time = time.time() - start_time\n",
    "print(\"Test time %.3f seconds\" % test_time)"
   ]
  },
  {
   "cell_type": "code",
   "execution_count": 42,
   "metadata": {},
   "outputs": [
    {
     "name": "stdout",
     "output_type": "stream",
     "text": [
      "Training time 12955.566 seconds\n",
      "Test time 23.738 seconds\n"
     ]
    }
   ],
   "source": [
    "start_time = time.time()\n",
    "clf_xgb = XGBClassifier(n_estimators=1700, max_depth=12, objective=\"multi:softprob\", random_state=42)\n",
    "clf_xgb.fit(X_train_scaled, y_train.ravel())\n",
    "train_time = time.time() - start_time\n",
    "print(\"Training time %.3f seconds\" % train_time)\n",
    "\n",
    "start_time = time.time()\n",
    "y_pred_xgb_d12_n1700 = clf_xgb.predict(X_test_scaled)\n",
    "test_time = time.time() - start_time\n",
    "print(\"Test time %.3f seconds\" % test_time)"
   ]
  },
  {
   "cell_type": "code",
   "execution_count": null,
   "metadata": {},
   "outputs": [],
   "source": [
    "start_time = time.time()\n",
    "clf_xgb = XGBClassifier(n_estimators=1900, max_depth=12, objective=\"multi:softprob\", random_state=42)\n",
    "clf_xgb.fit(X_train_scaled, y_train.ravel())\n",
    "train_time = time.time() - start_time\n",
    "print(\"Training time %.3f seconds\" % train_time)\n",
    "\n",
    "start_time = time.time()\n",
    "y_pred_xgb_d12_n1900 = clf_xgb.predict(X_test_scaled)\n",
    "test_time = time.time() - start_time\n",
    "print(\"Test time %.3f seconds\" % test_time)"
   ]
  },
  {
   "cell_type": "code",
   "execution_count": null,
   "metadata": {},
   "outputs": [],
   "source": [
    "start_time = time.time()\n",
    "clf_xgb = XGBClassifier(n_estimators=1800, max_depth=12, objective=\"multi:softprob\", random_state=42)\n",
    "clf_xgb.fit(X_train_scaled, y_train.ravel())\n",
    "train_time = time.time() - start_time\n",
    "print(\"Training time %.3f seconds\" % train_time)\n",
    "\n",
    "start_time = time.time()\n",
    "y_pred_xgb_d12_n1800 = clf_xgb.predict(X_test_scaled)\n",
    "test_time = time.time() - start_time\n",
    "print(\"Test time %.3f seconds\" % test_time)"
   ]
  },
  {
   "cell_type": "markdown",
   "metadata": {},
   "source": [
    "#### Depth 13"
   ]
  },
  {
   "cell_type": "code",
   "execution_count": 13,
   "metadata": {},
   "outputs": [
    {
     "name": "stdout",
     "output_type": "stream",
     "text": [
      "Training time 22493.495 seconds\n",
      "Test time 15.866 seconds\n"
     ]
    }
   ],
   "source": [
    "start_time = time.time()\n",
    "clf_xgb = XGBClassifier(n_estimators=2000, max_depth=13, objective=\"multi:softprob\", random_state=42, learning_rate=0.06)\n",
    "clf_xgb.fit(X_train_scaled, y_train.ravel())\n",
    "train_time = time.time() - start_time\n",
    "print(\"Training time %.3f seconds\" % train_time)\n",
    "\n",
    "start_time = time.time()\n",
    "y_pred_xgb_d13_n2000_lr06 = clf_xgb.predict(X_test_scaled)\n",
    "test_time = time.time() - start_time\n",
    "print(\"Test time %.3f seconds\" % test_time)"
   ]
  },
  {
   "cell_type": "code",
   "execution_count": null,
   "metadata": {},
   "outputs": [],
   "source": []
  },
  {
   "cell_type": "code",
   "execution_count": null,
   "metadata": {},
   "outputs": [],
   "source": []
  },
  {
   "cell_type": "code",
   "execution_count": 10,
   "metadata": {},
   "outputs": [
    {
     "name": "stdout",
     "output_type": "stream",
     "text": [
      "Training time 7185.751 seconds\n",
      "Test time 11.306 seconds\n"
     ]
    }
   ],
   "source": [
    "start_time = time.time()\n",
    "clf_xgb = XGBClassifier(n_estimators=2919, max_depth=5, objective=\"multi:softprob\", random_state=42, learning_rate=0.05)\n",
    "clf_xgb.fit(X_train_scaled, y_train.ravel())\n",
    "train_time = time.time() - start_time\n",
    "print(\"Training time %.3f seconds\" % train_time)\n",
    "\n",
    "start_time = time.time()\n",
    "y_pred_xgb_d5_n2919_lr05 = clf_xgb.predict(X_test_scaled)\n",
    "test_time = time.time() - start_time\n",
    "print(\"Test time %.3f seconds\" % test_time)"
   ]
  },
  {
   "cell_type": "code",
   "execution_count": null,
   "metadata": {},
   "outputs": [],
   "source": [
    "start_time = time.time()\n",
    "clf_xgb = XGBClassifier(n_estimators=4000, max_depth=5, objective=\"multi:softprob\", random_state=42, learning_rate=0.05)\n",
    "clf_xgb.fit(X_train_scaled, y_train.ravel())\n",
    "train_time = time.time() - start_time\n",
    "print(\"Training time %.3f seconds\" % train_time)\n",
    "\n",
    "start_time = time.time()\n",
    "y_pred_xgb_d5_n2919_lr05 = clf_xgb.predict(X_test_scaled)\n",
    "test_time = time.time() - start_time\n",
    "print(\"Test time %.3f seconds\" % test_time)"
   ]
  },
  {
   "cell_type": "code",
   "execution_count": 9,
   "metadata": {},
   "outputs": [
    {
     "name": "stdout",
     "output_type": "stream",
     "text": [
      "Training time 11502.600 seconds\n",
      "Test time 17.553 seconds\n"
     ]
    }
   ],
   "source": [
    "start_time = time.time()\n",
    "clf_xgb = XGBClassifier(n_estimators=1000, max_depth=10, objective=\"multi:softprob\", random_state=42, learning_rate=0.05)\n",
    "clf_xgb.fit(X_train_scaled, y_train.ravel())\n",
    "train_time = time.time() - start_time\n",
    "print(\"Training time %.3f seconds\" % train_time)\n",
    "\n",
    "start_time = time.time()\n",
    "y_pred_xgb_d10_n1000_lr05 = clf_xgb.predict(X_test_scaled)\n",
    "test_time = time.time() - start_time\n",
    "print(\"Test time %.3f seconds\" % test_time)"
   ]
  },
  {
   "cell_type": "code",
   "execution_count": 12,
   "metadata": {},
   "outputs": [
    {
     "name": "stdout",
     "output_type": "stream",
     "text": [
      "Training time 3803.115 seconds\n",
      "Test time 4.409 seconds\n"
     ]
    }
   ],
   "source": [
    "start_time = time.time()\n",
    "clf_xgb = XGBClassifier(n_estimators=400, max_depth=10, objective=\"multi:softprob\", random_state=42, learning_rate=0.05)\n",
    "clf_xgb.fit(X_train_scaled, y_train.ravel())\n",
    "train_time = time.time() - start_time\n",
    "print(\"Training time %.3f seconds\" % train_time)\n",
    "\n",
    "start_time = time.time()\n",
    "y_pred_xgb_d10_n400_lr05 = clf_xgb.predict(X_test_scaled)\n",
    "test_time = time.time() - start_time\n",
    "print(\"Test time %.3f seconds\" % test_time)"
   ]
  },
  {
   "cell_type": "code",
   "execution_count": 10,
   "metadata": {},
   "outputs": [
    {
     "data": {
      "text/plain": [
       "(29221,)"
      ]
     },
     "execution_count": 10,
     "metadata": {},
     "output_type": "execute_result"
    }
   ],
   "source": [
    "y_pred_xgb_d10_n1000_lr05.shape"
   ]
  },
  {
   "cell_type": "code",
   "execution_count": null,
   "metadata": {},
   "outputs": [],
   "source": []
  },
  {
   "cell_type": "code",
   "execution_count": 15,
   "metadata": {},
   "outputs": [
    {
     "name": "stdout",
     "output_type": "stream",
     "text": [
      "Training time 24202.549 seconds\n",
      "Test time 47.455 seconds\n"
     ]
    }
   ],
   "source": [
    "start_time = time.time()\n",
    "clf_xgb = XGBClassifier(n_estimators=2000, max_depth=10, objective=\"multi:softprob\", random_state=42, learning_rate=0.08)\n",
    "clf_xgb.fit(X_train_scaled, y_train.ravel())\n",
    "train_time = time.time() - start_time\n",
    "print(\"Training time %.3f seconds\" % train_time)\n",
    "\n",
    "start_time = time.time()\n",
    "y_pred_xgb_d10_n2000_lr08 = clf_xgb.predict(X_test_scaled)\n",
    "test_time = time.time() - start_time\n",
    "print(\"Test time %.3f seconds\" % test_time)"
   ]
  },
  {
   "cell_type": "code",
   "execution_count": 17,
   "metadata": {},
   "outputs": [
    {
     "name": "stdout",
     "output_type": "stream",
     "text": [
      "Training time 17155.230 seconds\n",
      "Test time 30.588 seconds\n"
     ]
    }
   ],
   "source": [
    "start_time = time.time()\n",
    "clf_xgb = XGBClassifier(n_estimators=2000, max_depth=7, objective=\"multi:softprob\", random_state=42, learning_rate=0.08)\n",
    "clf_xgb.fit(X_train_scaled, y_train.ravel())\n",
    "train_time = time.time() - start_time\n",
    "print(\"Training time %.3f seconds\" % train_time)\n",
    "\n",
    "start_time = time.time()\n",
    "y_pred_xgb_d10_n2000_lr08 = clf_xgb.predict(X_test_scaled)\n",
    "test_time = time.time() - start_time\n",
    "print(\"Test time %.3f seconds\" % test_time)"
   ]
  },
  {
   "cell_type": "code",
   "execution_count": 19,
   "metadata": {},
   "outputs": [
    {
     "name": "stdout",
     "output_type": "stream",
     "text": [
      "Training time 32455.941 seconds\n",
      "Test time 40.124 seconds\n"
     ]
    }
   ],
   "source": [
    "start_time = time.time()\n",
    "clf_xgb = XGBClassifier(n_estimators=2300, max_depth=8, objective=\"multi:softprob\", random_state=42, learning_rate=0.1)\n",
    "clf_xgb.fit(X_train_scaled, y_train.ravel())\n",
    "train_time = time.time() - start_time\n",
    "print(\"Training time %.3f seconds\" % train_time)\n",
    "\n",
    "start_time = time.time()\n",
    "y_pred_xgb_d8_n2300_lr1 = clf_xgb.predict(X_test_scaled)\n",
    "test_time = time.time() - start_time\n",
    "print(\"Test time %.3f seconds\" % test_time)"
   ]
  },
  {
   "cell_type": "code",
   "execution_count": 23,
   "metadata": {},
   "outputs": [
    {
     "name": "stdout",
     "output_type": "stream",
     "text": [
      "Training time 19699.933 seconds\n",
      "Test time 30.215 seconds\n"
     ]
    }
   ],
   "source": [
    "start_time = time.time()\n",
    "clf_xgb = XGBClassifier(n_estimators=1700, max_depth=8, objective=\"multi:softprob\", random_state=42, learning_rate=0.08)\n",
    "clf_xgb.fit(X_train_scaled, y_train.ravel())\n",
    "train_time = time.time() - start_time\n",
    "print(\"Training time %.3f seconds\" % train_time)\n",
    "\n",
    "start_time = time.time()\n",
    "y_pred_xgb_d8_n1700_lr08 = clf_xgb.predict(X_test_scaled)\n",
    "test_time = time.time() - start_time\n",
    "print(\"Test time %.3f seconds\" % test_time)"
   ]
  },
  {
   "cell_type": "code",
   "execution_count": null,
   "metadata": {},
   "outputs": [],
   "source": [
    "start_time = time.time()\n",
    "clf_xgb = XGBClassifier(n_estimators=2100, max_depth=8, objective=\"multi:softprob\", random_state=42, learning_rate=0.8)\n",
    "clf_xgb.fit(X_train_scaled, y_train.ravel())\n",
    "train_time = time.time() - start_time\n",
    "print(\"Training time %.3f seconds\" % train_time)\n",
    "\n",
    "start_time = time.time()\n",
    "y_pred_xgb_d8_n2100_lr08 = clf_xgb.predict(X_test_scaled)\n",
    "test_time = time.time() - start_time\n",
    "print(\"Test time %.3f seconds\" % test_time)"
   ]
  },
  {
   "cell_type": "markdown",
   "metadata": {},
   "source": [
    "### Support Vector Machine with PCA"
   ]
  },
  {
   "cell_type": "code",
   "execution_count": 40,
   "metadata": {},
   "outputs": [
    {
     "name": "stdout",
     "output_type": "stream",
     "text": [
      "Training time 972.898 seconds\n",
      "Test time 138.624 seconds\n"
     ]
    }
   ],
   "source": [
    "start_time = time.time()\n",
    "clf_svc1 = SVC(C=1, kernel='poly')\n",
    "clf_svc1.fit(pca100.transform(X_train_scaled), y_train.ravel())\n",
    "train_time = time.time() - start_time\n",
    "print(\"Training time %.3f seconds\" % train_time)\n",
    "\n",
    "start_time = time.time()\n",
    "y_pred_svc_poly1_pca100 = clf_svc1.predict(pca100.transform(X_test_scaled))\n",
    "test_time = time.time() - start_time\n",
    "print(\"Test time %.3f seconds\" % test_time)"
   ]
  },
  {
   "cell_type": "code",
   "execution_count": null,
   "metadata": {},
   "outputs": [],
   "source": [
    "start_time = time.time()\n",
    "clf_svc1 = SVC(C=0.1, kernel='poly',)\n",
    "clf_svc1.fit(pca100.transform(X_train_scaled), y_train.ravel())\n",
    "train_time = time.time() - start_time\n",
    "print(\"Training time %.3f seconds\" % train_time)\n",
    "\n",
    "start_time = time.time()\n",
    "y_pred_svc_poly01_pca100 = clf_svc1.predict(pca100.transform(X_test_scaled))\n",
    "test_time = time.time() - start_time\n",
    "print(\"Test time %.3f seconds\" % test_time)"
   ]
  },
  {
   "cell_type": "code",
   "execution_count": null,
   "metadata": {},
   "outputs": [],
   "source": [
    "start_time = time.time()\n",
    "clf_svc1 = SVC(C=10, kernel='poly',)\n",
    "clf_svc1.fit(pca100.transform(X_train_scaled), y_train.ravel())\n",
    "train_time = time.time() - start_time\n",
    "print(\"Training time %.3f seconds\" % train_time)\n",
    "\n",
    "start_time = time.time()\n",
    "y_pred_svc_poly10_pca100 = clf_svc1.predict(pca100.transform(X_test_scaled))\n",
    "test_time = time.time() - start_time\n",
    "print(\"Test time %.3f seconds\" % test_time)"
   ]
  },
  {
   "cell_type": "code",
   "execution_count": null,
   "metadata": {},
   "outputs": [],
   "source": [
    "start_time = time.time()\n",
    "clf_svc1 = SVC(C=1, kernel='linear')\n",
    "clf_svc1.fit(pca100.transform(X_train_scaled), y_train.ravel())\n",
    "train_time = time.time() - start_time\n",
    "print(\"Training time %.3f seconds\" % train_time)\n",
    "\n",
    "start_time = time.time()\n",
    "y_pred_svc_linear1_pca100 = clf_svc1.predict(pca100.transform(X_test_scaled))\n",
    "test_time = time.time() - start_time\n",
    "print(\"Test time %.3f seconds\" % test_time)"
   ]
  },
  {
   "cell_type": "code",
   "execution_count": null,
   "metadata": {},
   "outputs": [],
   "source": [
    "start_time = time.time()\n",
    "clf_svc1 = SVC(C=1, kernel='poly')\n",
    "clf_svc1.fit(pca200.transform(X_train_scaled), y_train.ravel())\n",
    "train_time = time.time() - start_time\n",
    "print(\"Training time %.3f seconds\" % train_time)\n",
    "\n",
    "start_time = time.time()\n",
    "y_pred_svc_poly1_pca200 = clf_svc1.predict(pca200.transform(X_test_scaled))\n",
    "test_time = time.time() - start_time\n",
    "print(\"Test time %.3f seconds\" % test_time)"
   ]
  },
  {
   "cell_type": "code",
   "execution_count": null,
   "metadata": {},
   "outputs": [],
   "source": [
    "start_time = time.time()\n",
    "clf_svc1 = SVC(C=1, kernel='rbf')\n",
    "clf_svc1.fit(pca100.transform(X_train_scaled), y_train.ravel())\n",
    "train_time = time.time() - start_time\n",
    "print(\"Training time %.3f seconds\" % train_time)\n",
    "\n",
    "start_time = time.time()\n",
    "y_pred_svc_rbf1_pca100 = clf_svc1.predict(pca100.transform(X_test_scaled))\n",
    "test_time = time.time() - start_time\n",
    "print(\"Test time %.3f seconds\" % test_time)"
   ]
  },
  {
   "cell_type": "markdown",
   "metadata": {},
   "source": [
    "### Support Vector Machine without PCA"
   ]
  },
  {
   "cell_type": "code",
   "execution_count": null,
   "metadata": {},
   "outputs": [],
   "source": [
    "from sklearn.svm import SVC\n",
    "from sklearn.metrics import accuracy_score\n",
    "# ====== Your code here ========\n",
    "clf_svc = SVC(C=1, kernel='poly')\n",
    "clf_svc.fit(X_train, y_train.ravel())\n",
    "y_pred_svc = clf_svc.predict(X_test)\n",
    "# ====== Your code here ========"
   ]
  },
  {
   "cell_type": "code",
   "execution_count": null,
   "metadata": {},
   "outputs": [],
   "source": [
    "from sklearn.svm import SVC\n",
    "from sklearn.metrics import accuracy_score\n",
    "# ====== Your code here ========\n",
    "clf_svc_scaled = SVC(C=1, kernel='poly')\n",
    "clf_svc_scaled.fit(X_train_scaled, y_train.ravel())\n",
    "y_pred_svc_scaled = clf_svc.predict(X_test_scaled)\n",
    "# ====== Your code here ========"
   ]
  },
  {
   "cell_type": "code",
   "execution_count": null,
   "metadata": {},
   "outputs": [],
   "source": [
    "from sklearn.svm import SVC\n",
    "from sklearn.metrics import accuracy_score\n",
    "# ====== Your code here ========\n",
    "clf_svc_scaled = SVC(C=1, kernel='poly')\n",
    "clf_svc_scaled.fit(X_train_scaled, y_train.ravel())\n",
    "y_pred_svc_scaled = clf_svc_scaled.predict(X_test_scaled)\n",
    "# ====== Your code here ========"
   ]
  },
  {
   "cell_type": "markdown",
   "metadata": {},
   "source": [
    "### Augmented"
   ]
  },
  {
   "cell_type": "code",
   "execution_count": 31,
   "metadata": {},
   "outputs": [
    {
     "name": "stdout",
     "output_type": "stream",
     "text": [
      "Training time 16301.495 seconds\n",
      "Test time 19.060 seconds\n"
     ]
    }
   ],
   "source": [
    "start_time = time.time()\n",
    "clf_xgb = XGBClassifier(n_estimators=2000, max_depth=9, objective=\"multi:softprob\", random_state=42, learning_rate=0.1)\n",
    "clf_xgb.fit(X_train_augmented, y_train_augmented.ravel())\n",
    "train_time = time.time() - start_time\n",
    "print(\"Training time %.3f seconds\" % train_time)\n",
    "\n",
    "start_time = time.time()\n",
    "y_pred_xgb_d9_n2000_lr1_aug = clf_xgb.predict(X_test)\n",
    "test_time = time.time() - start_time\n",
    "print(\"Test time %.3f seconds\" % test_time)"
   ]
  },
  {
   "cell_type": "code",
   "execution_count": 41,
   "metadata": {},
   "outputs": [
    {
     "data": {
      "text/plain": [
       "((130000, 407), (130000, 1))"
      ]
     },
     "execution_count": 41,
     "metadata": {},
     "output_type": "execute_result"
    }
   ],
   "source": [
    "X_train_augmented.shape, y_train_augmented.shape"
   ]
  },
  {
   "cell_type": "code",
   "execution_count": 39,
   "metadata": {},
   "outputs": [
    {
     "name": "stdout",
     "output_type": "stream",
     "text": [
      "Training time 15125.706 seconds\n",
      "Test time 13.337 seconds\n"
     ]
    }
   ],
   "source": [
    "start_time = time.time()\n",
    "clf_xgb = XGBClassifier(n_estimators=2000, max_depth=9, objective=\"multi:softprob\", random_state=42, learning_rate=0.1)\n",
    "clf_xgb.fit(X_train_augmented, y_train_augmented.ravel())\n",
    "train_time = time.time() - start_time\n",
    "print(\"Training time %.3f seconds\" % train_time)\n",
    "\n",
    "start_time = time.time()\n",
    "y_pred_xgb_d9_n2000_lr1_aug = clf_xgb.predict(X_test)\n",
    "test_time = time.time() - start_time\n",
    "print(\"Test time %.3f seconds\" % test_time)"
   ]
  },
  {
   "cell_type": "code",
   "execution_count": 42,
   "metadata": {},
   "outputs": [
    {
     "name": "stdout",
     "output_type": "stream",
     "text": [
      "Training time 16263.204 seconds\n",
      "Test time 14.048 seconds\n"
     ]
    }
   ],
   "source": [
    "start_time = time.time()\n",
    "clf_xgb = XGBClassifier(n_estimators=2100, max_depth=9, objective=\"multi:softprob\", random_state=42, learning_rate=0.1)\n",
    "clf_xgb.fit(X_train_augmented, y_train_augmented.ravel())\n",
    "train_time = time.time() - start_time\n",
    "print(\"Training time %.3f seconds\" % train_time)\n",
    "\n",
    "start_time = time.time()\n",
    "y_pred_xgb_d9_n2100_lr1_aug = clf_xgb.predict(X_test)\n",
    "test_time = time.time() - start_time\n",
    "print(\"Test time %.3f seconds\" % test_time)"
   ]
  },
  {
   "cell_type": "code",
   "execution_count": 45,
   "metadata": {},
   "outputs": [
    {
     "name": "stdout",
     "output_type": "stream",
     "text": [
      "Training time 15685.336 seconds\n",
      "Test time 13.278 seconds\n"
     ]
    }
   ],
   "source": [
    "start_time = time.time()\n",
    "clf_xgb = XGBClassifier(n_estimators=2100, max_depth=10, objective=\"multi:softprob\", random_state=42, learning_rate=0.1)\n",
    "clf_xgb.fit(X_train_augmented, y_train_augmented.ravel())\n",
    "train_time = time.time() - start_time\n",
    "print(\"Training time %.3f seconds\" % train_time)\n",
    "\n",
    "start_time = time.time()\n",
    "y_pred_xgb_d10_n2100_lr1_aug = clf_xgb.predict(X_test)\n",
    "test_time = time.time() - start_time\n",
    "print(\"Test time %.3f seconds\" % test_time)"
   ]
  },
  {
   "cell_type": "code",
   "execution_count": 49,
   "metadata": {},
   "outputs": [
    {
     "name": "stdout",
     "output_type": "stream",
     "text": [
      "Training time 47818.202 seconds\n",
      "Test time 33.891 seconds\n",
      "Train accuracy:  0.9954153846153846\n"
     ]
    }
   ],
   "source": [
    "start_time = time.time()\n",
    "clf_xgb = XGBClassifier(n_estimators=2000, max_depth=10, objective=\"multi:softprob\", random_state=42, learning_rate=0.15)\n",
    "clf_xgb.fit(X_train_augmented, y_train_augmented.ravel())\n",
    "train_time = time.time() - start_time\n",
    "print(\"Training time %.3f seconds\" % train_time)\n",
    "\n",
    "start_time = time.time()\n",
    "y_pred_xgb_d10_n2700_lr08_aug = clf_xgb.predict(X_test)\n",
    "test_time = time.time() - start_time\n",
    "y_pred_train = clf_xgb.predict(X_train)\n",
    "print(\"Test time %.3f seconds\" % test_time)\n",
    "print(\"Train accuracy: \", str(accuracy_score(y_pred_train, y_train)))"
   ]
  },
  {
   "cell_type": "code",
   "execution_count": null,
   "metadata": {},
   "outputs": [],
   "source": [
    "start_time = time.time()\n",
    "clf_xgb = XGBClassifier(n_estimators=2000, max_depth=10, objective=\"multi:softprob\", random_state=42, learning_rate=0.45)\n",
    "clf_xgb.fit(X_train_augmented, y_train_augmented.ravel())\n",
    "train_time = time.time() - start_time\n",
    "print(\"Training time %.3f seconds\" % train_time)\n",
    "\n",
    "start_time = time.time()\n",
    "y_pred_xgb_d10_n2000_lr45_aug = clf_xgb.predict(X_test)\n",
    "test_time = time.time() - start_time\n",
    "y_pred_train = clf_xgb.predict(X_train)\n",
    "print(\"Test time %.3f seconds\" % test_time)\n",
    "print(\"Train accuracy: \", str(accuracy_score(y_pred_train, y_train)))"
   ]
  },
  {
   "cell_type": "markdown",
   "metadata": {},
   "source": [
    "# Export"
   ]
  },
  {
   "cell_type": "code",
   "execution_count": 52,
   "metadata": {},
   "outputs": [],
   "source": [
    "from numpy import savetxt\n",
    "\n",
    "# abc = np.vstack(np.arange(y_pred.shape[0]))\n",
    "# output = np.hstack((abc, np.vstack(y_pred)))\n",
    "# y_pred_v = np.vstack(y_pred)\n",
    "# print(y_pred_v)\n",
    "\n",
    "\n",
    "#savetxt('./data.csv', output, delimiter=',')\n",
    "\n",
    "# df = pd.DataFrame(output)\n",
    "# df.to_csv('data.csv',index=False, header=['ID', 'Font'])\n",
    "\n",
    "sample_submission = pd.read_csv('./sample_submission.csv')\n",
    "\n",
    "out = pd.DataFrame({'ID': sample_submission.ID,'Font': y_pred_xgb_d10_n2700_lr08_aug})\n",
    "out.to_csv('data.csv', index=False)"
   ]
  },
  {
   "cell_type": "code",
   "execution_count": 51,
   "metadata": {},
   "outputs": [
    {
     "ename": "KeyboardInterrupt",
     "evalue": "",
     "output_type": "error",
     "traceback": [
      "\u001b[0;31m---------------------------------------------------------------------------\u001b[0m",
      "\u001b[0;31mKeyboardInterrupt\u001b[0m                         Traceback (most recent call last)",
      "\u001b[0;32m<ipython-input-51-7e73a0687879>\u001b[0m in \u001b[0;36m<module>\u001b[0;34m\u001b[0m\n\u001b[1;32m      1\u001b[0m \u001b[0mstart_time\u001b[0m \u001b[0;34m=\u001b[0m \u001b[0mtime\u001b[0m\u001b[0;34m.\u001b[0m\u001b[0mtime\u001b[0m\u001b[0;34m(\u001b[0m\u001b[0;34m)\u001b[0m\u001b[0;34m\u001b[0m\u001b[0;34m\u001b[0m\u001b[0m\n\u001b[1;32m      2\u001b[0m \u001b[0mclf_xgb\u001b[0m \u001b[0;34m=\u001b[0m \u001b[0mXGBClassifier\u001b[0m\u001b[0;34m(\u001b[0m\u001b[0mn_estimators\u001b[0m\u001b[0;34m=\u001b[0m\u001b[0;36m2000\u001b[0m\u001b[0;34m,\u001b[0m \u001b[0mmax_depth\u001b[0m\u001b[0;34m=\u001b[0m\u001b[0;36m10\u001b[0m\u001b[0;34m,\u001b[0m \u001b[0mobjective\u001b[0m\u001b[0;34m=\u001b[0m\u001b[0;34m\"multi:softprob\"\u001b[0m\u001b[0;34m,\u001b[0m \u001b[0mrandom_state\u001b[0m\u001b[0;34m=\u001b[0m\u001b[0;36m42\u001b[0m\u001b[0;34m,\u001b[0m \u001b[0mlearning_rate\u001b[0m\u001b[0;34m=\u001b[0m\u001b[0;36m0.35\u001b[0m\u001b[0;34m)\u001b[0m\u001b[0;34m\u001b[0m\u001b[0;34m\u001b[0m\u001b[0m\n\u001b[0;32m----> 3\u001b[0;31m \u001b[0mclf_xgb\u001b[0m\u001b[0;34m.\u001b[0m\u001b[0mfit\u001b[0m\u001b[0;34m(\u001b[0m\u001b[0mX_train_augmented\u001b[0m\u001b[0;34m,\u001b[0m \u001b[0my_train_augmented\u001b[0m\u001b[0;34m.\u001b[0m\u001b[0mravel\u001b[0m\u001b[0;34m(\u001b[0m\u001b[0;34m)\u001b[0m\u001b[0;34m)\u001b[0m\u001b[0;34m\u001b[0m\u001b[0;34m\u001b[0m\u001b[0m\n\u001b[0m\u001b[1;32m      4\u001b[0m \u001b[0mtrain_time\u001b[0m \u001b[0;34m=\u001b[0m \u001b[0mtime\u001b[0m\u001b[0;34m.\u001b[0m\u001b[0mtime\u001b[0m\u001b[0;34m(\u001b[0m\u001b[0;34m)\u001b[0m \u001b[0;34m-\u001b[0m \u001b[0mstart_time\u001b[0m\u001b[0;34m\u001b[0m\u001b[0;34m\u001b[0m\u001b[0m\n\u001b[1;32m      5\u001b[0m \u001b[0mprint\u001b[0m\u001b[0;34m(\u001b[0m\u001b[0;34m\"Training time %.3f seconds\"\u001b[0m \u001b[0;34m%\u001b[0m \u001b[0mtrain_time\u001b[0m\u001b[0;34m)\u001b[0m\u001b[0;34m\u001b[0m\u001b[0;34m\u001b[0m\u001b[0m\n",
      "\u001b[0;32m/opt/anaconda3/lib/python3.8/site-packages/xgboost/sklearn.py\u001b[0m in \u001b[0;36mfit\u001b[0;34m(self, X, y, sample_weight, base_margin, eval_set, eval_metric, early_stopping_rounds, verbose, xgb_model, sample_weight_eval_set, callbacks)\u001b[0m\n\u001b[1;32m    826\u001b[0m                                 missing=self.missing, nthread=self.n_jobs)\n\u001b[1;32m    827\u001b[0m \u001b[0;34m\u001b[0m\u001b[0m\n\u001b[0;32m--> 828\u001b[0;31m         self._Booster = train(xgb_options, train_dmatrix,\n\u001b[0m\u001b[1;32m    829\u001b[0m                               \u001b[0mself\u001b[0m\u001b[0;34m.\u001b[0m\u001b[0mget_num_boosting_rounds\u001b[0m\u001b[0;34m(\u001b[0m\u001b[0;34m)\u001b[0m\u001b[0;34m,\u001b[0m\u001b[0;34m\u001b[0m\u001b[0;34m\u001b[0m\u001b[0m\n\u001b[1;32m    830\u001b[0m                               \u001b[0mevals\u001b[0m\u001b[0;34m=\u001b[0m\u001b[0mevals\u001b[0m\u001b[0;34m,\u001b[0m\u001b[0;34m\u001b[0m\u001b[0;34m\u001b[0m\u001b[0m\n",
      "\u001b[0;32m/opt/anaconda3/lib/python3.8/site-packages/xgboost/training.py\u001b[0m in \u001b[0;36mtrain\u001b[0;34m(params, dtrain, num_boost_round, evals, obj, feval, maximize, early_stopping_rounds, evals_result, verbose_eval, xgb_model, callbacks)\u001b[0m\n\u001b[1;32m    206\u001b[0m         \u001b[0mcallbacks\u001b[0m\u001b[0;34m.\u001b[0m\u001b[0mappend\u001b[0m\u001b[0;34m(\u001b[0m\u001b[0mcallback\u001b[0m\u001b[0;34m.\u001b[0m\u001b[0mrecord_evaluation\u001b[0m\u001b[0;34m(\u001b[0m\u001b[0mevals_result\u001b[0m\u001b[0;34m)\u001b[0m\u001b[0;34m)\u001b[0m\u001b[0;34m\u001b[0m\u001b[0;34m\u001b[0m\u001b[0m\n\u001b[1;32m    207\u001b[0m \u001b[0;34m\u001b[0m\u001b[0m\n\u001b[0;32m--> 208\u001b[0;31m     return _train_internal(params, dtrain,\n\u001b[0m\u001b[1;32m    209\u001b[0m                            \u001b[0mnum_boost_round\u001b[0m\u001b[0;34m=\u001b[0m\u001b[0mnum_boost_round\u001b[0m\u001b[0;34m,\u001b[0m\u001b[0;34m\u001b[0m\u001b[0;34m\u001b[0m\u001b[0m\n\u001b[1;32m    210\u001b[0m                            \u001b[0mevals\u001b[0m\u001b[0;34m=\u001b[0m\u001b[0mevals\u001b[0m\u001b[0;34m,\u001b[0m\u001b[0;34m\u001b[0m\u001b[0;34m\u001b[0m\u001b[0m\n",
      "\u001b[0;32m/opt/anaconda3/lib/python3.8/site-packages/xgboost/training.py\u001b[0m in \u001b[0;36m_train_internal\u001b[0;34m(params, dtrain, num_boost_round, evals, obj, feval, xgb_model, callbacks)\u001b[0m\n\u001b[1;32m     73\u001b[0m         \u001b[0;31m# Skip the first update if it is a recovery step.\u001b[0m\u001b[0;34m\u001b[0m\u001b[0;34m\u001b[0m\u001b[0;34m\u001b[0m\u001b[0m\n\u001b[1;32m     74\u001b[0m         \u001b[0;32mif\u001b[0m \u001b[0mversion\u001b[0m \u001b[0;34m%\u001b[0m \u001b[0;36m2\u001b[0m \u001b[0;34m==\u001b[0m \u001b[0;36m0\u001b[0m\u001b[0;34m:\u001b[0m\u001b[0;34m\u001b[0m\u001b[0;34m\u001b[0m\u001b[0m\n\u001b[0;32m---> 75\u001b[0;31m             \u001b[0mbst\u001b[0m\u001b[0;34m.\u001b[0m\u001b[0mupdate\u001b[0m\u001b[0;34m(\u001b[0m\u001b[0mdtrain\u001b[0m\u001b[0;34m,\u001b[0m \u001b[0mi\u001b[0m\u001b[0;34m,\u001b[0m \u001b[0mobj\u001b[0m\u001b[0;34m)\u001b[0m\u001b[0;34m\u001b[0m\u001b[0;34m\u001b[0m\u001b[0m\n\u001b[0m\u001b[1;32m     76\u001b[0m             \u001b[0mbst\u001b[0m\u001b[0;34m.\u001b[0m\u001b[0msave_rabit_checkpoint\u001b[0m\u001b[0;34m(\u001b[0m\u001b[0;34m)\u001b[0m\u001b[0;34m\u001b[0m\u001b[0;34m\u001b[0m\u001b[0m\n\u001b[1;32m     77\u001b[0m             \u001b[0mversion\u001b[0m \u001b[0;34m+=\u001b[0m \u001b[0;36m1\u001b[0m\u001b[0;34m\u001b[0m\u001b[0;34m\u001b[0m\u001b[0m\n",
      "\u001b[0;32m/opt/anaconda3/lib/python3.8/site-packages/xgboost/core.py\u001b[0m in \u001b[0;36mupdate\u001b[0;34m(self, dtrain, iteration, fobj)\u001b[0m\n\u001b[1;32m   1157\u001b[0m \u001b[0;34m\u001b[0m\u001b[0m\n\u001b[1;32m   1158\u001b[0m         \u001b[0;32mif\u001b[0m \u001b[0mfobj\u001b[0m \u001b[0;32mis\u001b[0m \u001b[0;32mNone\u001b[0m\u001b[0;34m:\u001b[0m\u001b[0;34m\u001b[0m\u001b[0;34m\u001b[0m\u001b[0m\n\u001b[0;32m-> 1159\u001b[0;31m             _check_call(_LIB.XGBoosterUpdateOneIter(self.handle,\n\u001b[0m\u001b[1;32m   1160\u001b[0m                                                     \u001b[0mctypes\u001b[0m\u001b[0;34m.\u001b[0m\u001b[0mc_int\u001b[0m\u001b[0;34m(\u001b[0m\u001b[0miteration\u001b[0m\u001b[0;34m)\u001b[0m\u001b[0;34m,\u001b[0m\u001b[0;34m\u001b[0m\u001b[0;34m\u001b[0m\u001b[0m\n\u001b[1;32m   1161\u001b[0m                                                     dtrain.handle))\n",
      "\u001b[0;31mKeyboardInterrupt\u001b[0m: "
     ]
    }
   ],
   "source": [
    "start_time = time.time()\n",
    "clf_xgb = XGBClassifier(n_estimators=2000, max_depth=10, objective=\"multi:softprob\", random_state=42, learning_rate=0.35)\n",
    "clf_xgb.fit(X_train_augmented, y_train_augmented.ravel())\n",
    "train_time = time.time() - start_time\n",
    "print(\"Training time %.3f seconds\" % train_time)\n",
    "\n",
    "start_time = time.time()\n",
    "y_pred_xgb_d10_n2000_lr35_aug = clf_xgb.predict(X_test)\n",
    "test_time = time.time() - start_time\n",
    "y_pred_train = clf_xgb.predict(X_train)\n",
    "print(\"Test time %.3f seconds\" % test_time)\n",
    "print(\"Train accuracy: \", str(accuracy_score(y_pred_train, y_train)))"
   ]
  },
  {
   "cell_type": "code",
   "execution_count": null,
   "metadata": {},
   "outputs": [],
   "source": [
    "from numpy import savetxt\n",
    "\n",
    "# abc = np.vstack(np.arange(y_pred.shape[0]))\n",
    "# output = np.hstack((abc, np.vstack(y_pred)))\n",
    "# y_pred_v = np.vstack(y_pred)\n",
    "# print(y_pred_v)\n",
    "\n",
    "\n",
    "#savetxt('./data.csv', output, delimiter=',')\n",
    "\n",
    "# df = pd.DataFrame(output)\n",
    "# df.to_csv('data.csv',index=False, header=['ID', 'Font'])\n",
    "\n",
    "sample_submission = pd.read_csv('./sample_submission.csv')\n",
    "\n",
    "out = pd.DataFrame({'ID': sample_submission.ID,'Font': y_pred_xgb_d10_n2000_lr35_aug})\n",
    "out.to_csv('data3.csv', index=False)"
   ]
  },
  {
   "cell_type": "code",
   "execution_count": null,
   "metadata": {},
   "outputs": [],
   "source": []
  }
 ],
 "metadata": {
  "kernelspec": {
   "display_name": "Python 3",
   "language": "python",
   "name": "python3"
  },
  "language_info": {
   "codemirror_mode": {
    "name": "ipython",
    "version": 3
   },
   "file_extension": ".py",
   "mimetype": "text/x-python",
   "name": "python",
   "nbconvert_exporter": "python",
   "pygments_lexer": "ipython3",
   "version": "3.8.3"
  }
 },
 "nbformat": 4,
 "nbformat_minor": 4
}
